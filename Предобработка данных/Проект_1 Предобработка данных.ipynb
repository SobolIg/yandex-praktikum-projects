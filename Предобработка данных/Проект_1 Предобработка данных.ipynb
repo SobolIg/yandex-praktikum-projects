{
 "cells": [
  {
   "cell_type": "markdown",
   "id": "5ee63487",
   "metadata": {
    "deletable": false,
    "editable": false,
    "id": "c81daeeb"
   },
   "source": [
    "# Исследование надежности заемщиков\n"
   ]
  },
  {
   "cell_type": "markdown",
   "id": "730a583f",
   "metadata": {
    "deletable": false,
    "editable": false,
    "id": "827c20bf"
   },
   "source": [
    "Во второй части проекта вы выполните шаги 3 и 4. Их вручную проверит ревьюер.\n",
    "Чтобы вам не пришлось писать код заново для шагов 1 и 2, мы добавили авторские решения в ячейки с кодом. \n",
    "\n"
   ]
  },
  {
   "cell_type": "markdown",
   "id": "78d6be77",
   "metadata": {},
   "source": [
    "# Описание проекта\n",
    "\n",
    "Заказчик — кредитный отдел банка. Нужно разобраться:\n",
    "1. Есть ли зависимость между количеством детей и возвратом кредита в срок?\n",
    "2. Есть ли зависимость между семейным положением и возвратом кредита в срок?\n",
    "3. Есть ли зависимость между уровнем дохода и возвратом кредита в срок?\n",
    "4. Как разные цели кредита влияют на его возврат в срок?\n",
    "\n",
    "# Входные данные от банка\n",
    "- статистика о платёжеспособности клиентов.\n",
    "\n",
    "# Описание данных\n",
    "- `children` — количество детей в семье\n",
    "- `days_employed` — общий трудовой стаж в днях\n",
    "- `dob_years` — возраст клиента в годах\n",
    "- `education` — уровень образования клиента\n",
    "- `education_id` — идентификатор уровня образования\n",
    "- `family_status` — семейное положение\n",
    "- `family_status_id` — идентификатор семейного положения\n",
    "- `gender` — пол клиента\n",
    "- `income_type` — тип занятости\n",
    "- `debt` — имел ли задолженность по возврату кредитов\n",
    "- `total_income` — ежемесячный доход\n",
    "- `purpose` — цель получения кредита\n"
   ]
  },
  {
   "cell_type": "markdown",
   "id": "a6834c89",
   "metadata": {
    "deletable": false,
    "editable": false,
    "id": "744d7639"
   },
   "source": [
    "## Откройте таблицу и изучите общую информацию о данных"
   ]
  },
  {
   "cell_type": "markdown",
   "id": "96d6955c",
   "metadata": {
    "deletable": false,
    "editable": false,
    "id": "e7a14c31"
   },
   "source": [
    "**Задание 1. Импортируйте библиотеку pandas. Считайте данные из csv-файла в датафрейм и сохраните в переменную `data`. Путь к файлу:**\n",
    "\n",
    "`/datasets/data.csv`"
   ]
  },
  {
   "cell_type": "code",
   "execution_count": 1,
   "id": "ba8b02f5",
   "metadata": {
    "deletable": false,
    "id": "7bcf75c9"
   },
   "outputs": [],
   "source": [
    "import pandas as pd\n",
    "\n",
    "data = pd.read_csv('../datasets/data.csv')"
   ]
  },
  {
   "cell_type": "markdown",
   "id": "67081c57",
   "metadata": {
    "deletable": false,
    "editable": false,
    "id": "b8038fe3"
   },
   "source": [
    "**Задание 2. Выведите первые 20 строчек датафрейма `data` на экран.**"
   ]
  },
  {
   "cell_type": "code",
   "execution_count": 2,
   "id": "1245db64",
   "metadata": {
    "deletable": false,
    "id": "2a7cab99",
    "outputId": "1a8f3ef2-d323-4ec2-ddf7-89670b5944c4"
   },
   "outputs": [
    {
     "data": {
      "text/html": [
       "<div>\n",
       "<style scoped>\n",
       "    .dataframe tbody tr th:only-of-type {\n",
       "        vertical-align: middle;\n",
       "    }\n",
       "\n",
       "    .dataframe tbody tr th {\n",
       "        vertical-align: top;\n",
       "    }\n",
       "\n",
       "    .dataframe thead th {\n",
       "        text-align: right;\n",
       "    }\n",
       "</style>\n",
       "<table border=\"1\" class=\"dataframe\">\n",
       "  <thead>\n",
       "    <tr style=\"text-align: right;\">\n",
       "      <th></th>\n",
       "      <th>children</th>\n",
       "      <th>days_employed</th>\n",
       "      <th>dob_years</th>\n",
       "      <th>education</th>\n",
       "      <th>education_id</th>\n",
       "      <th>family_status</th>\n",
       "      <th>family_status_id</th>\n",
       "      <th>gender</th>\n",
       "      <th>income_type</th>\n",
       "      <th>debt</th>\n",
       "      <th>total_income</th>\n",
       "      <th>purpose</th>\n",
       "    </tr>\n",
       "  </thead>\n",
       "  <tbody>\n",
       "    <tr>\n",
       "      <th>0</th>\n",
       "      <td>1</td>\n",
       "      <td>-8437.673028</td>\n",
       "      <td>42</td>\n",
       "      <td>высшее</td>\n",
       "      <td>0</td>\n",
       "      <td>женат / замужем</td>\n",
       "      <td>0</td>\n",
       "      <td>F</td>\n",
       "      <td>сотрудник</td>\n",
       "      <td>0</td>\n",
       "      <td>253875.639453</td>\n",
       "      <td>покупка жилья</td>\n",
       "    </tr>\n",
       "    <tr>\n",
       "      <th>1</th>\n",
       "      <td>1</td>\n",
       "      <td>-4024.803754</td>\n",
       "      <td>36</td>\n",
       "      <td>среднее</td>\n",
       "      <td>1</td>\n",
       "      <td>женат / замужем</td>\n",
       "      <td>0</td>\n",
       "      <td>F</td>\n",
       "      <td>сотрудник</td>\n",
       "      <td>0</td>\n",
       "      <td>112080.014102</td>\n",
       "      <td>приобретение автомобиля</td>\n",
       "    </tr>\n",
       "    <tr>\n",
       "      <th>2</th>\n",
       "      <td>0</td>\n",
       "      <td>-5623.422610</td>\n",
       "      <td>33</td>\n",
       "      <td>Среднее</td>\n",
       "      <td>1</td>\n",
       "      <td>женат / замужем</td>\n",
       "      <td>0</td>\n",
       "      <td>M</td>\n",
       "      <td>сотрудник</td>\n",
       "      <td>0</td>\n",
       "      <td>145885.952297</td>\n",
       "      <td>покупка жилья</td>\n",
       "    </tr>\n",
       "    <tr>\n",
       "      <th>3</th>\n",
       "      <td>3</td>\n",
       "      <td>-4124.747207</td>\n",
       "      <td>32</td>\n",
       "      <td>среднее</td>\n",
       "      <td>1</td>\n",
       "      <td>женат / замужем</td>\n",
       "      <td>0</td>\n",
       "      <td>M</td>\n",
       "      <td>сотрудник</td>\n",
       "      <td>0</td>\n",
       "      <td>267628.550329</td>\n",
       "      <td>дополнительное образование</td>\n",
       "    </tr>\n",
       "    <tr>\n",
       "      <th>4</th>\n",
       "      <td>0</td>\n",
       "      <td>340266.072047</td>\n",
       "      <td>53</td>\n",
       "      <td>среднее</td>\n",
       "      <td>1</td>\n",
       "      <td>гражданский брак</td>\n",
       "      <td>1</td>\n",
       "      <td>F</td>\n",
       "      <td>пенсионер</td>\n",
       "      <td>0</td>\n",
       "      <td>158616.077870</td>\n",
       "      <td>сыграть свадьбу</td>\n",
       "    </tr>\n",
       "    <tr>\n",
       "      <th>5</th>\n",
       "      <td>0</td>\n",
       "      <td>-926.185831</td>\n",
       "      <td>27</td>\n",
       "      <td>высшее</td>\n",
       "      <td>0</td>\n",
       "      <td>гражданский брак</td>\n",
       "      <td>1</td>\n",
       "      <td>M</td>\n",
       "      <td>компаньон</td>\n",
       "      <td>0</td>\n",
       "      <td>255763.565419</td>\n",
       "      <td>покупка жилья</td>\n",
       "    </tr>\n",
       "    <tr>\n",
       "      <th>6</th>\n",
       "      <td>0</td>\n",
       "      <td>-2879.202052</td>\n",
       "      <td>43</td>\n",
       "      <td>высшее</td>\n",
       "      <td>0</td>\n",
       "      <td>женат / замужем</td>\n",
       "      <td>0</td>\n",
       "      <td>F</td>\n",
       "      <td>компаньон</td>\n",
       "      <td>0</td>\n",
       "      <td>240525.971920</td>\n",
       "      <td>операции с жильем</td>\n",
       "    </tr>\n",
       "    <tr>\n",
       "      <th>7</th>\n",
       "      <td>0</td>\n",
       "      <td>-152.779569</td>\n",
       "      <td>50</td>\n",
       "      <td>СРЕДНЕЕ</td>\n",
       "      <td>1</td>\n",
       "      <td>женат / замужем</td>\n",
       "      <td>0</td>\n",
       "      <td>M</td>\n",
       "      <td>сотрудник</td>\n",
       "      <td>0</td>\n",
       "      <td>135823.934197</td>\n",
       "      <td>образование</td>\n",
       "    </tr>\n",
       "    <tr>\n",
       "      <th>8</th>\n",
       "      <td>2</td>\n",
       "      <td>-6929.865299</td>\n",
       "      <td>35</td>\n",
       "      <td>ВЫСШЕЕ</td>\n",
       "      <td>0</td>\n",
       "      <td>гражданский брак</td>\n",
       "      <td>1</td>\n",
       "      <td>F</td>\n",
       "      <td>сотрудник</td>\n",
       "      <td>0</td>\n",
       "      <td>95856.832424</td>\n",
       "      <td>на проведение свадьбы</td>\n",
       "    </tr>\n",
       "    <tr>\n",
       "      <th>9</th>\n",
       "      <td>0</td>\n",
       "      <td>-2188.756445</td>\n",
       "      <td>41</td>\n",
       "      <td>среднее</td>\n",
       "      <td>1</td>\n",
       "      <td>женат / замужем</td>\n",
       "      <td>0</td>\n",
       "      <td>M</td>\n",
       "      <td>сотрудник</td>\n",
       "      <td>0</td>\n",
       "      <td>144425.938277</td>\n",
       "      <td>покупка жилья для семьи</td>\n",
       "    </tr>\n",
       "    <tr>\n",
       "      <th>10</th>\n",
       "      <td>2</td>\n",
       "      <td>-4171.483647</td>\n",
       "      <td>36</td>\n",
       "      <td>высшее</td>\n",
       "      <td>0</td>\n",
       "      <td>женат / замужем</td>\n",
       "      <td>0</td>\n",
       "      <td>M</td>\n",
       "      <td>компаньон</td>\n",
       "      <td>0</td>\n",
       "      <td>113943.491460</td>\n",
       "      <td>покупка недвижимости</td>\n",
       "    </tr>\n",
       "    <tr>\n",
       "      <th>11</th>\n",
       "      <td>0</td>\n",
       "      <td>-792.701887</td>\n",
       "      <td>40</td>\n",
       "      <td>среднее</td>\n",
       "      <td>1</td>\n",
       "      <td>женат / замужем</td>\n",
       "      <td>0</td>\n",
       "      <td>F</td>\n",
       "      <td>сотрудник</td>\n",
       "      <td>0</td>\n",
       "      <td>77069.234271</td>\n",
       "      <td>покупка коммерческой недвижимости</td>\n",
       "    </tr>\n",
       "    <tr>\n",
       "      <th>12</th>\n",
       "      <td>0</td>\n",
       "      <td>NaN</td>\n",
       "      <td>65</td>\n",
       "      <td>среднее</td>\n",
       "      <td>1</td>\n",
       "      <td>гражданский брак</td>\n",
       "      <td>1</td>\n",
       "      <td>M</td>\n",
       "      <td>пенсионер</td>\n",
       "      <td>0</td>\n",
       "      <td>NaN</td>\n",
       "      <td>сыграть свадьбу</td>\n",
       "    </tr>\n",
       "    <tr>\n",
       "      <th>13</th>\n",
       "      <td>0</td>\n",
       "      <td>-1846.641941</td>\n",
       "      <td>54</td>\n",
       "      <td>неоконченное высшее</td>\n",
       "      <td>2</td>\n",
       "      <td>женат / замужем</td>\n",
       "      <td>0</td>\n",
       "      <td>F</td>\n",
       "      <td>сотрудник</td>\n",
       "      <td>0</td>\n",
       "      <td>130458.228857</td>\n",
       "      <td>приобретение автомобиля</td>\n",
       "    </tr>\n",
       "    <tr>\n",
       "      <th>14</th>\n",
       "      <td>0</td>\n",
       "      <td>-1844.956182</td>\n",
       "      <td>56</td>\n",
       "      <td>высшее</td>\n",
       "      <td>0</td>\n",
       "      <td>гражданский брак</td>\n",
       "      <td>1</td>\n",
       "      <td>F</td>\n",
       "      <td>компаньон</td>\n",
       "      <td>1</td>\n",
       "      <td>165127.911772</td>\n",
       "      <td>покупка жилой недвижимости</td>\n",
       "    </tr>\n",
       "    <tr>\n",
       "      <th>15</th>\n",
       "      <td>1</td>\n",
       "      <td>-972.364419</td>\n",
       "      <td>26</td>\n",
       "      <td>среднее</td>\n",
       "      <td>1</td>\n",
       "      <td>женат / замужем</td>\n",
       "      <td>0</td>\n",
       "      <td>F</td>\n",
       "      <td>сотрудник</td>\n",
       "      <td>0</td>\n",
       "      <td>116820.904450</td>\n",
       "      <td>строительство собственной недвижимости</td>\n",
       "    </tr>\n",
       "    <tr>\n",
       "      <th>16</th>\n",
       "      <td>0</td>\n",
       "      <td>-1719.934226</td>\n",
       "      <td>35</td>\n",
       "      <td>среднее</td>\n",
       "      <td>1</td>\n",
       "      <td>женат / замужем</td>\n",
       "      <td>0</td>\n",
       "      <td>F</td>\n",
       "      <td>сотрудник</td>\n",
       "      <td>0</td>\n",
       "      <td>289202.704229</td>\n",
       "      <td>недвижимость</td>\n",
       "    </tr>\n",
       "    <tr>\n",
       "      <th>17</th>\n",
       "      <td>0</td>\n",
       "      <td>-2369.999720</td>\n",
       "      <td>33</td>\n",
       "      <td>высшее</td>\n",
       "      <td>0</td>\n",
       "      <td>гражданский брак</td>\n",
       "      <td>1</td>\n",
       "      <td>M</td>\n",
       "      <td>сотрудник</td>\n",
       "      <td>0</td>\n",
       "      <td>90410.586745</td>\n",
       "      <td>строительство недвижимости</td>\n",
       "    </tr>\n",
       "    <tr>\n",
       "      <th>18</th>\n",
       "      <td>0</td>\n",
       "      <td>400281.136913</td>\n",
       "      <td>53</td>\n",
       "      <td>среднее</td>\n",
       "      <td>1</td>\n",
       "      <td>вдовец / вдова</td>\n",
       "      <td>2</td>\n",
       "      <td>F</td>\n",
       "      <td>пенсионер</td>\n",
       "      <td>0</td>\n",
       "      <td>56823.777243</td>\n",
       "      <td>на покупку подержанного автомобиля</td>\n",
       "    </tr>\n",
       "    <tr>\n",
       "      <th>19</th>\n",
       "      <td>0</td>\n",
       "      <td>-10038.818549</td>\n",
       "      <td>48</td>\n",
       "      <td>СРЕДНЕЕ</td>\n",
       "      <td>1</td>\n",
       "      <td>в разводе</td>\n",
       "      <td>3</td>\n",
       "      <td>F</td>\n",
       "      <td>сотрудник</td>\n",
       "      <td>0</td>\n",
       "      <td>242831.107982</td>\n",
       "      <td>на покупку своего автомобиля</td>\n",
       "    </tr>\n",
       "  </tbody>\n",
       "</table>\n",
       "</div>"
      ],
      "text/plain": [
       "    children  days_employed  dob_years            education  education_id  \\\n",
       "0          1   -8437.673028         42               высшее             0   \n",
       "1          1   -4024.803754         36              среднее             1   \n",
       "2          0   -5623.422610         33              Среднее             1   \n",
       "3          3   -4124.747207         32              среднее             1   \n",
       "4          0  340266.072047         53              среднее             1   \n",
       "5          0    -926.185831         27               высшее             0   \n",
       "6          0   -2879.202052         43               высшее             0   \n",
       "7          0    -152.779569         50              СРЕДНЕЕ             1   \n",
       "8          2   -6929.865299         35               ВЫСШЕЕ             0   \n",
       "9          0   -2188.756445         41              среднее             1   \n",
       "10         2   -4171.483647         36               высшее             0   \n",
       "11         0    -792.701887         40              среднее             1   \n",
       "12         0            NaN         65              среднее             1   \n",
       "13         0   -1846.641941         54  неоконченное высшее             2   \n",
       "14         0   -1844.956182         56               высшее             0   \n",
       "15         1    -972.364419         26              среднее             1   \n",
       "16         0   -1719.934226         35              среднее             1   \n",
       "17         0   -2369.999720         33               высшее             0   \n",
       "18         0  400281.136913         53              среднее             1   \n",
       "19         0  -10038.818549         48              СРЕДНЕЕ             1   \n",
       "\n",
       "       family_status  family_status_id gender income_type  debt  \\\n",
       "0    женат / замужем                 0      F   сотрудник     0   \n",
       "1    женат / замужем                 0      F   сотрудник     0   \n",
       "2    женат / замужем                 0      M   сотрудник     0   \n",
       "3    женат / замужем                 0      M   сотрудник     0   \n",
       "4   гражданский брак                 1      F   пенсионер     0   \n",
       "5   гражданский брак                 1      M   компаньон     0   \n",
       "6    женат / замужем                 0      F   компаньон     0   \n",
       "7    женат / замужем                 0      M   сотрудник     0   \n",
       "8   гражданский брак                 1      F   сотрудник     0   \n",
       "9    женат / замужем                 0      M   сотрудник     0   \n",
       "10   женат / замужем                 0      M   компаньон     0   \n",
       "11   женат / замужем                 0      F   сотрудник     0   \n",
       "12  гражданский брак                 1      M   пенсионер     0   \n",
       "13   женат / замужем                 0      F   сотрудник     0   \n",
       "14  гражданский брак                 1      F   компаньон     1   \n",
       "15   женат / замужем                 0      F   сотрудник     0   \n",
       "16   женат / замужем                 0      F   сотрудник     0   \n",
       "17  гражданский брак                 1      M   сотрудник     0   \n",
       "18    вдовец / вдова                 2      F   пенсионер     0   \n",
       "19         в разводе                 3      F   сотрудник     0   \n",
       "\n",
       "     total_income                                 purpose  \n",
       "0   253875.639453                           покупка жилья  \n",
       "1   112080.014102                 приобретение автомобиля  \n",
       "2   145885.952297                           покупка жилья  \n",
       "3   267628.550329              дополнительное образование  \n",
       "4   158616.077870                         сыграть свадьбу  \n",
       "5   255763.565419                           покупка жилья  \n",
       "6   240525.971920                       операции с жильем  \n",
       "7   135823.934197                             образование  \n",
       "8    95856.832424                   на проведение свадьбы  \n",
       "9   144425.938277                 покупка жилья для семьи  \n",
       "10  113943.491460                    покупка недвижимости  \n",
       "11   77069.234271       покупка коммерческой недвижимости  \n",
       "12            NaN                         сыграть свадьбу  \n",
       "13  130458.228857                 приобретение автомобиля  \n",
       "14  165127.911772              покупка жилой недвижимости  \n",
       "15  116820.904450  строительство собственной недвижимости  \n",
       "16  289202.704229                            недвижимость  \n",
       "17   90410.586745              строительство недвижимости  \n",
       "18   56823.777243      на покупку подержанного автомобиля  \n",
       "19  242831.107982            на покупку своего автомобиля  "
      ]
     },
     "execution_count": 2,
     "metadata": {},
     "output_type": "execute_result"
    }
   ],
   "source": [
    "data.head(20)"
   ]
  },
  {
   "cell_type": "markdown",
   "id": "c02584fc",
   "metadata": {
    "deletable": false,
    "editable": false,
    "id": "1c12e233"
   },
   "source": [
    "**Задание 3. Выведите основную информацию о датафрейме с помощью метода `info()`.**"
   ]
  },
  {
   "cell_type": "code",
   "execution_count": 3,
   "id": "b73e92c3",
   "metadata": {
    "deletable": false,
    "id": "2b757bca",
    "outputId": "15376089-8dad-46c9-b520-c05248d43158"
   },
   "outputs": [
    {
     "name": "stdout",
     "output_type": "stream",
     "text": [
      "<class 'pandas.core.frame.DataFrame'>\n",
      "RangeIndex: 21525 entries, 0 to 21524\n",
      "Data columns (total 12 columns):\n",
      " #   Column            Non-Null Count  Dtype  \n",
      "---  ------            --------------  -----  \n",
      " 0   children          21525 non-null  int64  \n",
      " 1   days_employed     19351 non-null  float64\n",
      " 2   dob_years         21525 non-null  int64  \n",
      " 3   education         21525 non-null  object \n",
      " 4   education_id      21525 non-null  int64  \n",
      " 5   family_status     21525 non-null  object \n",
      " 6   family_status_id  21525 non-null  int64  \n",
      " 7   gender            21525 non-null  object \n",
      " 8   income_type       21525 non-null  object \n",
      " 9   debt              21525 non-null  int64  \n",
      " 10  total_income      19351 non-null  float64\n",
      " 11  purpose           21525 non-null  object \n",
      "dtypes: float64(2), int64(5), object(5)\n",
      "memory usage: 2.0+ MB\n"
     ]
    }
   ],
   "source": [
    "data.info()"
   ]
  },
  {
   "cell_type": "markdown",
   "id": "bbdeda64",
   "metadata": {
    "deletable": false,
    "editable": false,
    "id": "333ec665"
   },
   "source": [
    "## Предобработка данных"
   ]
  },
  {
   "cell_type": "markdown",
   "id": "91ecd0e3",
   "metadata": {
    "deletable": false,
    "editable": false,
    "id": "02d92d53"
   },
   "source": [
    "### Удаление пропусков"
   ]
  },
  {
   "cell_type": "markdown",
   "id": "7b3e5cfa",
   "metadata": {
    "deletable": false,
    "editable": false,
    "id": "cd84967c"
   },
   "source": [
    "**Задание 4. Выведите количество пропущенных значений для каждого столбца. Используйте комбинацию двух методов.**"
   ]
  },
  {
   "cell_type": "code",
   "execution_count": 4,
   "id": "ffdf2d8f",
   "metadata": {
    "deletable": false,
    "id": "7f9b2309",
    "outputId": "81f4d817-781c-465c-ed15-91ce4446810d"
   },
   "outputs": [
    {
     "data": {
      "text/plain": [
       "children               0\n",
       "days_employed       2174\n",
       "dob_years              0\n",
       "education              0\n",
       "education_id           0\n",
       "family_status          0\n",
       "family_status_id       0\n",
       "gender                 0\n",
       "income_type            0\n",
       "debt                   0\n",
       "total_income        2174\n",
       "purpose                0\n",
       "dtype: int64"
      ]
     },
     "execution_count": 4,
     "metadata": {},
     "output_type": "execute_result"
    }
   ],
   "source": [
    "data.isna().sum()"
   ]
  },
  {
   "cell_type": "markdown",
   "id": "e4d42c82",
   "metadata": {
    "deletable": false,
    "editable": false,
    "id": "db86e27b"
   },
   "source": [
    "**Задание 5. В двух столбцах есть пропущенные значения. Один из них — `days_employed`. Пропуски в этом столбце вы обработаете на следующем этапе. Другой столбец с пропущенными значениями — `total_income` — хранит данные о доходах. На сумму дохода сильнее всего влияет тип занятости, поэтому заполнить пропуски в этом столбце нужно медианным значением по каждому типу из столбца `income_type`. Например, у человека с типом занятости `сотрудник` пропуск в столбце `total_income` должен быть заполнен медианным доходом среди всех записей с тем же типом.**"
   ]
  },
  {
   "cell_type": "code",
   "execution_count": 5,
   "id": "74022666",
   "metadata": {
    "deletable": false,
    "id": "42006a93"
   },
   "outputs": [],
   "source": [
    "for t in data['income_type'].unique():\n",
    "    data.loc[(data['income_type'] == t) & (data['total_income'].isna()), 'total_income'] = \\\n",
    "    data.loc[(data['income_type'] == t), 'total_income'].median()"
   ]
  },
  {
   "cell_type": "markdown",
   "id": "0f3da090",
   "metadata": {
    "deletable": false,
    "editable": false,
    "id": "89da5ece"
   },
   "source": [
    "### Обработка аномальных значений"
   ]
  },
  {
   "cell_type": "markdown",
   "id": "36a52d9c",
   "metadata": {
    "deletable": false,
    "editable": false,
    "id": "57964554"
   },
   "source": [
    "**Задание 6. В данных могут встречаться артефакты (аномалии) — значения, которые не отражают действительность и появились по какой-то ошибке. таким артефактом будет отрицательное количество дней трудового стажа в столбце `days_employed`. Для реальных данных это нормально. Обработайте значения в этом столбце: замените все отрицательные значения положительными с помощью метода `abs()`.**"
   ]
  },
  {
   "cell_type": "code",
   "execution_count": 6,
   "id": "06288dcf",
   "metadata": {
    "deletable": false,
    "id": "f6f055bf"
   },
   "outputs": [],
   "source": [
    "data['days_employed'] = data['days_employed'].abs()"
   ]
  },
  {
   "cell_type": "markdown",
   "id": "cb82ec19",
   "metadata": {
    "deletable": false,
    "editable": false,
    "id": "6107dd2f"
   },
   "source": [
    "**Задание 7. Для каждого типа занятости выведите медианное значение трудового стажа `days_employed` в днях.**"
   ]
  },
  {
   "cell_type": "code",
   "execution_count": 7,
   "id": "011332d2",
   "metadata": {
    "deletable": false,
    "id": "85a5faf6",
    "outputId": "801ef80e-522b-4668-f34e-565af7432bcf"
   },
   "outputs": [
    {
     "data": {
      "text/plain": [
       "income_type\n",
       "безработный        366413.652744\n",
       "в декрете            3296.759962\n",
       "госслужащий          2689.368353\n",
       "компаньон            1547.382223\n",
       "пенсионер          365213.306266\n",
       "предприниматель       520.848083\n",
       "сотрудник            1574.202821\n",
       "студент               578.751554\n",
       "Name: days_employed, dtype: float64"
      ]
     },
     "execution_count": 7,
     "metadata": {},
     "output_type": "execute_result"
    }
   ],
   "source": [
    "data.groupby('income_type')['days_employed'].agg('median')"
   ]
  },
  {
   "cell_type": "markdown",
   "id": "6e587040",
   "metadata": {
    "deletable": false,
    "editable": false,
    "id": "38d1a030"
   },
   "source": [
    "У двух типов (безработные и пенсионеры) получатся аномально большие значения. Исправить такие значения сложно, поэтому оставьте их как есть. Тем более этот столбец не понадобится вам для исследования."
   ]
  },
  {
   "cell_type": "markdown",
   "id": "e9ff6dcd",
   "metadata": {
    "deletable": false,
    "editable": false,
    "id": "d8a9f147"
   },
   "source": [
    "**Задание 8. Выведите перечень уникальных значений столбца `children`.**"
   ]
  },
  {
   "cell_type": "code",
   "execution_count": 8,
   "id": "a3fad095",
   "metadata": {
    "deletable": false,
    "id": "ef5056eb",
    "outputId": "6975b15c-7f95-4697-d16d-a0c79b657b03"
   },
   "outputs": [
    {
     "data": {
      "text/plain": [
       "array([ 1,  0,  3,  2, -1,  4, 20,  5])"
      ]
     },
     "execution_count": 8,
     "metadata": {},
     "output_type": "execute_result"
    }
   ],
   "source": [
    "data['children'].unique()"
   ]
  },
  {
   "cell_type": "markdown",
   "id": "ce698bfe",
   "metadata": {
    "deletable": false,
    "editable": false,
    "id": "40b9ebf2"
   },
   "source": [
    "**Задание 9. В столбце `children` есть два аномальных значения. Удалите строки, в которых встречаются такие аномальные значения из датафрейма `data`.**"
   ]
  },
  {
   "cell_type": "code",
   "execution_count": 9,
   "id": "1b34e709",
   "metadata": {
    "deletable": false,
    "id": "3ff9801d"
   },
   "outputs": [],
   "source": [
    "data = data[(data['children'] != -1) & (data['children'] != 20)]"
   ]
  },
  {
   "cell_type": "markdown",
   "id": "f18f60c2",
   "metadata": {
    "deletable": false,
    "editable": false,
    "id": "bbc4d0ce"
   },
   "source": [
    "**Задание 10. Ещё раз выведите перечень уникальных значений столбца `children`, чтобы убедиться, что артефакты удалены.**"
   ]
  },
  {
   "cell_type": "code",
   "execution_count": 10,
   "id": "9dc1f23a",
   "metadata": {
    "deletable": false,
    "id": "ad4fa8b7",
    "outputId": "b2097101-d49d-44d9-901b-32a65c9463d1"
   },
   "outputs": [
    {
     "data": {
      "text/plain": [
       "array([1, 0, 3, 2, 4, 5])"
      ]
     },
     "execution_count": 10,
     "metadata": {},
     "output_type": "execute_result"
    }
   ],
   "source": [
    "data['children'].unique()"
   ]
  },
  {
   "cell_type": "markdown",
   "id": "3024f69a",
   "metadata": {
    "deletable": false,
    "editable": false,
    "id": "75440b63"
   },
   "source": [
    "### Удаление пропусков (продолжение)"
   ]
  },
  {
   "cell_type": "markdown",
   "id": "daefd1fe",
   "metadata": {
    "deletable": false,
    "editable": false,
    "id": "f4ea573f"
   },
   "source": [
    "**Задание 11. Заполните пропуски в столбце `days_employed` медианными значениями по каждого типа занятости `income_type`.**"
   ]
  },
  {
   "cell_type": "code",
   "execution_count": 11,
   "id": "1d8e121a",
   "metadata": {
    "deletable": false,
    "id": "af6b1a7e"
   },
   "outputs": [],
   "source": [
    "for t in data['income_type'].unique():\n",
    "    data.loc[(data['income_type'] == t) & (data['days_employed'].isna()), 'days_employed'] = \\\n",
    "    data.loc[(data['income_type'] == t), 'days_employed'].median()"
   ]
  },
  {
   "cell_type": "markdown",
   "id": "5f29a38d",
   "metadata": {
    "deletable": false,
    "editable": false,
    "id": "2753f40d"
   },
   "source": [
    "**Задание 12. Убедитесь, что все пропуски заполнены. Проверьте себя и ещё раз выведите количество пропущенных значений для каждого столбца с помощью двух методов.**"
   ]
  },
  {
   "cell_type": "code",
   "execution_count": 12,
   "id": "8dc425d5",
   "metadata": {
    "deletable": false,
    "id": "55f78bc2",
    "outputId": "8da1e4e1-358e-4e87-98c9-f261bce0a7b2"
   },
   "outputs": [
    {
     "data": {
      "text/plain": [
       "children            0\n",
       "days_employed       0\n",
       "dob_years           0\n",
       "education           0\n",
       "education_id        0\n",
       "family_status       0\n",
       "family_status_id    0\n",
       "gender              0\n",
       "income_type         0\n",
       "debt                0\n",
       "total_income        0\n",
       "purpose             0\n",
       "dtype: int64"
      ]
     },
     "execution_count": 12,
     "metadata": {},
     "output_type": "execute_result"
    }
   ],
   "source": [
    "data.isna().sum()"
   ]
  },
  {
   "cell_type": "markdown",
   "id": "378a1ad9",
   "metadata": {
    "deletable": false,
    "editable": false,
    "id": "ddc81e43"
   },
   "source": [
    "### Изменение типов данных"
   ]
  },
  {
   "cell_type": "markdown",
   "id": "4ba1135f",
   "metadata": {
    "deletable": false,
    "editable": false,
    "id": "42d19d24"
   },
   "source": [
    "**Задание 13. Замените вещественный тип данных в столбце `total_income` на целочисленный с помощью метода `astype()`.**"
   ]
  },
  {
   "cell_type": "code",
   "execution_count": 13,
   "id": "f1ccd1ba",
   "metadata": {
    "deletable": false,
    "id": "920b65ad"
   },
   "outputs": [],
   "source": [
    "data['total_income'] = data['total_income'].astype(int)"
   ]
  },
  {
   "cell_type": "markdown",
   "id": "76b2233a",
   "metadata": {
    "deletable": false,
    "editable": false,
    "id": "80c420ba"
   },
   "source": [
    "### Обработка дубликатов"
   ]
  },
  {
   "cell_type": "markdown",
   "id": "37cf343f",
   "metadata": {
    "deletable": false,
    "editable": false
   },
   "source": [
    "**Задание 14. Обработайте неявные дубликаты в столбце `education`. В этом столбце есть одни и те же значения, но записанные по-разному: с использованием заглавных и строчных букв. Приведите их к нижнему регистру. Проверьте остальные столбцы.**"
   ]
  },
  {
   "cell_type": "code",
   "execution_count": 14,
   "id": "e1117ffd",
   "metadata": {
    "deletable": false
   },
   "outputs": [],
   "source": [
    "data['education'] = data['education'].str.lower()"
   ]
  },
  {
   "cell_type": "markdown",
   "id": "f78e7a3e",
   "metadata": {
    "deletable": false,
    "editable": false,
    "id": "dc587695"
   },
   "source": [
    "**Задание 15. Выведите на экран количество строк-дубликатов в данных. Если такие строки присутствуют, удалите их.**"
   ]
  },
  {
   "cell_type": "code",
   "execution_count": 15,
   "id": "1ca10c1f",
   "metadata": {
    "deletable": false,
    "id": "3ee445e4",
    "outputId": "9684deba-1934-42d1-99e1-cda61740f822"
   },
   "outputs": [
    {
     "data": {
      "text/plain": [
       "71"
      ]
     },
     "execution_count": 15,
     "metadata": {},
     "output_type": "execute_result"
    }
   ],
   "source": [
    "data.duplicated().sum()"
   ]
  },
  {
   "cell_type": "code",
   "execution_count": 16,
   "id": "9a11308b",
   "metadata": {
    "deletable": false,
    "id": "8575fe05"
   },
   "outputs": [],
   "source": [
    "data = data.drop_duplicates()"
   ]
  },
  {
   "cell_type": "markdown",
   "id": "7c346bc3",
   "metadata": {
    "deletable": false,
    "editable": false,
    "id": "9904cf55"
   },
   "source": [
    "### Категоризация данных"
   ]
  },
  {
   "cell_type": "markdown",
   "id": "cf438740",
   "metadata": {
    "deletable": false,
    "editable": false,
    "id": "72fcc8a2"
   },
   "source": [
    "**Задание 16. На основании диапазонов, указанных ниже, создайте в датафрейме `data` столбец `total_income_category` с категориями:**\n",
    "\n",
    "- 0–30000 — `'E'`;\n",
    "- 30001–50000 — `'D'`;\n",
    "- 50001–200000 — `'C'`;\n",
    "- 200001–1000000 — `'B'`;\n",
    "- 1000001 и выше — `'A'`.\n",
    "\n",
    "\n",
    "**Например, кредитополучателю с доходом 25000 нужно назначить категорию `'E'`, а клиенту, получающему 235000, — `'B'`. Используйте собственную функцию с именем `categorize_income()` и метод `apply()`.**"
   ]
  },
  {
   "cell_type": "code",
   "execution_count": 17,
   "id": "439f5937",
   "metadata": {
    "deletable": false,
    "id": "e1771346"
   },
   "outputs": [],
   "source": [
    "def categorize_income(income):\n",
    "    try:\n",
    "        if 0 <= income <= 30000:\n",
    "            return 'E до 30.000 руб.'\n",
    "        elif 30000 < income <= 50000:\n",
    "            return 'D 30.000 - 50.000 руб.'\n",
    "        elif 50000 < income <= 200000:\n",
    "            return 'C 50.000 - 200.000 руб.'\n",
    "        elif 200000 < income <= 1000000:\n",
    "            return 'B 200.000 - 1.000.000 руб.'\n",
    "        elif income > 1000000:\n",
    "            return 'A свыше 1.000.000 руб.'\n",
    "    except:\n",
    "        pass"
   ]
  },
  {
   "cell_type": "code",
   "execution_count": 18,
   "id": "9b28d2d4",
   "metadata": {
    "deletable": false,
    "id": "d5f3586d"
   },
   "outputs": [],
   "source": [
    "data['total_income_category'] = data['total_income'].apply(categorize_income)"
   ]
  },
  {
   "cell_type": "markdown",
   "id": "f031a113",
   "metadata": {
    "deletable": false,
    "editable": false,
    "id": "dde49b5c"
   },
   "source": [
    "**Задание 17. Выведите на экран перечень уникальных целей взятия кредита из столбца `purpose`.**"
   ]
  },
  {
   "cell_type": "code",
   "execution_count": 19,
   "id": "60c5f8d3",
   "metadata": {
    "deletable": false,
    "id": "f67ce9b3",
    "outputId": "673c12d9-7d7e-4ae0-9812-c622c89dd244"
   },
   "outputs": [
    {
     "data": {
      "text/plain": [
       "array(['покупка жилья', 'приобретение автомобиля',\n",
       "       'дополнительное образование', 'сыграть свадьбу',\n",
       "       'операции с жильем', 'образование', 'на проведение свадьбы',\n",
       "       'покупка жилья для семьи', 'покупка недвижимости',\n",
       "       'покупка коммерческой недвижимости', 'покупка жилой недвижимости',\n",
       "       'строительство собственной недвижимости', 'недвижимость',\n",
       "       'строительство недвижимости', 'на покупку подержанного автомобиля',\n",
       "       'на покупку своего автомобиля',\n",
       "       'операции с коммерческой недвижимостью',\n",
       "       'строительство жилой недвижимости', 'жилье',\n",
       "       'операции со своей недвижимостью', 'автомобили',\n",
       "       'заняться образованием', 'сделка с подержанным автомобилем',\n",
       "       'получение образования', 'автомобиль', 'свадьба',\n",
       "       'получение дополнительного образования', 'покупка своего жилья',\n",
       "       'операции с недвижимостью', 'получение высшего образования',\n",
       "       'свой автомобиль', 'сделка с автомобилем',\n",
       "       'профильное образование', 'высшее образование',\n",
       "       'покупка жилья для сдачи', 'на покупку автомобиля', 'ремонт жилью',\n",
       "       'заняться высшим образованием'], dtype=object)"
      ]
     },
     "execution_count": 19,
     "metadata": {},
     "output_type": "execute_result"
    }
   ],
   "source": [
    "data['purpose'].unique()"
   ]
  },
  {
   "cell_type": "markdown",
   "id": "3d789d8d",
   "metadata": {
    "deletable": false,
    "editable": false,
    "id": "85d0aef0"
   },
   "source": [
    "**Задание 18. Создайте функцию, которая на основании данных из столбца `purpose` сформирует новый столбец `purpose_category`, в который войдут следующие категории:**\n",
    "\n",
    "- `'операции с автомобилем'`,\n",
    "- `'операции с недвижимостью'`,\n",
    "- `'проведение свадьбы'`,\n",
    "- `'получение образования'`.\n",
    "\n",
    "**Например, если в столбце `purpose` находится подстрока `'на покупку автомобиля'`, то в столбце `purpose_category` должна появиться строка `'операции с автомобилем'`.**\n",
    "\n",
    "**Используйте собственную функцию с именем `categorize_purpose()` и метод `apply()`. Изучите данные в столбце `purpose` и определите, какие подстроки помогут вам правильно определить категорию.**"
   ]
  },
  {
   "cell_type": "code",
   "execution_count": 20,
   "id": "bcb58041",
   "metadata": {
    "deletable": false,
    "id": "e149fab4"
   },
   "outputs": [],
   "source": [
    "def categorize_purpose(row):\n",
    "    try:\n",
    "        if 'автом' in row:\n",
    "            return 'операции с автомобилем'\n",
    "        elif 'жил' in row or 'недвиж' in row:\n",
    "            return 'операции с недвижимостью'\n",
    "        elif 'свад' in row:\n",
    "            return 'проведение свадьбы'\n",
    "        elif 'образов' in row:\n",
    "            return 'получение образования'\n",
    "    except:\n",
    "        return 'нет категории'"
   ]
  },
  {
   "cell_type": "code",
   "execution_count": 21,
   "id": "9c697068",
   "metadata": {
    "deletable": false,
    "id": "bf36e69b"
   },
   "outputs": [],
   "source": [
    "data['purpose_category'] = data['purpose'].apply(categorize_purpose)"
   ]
  },
  {
   "cell_type": "markdown",
   "id": "3433a078",
   "metadata": {
    "deletable": false,
    "editable": false,
    "id": "09b242bf"
   },
   "source": [
    "### Шаг 3. Исследуйте данные и ответьте на вопросы"
   ]
  },
  {
   "cell_type": "markdown",
   "id": "49a9b67d",
   "metadata": {
    "deletable": false,
    "editable": false,
    "id": "c5d66278"
   },
   "source": [
    "#### 3.1 Есть ли зависимость между количеством детей и возвратом кредита в срок?"
   ]
  },
  {
   "cell_type": "code",
   "execution_count": 22,
   "id": "542651c6",
   "metadata": {
    "deletable": false,
    "id": "2cacfc4a"
   },
   "outputs": [
    {
     "data": {
      "text/html": [
       "<div>\n",
       "<style scoped>\n",
       "    .dataframe tbody tr th:only-of-type {\n",
       "        vertical-align: middle;\n",
       "    }\n",
       "\n",
       "    .dataframe tbody tr th {\n",
       "        vertical-align: top;\n",
       "    }\n",
       "\n",
       "    .dataframe thead tr th {\n",
       "        text-align: left;\n",
       "    }\n",
       "\n",
       "    .dataframe thead tr:last-of-type th {\n",
       "        text-align: right;\n",
       "    }\n",
       "</style>\n",
       "<table border=\"1\" class=\"dataframe\">\n",
       "  <thead>\n",
       "    <tr>\n",
       "      <th></th>\n",
       "      <th colspan=\"3\" halign=\"left\">debt</th>\n",
       "    </tr>\n",
       "    <tr>\n",
       "      <th></th>\n",
       "      <th>sum</th>\n",
       "      <th>count</th>\n",
       "      <th>mean</th>\n",
       "    </tr>\n",
       "    <tr>\n",
       "      <th>children</th>\n",
       "      <th></th>\n",
       "      <th></th>\n",
       "      <th></th>\n",
       "    </tr>\n",
       "  </thead>\n",
       "  <tbody>\n",
       "    <tr>\n",
       "      <th>0</th>\n",
       "      <td>1063</td>\n",
       "      <td>14091</td>\n",
       "      <td>7.54%</td>\n",
       "    </tr>\n",
       "    <tr>\n",
       "      <th>1</th>\n",
       "      <td>444</td>\n",
       "      <td>4808</td>\n",
       "      <td>9.23%</td>\n",
       "    </tr>\n",
       "    <tr>\n",
       "      <th>2</th>\n",
       "      <td>194</td>\n",
       "      <td>2052</td>\n",
       "      <td>9.45%</td>\n",
       "    </tr>\n",
       "    <tr>\n",
       "      <th>3</th>\n",
       "      <td>27</td>\n",
       "      <td>330</td>\n",
       "      <td>8.18%</td>\n",
       "    </tr>\n",
       "    <tr>\n",
       "      <th>4</th>\n",
       "      <td>4</td>\n",
       "      <td>41</td>\n",
       "      <td>9.76%</td>\n",
       "    </tr>\n",
       "    <tr>\n",
       "      <th>5</th>\n",
       "      <td>0</td>\n",
       "      <td>9</td>\n",
       "      <td>0.00%</td>\n",
       "    </tr>\n",
       "  </tbody>\n",
       "</table>\n",
       "</div>"
      ],
      "text/plain": [
       "          debt              \n",
       "           sum  count   mean\n",
       "children                    \n",
       "0         1063  14091  7.54%\n",
       "1          444   4808  9.23%\n",
       "2          194   2052  9.45%\n",
       "3           27    330  8.18%\n",
       "4            4     41  9.76%\n",
       "5            0      9  0.00%"
      ]
     },
     "execution_count": 22,
     "metadata": {},
     "output_type": "execute_result"
    }
   ],
   "source": [
    "# Создатим новый датафрейм групиировкой по 'children' (количество детей в семье) с функциями 'sum', 'count', 'mean' по 'debt' (имел ли задолженность по возврату кредитов)\n",
    "\n",
    "data_child_dept = data.groupby('children').agg({'debt':['sum', 'count', 'mean']})\n",
    "# mean в нашей задаче считает это не только среднее, но и % заемщиков имеющих задолженость, отформатируем его в %\n",
    "data_child_dept[('debt',  'mean')] = data_child_dept[('debt',  'mean')].transform(lambda x: '{:,.2%}'.format(x))\n",
    "data_child_dept"
   ]
  },
  {
   "cell_type": "markdown",
   "id": "cd34cfec",
   "metadata": {
    "deletable": false,
    "id": "3a6b99ec"
   },
   "source": [
    "**Вывод:** "
   ]
  },
  {
   "cell_type": "markdown",
   "id": "b21f4309",
   "metadata": {},
   "source": [
    "Существует очень тонкая связь между количество детей в семье и возвратом кредитов. \n",
    "Если принимать только процент заёмщиков имевших задолженность по возврату кредитов, то самая ответственная группа - семьи, имеющие пять детей, а самая \"проблемная\" группа заемщиков в семьях, имеющих четырех детей. Но по ним очень маленькая выборка, поэтому данные выводы могут нести ошибку. \n",
    "Мы можем утверждать, что заемщики с детьми чаще имеют задолженность, чем заемщики без детей.  \n"
   ]
  },
  {
   "cell_type": "markdown",
   "id": "9547ab02",
   "metadata": {
    "deletable": false,
    "editable": false,
    "id": "97be82ca"
   },
   "source": [
    "#### 3.2 Есть ли зависимость между семейным положением и возвратом кредита в срок?"
   ]
  },
  {
   "cell_type": "code",
   "execution_count": 23,
   "id": "5272c5f5",
   "metadata": {
    "deletable": false,
    "id": "dc3f7ee8",
    "scrolled": true
   },
   "outputs": [
    {
     "data": {
      "text/html": [
       "<div>\n",
       "<style scoped>\n",
       "    .dataframe tbody tr th:only-of-type {\n",
       "        vertical-align: middle;\n",
       "    }\n",
       "\n",
       "    .dataframe tbody tr th {\n",
       "        vertical-align: top;\n",
       "    }\n",
       "\n",
       "    .dataframe thead tr th {\n",
       "        text-align: left;\n",
       "    }\n",
       "\n",
       "    .dataframe thead tr:last-of-type th {\n",
       "        text-align: right;\n",
       "    }\n",
       "</style>\n",
       "<table border=\"1\" class=\"dataframe\">\n",
       "  <thead>\n",
       "    <tr>\n",
       "      <th></th>\n",
       "      <th colspan=\"3\" halign=\"left\">debt</th>\n",
       "    </tr>\n",
       "    <tr>\n",
       "      <th></th>\n",
       "      <th>sum</th>\n",
       "      <th>count</th>\n",
       "      <th>mean</th>\n",
       "    </tr>\n",
       "    <tr>\n",
       "      <th>family_status</th>\n",
       "      <th></th>\n",
       "      <th></th>\n",
       "      <th></th>\n",
       "    </tr>\n",
       "  </thead>\n",
       "  <tbody>\n",
       "    <tr>\n",
       "      <th>Не женат / не замужем</th>\n",
       "      <td>273</td>\n",
       "      <td>2796</td>\n",
       "      <td>9.76%</td>\n",
       "    </tr>\n",
       "    <tr>\n",
       "      <th>в разводе</th>\n",
       "      <td>84</td>\n",
       "      <td>1189</td>\n",
       "      <td>7.06%</td>\n",
       "    </tr>\n",
       "    <tr>\n",
       "      <th>вдовец / вдова</th>\n",
       "      <td>63</td>\n",
       "      <td>951</td>\n",
       "      <td>6.62%</td>\n",
       "    </tr>\n",
       "    <tr>\n",
       "      <th>гражданский брак</th>\n",
       "      <td>385</td>\n",
       "      <td>4134</td>\n",
       "      <td>9.31%</td>\n",
       "    </tr>\n",
       "    <tr>\n",
       "      <th>женат / замужем</th>\n",
       "      <td>927</td>\n",
       "      <td>12261</td>\n",
       "      <td>7.56%</td>\n",
       "    </tr>\n",
       "  </tbody>\n",
       "</table>\n",
       "</div>"
      ],
      "text/plain": [
       "                      debt              \n",
       "                       sum  count   mean\n",
       "family_status                           \n",
       "Не женат / не замужем  273   2796  9.76%\n",
       "в разводе               84   1189  7.06%\n",
       "вдовец / вдова          63    951  6.62%\n",
       "гражданский брак       385   4134  9.31%\n",
       "женат / замужем        927  12261  7.56%"
      ]
     },
     "execution_count": 23,
     "metadata": {},
     "output_type": "execute_result"
    }
   ],
   "source": [
    "# Создатим новый датафрейм групиировкой по 'family_status' (семейное положение) с функциями 'sum', 'count', 'mean' по 'debt' (имел ли задолженность по возврату кредитов)\n",
    "\n",
    "data_family_dept = data.groupby('family_status').agg({'debt':['sum', 'count', 'mean']})\n",
    "# mean в нашей задаче считает это не только среднее, но и % заемщиков имеющих задолженость, отформатируем его в %\n",
    "data_family_dept[('debt',  'mean')] = data_family_dept[('debt',  'mean')].transform(lambda x: '{:,.2%}'.format(x))\n",
    "data_family_dept"
   ]
  },
  {
   "cell_type": "markdown",
   "id": "5e30abc1",
   "metadata": {
    "deletable": false,
    "id": "1cef7837"
   },
   "source": [
    "**Вывод:** "
   ]
  },
  {
   "cell_type": "markdown",
   "id": "30b95ea5",
   "metadata": {},
   "source": [
    "Самая ответственная группа по возврату кредита в срок **вдовец / вдова** имеет всего 6.62% заемщиков, которые имели задолженность по возврату кредитов. Немного уступает группа **в разводе** имеющая 7.06% заемщиков, которые имели задолженность по возврату кредитов.  Замыкает тройку группа **женат / замужем** с 7.56% заемщиков, которые имели задолженность по возврату кредитов. \n",
    "Проблемными группами можем считать **Не женат / не замужем** с 9.76% и **гражданский брак** с 9.31% заемщиков, которые имели задолженность по возврату кредитов."
   ]
  },
  {
   "cell_type": "markdown",
   "id": "3033f264",
   "metadata": {
    "deletable": false,
    "editable": false,
    "id": "1e8b2fca"
   },
   "source": [
    "#### 3.3 Есть ли зависимость между уровнем дохода и возвратом кредита в срок?"
   ]
  },
  {
   "cell_type": "code",
   "execution_count": 24,
   "id": "bda2e00e",
   "metadata": {
    "deletable": false,
    "id": "cd7e3720"
   },
   "outputs": [
    {
     "data": {
      "text/html": [
       "<div>\n",
       "<style scoped>\n",
       "    .dataframe tbody tr th:only-of-type {\n",
       "        vertical-align: middle;\n",
       "    }\n",
       "\n",
       "    .dataframe tbody tr th {\n",
       "        vertical-align: top;\n",
       "    }\n",
       "\n",
       "    .dataframe thead tr th {\n",
       "        text-align: left;\n",
       "    }\n",
       "\n",
       "    .dataframe thead tr:last-of-type th {\n",
       "        text-align: right;\n",
       "    }\n",
       "</style>\n",
       "<table border=\"1\" class=\"dataframe\">\n",
       "  <thead>\n",
       "    <tr>\n",
       "      <th></th>\n",
       "      <th colspan=\"3\" halign=\"left\">debt</th>\n",
       "    </tr>\n",
       "    <tr>\n",
       "      <th></th>\n",
       "      <th>sum</th>\n",
       "      <th>count</th>\n",
       "      <th>mean</th>\n",
       "    </tr>\n",
       "    <tr>\n",
       "      <th>total_income_category</th>\n",
       "      <th></th>\n",
       "      <th></th>\n",
       "      <th></th>\n",
       "    </tr>\n",
       "  </thead>\n",
       "  <tbody>\n",
       "    <tr>\n",
       "      <th>A свыше 1.000.000 руб.</th>\n",
       "      <td>2</td>\n",
       "      <td>25</td>\n",
       "      <td>8.00%</td>\n",
       "    </tr>\n",
       "    <tr>\n",
       "      <th>B 200.000 - 1.000.000 руб.</th>\n",
       "      <td>354</td>\n",
       "      <td>5014</td>\n",
       "      <td>7.06%</td>\n",
       "    </tr>\n",
       "    <tr>\n",
       "      <th>C 50.000 - 200.000 руб.</th>\n",
       "      <td>1353</td>\n",
       "      <td>15921</td>\n",
       "      <td>8.50%</td>\n",
       "    </tr>\n",
       "    <tr>\n",
       "      <th>D 30.000 - 50.000 руб.</th>\n",
       "      <td>21</td>\n",
       "      <td>349</td>\n",
       "      <td>6.02%</td>\n",
       "    </tr>\n",
       "    <tr>\n",
       "      <th>E до 30.000 руб.</th>\n",
       "      <td>2</td>\n",
       "      <td>22</td>\n",
       "      <td>9.09%</td>\n",
       "    </tr>\n",
       "  </tbody>\n",
       "</table>\n",
       "</div>"
      ],
      "text/plain": [
       "                            debt              \n",
       "                             sum  count   mean\n",
       "total_income_category                         \n",
       "A свыше 1.000.000 руб.         2     25  8.00%\n",
       "B 200.000 - 1.000.000 руб.   354   5014  7.06%\n",
       "C 50.000 - 200.000 руб.     1353  15921  8.50%\n",
       "D 30.000 - 50.000 руб.        21    349  6.02%\n",
       "E до 30.000 руб.               2     22  9.09%"
      ]
     },
     "execution_count": 24,
     "metadata": {},
     "output_type": "execute_result"
    }
   ],
   "source": [
    "# Создатим новый датафрейм групиировкой по 'total_income_category' (категории доходов) с функциями 'sum', 'count', 'mean' по 'debt' (имел ли задолженность по возврату кредитов)\n",
    "\n",
    "data_income_categ_dept = data.groupby('total_income_category').agg({'debt':['sum', 'count', 'mean']})\n",
    "# mean в нашей задаче считает это не только среднее, но и % заемщиков имеющих задолженость, отформатируем его в %\n",
    "data_income_categ_dept[('debt',  'mean')] = data_income_categ_dept[('debt',  'mean')].transform(lambda x: '{:,.2%}'.format(x))\n",
    "data_income_categ_dept"
   ]
  },
  {
   "cell_type": "markdown",
   "id": "6998e9c3",
   "metadata": {
    "deletable": false,
    "id": "e8593def"
   },
   "source": [
    "**Вывод:** "
   ]
  },
  {
   "cell_type": "markdown",
   "id": "cecd0a52",
   "metadata": {},
   "source": [
    "Мы имеем 5 категорий по доходу заемщика, две из которых составляют более 98% всей выборки: \n",
    "- **B 200.000 - 1.000.000 руб.**\n",
    "- **C 50.000 - 200.000 руб.**\n",
    "\n",
    "Из данных групп низкий процент заемщиков, которые имели задолженность по возврату кредитов, у категории **B 200.000 - 1.000.000 руб.** с показателем 7.06%, что ниже на 1.44 пунктов (составляет 20% роста) в категории **C 50.000 - 200.000 руб.** с показателем 8.50%. Скорее всего, заемщики с более высоким доходом подходят обдуманнее к размеру кредита и возможности его вернуть. \n",
    "\n",
    "Малочисленные категории составляют менее 2% всей выборки: \n",
    "- **A свыше 1.000.000 руб.**\n",
    "- **D 30.000 - 50.000 руб.**\n",
    "- **E до 30.000 руб.**\t\n",
    "\n",
    "Анализ малочисленных категорий может привести к ошибочному результату.\n"
   ]
  },
  {
   "cell_type": "markdown",
   "id": "fa0bc81b",
   "metadata": {
    "deletable": false,
    "editable": false,
    "id": "99ecbd1f"
   },
   "source": [
    "#### 3.4 Как разные цели кредита влияют на его возврат в срок?"
   ]
  },
  {
   "cell_type": "code",
   "execution_count": 25,
   "id": "fa774371",
   "metadata": {
    "deletable": false,
    "id": "2b687290"
   },
   "outputs": [
    {
     "data": {
      "text/html": [
       "<div>\n",
       "<style scoped>\n",
       "    .dataframe tbody tr th:only-of-type {\n",
       "        vertical-align: middle;\n",
       "    }\n",
       "\n",
       "    .dataframe tbody tr th {\n",
       "        vertical-align: top;\n",
       "    }\n",
       "\n",
       "    .dataframe thead tr th {\n",
       "        text-align: left;\n",
       "    }\n",
       "\n",
       "    .dataframe thead tr:last-of-type th {\n",
       "        text-align: right;\n",
       "    }\n",
       "</style>\n",
       "<table border=\"1\" class=\"dataframe\">\n",
       "  <thead>\n",
       "    <tr>\n",
       "      <th></th>\n",
       "      <th colspan=\"3\" halign=\"left\">debt</th>\n",
       "    </tr>\n",
       "    <tr>\n",
       "      <th></th>\n",
       "      <th>sum</th>\n",
       "      <th>count</th>\n",
       "      <th>mean</th>\n",
       "    </tr>\n",
       "    <tr>\n",
       "      <th>purpose_category</th>\n",
       "      <th></th>\n",
       "      <th></th>\n",
       "      <th></th>\n",
       "    </tr>\n",
       "  </thead>\n",
       "  <tbody>\n",
       "    <tr>\n",
       "      <th>операции с автомобилем</th>\n",
       "      <td>400</td>\n",
       "      <td>4279</td>\n",
       "      <td>9.35%</td>\n",
       "    </tr>\n",
       "    <tr>\n",
       "      <th>операции с недвижимостью</th>\n",
       "      <td>780</td>\n",
       "      <td>10751</td>\n",
       "      <td>7.26%</td>\n",
       "    </tr>\n",
       "    <tr>\n",
       "      <th>получение образования</th>\n",
       "      <td>369</td>\n",
       "      <td>3988</td>\n",
       "      <td>9.25%</td>\n",
       "    </tr>\n",
       "    <tr>\n",
       "      <th>проведение свадьбы</th>\n",
       "      <td>183</td>\n",
       "      <td>2313</td>\n",
       "      <td>7.91%</td>\n",
       "    </tr>\n",
       "  </tbody>\n",
       "</table>\n",
       "</div>"
      ],
      "text/plain": [
       "                         debt              \n",
       "                          sum  count   mean\n",
       "purpose_category                           \n",
       "операции с автомобилем    400   4279  9.35%\n",
       "операции с недвижимостью  780  10751  7.26%\n",
       "получение образования     369   3988  9.25%\n",
       "проведение свадьбы        183   2313  7.91%"
      ]
     },
     "execution_count": 25,
     "metadata": {},
     "output_type": "execute_result"
    }
   ],
   "source": [
    "# Создатим новый датафрейм групиировкой по 'purpose_category' (категории целей кредита) с функциями 'sum', 'count', 'mean' по 'debt' (имел ли задолженность по возврату кредитов)\n",
    "\n",
    "data_purpose_category_dept = data.groupby('purpose_category').agg({'debt':['sum', 'count', 'mean']})\n",
    "# mean в нашей задаче считает это не только среднее, но и % заемщиков имеющих задолженость, отформатируем его в %\n",
    "data_purpose_category_dept[('debt',  'mean')] = data_purpose_category_dept[('debt',  'mean')].transform(lambda x: '{:,.2%}'.format(x))\n",
    "data_purpose_category_dept"
   ]
  },
  {
   "cell_type": "markdown",
   "id": "ae491ae5",
   "metadata": {
    "deletable": false,
    "id": "b4bb2ce6"
   },
   "source": [
    "**Вывод:** "
   ]
  },
  {
   "cell_type": "markdown",
   "id": "614e8b57",
   "metadata": {},
   "source": [
    "Группа **операции с недвижимостью** явлется лучшей по возрату кредита в срок с показателем 7.26%. Также хорошо возращают кредиты с группы **проведение свадьбы** с показателем 7.91%. \n",
    "Группы **операции с автомобилем** и **получение образования** имеют выше процент возрата кредита в долг: 9.35% и 9.25% соответственно. "
   ]
  },
  {
   "cell_type": "markdown",
   "id": "c7154e7b",
   "metadata": {
    "deletable": false,
    "editable": false,
    "id": "09c3ac4c"
   },
   "source": [
    "#### 3.5 Приведите возможные причины появления пропусков в исходных данных."
   ]
  },
  {
   "cell_type": "markdown",
   "id": "16e58842",
   "metadata": {
    "deletable": false,
    "id": "9da2ceda"
   },
   "source": [
    "*Ответ:*\n",
    "\n",
    "Пропуски в столбцах days_employed (общий трудовой стаж в днях) и total_income (ежемесячный доход) совпадают, возможные причины:\n",
    "- при заполнении анкеты не указал заемщик days_employed (общий трудовой стаж в днях) и ему не открылось поле total_income (ежемесячный доход), возможно, была реализована логика: нет стажа - нет дохода.\n",
    "- по техническим причинам: при обмене данных с филиалами не прошли данные по данным столбцам\n",
    "- из-за ошибок или неверности заполнения данных столбцов: days_employed == 0 & total_income > 0, т.к. не может дохода без стажа и данные по столбцам обнулялись. \n",
    "- нет и стажа и дохода, поэтому данные пункты пропустил заемщик,\n",
    "- была акция предоставление займа без подтверждения стажа и дохода. \n"
   ]
  },
  {
   "cell_type": "markdown",
   "id": "44b7c509",
   "metadata": {
    "deletable": false,
    "editable": false,
    "id": "7b0487d6"
   },
   "source": [
    "#### 3.6 Объясните, почему заполнить пропуски медианным значением — лучшее решение для количественных переменных."
   ]
  },
  {
   "cell_type": "markdown",
   "id": "b67a2385",
   "metadata": {
    "deletable": false,
    "id": "7ecf2b8e"
   },
   "source": [
    "*Ответ:* \n",
    "\n",
    "Медианное значение более точно передает среднюю величину выборки, особенно где некторые данные сильно отличаються от большиства. \n",
    "Для примера, есть 5 человек, которые едят капусту, и к ним присоединился 6 человек, который ест мясо. В среднем, они едят голубцы, но реально большинство ест капусту, что и отразит медиана."
   ]
  },
  {
   "cell_type": "markdown",
   "id": "401db817",
   "metadata": {
    "deletable": false,
    "editable": false,
    "id": "6db5255a"
   },
   "source": [
    "### Шаг 4: общий вывод."
   ]
  },
  {
   "cell_type": "markdown",
   "id": "68cf9b48",
   "metadata": {
    "deletable": false,
    "id": "bad65432"
   },
   "source": [
    "# В ходе работы были добавлены данные:\n",
    "- `total_income_category` — категории по ежемесячному доходу \t\n",
    "- `purpose_category` — категории по целям получения кредита\n",
    "\n",
    "# При предобработке данных появились вопросы для уточнения:\n",
    "1. аномальные значения по столбцу `children` (количество детей в семье): -1 и 20. Можно убрать или -1 — это ошибка, а 20 многодетный родитель? В данном проекте строки с аномальными значениями удалены; \n",
    "2. известны ли причины пропусков в столбцах `days_employed` (общий трудовой стаж в днях) и `total_income` (ежемесячный доход)? в данном проекте пропуски заменены на медианные значения данных столбцов; \n",
    "3. в столбце `days_employed` есть аномально большие значения (стаж работы/365 больше возраста) и почему они дробные, неужели считали до секунды стаж. Столбец без исправлений, т.к. он не понадобится для исследования;\n",
    "4. в столбце `dob_years` (возраст клиента в годах) есть нулевые значения, что не может быть. Столбец без исправлений, т.к. он не понадобится для исследования;\n",
    "5. в столбце `gender` (пол клиента) есть XNA, это ошибка или нет? Столбец без исправлений, т.к. он не понадобится для исследования;\n",
    "\n",
    "# Выводы \n",
    "1. Между *количеством* детей и возвратом кредита в срок прямой зависимости нет, но вот зависимость между наличием детей и возвратом кредита в срок есть. Категория **заемщиков без детей** имеет всего 7,54% заемщиков, которые имели задолженность по возврату кредитов, когда в категории **заемщиков с 1 ребенком** таких заемщиков уже 9,23%, что выше на 1,69 пункт или на 22%. Не рассматривал категории **заемщиков от 3 детей в семье** ввиду их малочисленности. Возможно, задержки с выплатами в срок в семьях с детьми чаще происходят из-за непредвиденных расходов, связанные с детьми, и любовь к детям перевешивает ответственность перед банком. \n",
    "    \n",
    "2. Между семейным положением и возвратом кредита в срок самые ответственные группы **вдовец / вдова** с 6.62% заемщиков, которые имели задолженность по возврату кредитов, **в разводе** с 7.06% и **женат / замужем** с 7.56%. Сильно отстают группы **гражданский брак** с 9.31% и **Не женат / не замужем** с 9.76%. Разрыв между третьей группой в рейтинге и четвертой составляет 1.75 пункта или 23%. Возможно, что первые группы более ответственные, т.к. они уже брали на себя ответственность при вступлении в брак, а вторая пока с такой ответственностью еще не знакома.\n",
    "    \n",
    "3. Между уровнем дохода и возвратом кредита в срок мы имеем 5 категорий по доходу заемщика, две из которых составляют более 98% всей выборки: **B 200.000 - 1.000.000 руб.** и **C 50.000 - 200.000 руб.**. Из данных групп низкий процент заемщиков, которые имели задолженность по возврату кредитов, у категории **B 200.000 - 1.000.000 руб.** с показателем 7.06%, что ниже на 1.44 пунктов (составляет 20% роста) в категории **C 50.000 - 200.000 руб.** с показателем 8.50%. Скорее всего, заемщики с более высоким доходом подходят обдуманнее к размеру и возврату кредита. Малочисленные категории составляют менее 2% всей выборки: **A свыше 1.000.000 руб.**, **D 30.000 - 50.000 руб.** и **E до 30.000 руб.**. Анализ данных категорий не сделан, т.к. он может привести к ошибочному результату.\n",
    "    \n",
    "4. Цели кредита влияют на его возврат в срок, так группа **операции с недвижимостью** является лучшей по возврату кредита в срок с показателем 7.26% заемщиков, которые имели задолженность по возврату кредитов. Также хорошо возвращают кредиты с группы **проведение свадьбы** с показателем 7.91%. Группы **операции с автомобилем** и **получение образования** имеют выше процент возврата кредита в долг: 9.35% и 9.25% соответственно. Между второй и третьей группой разница в 1.43 пункта или 17% рост процента заемщиков с долгами. Возможно, что свадьбу покрывают за счет свадебных подарков, а образование принесет бонусы только после окончания образование, да и то не сразу. А отношение к недвижимости более ответственное, чем к автомобилю, т.к. недвижимость важнее для человека. \n",
    "\n",
    "\n",
    "\n"
   ]
  }
 ],
 "metadata": {
  "ExecuteTimeLog": [
   {
    "duration": 45,
    "start_time": "2022-11-21T02:32:39.375Z"
   },
   {
    "duration": 493,
    "start_time": "2022-11-21T02:32:52.091Z"
   },
   {
    "duration": 21,
    "start_time": "2022-11-21T02:32:52.585Z"
   },
   {
    "duration": 13,
    "start_time": "2022-11-21T02:32:52.608Z"
   },
   {
    "duration": 9,
    "start_time": "2022-11-21T02:32:52.622Z"
   },
   {
    "duration": 40,
    "start_time": "2022-11-21T02:32:52.633Z"
   },
   {
    "duration": 3,
    "start_time": "2022-11-21T02:32:52.674Z"
   },
   {
    "duration": 10,
    "start_time": "2022-11-21T02:32:52.679Z"
   },
   {
    "duration": 3,
    "start_time": "2022-11-21T02:32:52.691Z"
   },
   {
    "duration": 7,
    "start_time": "2022-11-21T02:32:52.696Z"
   },
   {
    "duration": 4,
    "start_time": "2022-11-21T02:32:52.704Z"
   },
   {
    "duration": 49,
    "start_time": "2022-11-21T02:32:52.710Z"
   },
   {
    "duration": 8,
    "start_time": "2022-11-21T02:32:52.761Z"
   },
   {
    "duration": 3,
    "start_time": "2022-11-21T02:32:52.770Z"
   },
   {
    "duration": 11,
    "start_time": "2022-11-21T02:32:52.776Z"
   },
   {
    "duration": 18,
    "start_time": "2022-11-21T02:32:52.788Z"
   },
   {
    "duration": 16,
    "start_time": "2022-11-21T02:32:52.807Z"
   },
   {
    "duration": 29,
    "start_time": "2022-11-21T02:32:52.824Z"
   },
   {
    "duration": 14,
    "start_time": "2022-11-21T02:32:52.855Z"
   },
   {
    "duration": 5,
    "start_time": "2022-11-21T02:32:52.870Z"
   },
   {
    "duration": 3,
    "start_time": "2022-11-21T02:32:52.877Z"
   },
   {
    "duration": 20,
    "start_time": "2022-11-21T02:32:52.881Z"
   },
   {
    "duration": 12,
    "start_time": "2022-11-21T02:33:36.785Z"
   },
   {
    "duration": 323,
    "start_time": "2022-11-21T02:36:23.140Z"
   },
   {
    "duration": 14,
    "start_time": "2022-11-21T02:36:57.360Z"
   },
   {
    "duration": 20,
    "start_time": "2022-11-21T02:39:22.875Z"
   },
   {
    "duration": 7,
    "start_time": "2022-11-21T02:42:15.940Z"
   },
   {
    "duration": 1178,
    "start_time": "2022-11-21T02:42:44.715Z"
   },
   {
    "duration": 47,
    "start_time": "2022-11-21T03:00:19.290Z"
   },
   {
    "duration": 10,
    "start_time": "2022-11-21T03:00:32.640Z"
   },
   {
    "duration": 9,
    "start_time": "2022-11-21T03:11:23.990Z"
   },
   {
    "duration": 7,
    "start_time": "2022-11-21T03:15:41.880Z"
   },
   {
    "duration": 9,
    "start_time": "2022-11-21T03:21:42.195Z"
   },
   {
    "duration": 16,
    "start_time": "2022-11-21T03:21:54.740Z"
   },
   {
    "duration": 13,
    "start_time": "2022-11-21T03:23:02.549Z"
   },
   {
    "duration": 9,
    "start_time": "2022-11-21T03:23:07.215Z"
   },
   {
    "duration": 72,
    "start_time": "2022-11-21T03:24:16.004Z"
   },
   {
    "duration": 70,
    "start_time": "2022-11-21T03:24:33.450Z"
   },
   {
    "duration": 71,
    "start_time": "2022-11-21T03:25:15.480Z"
   },
   {
    "duration": 75,
    "start_time": "2022-11-21T03:25:38.954Z"
   },
   {
    "duration": 14,
    "start_time": "2022-11-21T03:29:00.670Z"
   },
   {
    "duration": 7,
    "start_time": "2022-11-21T03:29:32.130Z"
   },
   {
    "duration": 14,
    "start_time": "2022-11-21T03:55:28.149Z"
   },
   {
    "duration": 15,
    "start_time": "2022-11-21T03:55:43.369Z"
   },
   {
    "duration": 9,
    "start_time": "2022-11-21T03:57:55.720Z"
   },
   {
    "duration": 17,
    "start_time": "2022-11-21T04:02:22.515Z"
   },
   {
    "duration": 17,
    "start_time": "2022-11-21T04:02:32.919Z"
   },
   {
    "duration": 9,
    "start_time": "2022-11-21T04:02:34.329Z"
   },
   {
    "duration": 11,
    "start_time": "2022-11-21T04:05:59.094Z"
   },
   {
    "duration": 8,
    "start_time": "2022-11-21T04:06:10.324Z"
   },
   {
    "duration": 273,
    "start_time": "2022-11-21T04:08:45.660Z"
   },
   {
    "duration": 17,
    "start_time": "2022-11-21T04:09:02.828Z"
   },
   {
    "duration": 308,
    "start_time": "2022-11-21T04:09:03.868Z"
   },
   {
    "duration": 9,
    "start_time": "2022-11-21T04:12:17.708Z"
   },
   {
    "duration": 9,
    "start_time": "2022-11-21T04:13:29.184Z"
   },
   {
    "duration": 8,
    "start_time": "2022-11-21T04:13:44.948Z"
   },
   {
    "duration": 14,
    "start_time": "2022-11-21T04:13:50.749Z"
   },
   {
    "duration": 4,
    "start_time": "2022-11-21T04:13:57.268Z"
   },
   {
    "duration": 15,
    "start_time": "2022-11-21T04:14:23.788Z"
   },
   {
    "duration": 4,
    "start_time": "2022-11-21T04:14:25.414Z"
   },
   {
    "duration": 11,
    "start_time": "2022-11-21T04:14:42.068Z"
   },
   {
    "duration": 16,
    "start_time": "2022-11-21T04:14:53.343Z"
   },
   {
    "duration": 10,
    "start_time": "2022-11-21T04:14:56.443Z"
   },
   {
    "duration": 13,
    "start_time": "2022-11-21T04:15:54.349Z"
   },
   {
    "duration": 16,
    "start_time": "2022-11-21T04:16:08.369Z"
   },
   {
    "duration": 4,
    "start_time": "2022-11-21T04:16:08.403Z"
   },
   {
    "duration": 4,
    "start_time": "2022-11-21T04:16:17.444Z"
   },
   {
    "duration": 10,
    "start_time": "2022-11-21T04:16:36.074Z"
   },
   {
    "duration": 80,
    "start_time": "2022-11-21T04:17:59.749Z"
   },
   {
    "duration": 16,
    "start_time": "2022-11-21T04:17:59.831Z"
   },
   {
    "duration": 17,
    "start_time": "2022-11-21T04:17:59.848Z"
   },
   {
    "duration": 9,
    "start_time": "2022-11-21T04:17:59.866Z"
   },
   {
    "duration": 34,
    "start_time": "2022-11-21T04:17:59.877Z"
   },
   {
    "duration": 3,
    "start_time": "2022-11-21T04:17:59.913Z"
   },
   {
    "duration": 14,
    "start_time": "2022-11-21T04:17:59.917Z"
   },
   {
    "duration": 5,
    "start_time": "2022-11-21T04:17:59.952Z"
   },
   {
    "duration": 9,
    "start_time": "2022-11-21T04:17:59.959Z"
   },
   {
    "duration": 5,
    "start_time": "2022-11-21T04:17:59.970Z"
   },
   {
    "duration": 32,
    "start_time": "2022-11-21T04:17:59.976Z"
   },
   {
    "duration": 9,
    "start_time": "2022-11-21T04:18:00.010Z"
   },
   {
    "duration": 12,
    "start_time": "2022-11-21T04:18:00.020Z"
   },
   {
    "duration": 25,
    "start_time": "2022-11-21T04:18:00.035Z"
   },
   {
    "duration": 32,
    "start_time": "2022-11-21T04:18:00.061Z"
   },
   {
    "duration": 17,
    "start_time": "2022-11-21T04:18:00.094Z"
   },
   {
    "duration": 19,
    "start_time": "2022-11-21T04:18:00.113Z"
   },
   {
    "duration": 25,
    "start_time": "2022-11-21T04:18:00.134Z"
   },
   {
    "duration": 23,
    "start_time": "2022-11-21T04:18:00.161Z"
   },
   {
    "duration": 10,
    "start_time": "2022-11-21T04:18:00.186Z"
   },
   {
    "duration": 28,
    "start_time": "2022-11-21T04:18:00.197Z"
   },
   {
    "duration": 23,
    "start_time": "2022-11-21T04:18:00.227Z"
   },
   {
    "duration": 31,
    "start_time": "2022-11-21T04:33:22.988Z"
   },
   {
    "duration": 10,
    "start_time": "2022-11-21T04:38:14.134Z"
   },
   {
    "duration": 9,
    "start_time": "2022-11-21T04:50:12.079Z"
   },
   {
    "duration": 15,
    "start_time": "2022-11-21T04:51:02.447Z"
   },
   {
    "duration": 3,
    "start_time": "2022-11-21T04:54:10.659Z"
   },
   {
    "duration": 14,
    "start_time": "2022-11-21T04:56:04.663Z"
   },
   {
    "duration": 4,
    "start_time": "2022-11-21T04:56:20.498Z"
   },
   {
    "duration": 13,
    "start_time": "2022-11-21T04:56:22.799Z"
   },
   {
    "duration": 21,
    "start_time": "2022-11-21T04:56:47.948Z"
   },
   {
    "duration": 4,
    "start_time": "2022-11-21T04:57:53.508Z"
   },
   {
    "duration": 18,
    "start_time": "2022-11-21T04:57:54.828Z"
   },
   {
    "duration": 21,
    "start_time": "2022-11-21T04:57:57.748Z"
   },
   {
    "duration": 7,
    "start_time": "2022-11-21T04:58:52.059Z"
   },
   {
    "duration": 24,
    "start_time": "2022-11-21T04:58:52.798Z"
   },
   {
    "duration": 5,
    "start_time": "2022-11-21T05:00:17.743Z"
   },
   {
    "duration": 8,
    "start_time": "2022-11-21T05:00:30.859Z"
   },
   {
    "duration": 25,
    "start_time": "2022-11-21T05:00:55.624Z"
   },
   {
    "duration": 7,
    "start_time": "2022-11-21T05:01:09.828Z"
   },
   {
    "duration": 16,
    "start_time": "2022-11-21T05:04:07.603Z"
   },
   {
    "duration": 75,
    "start_time": "2022-11-21T05:06:15.108Z"
   },
   {
    "duration": 15,
    "start_time": "2022-11-21T05:06:15.185Z"
   },
   {
    "duration": 23,
    "start_time": "2022-11-21T05:06:15.202Z"
   },
   {
    "duration": 18,
    "start_time": "2022-11-21T05:06:15.227Z"
   },
   {
    "duration": 41,
    "start_time": "2022-11-21T05:06:15.253Z"
   },
   {
    "duration": 3,
    "start_time": "2022-11-21T05:06:15.295Z"
   },
   {
    "duration": 30,
    "start_time": "2022-11-21T05:06:15.300Z"
   },
   {
    "duration": 10,
    "start_time": "2022-11-21T05:06:15.332Z"
   },
   {
    "duration": 23,
    "start_time": "2022-11-21T05:06:15.344Z"
   },
   {
    "duration": 25,
    "start_time": "2022-11-21T05:06:15.370Z"
   },
   {
    "duration": 46,
    "start_time": "2022-11-21T05:06:15.397Z"
   },
   {
    "duration": 8,
    "start_time": "2022-11-21T05:06:15.444Z"
   },
   {
    "duration": 12,
    "start_time": "2022-11-21T05:06:15.454Z"
   },
   {
    "duration": 17,
    "start_time": "2022-11-21T05:06:15.468Z"
   },
   {
    "duration": 32,
    "start_time": "2022-11-21T05:06:15.487Z"
   },
   {
    "duration": 19,
    "start_time": "2022-11-21T05:06:15.521Z"
   },
   {
    "duration": 5,
    "start_time": "2022-11-21T05:06:15.541Z"
   },
   {
    "duration": 23,
    "start_time": "2022-11-21T05:06:15.548Z"
   },
   {
    "duration": 24,
    "start_time": "2022-11-21T05:06:15.573Z"
   },
   {
    "duration": 17,
    "start_time": "2022-11-21T05:06:15.599Z"
   },
   {
    "duration": 17,
    "start_time": "2022-11-21T05:06:15.618Z"
   },
   {
    "duration": 19,
    "start_time": "2022-11-21T05:06:15.638Z"
   },
   {
    "duration": 17,
    "start_time": "2022-11-21T05:06:15.659Z"
   },
   {
    "duration": 7,
    "start_time": "2022-11-21T05:06:15.677Z"
   },
   {
    "duration": 11,
    "start_time": "2022-11-21T05:12:40.358Z"
   },
   {
    "duration": 9,
    "start_time": "2022-11-21T05:13:13.058Z"
   },
   {
    "duration": 5,
    "start_time": "2022-11-21T05:13:31.428Z"
   },
   {
    "duration": 5,
    "start_time": "2022-11-21T05:14:44.739Z"
   },
   {
    "duration": 6,
    "start_time": "2022-11-21T05:14:57.588Z"
   },
   {
    "duration": 6,
    "start_time": "2022-11-21T05:15:06.549Z"
   },
   {
    "duration": 5,
    "start_time": "2022-11-21T05:16:08.529Z"
   },
   {
    "duration": 13,
    "start_time": "2022-11-21T05:21:12.479Z"
   },
   {
    "duration": 6,
    "start_time": "2022-11-21T05:22:48.059Z"
   },
   {
    "duration": 14,
    "start_time": "2022-11-21T05:27:44.229Z"
   },
   {
    "duration": 14,
    "start_time": "2022-11-21T05:28:02.319Z"
   },
   {
    "duration": 12,
    "start_time": "2022-11-21T05:28:10.620Z"
   },
   {
    "duration": 14,
    "start_time": "2022-11-21T05:28:10.710Z"
   },
   {
    "duration": 12,
    "start_time": "2022-11-21T05:28:17.124Z"
   },
   {
    "duration": 12,
    "start_time": "2022-11-21T05:28:17.971Z"
   },
   {
    "duration": 18,
    "start_time": "2022-11-21T05:28:36.249Z"
   },
   {
    "duration": 8,
    "start_time": "2022-11-21T05:28:58.960Z"
   },
   {
    "duration": 10,
    "start_time": "2022-11-21T05:38:16.974Z"
   },
   {
    "duration": 3,
    "start_time": "2022-11-21T05:38:21.445Z"
   },
   {
    "duration": 19,
    "start_time": "2022-11-21T05:38:22.780Z"
   },
   {
    "duration": 4,
    "start_time": "2022-11-21T05:38:22.830Z"
   },
   {
    "duration": 18,
    "start_time": "2022-11-21T05:40:38.415Z"
   },
   {
    "duration": 14,
    "start_time": "2022-11-21T05:50:13.409Z"
   },
   {
    "duration": 16,
    "start_time": "2022-11-21T05:51:49.125Z"
   },
   {
    "duration": 10,
    "start_time": "2022-11-21T06:14:04.185Z"
   },
   {
    "duration": 75,
    "start_time": "2022-11-21T06:14:36.030Z"
   },
   {
    "duration": 25,
    "start_time": "2022-11-21T06:14:48.560Z"
   },
   {
    "duration": 7,
    "start_time": "2022-11-21T06:15:33.180Z"
   },
   {
    "duration": 7,
    "start_time": "2022-11-21T06:16:35.560Z"
   },
   {
    "duration": 20,
    "start_time": "2022-11-21T06:18:03.269Z"
   },
   {
    "duration": 7,
    "start_time": "2022-11-21T06:19:07.490Z"
   },
   {
    "duration": 7,
    "start_time": "2022-11-21T06:19:42.800Z"
   },
   {
    "duration": 9,
    "start_time": "2022-11-21T06:20:03.480Z"
   },
   {
    "duration": 9,
    "start_time": "2022-11-21T13:07:12.425Z"
   },
   {
    "duration": 7,
    "start_time": "2022-11-21T13:10:07.290Z"
   },
   {
    "duration": 9,
    "start_time": "2022-11-21T13:15:35.556Z"
   },
   {
    "duration": 9,
    "start_time": "2022-11-21T13:15:42.750Z"
   },
   {
    "duration": 20,
    "start_time": "2022-11-21T13:15:57.290Z"
   },
   {
    "duration": 4,
    "start_time": "2022-11-21T13:16:06.790Z"
   },
   {
    "duration": 1296,
    "start_time": "2022-11-21T13:16:56.920Z"
   },
   {
    "duration": 19,
    "start_time": "2022-11-21T13:17:11.195Z"
   },
   {
    "duration": 34,
    "start_time": "2022-11-21T13:17:31.905Z"
   },
   {
    "duration": 48,
    "start_time": "2022-11-21T13:19:28.330Z"
   },
   {
    "duration": 6,
    "start_time": "2022-11-21T13:21:32.969Z"
   },
   {
    "duration": 10,
    "start_time": "2022-11-21T13:27:06.155Z"
   },
   {
    "duration": 9,
    "start_time": "2022-11-21T13:27:33.720Z"
   },
   {
    "duration": 8,
    "start_time": "2022-11-21T13:27:40.500Z"
   },
   {
    "duration": 35,
    "start_time": "2022-11-21T13:28:10.884Z"
   },
   {
    "duration": 33,
    "start_time": "2022-11-21T13:28:46.719Z"
   },
   {
    "duration": 38,
    "start_time": "2022-11-21T13:30:09.309Z"
   },
   {
    "duration": 1135,
    "start_time": "2022-11-21T13:31:02.814Z"
   },
   {
    "duration": 20,
    "start_time": "2022-11-21T13:31:12.314Z"
   },
   {
    "duration": 1605,
    "start_time": "2022-11-21T13:32:04.184Z"
   },
   {
    "duration": 1371,
    "start_time": "2022-11-21T13:32:40.299Z"
   },
   {
    "duration": 1206,
    "start_time": "2022-11-21T13:33:18.869Z"
   },
   {
    "duration": 1160,
    "start_time": "2022-11-21T13:33:53.544Z"
   },
   {
    "duration": 23,
    "start_time": "2022-11-21T13:34:01.154Z"
   },
   {
    "duration": 10,
    "start_time": "2022-11-21T13:34:54.539Z"
   },
   {
    "duration": 12,
    "start_time": "2022-11-21T13:35:00.969Z"
   },
   {
    "duration": 6,
    "start_time": "2022-11-21T13:36:21.244Z"
   },
   {
    "duration": 6,
    "start_time": "2022-11-21T13:36:45.734Z"
   },
   {
    "duration": 25,
    "start_time": "2022-11-21T13:37:01.019Z"
   },
   {
    "duration": 76,
    "start_time": "2022-11-21T13:37:50.860Z"
   },
   {
    "duration": 21,
    "start_time": "2022-11-21T13:37:56.249Z"
   },
   {
    "duration": 13,
    "start_time": "2022-11-21T13:38:07.814Z"
   },
   {
    "duration": 1380,
    "start_time": "2022-11-21T13:41:32.608Z"
   },
   {
    "duration": 14,
    "start_time": "2022-11-21T13:42:33.086Z"
   },
   {
    "duration": 24516,
    "start_time": "2022-11-21T13:44:00.074Z"
   },
   {
    "duration": 73,
    "start_time": "2022-11-21T13:52:27.574Z"
   },
   {
    "duration": 29,
    "start_time": "2022-11-21T13:53:11.758Z"
   },
   {
    "duration": 95,
    "start_time": "2022-11-21T13:55:17.389Z"
   },
   {
    "duration": 15,
    "start_time": "2022-11-21T13:55:17.486Z"
   },
   {
    "duration": 16,
    "start_time": "2022-11-21T13:55:17.503Z"
   },
   {
    "duration": 33,
    "start_time": "2022-11-21T13:55:17.521Z"
   },
   {
    "duration": 32,
    "start_time": "2022-11-21T13:55:17.556Z"
   },
   {
    "duration": 4,
    "start_time": "2022-11-21T13:55:17.589Z"
   },
   {
    "duration": 14,
    "start_time": "2022-11-21T13:55:17.595Z"
   },
   {
    "duration": 15,
    "start_time": "2022-11-21T13:55:17.610Z"
   },
   {
    "duration": 25,
    "start_time": "2022-11-21T13:55:17.627Z"
   },
   {
    "duration": 5,
    "start_time": "2022-11-21T13:55:17.655Z"
   },
   {
    "duration": 38,
    "start_time": "2022-11-21T13:55:17.661Z"
   },
   {
    "duration": 9,
    "start_time": "2022-11-21T13:55:17.700Z"
   },
   {
    "duration": 4,
    "start_time": "2022-11-21T13:55:17.711Z"
   },
   {
    "duration": 23,
    "start_time": "2022-11-21T13:55:17.717Z"
   },
   {
    "duration": 27,
    "start_time": "2022-11-21T13:55:17.742Z"
   },
   {
    "duration": 18,
    "start_time": "2022-11-21T13:55:17.771Z"
   },
   {
    "duration": 5,
    "start_time": "2022-11-21T13:55:17.791Z"
   },
   {
    "duration": 21,
    "start_time": "2022-11-21T13:55:17.797Z"
   },
   {
    "duration": 12,
    "start_time": "2022-11-21T13:55:17.820Z"
   },
   {
    "duration": 20,
    "start_time": "2022-11-21T13:55:17.834Z"
   },
   {
    "duration": 14,
    "start_time": "2022-11-21T13:55:17.856Z"
   },
   {
    "duration": 17,
    "start_time": "2022-11-21T13:55:17.872Z"
   },
   {
    "duration": 16,
    "start_time": "2022-11-21T13:55:17.891Z"
   },
   {
    "duration": 11,
    "start_time": "2022-11-21T13:55:17.908Z"
   },
   {
    "duration": 3,
    "start_time": "2022-11-21T13:55:17.921Z"
   },
   {
    "duration": 10,
    "start_time": "2022-11-21T13:55:17.952Z"
   },
   {
    "duration": 25,
    "start_time": "2022-11-21T13:55:17.964Z"
   },
   {
    "duration": 16,
    "start_time": "2022-11-21T13:55:17.993Z"
   },
   {
    "duration": 458,
    "start_time": "2022-11-21T13:55:30.008Z"
   },
   {
    "duration": 23,
    "start_time": "2022-11-21T13:55:30.468Z"
   },
   {
    "duration": 16,
    "start_time": "2022-11-21T13:55:30.493Z"
   },
   {
    "duration": 44,
    "start_time": "2022-11-21T13:55:30.511Z"
   },
   {
    "duration": 53,
    "start_time": "2022-11-21T13:55:30.557Z"
   },
   {
    "duration": 4,
    "start_time": "2022-11-21T13:55:30.612Z"
   },
   {
    "duration": 21,
    "start_time": "2022-11-21T13:55:30.617Z"
   },
   {
    "duration": 47,
    "start_time": "2022-11-21T13:55:30.640Z"
   },
   {
    "duration": 32,
    "start_time": "2022-11-21T13:55:30.689Z"
   },
   {
    "duration": 27,
    "start_time": "2022-11-21T13:55:30.723Z"
   },
   {
    "duration": 71,
    "start_time": "2022-11-21T13:55:30.752Z"
   },
   {
    "duration": 10,
    "start_time": "2022-11-21T13:55:30.825Z"
   },
   {
    "duration": 19,
    "start_time": "2022-11-21T13:55:30.836Z"
   },
   {
    "duration": 37,
    "start_time": "2022-11-21T13:55:30.859Z"
   },
   {
    "duration": 45,
    "start_time": "2022-11-21T13:55:30.898Z"
   },
   {
    "duration": 29,
    "start_time": "2022-11-21T13:55:30.946Z"
   },
   {
    "duration": 9,
    "start_time": "2022-11-21T13:55:30.978Z"
   },
   {
    "duration": 41,
    "start_time": "2022-11-21T13:55:30.989Z"
   },
   {
    "duration": 34,
    "start_time": "2022-11-21T13:55:31.032Z"
   },
   {
    "duration": 39,
    "start_time": "2022-11-21T13:55:31.068Z"
   },
   {
    "duration": 60,
    "start_time": "2022-11-21T13:55:31.109Z"
   },
   {
    "duration": 42,
    "start_time": "2022-11-21T13:55:31.171Z"
   },
   {
    "duration": 33,
    "start_time": "2022-11-21T13:55:31.215Z"
   },
   {
    "duration": 23,
    "start_time": "2022-11-21T13:55:31.250Z"
   },
   {
    "duration": 13,
    "start_time": "2022-11-21T13:55:31.275Z"
   },
   {
    "duration": 36,
    "start_time": "2022-11-21T13:55:31.289Z"
   },
   {
    "duration": 28,
    "start_time": "2022-11-21T13:55:31.327Z"
   },
   {
    "duration": 21,
    "start_time": "2022-11-21T13:55:31.358Z"
   },
   {
    "duration": 44,
    "start_time": "2022-11-21T13:55:31.381Z"
   },
   {
    "duration": 481,
    "start_time": "2022-11-21T14:02:20.045Z"
   },
   {
    "duration": 22,
    "start_time": "2022-11-21T14:02:20.528Z"
   },
   {
    "duration": 22,
    "start_time": "2022-11-21T14:02:20.551Z"
   },
   {
    "duration": 18,
    "start_time": "2022-11-21T14:02:20.575Z"
   },
   {
    "duration": 68,
    "start_time": "2022-11-21T14:02:20.595Z"
   },
   {
    "duration": 3,
    "start_time": "2022-11-21T14:02:20.665Z"
   },
   {
    "duration": 22,
    "start_time": "2022-11-21T14:02:20.670Z"
   },
   {
    "duration": 5,
    "start_time": "2022-11-21T14:02:20.693Z"
   },
   {
    "duration": 25,
    "start_time": "2022-11-21T14:02:20.699Z"
   },
   {
    "duration": 17,
    "start_time": "2022-11-21T14:02:20.726Z"
   },
   {
    "duration": 46,
    "start_time": "2022-11-21T14:02:20.745Z"
   },
   {
    "duration": 9,
    "start_time": "2022-11-21T14:02:20.793Z"
   },
   {
    "duration": 9,
    "start_time": "2022-11-21T14:02:20.809Z"
   },
   {
    "duration": 26,
    "start_time": "2022-11-21T14:02:20.820Z"
   },
   {
    "duration": 27,
    "start_time": "2022-11-21T14:02:20.848Z"
   },
   {
    "duration": 25,
    "start_time": "2022-11-21T14:02:20.877Z"
   },
   {
    "duration": 4,
    "start_time": "2022-11-21T14:02:20.903Z"
   },
   {
    "duration": 19,
    "start_time": "2022-11-21T14:02:20.909Z"
   },
   {
    "duration": 9,
    "start_time": "2022-11-21T14:02:20.930Z"
   },
   {
    "duration": 14,
    "start_time": "2022-11-21T14:02:20.958Z"
   },
   {
    "duration": 24,
    "start_time": "2022-11-21T14:02:20.974Z"
   },
   {
    "duration": 22,
    "start_time": "2022-11-21T14:02:21.000Z"
   },
   {
    "duration": 14,
    "start_time": "2022-11-21T14:02:21.024Z"
   },
   {
    "duration": 66,
    "start_time": "2022-11-21T14:02:21.040Z"
   },
   {
    "duration": 0,
    "start_time": "2022-11-21T14:02:21.108Z"
   },
   {
    "duration": 0,
    "start_time": "2022-11-21T14:02:21.109Z"
   },
   {
    "duration": 20,
    "start_time": "2022-11-21T14:03:37.369Z"
   },
   {
    "duration": 15,
    "start_time": "2022-11-21T14:04:13.064Z"
   },
   {
    "duration": 77,
    "start_time": "2022-11-21T14:05:01.903Z"
   },
   {
    "duration": 21,
    "start_time": "2022-11-21T14:05:01.983Z"
   },
   {
    "duration": 25,
    "start_time": "2022-11-21T14:05:02.006Z"
   },
   {
    "duration": 46,
    "start_time": "2022-11-21T14:05:02.033Z"
   },
   {
    "duration": 49,
    "start_time": "2022-11-21T14:05:02.080Z"
   },
   {
    "duration": 4,
    "start_time": "2022-11-21T14:05:02.131Z"
   },
   {
    "duration": 20,
    "start_time": "2022-11-21T14:05:02.137Z"
   },
   {
    "duration": 27,
    "start_time": "2022-11-21T14:05:02.159Z"
   },
   {
    "duration": 41,
    "start_time": "2022-11-21T14:05:02.188Z"
   },
   {
    "duration": 36,
    "start_time": "2022-11-21T14:05:02.231Z"
   },
   {
    "duration": 53,
    "start_time": "2022-11-21T14:05:02.269Z"
   },
   {
    "duration": 20,
    "start_time": "2022-11-21T14:05:02.324Z"
   },
   {
    "duration": 48,
    "start_time": "2022-11-21T14:05:02.347Z"
   },
   {
    "duration": 44,
    "start_time": "2022-11-21T14:05:02.397Z"
   },
   {
    "duration": 50,
    "start_time": "2022-11-21T14:05:02.444Z"
   },
   {
    "duration": 29,
    "start_time": "2022-11-21T14:05:02.495Z"
   },
   {
    "duration": 14,
    "start_time": "2022-11-21T14:05:02.526Z"
   },
   {
    "duration": 22,
    "start_time": "2022-11-21T14:05:02.542Z"
   },
   {
    "duration": 60,
    "start_time": "2022-11-21T14:05:02.566Z"
   },
   {
    "duration": 44,
    "start_time": "2022-11-21T14:05:02.628Z"
   },
   {
    "duration": 15,
    "start_time": "2022-11-21T14:05:02.674Z"
   },
   {
    "duration": 31,
    "start_time": "2022-11-21T14:05:02.691Z"
   },
   {
    "duration": 27,
    "start_time": "2022-11-21T14:05:02.724Z"
   },
   {
    "duration": 48,
    "start_time": "2022-11-21T14:05:02.753Z"
   },
   {
    "duration": 26,
    "start_time": "2022-11-21T14:05:02.803Z"
   },
   {
    "duration": 16,
    "start_time": "2022-11-21T14:05:02.831Z"
   },
   {
    "duration": 38,
    "start_time": "2022-11-21T14:05:02.849Z"
   },
   {
    "duration": 65,
    "start_time": "2022-11-21T14:33:17.924Z"
   },
   {
    "duration": 7,
    "start_time": "2022-11-21T14:37:00.129Z"
   },
   {
    "duration": 1325,
    "start_time": "2022-11-21T14:38:16.578Z"
   },
   {
    "duration": 0,
    "start_time": "2022-11-21T14:38:17.905Z"
   },
   {
    "duration": 22,
    "start_time": "2022-11-21T14:38:28.182Z"
   },
   {
    "duration": 23,
    "start_time": "2022-11-21T14:38:46.103Z"
   },
   {
    "duration": 25,
    "start_time": "2022-11-21T14:41:27.474Z"
   },
   {
    "duration": 50,
    "start_time": "2022-11-21T14:41:27.524Z"
   },
   {
    "duration": 9,
    "start_time": "2022-11-21T14:41:46.999Z"
   },
   {
    "duration": 7,
    "start_time": "2022-11-21T14:42:02.214Z"
   },
   {
    "duration": 22,
    "start_time": "2022-11-21T14:42:22.723Z"
   },
   {
    "duration": 22,
    "start_time": "2022-11-21T14:43:38.952Z"
   },
   {
    "duration": 448,
    "start_time": "2022-11-21T14:47:17.718Z"
   },
   {
    "duration": 23,
    "start_time": "2022-11-21T14:47:18.169Z"
   },
   {
    "duration": 19,
    "start_time": "2022-11-21T14:47:18.194Z"
   },
   {
    "duration": 9,
    "start_time": "2022-11-21T14:47:18.215Z"
   },
   {
    "duration": 60,
    "start_time": "2022-11-21T14:47:18.225Z"
   },
   {
    "duration": 3,
    "start_time": "2022-11-21T14:47:18.287Z"
   },
   {
    "duration": 22,
    "start_time": "2022-11-21T14:47:18.292Z"
   },
   {
    "duration": 5,
    "start_time": "2022-11-21T14:47:18.315Z"
   },
   {
    "duration": 15,
    "start_time": "2022-11-21T14:47:18.321Z"
   },
   {
    "duration": 10,
    "start_time": "2022-11-21T14:47:18.338Z"
   },
   {
    "duration": 46,
    "start_time": "2022-11-21T14:47:18.350Z"
   },
   {
    "duration": 9,
    "start_time": "2022-11-21T14:47:18.398Z"
   },
   {
    "duration": 19,
    "start_time": "2022-11-21T14:47:18.408Z"
   },
   {
    "duration": 22,
    "start_time": "2022-11-21T14:47:18.429Z"
   },
   {
    "duration": 35,
    "start_time": "2022-11-21T14:47:18.453Z"
   },
   {
    "duration": 23,
    "start_time": "2022-11-21T14:47:18.490Z"
   },
   {
    "duration": 3,
    "start_time": "2022-11-21T14:47:18.515Z"
   },
   {
    "duration": 20,
    "start_time": "2022-11-21T14:47:18.520Z"
   },
   {
    "duration": 7,
    "start_time": "2022-11-21T14:47:18.542Z"
   },
   {
    "duration": 33,
    "start_time": "2022-11-21T14:47:18.551Z"
   },
   {
    "duration": 23,
    "start_time": "2022-11-21T14:47:18.586Z"
   },
   {
    "duration": 22,
    "start_time": "2022-11-21T14:47:18.611Z"
   },
   {
    "duration": 15,
    "start_time": "2022-11-21T14:47:18.635Z"
   },
   {
    "duration": 21,
    "start_time": "2022-11-21T14:47:18.651Z"
   },
   {
    "duration": 16,
    "start_time": "2022-11-21T14:47:18.674Z"
   },
   {
    "duration": 76,
    "start_time": "2022-11-21T14:47:18.691Z"
   },
   {
    "duration": 6,
    "start_time": "2022-11-21T14:47:18.769Z"
   },
   {
    "duration": 7,
    "start_time": "2022-11-21T14:47:18.778Z"
   },
   {
    "duration": 25,
    "start_time": "2022-11-21T14:47:18.786Z"
   },
   {
    "duration": 59,
    "start_time": "2022-11-21T14:47:18.813Z"
   },
   {
    "duration": 64,
    "start_time": "2022-11-21T14:50:39.883Z"
   },
   {
    "duration": 0,
    "start_time": "2022-11-21T14:50:39.949Z"
   },
   {
    "duration": 7,
    "start_time": "2022-11-21T14:51:15.013Z"
   },
   {
    "duration": 10,
    "start_time": "2022-11-21T14:51:29.017Z"
   },
   {
    "duration": 7,
    "start_time": "2022-11-21T14:51:52.032Z"
   },
   {
    "duration": 9,
    "start_time": "2022-11-21T14:51:58.287Z"
   },
   {
    "duration": 8,
    "start_time": "2022-11-21T14:52:12.191Z"
   },
   {
    "duration": 7,
    "start_time": "2022-11-21T14:52:58.866Z"
   },
   {
    "duration": 21,
    "start_time": "2022-11-21T14:56:55.303Z"
   },
   {
    "duration": 8,
    "start_time": "2022-11-21T15:00:57.296Z"
   },
   {
    "duration": 8,
    "start_time": "2022-11-21T15:03:24.956Z"
   },
   {
    "duration": 12,
    "start_time": "2022-11-21T15:15:15.978Z"
   },
   {
    "duration": 86,
    "start_time": "2022-11-21T15:32:03.064Z"
   },
   {
    "duration": 9,
    "start_time": "2022-11-21T15:32:11.484Z"
   },
   {
    "duration": 9,
    "start_time": "2022-11-21T15:32:48.389Z"
   },
   {
    "duration": 6,
    "start_time": "2022-11-21T15:32:48.469Z"
   },
   {
    "duration": 9,
    "start_time": "2022-11-21T16:03:01.012Z"
   },
   {
    "duration": 7,
    "start_time": "2022-11-21T16:04:47.383Z"
   },
   {
    "duration": 3,
    "start_time": "2022-11-21T16:04:58.807Z"
   },
   {
    "duration": 3,
    "start_time": "2022-11-21T16:05:47.932Z"
   },
   {
    "duration": 4,
    "start_time": "2022-11-21T16:05:54.763Z"
   },
   {
    "duration": 3,
    "start_time": "2022-11-21T16:06:13.407Z"
   },
   {
    "duration": 7,
    "start_time": "2022-11-21T16:06:24.942Z"
   },
   {
    "duration": 8,
    "start_time": "2022-11-21T16:07:06.617Z"
   },
   {
    "duration": 2,
    "start_time": "2022-11-21T16:07:48.102Z"
   },
   {
    "duration": 8,
    "start_time": "2022-11-21T16:07:59.137Z"
   },
   {
    "duration": 8,
    "start_time": "2022-11-21T16:08:09.782Z"
   },
   {
    "duration": 7,
    "start_time": "2022-11-21T16:08:53.862Z"
   },
   {
    "duration": 7,
    "start_time": "2022-11-21T16:09:15.892Z"
   },
   {
    "duration": 7,
    "start_time": "2022-11-21T16:09:27.497Z"
   },
   {
    "duration": 37,
    "start_time": "2022-11-21T16:09:27.576Z"
   },
   {
    "duration": 8,
    "start_time": "2022-11-21T16:09:56.177Z"
   },
   {
    "duration": 6,
    "start_time": "2022-11-21T16:10:14.331Z"
   },
   {
    "duration": 6,
    "start_time": "2022-11-21T16:11:20.132Z"
   },
   {
    "duration": 8,
    "start_time": "2022-11-21T16:11:32.552Z"
   },
   {
    "duration": 6,
    "start_time": "2022-11-21T16:11:53.362Z"
   },
   {
    "duration": 32,
    "start_time": "2022-11-21T16:11:53.427Z"
   },
   {
    "duration": 461,
    "start_time": "2022-11-21T16:30:39.280Z"
   },
   {
    "duration": 22,
    "start_time": "2022-11-21T16:30:39.743Z"
   },
   {
    "duration": 30,
    "start_time": "2022-11-21T16:30:39.767Z"
   },
   {
    "duration": 36,
    "start_time": "2022-11-21T16:30:39.799Z"
   },
   {
    "duration": 53,
    "start_time": "2022-11-21T16:30:39.836Z"
   },
   {
    "duration": 10,
    "start_time": "2022-11-21T16:30:39.891Z"
   },
   {
    "duration": 28,
    "start_time": "2022-11-21T16:30:39.902Z"
   },
   {
    "duration": 19,
    "start_time": "2022-11-21T16:30:39.932Z"
   },
   {
    "duration": 29,
    "start_time": "2022-11-21T16:30:39.953Z"
   },
   {
    "duration": 31,
    "start_time": "2022-11-21T16:30:39.986Z"
   },
   {
    "duration": 46,
    "start_time": "2022-11-21T16:30:40.019Z"
   },
   {
    "duration": 9,
    "start_time": "2022-11-21T16:30:40.067Z"
   },
   {
    "duration": 42,
    "start_time": "2022-11-21T16:30:40.078Z"
   },
   {
    "duration": 26,
    "start_time": "2022-11-21T16:30:40.121Z"
   },
   {
    "duration": 53,
    "start_time": "2022-11-21T16:30:40.149Z"
   },
   {
    "duration": 16,
    "start_time": "2022-11-21T16:30:40.204Z"
   },
   {
    "duration": 12,
    "start_time": "2022-11-21T16:30:40.221Z"
   },
   {
    "duration": 23,
    "start_time": "2022-11-21T16:30:40.234Z"
   },
   {
    "duration": 25,
    "start_time": "2022-11-21T16:30:40.258Z"
   },
   {
    "duration": 21,
    "start_time": "2022-11-21T16:30:40.284Z"
   },
   {
    "duration": 45,
    "start_time": "2022-11-21T16:30:40.307Z"
   },
   {
    "duration": 45,
    "start_time": "2022-11-21T16:30:40.354Z"
   },
   {
    "duration": 32,
    "start_time": "2022-11-21T16:30:40.400Z"
   },
   {
    "duration": 41,
    "start_time": "2022-11-21T16:30:40.434Z"
   },
   {
    "duration": 53,
    "start_time": "2022-11-21T16:30:40.477Z"
   },
   {
    "duration": 33,
    "start_time": "2022-11-21T16:30:40.532Z"
   },
   {
    "duration": 32,
    "start_time": "2022-11-21T16:30:40.567Z"
   },
   {
    "duration": 443,
    "start_time": "2022-11-21T21:38:06.668Z"
   },
   {
    "duration": 21,
    "start_time": "2022-11-21T21:38:07.113Z"
   },
   {
    "duration": 13,
    "start_time": "2022-11-21T21:38:07.136Z"
   },
   {
    "duration": 8,
    "start_time": "2022-11-21T21:38:07.152Z"
   },
   {
    "duration": 51,
    "start_time": "2022-11-21T21:38:07.162Z"
   },
   {
    "duration": 3,
    "start_time": "2022-11-21T21:38:07.215Z"
   },
   {
    "duration": 9,
    "start_time": "2022-11-21T21:38:07.220Z"
   },
   {
    "duration": 4,
    "start_time": "2022-11-21T21:38:07.230Z"
   },
   {
    "duration": 8,
    "start_time": "2022-11-21T21:38:07.236Z"
   },
   {
    "duration": 4,
    "start_time": "2022-11-21T21:38:07.247Z"
   },
   {
    "duration": 32,
    "start_time": "2022-11-21T21:38:07.253Z"
   },
   {
    "duration": 33,
    "start_time": "2022-11-21T21:38:07.287Z"
   },
   {
    "duration": 3,
    "start_time": "2022-11-21T21:38:07.322Z"
   },
   {
    "duration": 12,
    "start_time": "2022-11-21T21:38:07.327Z"
   },
   {
    "duration": 17,
    "start_time": "2022-11-21T21:38:07.341Z"
   },
   {
    "duration": 15,
    "start_time": "2022-11-21T21:38:07.359Z"
   },
   {
    "duration": 3,
    "start_time": "2022-11-21T21:38:07.376Z"
   },
   {
    "duration": 38,
    "start_time": "2022-11-21T21:38:07.381Z"
   },
   {
    "duration": 5,
    "start_time": "2022-11-21T21:38:07.421Z"
   },
   {
    "duration": 4,
    "start_time": "2022-11-21T21:38:07.427Z"
   },
   {
    "duration": 9,
    "start_time": "2022-11-21T21:38:07.433Z"
   },
   {
    "duration": 15,
    "start_time": "2022-11-21T21:38:07.444Z"
   },
   {
    "duration": 15,
    "start_time": "2022-11-21T21:38:07.461Z"
   },
   {
    "duration": 50,
    "start_time": "2022-11-21T21:38:07.477Z"
   },
   {
    "duration": 15,
    "start_time": "2022-11-21T21:38:07.529Z"
   },
   {
    "duration": 6,
    "start_time": "2022-11-21T21:38:07.546Z"
   },
   {
    "duration": 7,
    "start_time": "2022-11-21T21:38:07.554Z"
   },
   {
    "duration": 11,
    "start_time": "2022-11-21T21:38:16.536Z"
   },
   {
    "duration": 459,
    "start_time": "2022-11-21T21:49:37.610Z"
   },
   {
    "duration": 20,
    "start_time": "2022-11-21T21:49:38.071Z"
   },
   {
    "duration": 13,
    "start_time": "2022-11-21T21:49:38.093Z"
   },
   {
    "duration": 9,
    "start_time": "2022-11-21T21:49:38.107Z"
   },
   {
    "duration": 31,
    "start_time": "2022-11-21T21:49:38.117Z"
   },
   {
    "duration": 3,
    "start_time": "2022-11-21T21:49:38.149Z"
   },
   {
    "duration": 10,
    "start_time": "2022-11-21T21:49:38.154Z"
   },
   {
    "duration": 4,
    "start_time": "2022-11-21T21:49:38.165Z"
   },
   {
    "duration": 9,
    "start_time": "2022-11-21T21:49:38.170Z"
   },
   {
    "duration": 4,
    "start_time": "2022-11-21T21:49:38.181Z"
   },
   {
    "duration": 29,
    "start_time": "2022-11-21T21:49:38.213Z"
   },
   {
    "duration": 7,
    "start_time": "2022-11-21T21:49:38.244Z"
   },
   {
    "duration": 4,
    "start_time": "2022-11-21T21:49:38.253Z"
   },
   {
    "duration": 10,
    "start_time": "2022-11-21T21:49:38.258Z"
   },
   {
    "duration": 19,
    "start_time": "2022-11-21T21:49:38.270Z"
   },
   {
    "duration": 15,
    "start_time": "2022-11-21T21:49:38.313Z"
   },
   {
    "duration": 3,
    "start_time": "2022-11-21T21:49:38.329Z"
   },
   {
    "duration": 10,
    "start_time": "2022-11-21T21:49:38.334Z"
   },
   {
    "duration": 5,
    "start_time": "2022-11-21T21:49:38.345Z"
   },
   {
    "duration": 4,
    "start_time": "2022-11-21T21:49:38.351Z"
   },
   {
    "duration": 10,
    "start_time": "2022-11-21T21:49:38.356Z"
   },
   {
    "duration": 14,
    "start_time": "2022-11-21T21:49:38.367Z"
   },
   {
    "duration": 40,
    "start_time": "2022-11-21T21:49:38.383Z"
   },
   {
    "duration": 13,
    "start_time": "2022-11-21T21:49:38.424Z"
   },
   {
    "duration": 14,
    "start_time": "2022-11-21T21:49:38.438Z"
   },
   {
    "duration": 5,
    "start_time": "2022-11-21T21:49:38.453Z"
   },
   {
    "duration": 8,
    "start_time": "2022-11-21T21:49:38.460Z"
   },
   {
    "duration": 528,
    "start_time": "2022-11-22T03:04:52.970Z"
   },
   {
    "duration": 30,
    "start_time": "2022-11-22T03:04:53.501Z"
   },
   {
    "duration": 35,
    "start_time": "2022-11-22T03:04:53.534Z"
   },
   {
    "duration": 17,
    "start_time": "2022-11-22T03:04:53.572Z"
   },
   {
    "duration": 37,
    "start_time": "2022-11-22T03:04:53.591Z"
   },
   {
    "duration": 23,
    "start_time": "2022-11-22T03:04:53.630Z"
   },
   {
    "duration": 28,
    "start_time": "2022-11-22T03:04:53.655Z"
   },
   {
    "duration": 8,
    "start_time": "2022-11-22T03:04:53.685Z"
   },
   {
    "duration": 13,
    "start_time": "2022-11-22T03:04:53.694Z"
   },
   {
    "duration": 5,
    "start_time": "2022-11-22T03:04:53.709Z"
   },
   {
    "duration": 63,
    "start_time": "2022-11-22T03:04:53.716Z"
   },
   {
    "duration": 12,
    "start_time": "2022-11-22T03:04:53.781Z"
   },
   {
    "duration": 6,
    "start_time": "2022-11-22T03:04:53.795Z"
   },
   {
    "duration": 16,
    "start_time": "2022-11-22T03:04:53.803Z"
   },
   {
    "duration": 42,
    "start_time": "2022-11-22T03:04:53.820Z"
   },
   {
    "duration": 20,
    "start_time": "2022-11-22T03:04:53.864Z"
   },
   {
    "duration": 4,
    "start_time": "2022-11-22T03:04:53.886Z"
   },
   {
    "duration": 14,
    "start_time": "2022-11-22T03:04:53.892Z"
   },
   {
    "duration": 12,
    "start_time": "2022-11-22T03:04:53.907Z"
   },
   {
    "duration": 4,
    "start_time": "2022-11-22T03:04:53.921Z"
   },
   {
    "duration": 20,
    "start_time": "2022-11-22T03:04:53.952Z"
   },
   {
    "duration": 19,
    "start_time": "2022-11-22T03:04:53.974Z"
   },
   {
    "duration": 17,
    "start_time": "2022-11-22T03:04:53.994Z"
   },
   {
    "duration": 15,
    "start_time": "2022-11-22T03:04:54.013Z"
   },
   {
    "duration": 36,
    "start_time": "2022-11-22T03:04:54.030Z"
   },
   {
    "duration": 15,
    "start_time": "2022-11-22T03:04:54.068Z"
   },
   {
    "duration": 9,
    "start_time": "2022-11-22T03:04:54.085Z"
   },
   {
    "duration": 15,
    "start_time": "2022-11-22T03:05:34.239Z"
   },
   {
    "duration": 96,
    "start_time": "2022-11-22T04:40:52.093Z"
   },
   {
    "duration": 83,
    "start_time": "2022-11-22T04:44:10.178Z"
   },
   {
    "duration": 517,
    "start_time": "2022-11-22T04:55:20.940Z"
   },
   {
    "duration": 22,
    "start_time": "2022-11-22T04:55:21.459Z"
   },
   {
    "duration": 15,
    "start_time": "2022-11-22T04:55:21.483Z"
   },
   {
    "duration": 11,
    "start_time": "2022-11-22T04:55:21.500Z"
   },
   {
    "duration": 74,
    "start_time": "2022-11-22T04:55:21.512Z"
   },
   {
    "duration": 3,
    "start_time": "2022-11-22T04:55:21.588Z"
   },
   {
    "duration": 17,
    "start_time": "2022-11-22T04:55:21.593Z"
   },
   {
    "duration": 5,
    "start_time": "2022-11-22T04:55:21.612Z"
   },
   {
    "duration": 9,
    "start_time": "2022-11-22T04:55:21.618Z"
   },
   {
    "duration": 21,
    "start_time": "2022-11-22T04:55:21.630Z"
   },
   {
    "duration": 38,
    "start_time": "2022-11-22T04:55:21.652Z"
   },
   {
    "duration": 12,
    "start_time": "2022-11-22T04:55:21.692Z"
   },
   {
    "duration": 5,
    "start_time": "2022-11-22T04:55:21.706Z"
   },
   {
    "duration": 42,
    "start_time": "2022-11-22T04:55:21.712Z"
   },
   {
    "duration": 28,
    "start_time": "2022-11-22T04:55:21.756Z"
   },
   {
    "duration": 18,
    "start_time": "2022-11-22T04:55:21.786Z"
   },
   {
    "duration": 5,
    "start_time": "2022-11-22T04:55:21.806Z"
   },
   {
    "duration": 38,
    "start_time": "2022-11-22T04:55:21.813Z"
   },
   {
    "duration": 6,
    "start_time": "2022-11-22T04:55:21.852Z"
   },
   {
    "duration": 5,
    "start_time": "2022-11-22T04:55:21.859Z"
   },
   {
    "duration": 11,
    "start_time": "2022-11-22T04:55:21.866Z"
   },
   {
    "duration": 14,
    "start_time": "2022-11-22T04:55:21.879Z"
   },
   {
    "duration": 18,
    "start_time": "2022-11-22T04:55:21.895Z"
   },
   {
    "duration": 43,
    "start_time": "2022-11-22T04:55:21.915Z"
   },
   {
    "duration": 16,
    "start_time": "2022-11-22T04:55:21.959Z"
   },
   {
    "duration": 6,
    "start_time": "2022-11-22T04:55:21.977Z"
   },
   {
    "duration": 21,
    "start_time": "2022-11-22T04:55:21.985Z"
   }
  ],
  "colab": {
   "name": "dpp_template_part2.ipynb",
   "provenance": []
  },
  "kernelspec": {
   "display_name": "Python 3 (ipykernel)",
   "language": "python",
   "name": "python3"
  },
  "language_info": {
   "codemirror_mode": {
    "name": "ipython",
    "version": 3
   },
   "file_extension": ".py",
   "mimetype": "text/x-python",
   "name": "python",
   "nbconvert_exporter": "python",
   "pygments_lexer": "ipython3",
   "version": "3.9.12"
  },
  "toc": {
   "base_numbering": 1,
   "nav_menu": {},
   "number_sections": true,
   "sideBar": true,
   "skip_h1_title": true,
   "title_cell": "Table of Contents",
   "title_sidebar": "Contents",
   "toc_cell": false,
   "toc_position": {},
   "toc_section_display": true,
   "toc_window_display": true
  }
 },
 "nbformat": 4,
 "nbformat_minor": 5
}
