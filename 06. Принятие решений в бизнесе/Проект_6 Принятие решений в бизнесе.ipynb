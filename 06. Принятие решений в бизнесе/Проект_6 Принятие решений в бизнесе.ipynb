{
 "cells": [
  {
   "cell_type": "markdown",
   "metadata": {},
   "source": [
    "# Краткое описание проекта\n",
    "\n",
    "На основании подготовленного списка гипотез для увеличения выручки выполнить приоритизацию данных гипотез, запустить A/B-тест и проанализировать результаты. \n",
    "\n",
    "# Цель проекта\n",
    "## Часть 1. Приоритизация гипотез:\n",
    "\n",
    "### Применить фреймворк ICE для приоритизации гипотез. Отсортировать их по убыванию приоритета.\n",
    "### Применить фреймворк RICE для приоритизации гипотез. Отсортировать их по убыванию приоритета.\n",
    "### Указать, как изменилась приоритизация гипотез при применении RICE вместо ICE. Объяснить, почему так произошло.\n",
    "\n",
    "## Часть 2. Анализ A/B-теста:\n",
    "### Постройте график кумулятивной выручки по группам. Сделайте выводы и предположения.\n",
    "### Постройте график кумулятивного среднего чека по группам. Сделайте выводы и предположения.\n",
    "### Постройте график относительного изменения кумулятивного среднего чека группы B к группе A. Сделайте выводы и предположения.\n",
    "### Постройте график кумулятивного среднего количества заказов на посетителя по группам. Сделайте выводы и предположения.\n",
    "### Постройте график относительного изменения кумулятивного среднего количества заказов на посетителя группы B к группе A. Сделайте выводы и предположения.\n",
    "### Постройте точечный график количества заказов по пользователям. Сделайте выводы и предположения.\n",
    "### Посчитайте 95-й и 99-й перцентили количества заказов на пользователя. Выберите границу для определения аномальных пользователей.\n",
    "### Постройте точечный график стоимостей заказов. Сделайте выводы и предположения.\n",
    "### Посчитайте 95-й и 99-й перцентили стоимости заказов. Выберите границу для определения аномальных заказов.\n",
    "### Посчитайте статистическую значимость различий в среднем количестве заказов на посетителя между группами по «сырым» данным. Сделайте выводы и предположения.\n",
    "### Посчитайте статистическую значимость различий в среднем чеке заказа между группами по «сырым» данным. Сделайте выводы и предположения.\n",
    "### Посчитайте статистическую значимость различий в среднем количестве заказов на посетителя между группами по «очищенным» данным. Сделайте выводы и предположения.\n",
    "### Посчитайте статистическую значимость различий в среднем чеке заказа между группами по «очищенным» данным. Сделайте выводы и предположения.\n",
    "### Примите решение по результатам теста и объясните его. Варианты решений:\n",
    "    1. Остановить тест, зафиксировать победу одной из групп.\n",
    "    2. Остановить тест, зафиксировать отсутствие различий между группами.\n",
    "    3. Продолжить тест.\n",
    "\n",
    "# Описание данных\n",
    "\n",
    "1. Данные для первой части\n",
    "    - Файл /datasets/hypothesis.csv: \n",
    "        1. Hypothesis — краткое описание гипотезы;\n",
    "        2. Reach — охват пользователей по 10-балльной шкале;\n",
    "        3. Impact — влияние на пользователей по 10-балльной шкале;\n",
    "        4. Confidence — уверенность в гипотезе по 10-балльной шкале;\n",
    "        5. Efforts — затраты ресурсов на проверку гипотезы по 10-балльной шкале. Чем больше значение Efforts, тем дороже проверка гипотезы.\n",
    "2. Данные для второй части:\n",
    "    - Файл /datasets/orders.csv:\n",
    "        1. transactionId — идентификатор заказа;\n",
    "        2. visitorId — идентификатор пользователя, совершившего заказ;\n",
    "        3. date — дата, когда был совершён заказ;\n",
    "        4. revenue — выручка заказа;\n",
    "        5. group — группа A/B-теста, в которую попал заказ.\n",
    "    - Файл /datasets/visitors.csv:\n",
    "        1. date — дата;\n",
    "        2. group — группа A/B-теста;\n",
    "        3. visitors — количество пользователей в указанную дату в указанной группе A/B-теста\n",
    "\n",
    "\n",
    "# План работы\n",
    "1. Открыть файлы с данными и изучить общую информацию;\n",
    "2. Подготовить данные;\n",
    "3. Провести приоритизацию гипотез;\n",
    "4. Провести анализ A/B-теста;\n",
    "5. Написать общий вывод. \n",
    "\n"
   ]
  },
  {
   "cell_type": "markdown",
   "metadata": {},
   "source": [
    "## Открытие файлов и изучение общей информации:"
   ]
  },
  {
   "cell_type": "code",
   "execution_count": 1,
   "metadata": {},
   "outputs": [],
   "source": [
    "# импортируем библиотеки\n",
    "import pandas as pd\n",
    "import datetime as dt\n",
    "import numpy as np\n",
    "import matplotlib.pyplot as plt\n",
    "import scipy.stats as stats\n",
    "import matplotlib as mpl"
   ]
  },
  {
   "cell_type": "code",
   "execution_count": 2,
   "metadata": {},
   "outputs": [],
   "source": [
    "# прочитаем файлы и создадим датафреймы\n",
    "hypothesis = pd.read_csv('../datasets/hypothesis.csv')\n",
    "orders = pd.read_csv('../datasets/orders.csv')\n",
    "visitors = pd.read_csv('../datasets/visitors.csv')\n"
   ]
  },
  {
   "cell_type": "code",
   "execution_count": 3,
   "metadata": {},
   "outputs": [],
   "source": [
    "# функция для получения общей информации по датасету\n",
    "def get_info(df):\n",
    "    display(df.head())\n",
    "    display(df.tail())\n",
    "    print(df.info())\n",
    "    display(df.describe(include='all', datetime_is_numeric=True))\n",
    "    print('\\nКоличество дубликатов:\\n', df.duplicated().sum())\n",
    "    print('\\nКоличество пустых:\\n', df.isna().sum())"
   ]
  },
  {
   "cell_type": "code",
   "execution_count": 4,
   "metadata": {},
   "outputs": [
    {
     "data": {
      "text/html": [
       "<div>\n",
       "<style scoped>\n",
       "    .dataframe tbody tr th:only-of-type {\n",
       "        vertical-align: middle;\n",
       "    }\n",
       "\n",
       "    .dataframe tbody tr th {\n",
       "        vertical-align: top;\n",
       "    }\n",
       "\n",
       "    .dataframe thead th {\n",
       "        text-align: right;\n",
       "    }\n",
       "</style>\n",
       "<table border=\"1\" class=\"dataframe\">\n",
       "  <thead>\n",
       "    <tr style=\"text-align: right;\">\n",
       "      <th></th>\n",
       "      <th>Hypothesis</th>\n",
       "      <th>Reach</th>\n",
       "      <th>Impact</th>\n",
       "      <th>Confidence</th>\n",
       "      <th>Efforts</th>\n",
       "    </tr>\n",
       "  </thead>\n",
       "  <tbody>\n",
       "    <tr>\n",
       "      <th>0</th>\n",
       "      <td>Добавить два новых канала привлечения трафика,...</td>\n",
       "      <td>3</td>\n",
       "      <td>10</td>\n",
       "      <td>8</td>\n",
       "      <td>6</td>\n",
       "    </tr>\n",
       "    <tr>\n",
       "      <th>1</th>\n",
       "      <td>Запустить собственную службу доставки, что сок...</td>\n",
       "      <td>2</td>\n",
       "      <td>5</td>\n",
       "      <td>4</td>\n",
       "      <td>10</td>\n",
       "    </tr>\n",
       "    <tr>\n",
       "      <th>2</th>\n",
       "      <td>Добавить блоки рекомендаций товаров на сайт ин...</td>\n",
       "      <td>8</td>\n",
       "      <td>3</td>\n",
       "      <td>7</td>\n",
       "      <td>3</td>\n",
       "    </tr>\n",
       "    <tr>\n",
       "      <th>3</th>\n",
       "      <td>Изменить структура категорий, что увеличит кон...</td>\n",
       "      <td>8</td>\n",
       "      <td>3</td>\n",
       "      <td>3</td>\n",
       "      <td>8</td>\n",
       "    </tr>\n",
       "    <tr>\n",
       "      <th>4</th>\n",
       "      <td>Изменить цвет фона главной страницы, чтобы уве...</td>\n",
       "      <td>3</td>\n",
       "      <td>1</td>\n",
       "      <td>1</td>\n",
       "      <td>1</td>\n",
       "    </tr>\n",
       "  </tbody>\n",
       "</table>\n",
       "</div>"
      ],
      "text/plain": [
       "                                          Hypothesis  Reach  Impact  \\\n",
       "0  Добавить два новых канала привлечения трафика,...      3      10   \n",
       "1  Запустить собственную службу доставки, что сок...      2       5   \n",
       "2  Добавить блоки рекомендаций товаров на сайт ин...      8       3   \n",
       "3  Изменить структура категорий, что увеличит кон...      8       3   \n",
       "4  Изменить цвет фона главной страницы, чтобы уве...      3       1   \n",
       "\n",
       "   Confidence  Efforts  \n",
       "0           8        6  \n",
       "1           4       10  \n",
       "2           7        3  \n",
       "3           3        8  \n",
       "4           1        1  "
      ]
     },
     "metadata": {},
     "output_type": "display_data"
    },
    {
     "data": {
      "text/html": [
       "<div>\n",
       "<style scoped>\n",
       "    .dataframe tbody tr th:only-of-type {\n",
       "        vertical-align: middle;\n",
       "    }\n",
       "\n",
       "    .dataframe tbody tr th {\n",
       "        vertical-align: top;\n",
       "    }\n",
       "\n",
       "    .dataframe thead th {\n",
       "        text-align: right;\n",
       "    }\n",
       "</style>\n",
       "<table border=\"1\" class=\"dataframe\">\n",
       "  <thead>\n",
       "    <tr style=\"text-align: right;\">\n",
       "      <th></th>\n",
       "      <th>Hypothesis</th>\n",
       "      <th>Reach</th>\n",
       "      <th>Impact</th>\n",
       "      <th>Confidence</th>\n",
       "      <th>Efforts</th>\n",
       "    </tr>\n",
       "  </thead>\n",
       "  <tbody>\n",
       "    <tr>\n",
       "      <th>4</th>\n",
       "      <td>Изменить цвет фона главной страницы, чтобы уве...</td>\n",
       "      <td>3</td>\n",
       "      <td>1</td>\n",
       "      <td>1</td>\n",
       "      <td>1</td>\n",
       "    </tr>\n",
       "    <tr>\n",
       "      <th>5</th>\n",
       "      <td>Добавить страницу отзывов клиентов о магазине,...</td>\n",
       "      <td>3</td>\n",
       "      <td>2</td>\n",
       "      <td>2</td>\n",
       "      <td>3</td>\n",
       "    </tr>\n",
       "    <tr>\n",
       "      <th>6</th>\n",
       "      <td>Показать на главной странице баннеры с актуаль...</td>\n",
       "      <td>5</td>\n",
       "      <td>3</td>\n",
       "      <td>8</td>\n",
       "      <td>3</td>\n",
       "    </tr>\n",
       "    <tr>\n",
       "      <th>7</th>\n",
       "      <td>Добавить форму подписки на все основные страни...</td>\n",
       "      <td>10</td>\n",
       "      <td>7</td>\n",
       "      <td>8</td>\n",
       "      <td>5</td>\n",
       "    </tr>\n",
       "    <tr>\n",
       "      <th>8</th>\n",
       "      <td>Запустить акцию, дающую скидку на товар в день...</td>\n",
       "      <td>1</td>\n",
       "      <td>9</td>\n",
       "      <td>9</td>\n",
       "      <td>5</td>\n",
       "    </tr>\n",
       "  </tbody>\n",
       "</table>\n",
       "</div>"
      ],
      "text/plain": [
       "                                          Hypothesis  Reach  Impact  \\\n",
       "4  Изменить цвет фона главной страницы, чтобы уве...      3       1   \n",
       "5  Добавить страницу отзывов клиентов о магазине,...      3       2   \n",
       "6  Показать на главной странице баннеры с актуаль...      5       3   \n",
       "7  Добавить форму подписки на все основные страни...     10       7   \n",
       "8  Запустить акцию, дающую скидку на товар в день...      1       9   \n",
       "\n",
       "   Confidence  Efforts  \n",
       "4           1        1  \n",
       "5           2        3  \n",
       "6           8        3  \n",
       "7           8        5  \n",
       "8           9        5  "
      ]
     },
     "metadata": {},
     "output_type": "display_data"
    },
    {
     "name": "stdout",
     "output_type": "stream",
     "text": [
      "<class 'pandas.core.frame.DataFrame'>\n",
      "RangeIndex: 9 entries, 0 to 8\n",
      "Data columns (total 5 columns):\n",
      " #   Column      Non-Null Count  Dtype \n",
      "---  ------      --------------  ----- \n",
      " 0   Hypothesis  9 non-null      object\n",
      " 1   Reach       9 non-null      int64 \n",
      " 2   Impact      9 non-null      int64 \n",
      " 3   Confidence  9 non-null      int64 \n",
      " 4   Efforts     9 non-null      int64 \n",
      "dtypes: int64(4), object(1)\n",
      "memory usage: 488.0+ bytes\n",
      "None\n"
     ]
    },
    {
     "data": {
      "text/html": [
       "<div>\n",
       "<style scoped>\n",
       "    .dataframe tbody tr th:only-of-type {\n",
       "        vertical-align: middle;\n",
       "    }\n",
       "\n",
       "    .dataframe tbody tr th {\n",
       "        vertical-align: top;\n",
       "    }\n",
       "\n",
       "    .dataframe thead th {\n",
       "        text-align: right;\n",
       "    }\n",
       "</style>\n",
       "<table border=\"1\" class=\"dataframe\">\n",
       "  <thead>\n",
       "    <tr style=\"text-align: right;\">\n",
       "      <th></th>\n",
       "      <th>Hypothesis</th>\n",
       "      <th>Reach</th>\n",
       "      <th>Impact</th>\n",
       "      <th>Confidence</th>\n",
       "      <th>Efforts</th>\n",
       "    </tr>\n",
       "  </thead>\n",
       "  <tbody>\n",
       "    <tr>\n",
       "      <th>count</th>\n",
       "      <td>9</td>\n",
       "      <td>9.000000</td>\n",
       "      <td>9.000000</td>\n",
       "      <td>9.000000</td>\n",
       "      <td>9.000000</td>\n",
       "    </tr>\n",
       "    <tr>\n",
       "      <th>unique</th>\n",
       "      <td>9</td>\n",
       "      <td>NaN</td>\n",
       "      <td>NaN</td>\n",
       "      <td>NaN</td>\n",
       "      <td>NaN</td>\n",
       "    </tr>\n",
       "    <tr>\n",
       "      <th>top</th>\n",
       "      <td>Добавить два новых канала привлечения трафика,...</td>\n",
       "      <td>NaN</td>\n",
       "      <td>NaN</td>\n",
       "      <td>NaN</td>\n",
       "      <td>NaN</td>\n",
       "    </tr>\n",
       "    <tr>\n",
       "      <th>freq</th>\n",
       "      <td>1</td>\n",
       "      <td>NaN</td>\n",
       "      <td>NaN</td>\n",
       "      <td>NaN</td>\n",
       "      <td>NaN</td>\n",
       "    </tr>\n",
       "    <tr>\n",
       "      <th>mean</th>\n",
       "      <td>NaN</td>\n",
       "      <td>4.777778</td>\n",
       "      <td>4.777778</td>\n",
       "      <td>5.555556</td>\n",
       "      <td>4.888889</td>\n",
       "    </tr>\n",
       "    <tr>\n",
       "      <th>std</th>\n",
       "      <td>NaN</td>\n",
       "      <td>3.153481</td>\n",
       "      <td>3.192874</td>\n",
       "      <td>3.045944</td>\n",
       "      <td>2.803767</td>\n",
       "    </tr>\n",
       "    <tr>\n",
       "      <th>min</th>\n",
       "      <td>NaN</td>\n",
       "      <td>1.000000</td>\n",
       "      <td>1.000000</td>\n",
       "      <td>1.000000</td>\n",
       "      <td>1.000000</td>\n",
       "    </tr>\n",
       "    <tr>\n",
       "      <th>25%</th>\n",
       "      <td>NaN</td>\n",
       "      <td>3.000000</td>\n",
       "      <td>3.000000</td>\n",
       "      <td>3.000000</td>\n",
       "      <td>3.000000</td>\n",
       "    </tr>\n",
       "    <tr>\n",
       "      <th>50%</th>\n",
       "      <td>NaN</td>\n",
       "      <td>3.000000</td>\n",
       "      <td>3.000000</td>\n",
       "      <td>7.000000</td>\n",
       "      <td>5.000000</td>\n",
       "    </tr>\n",
       "    <tr>\n",
       "      <th>75%</th>\n",
       "      <td>NaN</td>\n",
       "      <td>8.000000</td>\n",
       "      <td>7.000000</td>\n",
       "      <td>8.000000</td>\n",
       "      <td>6.000000</td>\n",
       "    </tr>\n",
       "    <tr>\n",
       "      <th>max</th>\n",
       "      <td>NaN</td>\n",
       "      <td>10.000000</td>\n",
       "      <td>10.000000</td>\n",
       "      <td>9.000000</td>\n",
       "      <td>10.000000</td>\n",
       "    </tr>\n",
       "  </tbody>\n",
       "</table>\n",
       "</div>"
      ],
      "text/plain": [
       "                                               Hypothesis      Reach  \\\n",
       "count                                                   9   9.000000   \n",
       "unique                                                  9        NaN   \n",
       "top     Добавить два новых канала привлечения трафика,...        NaN   \n",
       "freq                                                    1        NaN   \n",
       "mean                                                  NaN   4.777778   \n",
       "std                                                   NaN   3.153481   \n",
       "min                                                   NaN   1.000000   \n",
       "25%                                                   NaN   3.000000   \n",
       "50%                                                   NaN   3.000000   \n",
       "75%                                                   NaN   8.000000   \n",
       "max                                                   NaN  10.000000   \n",
       "\n",
       "           Impact  Confidence    Efforts  \n",
       "count    9.000000    9.000000   9.000000  \n",
       "unique        NaN         NaN        NaN  \n",
       "top           NaN         NaN        NaN  \n",
       "freq          NaN         NaN        NaN  \n",
       "mean     4.777778    5.555556   4.888889  \n",
       "std      3.192874    3.045944   2.803767  \n",
       "min      1.000000    1.000000   1.000000  \n",
       "25%      3.000000    3.000000   3.000000  \n",
       "50%      3.000000    7.000000   5.000000  \n",
       "75%      7.000000    8.000000   6.000000  \n",
       "max     10.000000    9.000000  10.000000  "
      ]
     },
     "metadata": {},
     "output_type": "display_data"
    },
    {
     "name": "stdout",
     "output_type": "stream",
     "text": [
      "\n",
      "Количество дубликатов:\n",
      " 0\n",
      "\n",
      "Количество пустых:\n",
      " Hypothesis    0\n",
      "Reach         0\n",
      "Impact        0\n",
      "Confidence    0\n",
      "Efforts       0\n",
      "dtype: int64\n"
     ]
    }
   ],
   "source": [
    "# информации по датасету hypothesis\n",
    "get_info(hypothesis)"
   ]
  },
  {
   "cell_type": "markdown",
   "metadata": {},
   "source": [
    "### На основании общей информации по датафрейму hypothesis:\n",
    "1. Привести названия столбцов к нижему регистру. "
   ]
  },
  {
   "cell_type": "code",
   "execution_count": 5,
   "metadata": {},
   "outputs": [
    {
     "data": {
      "text/html": [
       "<div>\n",
       "<style scoped>\n",
       "    .dataframe tbody tr th:only-of-type {\n",
       "        vertical-align: middle;\n",
       "    }\n",
       "\n",
       "    .dataframe tbody tr th {\n",
       "        vertical-align: top;\n",
       "    }\n",
       "\n",
       "    .dataframe thead th {\n",
       "        text-align: right;\n",
       "    }\n",
       "</style>\n",
       "<table border=\"1\" class=\"dataframe\">\n",
       "  <thead>\n",
       "    <tr style=\"text-align: right;\">\n",
       "      <th></th>\n",
       "      <th>transactionId</th>\n",
       "      <th>visitorId</th>\n",
       "      <th>date</th>\n",
       "      <th>revenue</th>\n",
       "      <th>group</th>\n",
       "    </tr>\n",
       "  </thead>\n",
       "  <tbody>\n",
       "    <tr>\n",
       "      <th>0</th>\n",
       "      <td>3667963787</td>\n",
       "      <td>3312258926</td>\n",
       "      <td>2019-08-15</td>\n",
       "      <td>1650</td>\n",
       "      <td>B</td>\n",
       "    </tr>\n",
       "    <tr>\n",
       "      <th>1</th>\n",
       "      <td>2804400009</td>\n",
       "      <td>3642806036</td>\n",
       "      <td>2019-08-15</td>\n",
       "      <td>730</td>\n",
       "      <td>B</td>\n",
       "    </tr>\n",
       "    <tr>\n",
       "      <th>2</th>\n",
       "      <td>2961555356</td>\n",
       "      <td>4069496402</td>\n",
       "      <td>2019-08-15</td>\n",
       "      <td>400</td>\n",
       "      <td>A</td>\n",
       "    </tr>\n",
       "    <tr>\n",
       "      <th>3</th>\n",
       "      <td>3797467345</td>\n",
       "      <td>1196621759</td>\n",
       "      <td>2019-08-15</td>\n",
       "      <td>9759</td>\n",
       "      <td>B</td>\n",
       "    </tr>\n",
       "    <tr>\n",
       "      <th>4</th>\n",
       "      <td>2282983706</td>\n",
       "      <td>2322279887</td>\n",
       "      <td>2019-08-15</td>\n",
       "      <td>2308</td>\n",
       "      <td>B</td>\n",
       "    </tr>\n",
       "  </tbody>\n",
       "</table>\n",
       "</div>"
      ],
      "text/plain": [
       "   transactionId   visitorId        date  revenue group\n",
       "0     3667963787  3312258926  2019-08-15     1650     B\n",
       "1     2804400009  3642806036  2019-08-15      730     B\n",
       "2     2961555356  4069496402  2019-08-15      400     A\n",
       "3     3797467345  1196621759  2019-08-15     9759     B\n",
       "4     2282983706  2322279887  2019-08-15     2308     B"
      ]
     },
     "metadata": {},
     "output_type": "display_data"
    },
    {
     "data": {
      "text/html": [
       "<div>\n",
       "<style scoped>\n",
       "    .dataframe tbody tr th:only-of-type {\n",
       "        vertical-align: middle;\n",
       "    }\n",
       "\n",
       "    .dataframe tbody tr th {\n",
       "        vertical-align: top;\n",
       "    }\n",
       "\n",
       "    .dataframe thead th {\n",
       "        text-align: right;\n",
       "    }\n",
       "</style>\n",
       "<table border=\"1\" class=\"dataframe\">\n",
       "  <thead>\n",
       "    <tr style=\"text-align: right;\">\n",
       "      <th></th>\n",
       "      <th>transactionId</th>\n",
       "      <th>visitorId</th>\n",
       "      <th>date</th>\n",
       "      <th>revenue</th>\n",
       "      <th>group</th>\n",
       "    </tr>\n",
       "  </thead>\n",
       "  <tbody>\n",
       "    <tr>\n",
       "      <th>1192</th>\n",
       "      <td>2662137336</td>\n",
       "      <td>3733762160</td>\n",
       "      <td>2019-08-14</td>\n",
       "      <td>6490</td>\n",
       "      <td>B</td>\n",
       "    </tr>\n",
       "    <tr>\n",
       "      <th>1193</th>\n",
       "      <td>2203539145</td>\n",
       "      <td>370388673</td>\n",
       "      <td>2019-08-14</td>\n",
       "      <td>3190</td>\n",
       "      <td>A</td>\n",
       "    </tr>\n",
       "    <tr>\n",
       "      <th>1194</th>\n",
       "      <td>1807773912</td>\n",
       "      <td>573423106</td>\n",
       "      <td>2019-08-14</td>\n",
       "      <td>10550</td>\n",
       "      <td>A</td>\n",
       "    </tr>\n",
       "    <tr>\n",
       "      <th>1195</th>\n",
       "      <td>1947021204</td>\n",
       "      <td>1614305549</td>\n",
       "      <td>2019-08-14</td>\n",
       "      <td>100</td>\n",
       "      <td>A</td>\n",
       "    </tr>\n",
       "    <tr>\n",
       "      <th>1196</th>\n",
       "      <td>3936777065</td>\n",
       "      <td>2108080724</td>\n",
       "      <td>2019-08-15</td>\n",
       "      <td>202740</td>\n",
       "      <td>B</td>\n",
       "    </tr>\n",
       "  </tbody>\n",
       "</table>\n",
       "</div>"
      ],
      "text/plain": [
       "      transactionId   visitorId        date  revenue group\n",
       "1192     2662137336  3733762160  2019-08-14     6490     B\n",
       "1193     2203539145   370388673  2019-08-14     3190     A\n",
       "1194     1807773912   573423106  2019-08-14    10550     A\n",
       "1195     1947021204  1614305549  2019-08-14      100     A\n",
       "1196     3936777065  2108080724  2019-08-15   202740     B"
      ]
     },
     "metadata": {},
     "output_type": "display_data"
    },
    {
     "name": "stdout",
     "output_type": "stream",
     "text": [
      "<class 'pandas.core.frame.DataFrame'>\n",
      "RangeIndex: 1197 entries, 0 to 1196\n",
      "Data columns (total 5 columns):\n",
      " #   Column         Non-Null Count  Dtype \n",
      "---  ------         --------------  ----- \n",
      " 0   transactionId  1197 non-null   int64 \n",
      " 1   visitorId      1197 non-null   int64 \n",
      " 2   date           1197 non-null   object\n",
      " 3   revenue        1197 non-null   int64 \n",
      " 4   group          1197 non-null   object\n",
      "dtypes: int64(3), object(2)\n",
      "memory usage: 46.9+ KB\n",
      "None\n"
     ]
    },
    {
     "data": {
      "text/html": [
       "<div>\n",
       "<style scoped>\n",
       "    .dataframe tbody tr th:only-of-type {\n",
       "        vertical-align: middle;\n",
       "    }\n",
       "\n",
       "    .dataframe tbody tr th {\n",
       "        vertical-align: top;\n",
       "    }\n",
       "\n",
       "    .dataframe thead th {\n",
       "        text-align: right;\n",
       "    }\n",
       "</style>\n",
       "<table border=\"1\" class=\"dataframe\">\n",
       "  <thead>\n",
       "    <tr style=\"text-align: right;\">\n",
       "      <th></th>\n",
       "      <th>transactionId</th>\n",
       "      <th>visitorId</th>\n",
       "      <th>date</th>\n",
       "      <th>revenue</th>\n",
       "      <th>group</th>\n",
       "    </tr>\n",
       "  </thead>\n",
       "  <tbody>\n",
       "    <tr>\n",
       "      <th>count</th>\n",
       "      <td>1.197000e+03</td>\n",
       "      <td>1.197000e+03</td>\n",
       "      <td>1197</td>\n",
       "      <td>1.197000e+03</td>\n",
       "      <td>1197</td>\n",
       "    </tr>\n",
       "    <tr>\n",
       "      <th>unique</th>\n",
       "      <td>NaN</td>\n",
       "      <td>NaN</td>\n",
       "      <td>31</td>\n",
       "      <td>NaN</td>\n",
       "      <td>2</td>\n",
       "    </tr>\n",
       "    <tr>\n",
       "      <th>top</th>\n",
       "      <td>NaN</td>\n",
       "      <td>NaN</td>\n",
       "      <td>2019-08-05</td>\n",
       "      <td>NaN</td>\n",
       "      <td>B</td>\n",
       "    </tr>\n",
       "    <tr>\n",
       "      <th>freq</th>\n",
       "      <td>NaN</td>\n",
       "      <td>NaN</td>\n",
       "      <td>48</td>\n",
       "      <td>NaN</td>\n",
       "      <td>640</td>\n",
       "    </tr>\n",
       "    <tr>\n",
       "      <th>mean</th>\n",
       "      <td>2.155621e+09</td>\n",
       "      <td>2.165960e+09</td>\n",
       "      <td>NaN</td>\n",
       "      <td>8.348006e+03</td>\n",
       "      <td>NaN</td>\n",
       "    </tr>\n",
       "    <tr>\n",
       "      <th>std</th>\n",
       "      <td>1.229085e+09</td>\n",
       "      <td>1.236014e+09</td>\n",
       "      <td>NaN</td>\n",
       "      <td>3.919113e+04</td>\n",
       "      <td>NaN</td>\n",
       "    </tr>\n",
       "    <tr>\n",
       "      <th>min</th>\n",
       "      <td>1.062393e+06</td>\n",
       "      <td>5.114589e+06</td>\n",
       "      <td>NaN</td>\n",
       "      <td>5.000000e+01</td>\n",
       "      <td>NaN</td>\n",
       "    </tr>\n",
       "    <tr>\n",
       "      <th>25%</th>\n",
       "      <td>1.166776e+09</td>\n",
       "      <td>1.111826e+09</td>\n",
       "      <td>NaN</td>\n",
       "      <td>1.220000e+03</td>\n",
       "      <td>NaN</td>\n",
       "    </tr>\n",
       "    <tr>\n",
       "      <th>50%</th>\n",
       "      <td>2.145194e+09</td>\n",
       "      <td>2.217985e+09</td>\n",
       "      <td>NaN</td>\n",
       "      <td>2.978000e+03</td>\n",
       "      <td>NaN</td>\n",
       "    </tr>\n",
       "    <tr>\n",
       "      <th>75%</th>\n",
       "      <td>3.237740e+09</td>\n",
       "      <td>3.177606e+09</td>\n",
       "      <td>NaN</td>\n",
       "      <td>8.290000e+03</td>\n",
       "      <td>NaN</td>\n",
       "    </tr>\n",
       "    <tr>\n",
       "      <th>max</th>\n",
       "      <td>4.293856e+09</td>\n",
       "      <td>4.283872e+09</td>\n",
       "      <td>NaN</td>\n",
       "      <td>1.294500e+06</td>\n",
       "      <td>NaN</td>\n",
       "    </tr>\n",
       "  </tbody>\n",
       "</table>\n",
       "</div>"
      ],
      "text/plain": [
       "        transactionId     visitorId        date       revenue group\n",
       "count    1.197000e+03  1.197000e+03        1197  1.197000e+03  1197\n",
       "unique            NaN           NaN          31           NaN     2\n",
       "top               NaN           NaN  2019-08-05           NaN     B\n",
       "freq              NaN           NaN          48           NaN   640\n",
       "mean     2.155621e+09  2.165960e+09         NaN  8.348006e+03   NaN\n",
       "std      1.229085e+09  1.236014e+09         NaN  3.919113e+04   NaN\n",
       "min      1.062393e+06  5.114589e+06         NaN  5.000000e+01   NaN\n",
       "25%      1.166776e+09  1.111826e+09         NaN  1.220000e+03   NaN\n",
       "50%      2.145194e+09  2.217985e+09         NaN  2.978000e+03   NaN\n",
       "75%      3.237740e+09  3.177606e+09         NaN  8.290000e+03   NaN\n",
       "max      4.293856e+09  4.283872e+09         NaN  1.294500e+06   NaN"
      ]
     },
     "metadata": {},
     "output_type": "display_data"
    },
    {
     "name": "stdout",
     "output_type": "stream",
     "text": [
      "\n",
      "Количество дубликатов:\n",
      " 0\n",
      "\n",
      "Количество пустых:\n",
      " transactionId    0\n",
      "visitorId        0\n",
      "date             0\n",
      "revenue          0\n",
      "group            0\n",
      "dtype: int64\n"
     ]
    }
   ],
   "source": [
    "# информации по датасету orders\n",
    "get_info(orders)"
   ]
  },
  {
   "cell_type": "code",
   "execution_count": 6,
   "metadata": {
    "scrolled": true
   },
   "outputs": [
    {
     "data": {
      "text/html": [
       "<div>\n",
       "<style scoped>\n",
       "    .dataframe tbody tr th:only-of-type {\n",
       "        vertical-align: middle;\n",
       "    }\n",
       "\n",
       "    .dataframe tbody tr th {\n",
       "        vertical-align: top;\n",
       "    }\n",
       "\n",
       "    .dataframe thead th {\n",
       "        text-align: right;\n",
       "    }\n",
       "</style>\n",
       "<table border=\"1\" class=\"dataframe\">\n",
       "  <thead>\n",
       "    <tr style=\"text-align: right;\">\n",
       "      <th></th>\n",
       "      <th>visitorId</th>\n",
       "    </tr>\n",
       "    <tr>\n",
       "      <th>group</th>\n",
       "      <th></th>\n",
       "    </tr>\n",
       "  </thead>\n",
       "  <tbody>\n",
       "    <tr>\n",
       "      <th>A</th>\n",
       "      <td>503</td>\n",
       "    </tr>\n",
       "    <tr>\n",
       "      <th>B</th>\n",
       "      <td>586</td>\n",
       "    </tr>\n",
       "  </tbody>\n",
       "</table>\n",
       "</div>"
      ],
      "text/plain": [
       "       visitorId\n",
       "group           \n",
       "A            503\n",
       "B            586"
      ]
     },
     "execution_count": 6,
     "metadata": {},
     "output_type": "execute_result"
    }
   ],
   "source": [
    "orders.groupby('group').agg({'visitorId':'nunique'})"
   ]
  },
  {
   "cell_type": "markdown",
   "metadata": {},
   "source": [
    "### На основании общей информации по датафрейму orders сделал следующие выводы:\n",
    "1. В orders дубликатов и пустых нет;\n",
    "2. Столбец `date` необходимо перевести в формат datetime;\n",
    "3. Есть аномалии в столбце `revenue`, изменять не буду, т.к. необходимы в анализе и влияют ли они на его результат.\n",
    "4. Группа A состоит из 503 пользователей, а В из 586 пользователей. Может показаться, что это может влиять на анализ, но мы используем в анализе усредненные показатели(средний чек, средне кол-во заказов)\n"
   ]
  },
  {
   "cell_type": "code",
   "execution_count": 7,
   "metadata": {
    "scrolled": true
   },
   "outputs": [
    {
     "data": {
      "text/html": [
       "<div>\n",
       "<style scoped>\n",
       "    .dataframe tbody tr th:only-of-type {\n",
       "        vertical-align: middle;\n",
       "    }\n",
       "\n",
       "    .dataframe tbody tr th {\n",
       "        vertical-align: top;\n",
       "    }\n",
       "\n",
       "    .dataframe thead th {\n",
       "        text-align: right;\n",
       "    }\n",
       "</style>\n",
       "<table border=\"1\" class=\"dataframe\">\n",
       "  <thead>\n",
       "    <tr style=\"text-align: right;\">\n",
       "      <th></th>\n",
       "      <th>date</th>\n",
       "      <th>group</th>\n",
       "      <th>visitors</th>\n",
       "    </tr>\n",
       "  </thead>\n",
       "  <tbody>\n",
       "    <tr>\n",
       "      <th>0</th>\n",
       "      <td>2019-08-01</td>\n",
       "      <td>A</td>\n",
       "      <td>719</td>\n",
       "    </tr>\n",
       "    <tr>\n",
       "      <th>1</th>\n",
       "      <td>2019-08-02</td>\n",
       "      <td>A</td>\n",
       "      <td>619</td>\n",
       "    </tr>\n",
       "    <tr>\n",
       "      <th>2</th>\n",
       "      <td>2019-08-03</td>\n",
       "      <td>A</td>\n",
       "      <td>507</td>\n",
       "    </tr>\n",
       "    <tr>\n",
       "      <th>3</th>\n",
       "      <td>2019-08-04</td>\n",
       "      <td>A</td>\n",
       "      <td>717</td>\n",
       "    </tr>\n",
       "    <tr>\n",
       "      <th>4</th>\n",
       "      <td>2019-08-05</td>\n",
       "      <td>A</td>\n",
       "      <td>756</td>\n",
       "    </tr>\n",
       "  </tbody>\n",
       "</table>\n",
       "</div>"
      ],
      "text/plain": [
       "         date group  visitors\n",
       "0  2019-08-01     A       719\n",
       "1  2019-08-02     A       619\n",
       "2  2019-08-03     A       507\n",
       "3  2019-08-04     A       717\n",
       "4  2019-08-05     A       756"
      ]
     },
     "metadata": {},
     "output_type": "display_data"
    },
    {
     "data": {
      "text/html": [
       "<div>\n",
       "<style scoped>\n",
       "    .dataframe tbody tr th:only-of-type {\n",
       "        vertical-align: middle;\n",
       "    }\n",
       "\n",
       "    .dataframe tbody tr th {\n",
       "        vertical-align: top;\n",
       "    }\n",
       "\n",
       "    .dataframe thead th {\n",
       "        text-align: right;\n",
       "    }\n",
       "</style>\n",
       "<table border=\"1\" class=\"dataframe\">\n",
       "  <thead>\n",
       "    <tr style=\"text-align: right;\">\n",
       "      <th></th>\n",
       "      <th>date</th>\n",
       "      <th>group</th>\n",
       "      <th>visitors</th>\n",
       "    </tr>\n",
       "  </thead>\n",
       "  <tbody>\n",
       "    <tr>\n",
       "      <th>57</th>\n",
       "      <td>2019-08-27</td>\n",
       "      <td>B</td>\n",
       "      <td>720</td>\n",
       "    </tr>\n",
       "    <tr>\n",
       "      <th>58</th>\n",
       "      <td>2019-08-28</td>\n",
       "      <td>B</td>\n",
       "      <td>654</td>\n",
       "    </tr>\n",
       "    <tr>\n",
       "      <th>59</th>\n",
       "      <td>2019-08-29</td>\n",
       "      <td>B</td>\n",
       "      <td>531</td>\n",
       "    </tr>\n",
       "    <tr>\n",
       "      <th>60</th>\n",
       "      <td>2019-08-30</td>\n",
       "      <td>B</td>\n",
       "      <td>490</td>\n",
       "    </tr>\n",
       "    <tr>\n",
       "      <th>61</th>\n",
       "      <td>2019-08-31</td>\n",
       "      <td>B</td>\n",
       "      <td>718</td>\n",
       "    </tr>\n",
       "  </tbody>\n",
       "</table>\n",
       "</div>"
      ],
      "text/plain": [
       "          date group  visitors\n",
       "57  2019-08-27     B       720\n",
       "58  2019-08-28     B       654\n",
       "59  2019-08-29     B       531\n",
       "60  2019-08-30     B       490\n",
       "61  2019-08-31     B       718"
      ]
     },
     "metadata": {},
     "output_type": "display_data"
    },
    {
     "name": "stdout",
     "output_type": "stream",
     "text": [
      "<class 'pandas.core.frame.DataFrame'>\n",
      "RangeIndex: 62 entries, 0 to 61\n",
      "Data columns (total 3 columns):\n",
      " #   Column    Non-Null Count  Dtype \n",
      "---  ------    --------------  ----- \n",
      " 0   date      62 non-null     object\n",
      " 1   group     62 non-null     object\n",
      " 2   visitors  62 non-null     int64 \n",
      "dtypes: int64(1), object(2)\n",
      "memory usage: 1.6+ KB\n",
      "None\n"
     ]
    },
    {
     "data": {
      "text/html": [
       "<div>\n",
       "<style scoped>\n",
       "    .dataframe tbody tr th:only-of-type {\n",
       "        vertical-align: middle;\n",
       "    }\n",
       "\n",
       "    .dataframe tbody tr th {\n",
       "        vertical-align: top;\n",
       "    }\n",
       "\n",
       "    .dataframe thead th {\n",
       "        text-align: right;\n",
       "    }\n",
       "</style>\n",
       "<table border=\"1\" class=\"dataframe\">\n",
       "  <thead>\n",
       "    <tr style=\"text-align: right;\">\n",
       "      <th></th>\n",
       "      <th>date</th>\n",
       "      <th>group</th>\n",
       "      <th>visitors</th>\n",
       "    </tr>\n",
       "  </thead>\n",
       "  <tbody>\n",
       "    <tr>\n",
       "      <th>count</th>\n",
       "      <td>62</td>\n",
       "      <td>62</td>\n",
       "      <td>62.000000</td>\n",
       "    </tr>\n",
       "    <tr>\n",
       "      <th>unique</th>\n",
       "      <td>31</td>\n",
       "      <td>2</td>\n",
       "      <td>NaN</td>\n",
       "    </tr>\n",
       "    <tr>\n",
       "      <th>top</th>\n",
       "      <td>2019-08-01</td>\n",
       "      <td>A</td>\n",
       "      <td>NaN</td>\n",
       "    </tr>\n",
       "    <tr>\n",
       "      <th>freq</th>\n",
       "      <td>2</td>\n",
       "      <td>31</td>\n",
       "      <td>NaN</td>\n",
       "    </tr>\n",
       "    <tr>\n",
       "      <th>mean</th>\n",
       "      <td>NaN</td>\n",
       "      <td>NaN</td>\n",
       "      <td>607.290323</td>\n",
       "    </tr>\n",
       "    <tr>\n",
       "      <th>std</th>\n",
       "      <td>NaN</td>\n",
       "      <td>NaN</td>\n",
       "      <td>114.400560</td>\n",
       "    </tr>\n",
       "    <tr>\n",
       "      <th>min</th>\n",
       "      <td>NaN</td>\n",
       "      <td>NaN</td>\n",
       "      <td>361.000000</td>\n",
       "    </tr>\n",
       "    <tr>\n",
       "      <th>25%</th>\n",
       "      <td>NaN</td>\n",
       "      <td>NaN</td>\n",
       "      <td>534.000000</td>\n",
       "    </tr>\n",
       "    <tr>\n",
       "      <th>50%</th>\n",
       "      <td>NaN</td>\n",
       "      <td>NaN</td>\n",
       "      <td>624.500000</td>\n",
       "    </tr>\n",
       "    <tr>\n",
       "      <th>75%</th>\n",
       "      <td>NaN</td>\n",
       "      <td>NaN</td>\n",
       "      <td>710.500000</td>\n",
       "    </tr>\n",
       "    <tr>\n",
       "      <th>max</th>\n",
       "      <td>NaN</td>\n",
       "      <td>NaN</td>\n",
       "      <td>770.000000</td>\n",
       "    </tr>\n",
       "  </tbody>\n",
       "</table>\n",
       "</div>"
      ],
      "text/plain": [
       "              date group    visitors\n",
       "count           62    62   62.000000\n",
       "unique          31     2         NaN\n",
       "top     2019-08-01     A         NaN\n",
       "freq             2    31         NaN\n",
       "mean           NaN   NaN  607.290323\n",
       "std            NaN   NaN  114.400560\n",
       "min            NaN   NaN  361.000000\n",
       "25%            NaN   NaN  534.000000\n",
       "50%            NaN   NaN  624.500000\n",
       "75%            NaN   NaN  710.500000\n",
       "max            NaN   NaN  770.000000"
      ]
     },
     "metadata": {},
     "output_type": "display_data"
    },
    {
     "name": "stdout",
     "output_type": "stream",
     "text": [
      "\n",
      "Количество дубликатов:\n",
      " 0\n",
      "\n",
      "Количество пустых:\n",
      " date        0\n",
      "group       0\n",
      "visitors    0\n",
      "dtype: int64\n"
     ]
    }
   ],
   "source": [
    "# информации по датасету visitors\n",
    "get_info(visitors)"
   ]
  },
  {
   "cell_type": "markdown",
   "metadata": {},
   "source": [
    "### На основании общей информации по датафрейму visitors сделал следующие выводы:\n",
    "1. В visitors дубликатов и пустых нет;\n",
    "2. Столбец `date` необходимо перевести в формат datetime."
   ]
  },
  {
   "cell_type": "markdown",
   "metadata": {},
   "source": [
    "## Подготовка данных"
   ]
  },
  {
   "cell_type": "code",
   "execution_count": 8,
   "metadata": {},
   "outputs": [],
   "source": [
    "# приведем названия столбцов к нижнему регистру \n",
    "hypothesis.columns = map(str.lower, hypothesis.columns)"
   ]
  },
  {
   "cell_type": "code",
   "execution_count": 9,
   "metadata": {},
   "outputs": [],
   "source": [
    "# Столбец date переведим в формат datetime\n",
    "orders['date'] = orders['date'].map(lambda x: dt.datetime.strptime(x, '%Y-%m-%d'))"
   ]
  },
  {
   "cell_type": "code",
   "execution_count": 10,
   "metadata": {},
   "outputs": [],
   "source": [
    "# Столбец date переведим в формат datetime\n",
    "visitors['date'] = visitors['date'].map(lambda x: dt.datetime.strptime(x, '%Y-%m-%d'))"
   ]
  },
  {
   "cell_type": "code",
   "execution_count": 11,
   "metadata": {
    "scrolled": true
   },
   "outputs": [
    {
     "data": {
      "text/plain": [
       "58"
      ]
     },
     "execution_count": 11,
     "metadata": {},
     "output_type": "execute_result"
    }
   ],
   "source": [
    "# считаю по visitorId кол-во заказов по группам и оставляю тех, у которых в обоих группах более одного заказа.\n",
    "user_in_both_groups = orders.pivot_table(index='visitorId', columns = 'group', values = 'date', aggfunc = 'count').query('A >=1 and B >= 1')\n",
    "len(user_in_both_groups)"
   ]
  },
  {
   "cell_type": "markdown",
   "metadata": {},
   "source": [
    "Пользователей, находяшихся одновремено в обоих группах, 58. Их можно убрать следующим кодом:"
   ]
  },
  {
   "cell_type": "code",
   "execution_count": 12,
   "metadata": {
    "scrolled": false
   },
   "outputs": [
    {
     "data": {
      "text/html": [
       "<div>\n",
       "<style scoped>\n",
       "    .dataframe tbody tr th:only-of-type {\n",
       "        vertical-align: middle;\n",
       "    }\n",
       "\n",
       "    .dataframe tbody tr th {\n",
       "        vertical-align: top;\n",
       "    }\n",
       "\n",
       "    .dataframe thead th {\n",
       "        text-align: right;\n",
       "    }\n",
       "</style>\n",
       "<table border=\"1\" class=\"dataframe\">\n",
       "  <thead>\n",
       "    <tr style=\"text-align: right;\">\n",
       "      <th></th>\n",
       "      <th>transactionId</th>\n",
       "      <th>visitorId</th>\n",
       "      <th>date</th>\n",
       "      <th>revenue</th>\n",
       "      <th>group</th>\n",
       "    </tr>\n",
       "  </thead>\n",
       "  <tbody>\n",
       "    <tr>\n",
       "      <th>0</th>\n",
       "      <td>3667963787</td>\n",
       "      <td>3312258926</td>\n",
       "      <td>2019-08-15</td>\n",
       "      <td>1650</td>\n",
       "      <td>B</td>\n",
       "    </tr>\n",
       "    <tr>\n",
       "      <th>1</th>\n",
       "      <td>2804400009</td>\n",
       "      <td>3642806036</td>\n",
       "      <td>2019-08-15</td>\n",
       "      <td>730</td>\n",
       "      <td>B</td>\n",
       "    </tr>\n",
       "    <tr>\n",
       "      <th>3</th>\n",
       "      <td>3797467345</td>\n",
       "      <td>1196621759</td>\n",
       "      <td>2019-08-15</td>\n",
       "      <td>9759</td>\n",
       "      <td>B</td>\n",
       "    </tr>\n",
       "    <tr>\n",
       "      <th>4</th>\n",
       "      <td>2282983706</td>\n",
       "      <td>2322279887</td>\n",
       "      <td>2019-08-15</td>\n",
       "      <td>2308</td>\n",
       "      <td>B</td>\n",
       "    </tr>\n",
       "    <tr>\n",
       "      <th>5</th>\n",
       "      <td>182168103</td>\n",
       "      <td>935554773</td>\n",
       "      <td>2019-08-15</td>\n",
       "      <td>2210</td>\n",
       "      <td>B</td>\n",
       "    </tr>\n",
       "    <tr>\n",
       "      <th>...</th>\n",
       "      <td>...</td>\n",
       "      <td>...</td>\n",
       "      <td>...</td>\n",
       "      <td>...</td>\n",
       "      <td>...</td>\n",
       "    </tr>\n",
       "    <tr>\n",
       "      <th>1191</th>\n",
       "      <td>3592955527</td>\n",
       "      <td>608641596</td>\n",
       "      <td>2019-08-14</td>\n",
       "      <td>16490</td>\n",
       "      <td>B</td>\n",
       "    </tr>\n",
       "    <tr>\n",
       "      <th>1192</th>\n",
       "      <td>2662137336</td>\n",
       "      <td>3733762160</td>\n",
       "      <td>2019-08-14</td>\n",
       "      <td>6490</td>\n",
       "      <td>B</td>\n",
       "    </tr>\n",
       "    <tr>\n",
       "      <th>1193</th>\n",
       "      <td>2203539145</td>\n",
       "      <td>370388673</td>\n",
       "      <td>2019-08-14</td>\n",
       "      <td>3190</td>\n",
       "      <td>A</td>\n",
       "    </tr>\n",
       "    <tr>\n",
       "      <th>1194</th>\n",
       "      <td>1807773912</td>\n",
       "      <td>573423106</td>\n",
       "      <td>2019-08-14</td>\n",
       "      <td>10550</td>\n",
       "      <td>A</td>\n",
       "    </tr>\n",
       "    <tr>\n",
       "      <th>1196</th>\n",
       "      <td>3936777065</td>\n",
       "      <td>2108080724</td>\n",
       "      <td>2019-08-15</td>\n",
       "      <td>202740</td>\n",
       "      <td>B</td>\n",
       "    </tr>\n",
       "  </tbody>\n",
       "</table>\n",
       "<p>1016 rows × 5 columns</p>\n",
       "</div>"
      ],
      "text/plain": [
       "      transactionId   visitorId       date  revenue group\n",
       "0        3667963787  3312258926 2019-08-15     1650     B\n",
       "1        2804400009  3642806036 2019-08-15      730     B\n",
       "3        3797467345  1196621759 2019-08-15     9759     B\n",
       "4        2282983706  2322279887 2019-08-15     2308     B\n",
       "5         182168103   935554773 2019-08-15     2210     B\n",
       "...             ...         ...        ...      ...   ...\n",
       "1191     3592955527   608641596 2019-08-14    16490     B\n",
       "1192     2662137336  3733762160 2019-08-14     6490     B\n",
       "1193     2203539145   370388673 2019-08-14     3190     A\n",
       "1194     1807773912   573423106 2019-08-14    10550     A\n",
       "1196     3936777065  2108080724 2019-08-15   202740     B\n",
       "\n",
       "[1016 rows x 5 columns]"
      ]
     },
     "execution_count": 12,
     "metadata": {},
     "output_type": "execute_result"
    }
   ],
   "source": [
    "# убираем пользователей, находяшихся одновремено в обоих группах\n",
    "orders[np.logical_not(orders['visitorId'].isin(user_in_both_groups.index))]"
   ]
  },
  {
   "cell_type": "markdown",
   "metadata": {},
   "source": [
    "## Часть 1. Приоритизация гипотез:"
   ]
  },
  {
   "cell_type": "code",
   "execution_count": 13,
   "metadata": {},
   "outputs": [],
   "source": [
    "# установим отображение полностью описания гипотез\n",
    "pd.set_option('max_colwidth', 800)"
   ]
  },
  {
   "cell_type": "code",
   "execution_count": 14,
   "metadata": {
    "scrolled": true
   },
   "outputs": [
    {
     "data": {
      "text/html": [
       "<div>\n",
       "<style scoped>\n",
       "    .dataframe tbody tr th:only-of-type {\n",
       "        vertical-align: middle;\n",
       "    }\n",
       "\n",
       "    .dataframe tbody tr th {\n",
       "        vertical-align: top;\n",
       "    }\n",
       "\n",
       "    .dataframe thead th {\n",
       "        text-align: right;\n",
       "    }\n",
       "</style>\n",
       "<table border=\"1\" class=\"dataframe\">\n",
       "  <thead>\n",
       "    <tr style=\"text-align: right;\">\n",
       "      <th></th>\n",
       "      <th>hypothesis</th>\n",
       "      <th>reach</th>\n",
       "      <th>impact</th>\n",
       "      <th>confidence</th>\n",
       "      <th>efforts</th>\n",
       "    </tr>\n",
       "  </thead>\n",
       "  <tbody>\n",
       "    <tr>\n",
       "      <th>0</th>\n",
       "      <td>Добавить два новых канала привлечения трафика, что позволит привлекать на 30% больше пользователей</td>\n",
       "      <td>3</td>\n",
       "      <td>10</td>\n",
       "      <td>8</td>\n",
       "      <td>6</td>\n",
       "    </tr>\n",
       "    <tr>\n",
       "      <th>1</th>\n",
       "      <td>Запустить собственную службу доставки, что сократит срок доставки заказов</td>\n",
       "      <td>2</td>\n",
       "      <td>5</td>\n",
       "      <td>4</td>\n",
       "      <td>10</td>\n",
       "    </tr>\n",
       "    <tr>\n",
       "      <th>2</th>\n",
       "      <td>Добавить блоки рекомендаций товаров на сайт интернет магазина, чтобы повысить конверсию и средний чек заказа</td>\n",
       "      <td>8</td>\n",
       "      <td>3</td>\n",
       "      <td>7</td>\n",
       "      <td>3</td>\n",
       "    </tr>\n",
       "    <tr>\n",
       "      <th>3</th>\n",
       "      <td>Изменить структура категорий, что увеличит конверсию, т.к. пользователи быстрее найдут нужный товар</td>\n",
       "      <td>8</td>\n",
       "      <td>3</td>\n",
       "      <td>3</td>\n",
       "      <td>8</td>\n",
       "    </tr>\n",
       "    <tr>\n",
       "      <th>4</th>\n",
       "      <td>Изменить цвет фона главной страницы, чтобы увеличить вовлеченность пользователей</td>\n",
       "      <td>3</td>\n",
       "      <td>1</td>\n",
       "      <td>1</td>\n",
       "      <td>1</td>\n",
       "    </tr>\n",
       "    <tr>\n",
       "      <th>5</th>\n",
       "      <td>Добавить страницу отзывов клиентов о магазине, что позволит увеличить количество заказов</td>\n",
       "      <td>3</td>\n",
       "      <td>2</td>\n",
       "      <td>2</td>\n",
       "      <td>3</td>\n",
       "    </tr>\n",
       "    <tr>\n",
       "      <th>6</th>\n",
       "      <td>Показать на главной странице баннеры с актуальными акциями и распродажами, чтобы увеличить конверсию</td>\n",
       "      <td>5</td>\n",
       "      <td>3</td>\n",
       "      <td>8</td>\n",
       "      <td>3</td>\n",
       "    </tr>\n",
       "    <tr>\n",
       "      <th>7</th>\n",
       "      <td>Добавить форму подписки на все основные страницы, чтобы собрать базу клиентов для email-рассылок</td>\n",
       "      <td>10</td>\n",
       "      <td>7</td>\n",
       "      <td>8</td>\n",
       "      <td>5</td>\n",
       "    </tr>\n",
       "    <tr>\n",
       "      <th>8</th>\n",
       "      <td>Запустить акцию, дающую скидку на товар в день рождения</td>\n",
       "      <td>1</td>\n",
       "      <td>9</td>\n",
       "      <td>9</td>\n",
       "      <td>5</td>\n",
       "    </tr>\n",
       "  </tbody>\n",
       "</table>\n",
       "</div>"
      ],
      "text/plain": [
       "                                                                                                     hypothesis  \\\n",
       "0            Добавить два новых канала привлечения трафика, что позволит привлекать на 30% больше пользователей   \n",
       "1                                     Запустить собственную службу доставки, что сократит срок доставки заказов   \n",
       "2  Добавить блоки рекомендаций товаров на сайт интернет магазина, чтобы повысить конверсию и средний чек заказа   \n",
       "3           Изменить структура категорий, что увеличит конверсию, т.к. пользователи быстрее найдут нужный товар   \n",
       "4                              Изменить цвет фона главной страницы, чтобы увеличить вовлеченность пользователей   \n",
       "5                      Добавить страницу отзывов клиентов о магазине, что позволит увеличить количество заказов   \n",
       "6          Показать на главной странице баннеры с актуальными акциями и распродажами, чтобы увеличить конверсию   \n",
       "7              Добавить форму подписки на все основные страницы, чтобы собрать базу клиентов для email-рассылок   \n",
       "8                                                       Запустить акцию, дающую скидку на товар в день рождения   \n",
       "\n",
       "   reach  impact  confidence  efforts  \n",
       "0      3      10           8        6  \n",
       "1      2       5           4       10  \n",
       "2      8       3           7        3  \n",
       "3      8       3           3        8  \n",
       "4      3       1           1        1  \n",
       "5      3       2           2        3  \n",
       "6      5       3           8        3  \n",
       "7     10       7           8        5  \n",
       "8      1       9           9        5  "
      ]
     },
     "execution_count": 14,
     "metadata": {},
     "output_type": "execute_result"
    }
   ],
   "source": [
    "hypothesis"
   ]
  },
  {
   "cell_type": "markdown",
   "metadata": {},
   "source": [
    "Расчет ICE произведем по формуле: $$ICE = \\frac{Impact * Confidence}{Efforts}$$"
   ]
  },
  {
   "cell_type": "code",
   "execution_count": 15,
   "metadata": {},
   "outputs": [
    {
     "data": {
      "text/html": [
       "<div>\n",
       "<style scoped>\n",
       "    .dataframe tbody tr th:only-of-type {\n",
       "        vertical-align: middle;\n",
       "    }\n",
       "\n",
       "    .dataframe tbody tr th {\n",
       "        vertical-align: top;\n",
       "    }\n",
       "\n",
       "    .dataframe thead th {\n",
       "        text-align: right;\n",
       "    }\n",
       "</style>\n",
       "<table border=\"1\" class=\"dataframe\">\n",
       "  <thead>\n",
       "    <tr style=\"text-align: right;\">\n",
       "      <th></th>\n",
       "      <th>hypothesis</th>\n",
       "      <th>ICE</th>\n",
       "    </tr>\n",
       "  </thead>\n",
       "  <tbody>\n",
       "    <tr>\n",
       "      <th>8</th>\n",
       "      <td>Запустить акцию, дающую скидку на товар в день рождения</td>\n",
       "      <td>16.20</td>\n",
       "    </tr>\n",
       "    <tr>\n",
       "      <th>0</th>\n",
       "      <td>Добавить два новых канала привлечения трафика, что позволит привлекать на 30% больше пользователей</td>\n",
       "      <td>13.33</td>\n",
       "    </tr>\n",
       "    <tr>\n",
       "      <th>7</th>\n",
       "      <td>Добавить форму подписки на все основные страницы, чтобы собрать базу клиентов для email-рассылок</td>\n",
       "      <td>11.20</td>\n",
       "    </tr>\n",
       "    <tr>\n",
       "      <th>6</th>\n",
       "      <td>Показать на главной странице баннеры с актуальными акциями и распродажами, чтобы увеличить конверсию</td>\n",
       "      <td>8.00</td>\n",
       "    </tr>\n",
       "    <tr>\n",
       "      <th>2</th>\n",
       "      <td>Добавить блоки рекомендаций товаров на сайт интернет магазина, чтобы повысить конверсию и средний чек заказа</td>\n",
       "      <td>7.00</td>\n",
       "    </tr>\n",
       "    <tr>\n",
       "      <th>1</th>\n",
       "      <td>Запустить собственную службу доставки, что сократит срок доставки заказов</td>\n",
       "      <td>2.00</td>\n",
       "    </tr>\n",
       "    <tr>\n",
       "      <th>5</th>\n",
       "      <td>Добавить страницу отзывов клиентов о магазине, что позволит увеличить количество заказов</td>\n",
       "      <td>1.33</td>\n",
       "    </tr>\n",
       "    <tr>\n",
       "      <th>3</th>\n",
       "      <td>Изменить структура категорий, что увеличит конверсию, т.к. пользователи быстрее найдут нужный товар</td>\n",
       "      <td>1.12</td>\n",
       "    </tr>\n",
       "    <tr>\n",
       "      <th>4</th>\n",
       "      <td>Изменить цвет фона главной страницы, чтобы увеличить вовлеченность пользователей</td>\n",
       "      <td>1.00</td>\n",
       "    </tr>\n",
       "  </tbody>\n",
       "</table>\n",
       "</div>"
      ],
      "text/plain": [
       "                                                                                                     hypothesis  \\\n",
       "8                                                       Запустить акцию, дающую скидку на товар в день рождения   \n",
       "0            Добавить два новых канала привлечения трафика, что позволит привлекать на 30% больше пользователей   \n",
       "7              Добавить форму подписки на все основные страницы, чтобы собрать базу клиентов для email-рассылок   \n",
       "6          Показать на главной странице баннеры с актуальными акциями и распродажами, чтобы увеличить конверсию   \n",
       "2  Добавить блоки рекомендаций товаров на сайт интернет магазина, чтобы повысить конверсию и средний чек заказа   \n",
       "1                                     Запустить собственную службу доставки, что сократит срок доставки заказов   \n",
       "5                      Добавить страницу отзывов клиентов о магазине, что позволит увеличить количество заказов   \n",
       "3           Изменить структура категорий, что увеличит конверсию, т.к. пользователи быстрее найдут нужный товар   \n",
       "4                              Изменить цвет фона главной страницы, чтобы увеличить вовлеченность пользователей   \n",
       "\n",
       "     ICE  \n",
       "8  16.20  \n",
       "0  13.33  \n",
       "7  11.20  \n",
       "6   8.00  \n",
       "2   7.00  \n",
       "1   2.00  \n",
       "5   1.33  \n",
       "3   1.12  \n",
       "4   1.00  "
      ]
     },
     "execution_count": 15,
     "metadata": {},
     "output_type": "execute_result"
    }
   ],
   "source": [
    "hypothesis['ICE'] = round(hypothesis['impact'] * hypothesis['confidence'] / hypothesis['efforts'], 2)\n",
    "\n",
    "hypothesis[['hypothesis', 'ICE']].sort_values('ICE', ascending = False)"
   ]
  },
  {
   "cell_type": "markdown",
   "metadata": {},
   "source": [
    "### Применение фреймворк ICE для приоритизации гипотез. \n",
    "Применение фреймворк ICE показало, что перспективные гипотезы №№ 8, 0 и 7.\n",
    "\n",
    "Гипотезы №№ 5, 3 и 4 имеют самые низкие приоритеты.\n",
    "\n",
    "|№ |\tкраткое описание гипотезы\t|ICE|\n",
    "|:---|:-------|:----:|\n",
    "|8\t|Запустить акцию, дающую скидку на товар в день рождения\t|16.200000|\n",
    "|0\t|Добавить два новых канала привлечения трафика, что позволит привлекать на 30% больше пользователей\t|13.333333|\n",
    "|7|\tДобавить форму подписки на все основные страницы, чтобы собрать базу клиентов для email-рассылок\t|11.200000|\n",
    "|6|\tПоказать на главной странице баннеры с актуальными акциями и распродажами, чтобы увеличить конверсию\t|8.000000||\n",
    "|2\t|Добавить блоки рекомендаций товаров на сайт интернет магазина, чтобы повысить конверсию и средний чек заказа\t|7.000000|\n",
    "|1\t|Запустить собственную службу доставки, что сократит срок доставки заказов\t|2.000000|\n",
    "|5\t|Добавить страницу отзывов клиентов о магазине, что позволит увеличить количество заказов\t|1.333333|\n",
    "|3|\tИзменить структура категорий, что увеличит конверсию, т.к. пользователи быстрее найдут нужный товар\t|1.125000|\n",
    "|4\t|Изменить цвет фона главной страницы, чтобы увеличить вовлеченность пользователей\t|1.000000|"
   ]
  },
  {
   "cell_type": "markdown",
   "metadata": {},
   "source": [
    "Расчет RICE произведем по формуле: $$RICE = \\frac{Rearch * Impact * Confidence}{Efforts}$$"
   ]
  },
  {
   "cell_type": "code",
   "execution_count": 16,
   "metadata": {
    "scrolled": true
   },
   "outputs": [
    {
     "data": {
      "text/html": [
       "<div>\n",
       "<style scoped>\n",
       "    .dataframe tbody tr th:only-of-type {\n",
       "        vertical-align: middle;\n",
       "    }\n",
       "\n",
       "    .dataframe tbody tr th {\n",
       "        vertical-align: top;\n",
       "    }\n",
       "\n",
       "    .dataframe thead th {\n",
       "        text-align: right;\n",
       "    }\n",
       "</style>\n",
       "<table border=\"1\" class=\"dataframe\">\n",
       "  <thead>\n",
       "    <tr style=\"text-align: right;\">\n",
       "      <th></th>\n",
       "      <th>hypothesis</th>\n",
       "      <th>RICE</th>\n",
       "    </tr>\n",
       "  </thead>\n",
       "  <tbody>\n",
       "    <tr>\n",
       "      <th>7</th>\n",
       "      <td>Добавить форму подписки на все основные страницы, чтобы собрать базу клиентов для email-рассылок</td>\n",
       "      <td>112.0</td>\n",
       "    </tr>\n",
       "    <tr>\n",
       "      <th>2</th>\n",
       "      <td>Добавить блоки рекомендаций товаров на сайт интернет магазина, чтобы повысить конверсию и средний чек заказа</td>\n",
       "      <td>56.0</td>\n",
       "    </tr>\n",
       "    <tr>\n",
       "      <th>0</th>\n",
       "      <td>Добавить два новых канала привлечения трафика, что позволит привлекать на 30% больше пользователей</td>\n",
       "      <td>40.0</td>\n",
       "    </tr>\n",
       "    <tr>\n",
       "      <th>6</th>\n",
       "      <td>Показать на главной странице баннеры с актуальными акциями и распродажами, чтобы увеличить конверсию</td>\n",
       "      <td>40.0</td>\n",
       "    </tr>\n",
       "    <tr>\n",
       "      <th>8</th>\n",
       "      <td>Запустить акцию, дающую скидку на товар в день рождения</td>\n",
       "      <td>16.2</td>\n",
       "    </tr>\n",
       "    <tr>\n",
       "      <th>3</th>\n",
       "      <td>Изменить структура категорий, что увеличит конверсию, т.к. пользователи быстрее найдут нужный товар</td>\n",
       "      <td>9.0</td>\n",
       "    </tr>\n",
       "    <tr>\n",
       "      <th>1</th>\n",
       "      <td>Запустить собственную службу доставки, что сократит срок доставки заказов</td>\n",
       "      <td>4.0</td>\n",
       "    </tr>\n",
       "    <tr>\n",
       "      <th>5</th>\n",
       "      <td>Добавить страницу отзывов клиентов о магазине, что позволит увеличить количество заказов</td>\n",
       "      <td>4.0</td>\n",
       "    </tr>\n",
       "    <tr>\n",
       "      <th>4</th>\n",
       "      <td>Изменить цвет фона главной страницы, чтобы увеличить вовлеченность пользователей</td>\n",
       "      <td>3.0</td>\n",
       "    </tr>\n",
       "  </tbody>\n",
       "</table>\n",
       "</div>"
      ],
      "text/plain": [
       "                                                                                                     hypothesis  \\\n",
       "7              Добавить форму подписки на все основные страницы, чтобы собрать базу клиентов для email-рассылок   \n",
       "2  Добавить блоки рекомендаций товаров на сайт интернет магазина, чтобы повысить конверсию и средний чек заказа   \n",
       "0            Добавить два новых канала привлечения трафика, что позволит привлекать на 30% больше пользователей   \n",
       "6          Показать на главной странице баннеры с актуальными акциями и распродажами, чтобы увеличить конверсию   \n",
       "8                                                       Запустить акцию, дающую скидку на товар в день рождения   \n",
       "3           Изменить структура категорий, что увеличит конверсию, т.к. пользователи быстрее найдут нужный товар   \n",
       "1                                     Запустить собственную службу доставки, что сократит срок доставки заказов   \n",
       "5                      Добавить страницу отзывов клиентов о магазине, что позволит увеличить количество заказов   \n",
       "4                              Изменить цвет фона главной страницы, чтобы увеличить вовлеченность пользователей   \n",
       "\n",
       "    RICE  \n",
       "7  112.0  \n",
       "2   56.0  \n",
       "0   40.0  \n",
       "6   40.0  \n",
       "8   16.2  \n",
       "3    9.0  \n",
       "1    4.0  \n",
       "5    4.0  \n",
       "4    3.0  "
      ]
     },
     "execution_count": 16,
     "metadata": {},
     "output_type": "execute_result"
    }
   ],
   "source": [
    "hypothesis['RICE'] = hypothesis['reach'] * hypothesis['impact'] * hypothesis['confidence'] / hypothesis['efforts']\n",
    "hypothesis[['hypothesis', 'RICE']].sort_values('RICE', ascending = False)"
   ]
  },
  {
   "cell_type": "markdown",
   "metadata": {},
   "source": [
    "### Применение фреймворк RICE для приоритизации гипотез. \n",
    "Применение фреймворк RICE показало, что перспективные гипотезы №№ 7, 2 и 0.\n",
    "\n",
    "Гипотезы №№ 1, 5 и 4 имеют самые низкие приоритеты.\n",
    "\n",
    "|№ |\tкраткое описание гипотезы\t|RICE|\n",
    "|:---|:-------|:----:|\n",
    "|7\t|Добавить форму подписки на все основные страницы, чтобы собрать базу клиентов для email-рассылок\t|112.0|\n",
    "|2\t|Добавить блоки рекомендаций товаров на сайт интернет магазина, чтобы повысить конверсию и средний чек заказа\t|56.0|\n",
    "|0\t|Добавить два новых канала привлечения трафика, что позволит привлекать на 30% больше пользователей\t|40.0|\n",
    "|6\t|Показать на главной странице баннеры с актуальными акциями и распродажами, чтобы увеличить конверсию\t|40.0|\n",
    "|8\t|Запустить акцию, дающую скидку на товар в день рождения\t|16.2|\n",
    "|3|\tИзменить структура категорий, что увеличит конверсию, т.к. пользователи быстрее найдут нужный товар\t|9.0|\n",
    "|1|\tЗапустить собственную службу доставки, что сократит срок доставки заказов\t|4.0|\n",
    "|5|\tДобавить страницу отзывов клиентов о магазине, что позволит увеличить количество заказов\t|4.0|\n",
    "|4|\tИзменить цвет фона главной страницы, чтобы увеличить вовлеченность пользователей\t|3.0|"
   ]
  },
  {
   "cell_type": "code",
   "execution_count": 17,
   "metadata": {
    "scrolled": true
   },
   "outputs": [
    {
     "name": "stderr",
     "output_type": "stream",
     "text": [
      "C:\\Users\\ig_so\\AppData\\Local\\Temp\\ipykernel_1604\\3887849663.py:2: FutureWarning: this method is deprecated in favour of `Styler.format(precision=..)`\n",
      "  hypothesis.style.set_precision(2).background_gradient(cmap = 'Blues', subset=slice_)\n"
     ]
    },
    {
     "data": {
      "text/html": [
       "<style type=\"text/css\">\n",
       "#T_3a38b_row0_col5 {\n",
       "  background-color: #1561a9;\n",
       "  color: #f1f1f1;\n",
       "}\n",
       "#T_3a38b_row0_col6, #T_3a38b_row6_col6 {\n",
       "  background-color: #aacfe5;\n",
       "  color: #000000;\n",
       "}\n",
       "#T_3a38b_row1_col5 {\n",
       "  background-color: #eaf3fb;\n",
       "  color: #000000;\n",
       "}\n",
       "#T_3a38b_row1_col6, #T_3a38b_row3_col5, #T_3a38b_row5_col6 {\n",
       "  background-color: #f5fafe;\n",
       "  color: #000000;\n",
       "}\n",
       "#T_3a38b_row2_col5 {\n",
       "  background-color: #95c5df;\n",
       "  color: #000000;\n",
       "}\n",
       "#T_3a38b_row2_col6 {\n",
       "  background-color: #71b1d7;\n",
       "  color: #f1f1f1;\n",
       "}\n",
       "#T_3a38b_row3_col6 {\n",
       "  background-color: #ecf4fb;\n",
       "  color: #000000;\n",
       "}\n",
       "#T_3a38b_row4_col5, #T_3a38b_row4_col6 {\n",
       "  background-color: #f7fbff;\n",
       "  color: #000000;\n",
       "}\n",
       "#T_3a38b_row5_col5 {\n",
       "  background-color: #f3f8fe;\n",
       "  color: #000000;\n",
       "}\n",
       "#T_3a38b_row6_col5 {\n",
       "  background-color: #7cb7da;\n",
       "  color: #000000;\n",
       "}\n",
       "#T_3a38b_row7_col5 {\n",
       "  background-color: #3686c0;\n",
       "  color: #f1f1f1;\n",
       "}\n",
       "#T_3a38b_row7_col6, #T_3a38b_row8_col5 {\n",
       "  background-color: #08306b;\n",
       "  color: #f1f1f1;\n",
       "}\n",
       "#T_3a38b_row8_col6 {\n",
       "  background-color: #dfebf7;\n",
       "  color: #000000;\n",
       "}\n",
       "</style>\n",
       "<table id=\"T_3a38b\">\n",
       "  <thead>\n",
       "    <tr>\n",
       "      <th class=\"blank level0\" >&nbsp;</th>\n",
       "      <th id=\"T_3a38b_level0_col0\" class=\"col_heading level0 col0\" >hypothesis</th>\n",
       "      <th id=\"T_3a38b_level0_col1\" class=\"col_heading level0 col1\" >reach</th>\n",
       "      <th id=\"T_3a38b_level0_col2\" class=\"col_heading level0 col2\" >impact</th>\n",
       "      <th id=\"T_3a38b_level0_col3\" class=\"col_heading level0 col3\" >confidence</th>\n",
       "      <th id=\"T_3a38b_level0_col4\" class=\"col_heading level0 col4\" >efforts</th>\n",
       "      <th id=\"T_3a38b_level0_col5\" class=\"col_heading level0 col5\" >ICE</th>\n",
       "      <th id=\"T_3a38b_level0_col6\" class=\"col_heading level0 col6\" >RICE</th>\n",
       "    </tr>\n",
       "  </thead>\n",
       "  <tbody>\n",
       "    <tr>\n",
       "      <th id=\"T_3a38b_level0_row0\" class=\"row_heading level0 row0\" >0</th>\n",
       "      <td id=\"T_3a38b_row0_col0\" class=\"data row0 col0\" >Добавить два новых канала привлечения трафика, что позволит привлекать на 30% больше пользователей</td>\n",
       "      <td id=\"T_3a38b_row0_col1\" class=\"data row0 col1\" >3</td>\n",
       "      <td id=\"T_3a38b_row0_col2\" class=\"data row0 col2\" >10</td>\n",
       "      <td id=\"T_3a38b_row0_col3\" class=\"data row0 col3\" >8</td>\n",
       "      <td id=\"T_3a38b_row0_col4\" class=\"data row0 col4\" >6</td>\n",
       "      <td id=\"T_3a38b_row0_col5\" class=\"data row0 col5\" >13.33</td>\n",
       "      <td id=\"T_3a38b_row0_col6\" class=\"data row0 col6\" >40.00</td>\n",
       "    </tr>\n",
       "    <tr>\n",
       "      <th id=\"T_3a38b_level0_row1\" class=\"row_heading level0 row1\" >1</th>\n",
       "      <td id=\"T_3a38b_row1_col0\" class=\"data row1 col0\" >Запустить собственную службу доставки, что сократит срок доставки заказов</td>\n",
       "      <td id=\"T_3a38b_row1_col1\" class=\"data row1 col1\" >2</td>\n",
       "      <td id=\"T_3a38b_row1_col2\" class=\"data row1 col2\" >5</td>\n",
       "      <td id=\"T_3a38b_row1_col3\" class=\"data row1 col3\" >4</td>\n",
       "      <td id=\"T_3a38b_row1_col4\" class=\"data row1 col4\" >10</td>\n",
       "      <td id=\"T_3a38b_row1_col5\" class=\"data row1 col5\" >2.00</td>\n",
       "      <td id=\"T_3a38b_row1_col6\" class=\"data row1 col6\" >4.00</td>\n",
       "    </tr>\n",
       "    <tr>\n",
       "      <th id=\"T_3a38b_level0_row2\" class=\"row_heading level0 row2\" >2</th>\n",
       "      <td id=\"T_3a38b_row2_col0\" class=\"data row2 col0\" >Добавить блоки рекомендаций товаров на сайт интернет магазина, чтобы повысить конверсию и средний чек заказа</td>\n",
       "      <td id=\"T_3a38b_row2_col1\" class=\"data row2 col1\" >8</td>\n",
       "      <td id=\"T_3a38b_row2_col2\" class=\"data row2 col2\" >3</td>\n",
       "      <td id=\"T_3a38b_row2_col3\" class=\"data row2 col3\" >7</td>\n",
       "      <td id=\"T_3a38b_row2_col4\" class=\"data row2 col4\" >3</td>\n",
       "      <td id=\"T_3a38b_row2_col5\" class=\"data row2 col5\" >7.00</td>\n",
       "      <td id=\"T_3a38b_row2_col6\" class=\"data row2 col6\" >56.00</td>\n",
       "    </tr>\n",
       "    <tr>\n",
       "      <th id=\"T_3a38b_level0_row3\" class=\"row_heading level0 row3\" >3</th>\n",
       "      <td id=\"T_3a38b_row3_col0\" class=\"data row3 col0\" >Изменить структура категорий, что увеличит конверсию, т.к. пользователи быстрее найдут нужный товар</td>\n",
       "      <td id=\"T_3a38b_row3_col1\" class=\"data row3 col1\" >8</td>\n",
       "      <td id=\"T_3a38b_row3_col2\" class=\"data row3 col2\" >3</td>\n",
       "      <td id=\"T_3a38b_row3_col3\" class=\"data row3 col3\" >3</td>\n",
       "      <td id=\"T_3a38b_row3_col4\" class=\"data row3 col4\" >8</td>\n",
       "      <td id=\"T_3a38b_row3_col5\" class=\"data row3 col5\" >1.12</td>\n",
       "      <td id=\"T_3a38b_row3_col6\" class=\"data row3 col6\" >9.00</td>\n",
       "    </tr>\n",
       "    <tr>\n",
       "      <th id=\"T_3a38b_level0_row4\" class=\"row_heading level0 row4\" >4</th>\n",
       "      <td id=\"T_3a38b_row4_col0\" class=\"data row4 col0\" >Изменить цвет фона главной страницы, чтобы увеличить вовлеченность пользователей</td>\n",
       "      <td id=\"T_3a38b_row4_col1\" class=\"data row4 col1\" >3</td>\n",
       "      <td id=\"T_3a38b_row4_col2\" class=\"data row4 col2\" >1</td>\n",
       "      <td id=\"T_3a38b_row4_col3\" class=\"data row4 col3\" >1</td>\n",
       "      <td id=\"T_3a38b_row4_col4\" class=\"data row4 col4\" >1</td>\n",
       "      <td id=\"T_3a38b_row4_col5\" class=\"data row4 col5\" >1.00</td>\n",
       "      <td id=\"T_3a38b_row4_col6\" class=\"data row4 col6\" >3.00</td>\n",
       "    </tr>\n",
       "    <tr>\n",
       "      <th id=\"T_3a38b_level0_row5\" class=\"row_heading level0 row5\" >5</th>\n",
       "      <td id=\"T_3a38b_row5_col0\" class=\"data row5 col0\" >Добавить страницу отзывов клиентов о магазине, что позволит увеличить количество заказов</td>\n",
       "      <td id=\"T_3a38b_row5_col1\" class=\"data row5 col1\" >3</td>\n",
       "      <td id=\"T_3a38b_row5_col2\" class=\"data row5 col2\" >2</td>\n",
       "      <td id=\"T_3a38b_row5_col3\" class=\"data row5 col3\" >2</td>\n",
       "      <td id=\"T_3a38b_row5_col4\" class=\"data row5 col4\" >3</td>\n",
       "      <td id=\"T_3a38b_row5_col5\" class=\"data row5 col5\" >1.33</td>\n",
       "      <td id=\"T_3a38b_row5_col6\" class=\"data row5 col6\" >4.00</td>\n",
       "    </tr>\n",
       "    <tr>\n",
       "      <th id=\"T_3a38b_level0_row6\" class=\"row_heading level0 row6\" >6</th>\n",
       "      <td id=\"T_3a38b_row6_col0\" class=\"data row6 col0\" >Показать на главной странице баннеры с актуальными акциями и распродажами, чтобы увеличить конверсию</td>\n",
       "      <td id=\"T_3a38b_row6_col1\" class=\"data row6 col1\" >5</td>\n",
       "      <td id=\"T_3a38b_row6_col2\" class=\"data row6 col2\" >3</td>\n",
       "      <td id=\"T_3a38b_row6_col3\" class=\"data row6 col3\" >8</td>\n",
       "      <td id=\"T_3a38b_row6_col4\" class=\"data row6 col4\" >3</td>\n",
       "      <td id=\"T_3a38b_row6_col5\" class=\"data row6 col5\" >8.00</td>\n",
       "      <td id=\"T_3a38b_row6_col6\" class=\"data row6 col6\" >40.00</td>\n",
       "    </tr>\n",
       "    <tr>\n",
       "      <th id=\"T_3a38b_level0_row7\" class=\"row_heading level0 row7\" >7</th>\n",
       "      <td id=\"T_3a38b_row7_col0\" class=\"data row7 col0\" >Добавить форму подписки на все основные страницы, чтобы собрать базу клиентов для email-рассылок</td>\n",
       "      <td id=\"T_3a38b_row7_col1\" class=\"data row7 col1\" >10</td>\n",
       "      <td id=\"T_3a38b_row7_col2\" class=\"data row7 col2\" >7</td>\n",
       "      <td id=\"T_3a38b_row7_col3\" class=\"data row7 col3\" >8</td>\n",
       "      <td id=\"T_3a38b_row7_col4\" class=\"data row7 col4\" >5</td>\n",
       "      <td id=\"T_3a38b_row7_col5\" class=\"data row7 col5\" >11.20</td>\n",
       "      <td id=\"T_3a38b_row7_col6\" class=\"data row7 col6\" >112.00</td>\n",
       "    </tr>\n",
       "    <tr>\n",
       "      <th id=\"T_3a38b_level0_row8\" class=\"row_heading level0 row8\" >8</th>\n",
       "      <td id=\"T_3a38b_row8_col0\" class=\"data row8 col0\" >Запустить акцию, дающую скидку на товар в день рождения</td>\n",
       "      <td id=\"T_3a38b_row8_col1\" class=\"data row8 col1\" >1</td>\n",
       "      <td id=\"T_3a38b_row8_col2\" class=\"data row8 col2\" >9</td>\n",
       "      <td id=\"T_3a38b_row8_col3\" class=\"data row8 col3\" >9</td>\n",
       "      <td id=\"T_3a38b_row8_col4\" class=\"data row8 col4\" >5</td>\n",
       "      <td id=\"T_3a38b_row8_col5\" class=\"data row8 col5\" >16.20</td>\n",
       "      <td id=\"T_3a38b_row8_col6\" class=\"data row8 col6\" >16.20</td>\n",
       "    </tr>\n",
       "  </tbody>\n",
       "</table>\n"
      ],
      "text/plain": [
       "<pandas.io.formats.style.Styler at 0x1ae8642f5b0>"
      ]
     },
     "execution_count": 17,
     "metadata": {},
     "output_type": "execute_result"
    }
   ],
   "source": [
    "slice_ =['ICE', 'RICE']\n",
    "hypothesis.style.set_precision(2).background_gradient(cmap = 'Blues', subset=slice_)"
   ]
  },
  {
   "cell_type": "markdown",
   "metadata": {},
   "source": [
    "### Изменения приоритизация гипотез при применении RICE вместо ICE. \n",
    "- Применение фреймворк ICE показало, что перспективные гипотезы №№ 8, 0 и 7.\n",
    "- Применение фреймворк RICE показало, что перспективные гипотезы №№ 7, 2 и 0.\n",
    "- Среди тройки лидеров по фреймворкам ICE и RICE оставались только гипотезы №№ 0 и 7. \n",
    "- Лидер по ICE гипотеза №8 стала по RICE только пятым! Гипотеза № 7 с третьего места по ICE стала лидером по RICE. Гипотеза №2 с пятого места по ICE заняла второе место по RICE. Гипотеза № 0 со второго места по ICE стала третьей по RICE.\n",
    "- Данные изменения связаны с параметром `Reach` — охват пользователей. Самый высокий (10) он у гипотезы №7, что позволило ей стать самой перспективной гипотезой по RICE, вызвано, скорее всего тем, что при подписки 100% пользователей указывают свою эл.почту. Самый низкий (1) у гипотезы №5, что уронило ее рейтинг по RICE, вызвано, скорее всего тем, что дату рождения указывает около 10% пользователей. "
   ]
  },
  {
   "cell_type": "markdown",
   "metadata": {},
   "source": [
    "## Часть 2. Анализ A/B-теста:"
   ]
  },
  {
   "cell_type": "code",
   "execution_count": 18,
   "metadata": {},
   "outputs": [],
   "source": [
    "# создаем массив уникальных пар значений дат и групп теста\n",
    "datesGroups = orders[['date','group']].drop_duplicates()"
   ]
  },
  {
   "cell_type": "code",
   "execution_count": 19,
   "metadata": {},
   "outputs": [
    {
     "data": {
      "text/html": [
       "<div>\n",
       "<style scoped>\n",
       "    .dataframe tbody tr th:only-of-type {\n",
       "        vertical-align: middle;\n",
       "    }\n",
       "\n",
       "    .dataframe tbody tr th {\n",
       "        vertical-align: top;\n",
       "    }\n",
       "\n",
       "    .dataframe thead th {\n",
       "        text-align: right;\n",
       "    }\n",
       "</style>\n",
       "<table border=\"1\" class=\"dataframe\">\n",
       "  <thead>\n",
       "    <tr style=\"text-align: right;\">\n",
       "      <th></th>\n",
       "      <th>date</th>\n",
       "      <th>group</th>\n",
       "      <th>transactionId</th>\n",
       "      <th>visitorId</th>\n",
       "      <th>revenue</th>\n",
       "    </tr>\n",
       "  </thead>\n",
       "  <tbody>\n",
       "    <tr>\n",
       "      <th>55</th>\n",
       "      <td>2019-08-01</td>\n",
       "      <td>A</td>\n",
       "      <td>24</td>\n",
       "      <td>20</td>\n",
       "      <td>148579</td>\n",
       "    </tr>\n",
       "    <tr>\n",
       "      <th>66</th>\n",
       "      <td>2019-08-01</td>\n",
       "      <td>B</td>\n",
       "      <td>21</td>\n",
       "      <td>20</td>\n",
       "      <td>101217</td>\n",
       "    </tr>\n",
       "    <tr>\n",
       "      <th>175</th>\n",
       "      <td>2019-08-02</td>\n",
       "      <td>A</td>\n",
       "      <td>44</td>\n",
       "      <td>38</td>\n",
       "      <td>242401</td>\n",
       "    </tr>\n",
       "    <tr>\n",
       "      <th>173</th>\n",
       "      <td>2019-08-02</td>\n",
       "      <td>B</td>\n",
       "      <td>45</td>\n",
       "      <td>43</td>\n",
       "      <td>266748</td>\n",
       "    </tr>\n",
       "    <tr>\n",
       "      <th>291</th>\n",
       "      <td>2019-08-03</td>\n",
       "      <td>A</td>\n",
       "      <td>68</td>\n",
       "      <td>62</td>\n",
       "      <td>354874</td>\n",
       "    </tr>\n",
       "  </tbody>\n",
       "</table>\n",
       "</div>"
      ],
      "text/plain": [
       "          date group  transactionId  visitorId  revenue\n",
       "55  2019-08-01     A             24         20   148579\n",
       "66  2019-08-01     B             21         20   101217\n",
       "175 2019-08-02     A             44         38   242401\n",
       "173 2019-08-02     B             45         43   266748\n",
       "291 2019-08-03     A             68         62   354874"
      ]
     },
     "execution_count": 19,
     "metadata": {},
     "output_type": "execute_result"
    }
   ],
   "source": [
    "# создадим кумулятивные данные по заказам\n",
    "ordersAggregated = datesGroups.apply(lambda x: orders[np.logical_and(orders['date'] <= x['date'], orders['group'] == x['group'])]\\\n",
    ".agg({'date' : 'max', 'group' : 'max', 'transactionId' : 'nunique', 'visitorId' : 'nunique', 'revenue' : 'sum'}), axis=1).sort_values(by=['date','group'])\n",
    "ordersAggregated.head()"
   ]
  },
  {
   "cell_type": "code",
   "execution_count": 20,
   "metadata": {},
   "outputs": [
    {
     "data": {
      "text/html": [
       "<div>\n",
       "<style scoped>\n",
       "    .dataframe tbody tr th:only-of-type {\n",
       "        vertical-align: middle;\n",
       "    }\n",
       "\n",
       "    .dataframe tbody tr th {\n",
       "        vertical-align: top;\n",
       "    }\n",
       "\n",
       "    .dataframe thead th {\n",
       "        text-align: right;\n",
       "    }\n",
       "</style>\n",
       "<table border=\"1\" class=\"dataframe\">\n",
       "  <thead>\n",
       "    <tr style=\"text-align: right;\">\n",
       "      <th></th>\n",
       "      <th>date</th>\n",
       "      <th>group</th>\n",
       "      <th>visitors</th>\n",
       "    </tr>\n",
       "  </thead>\n",
       "  <tbody>\n",
       "    <tr>\n",
       "      <th>55</th>\n",
       "      <td>2019-08-01</td>\n",
       "      <td>A</td>\n",
       "      <td>719</td>\n",
       "    </tr>\n",
       "    <tr>\n",
       "      <th>66</th>\n",
       "      <td>2019-08-01</td>\n",
       "      <td>B</td>\n",
       "      <td>713</td>\n",
       "    </tr>\n",
       "    <tr>\n",
       "      <th>175</th>\n",
       "      <td>2019-08-02</td>\n",
       "      <td>A</td>\n",
       "      <td>1338</td>\n",
       "    </tr>\n",
       "    <tr>\n",
       "      <th>173</th>\n",
       "      <td>2019-08-02</td>\n",
       "      <td>B</td>\n",
       "      <td>1294</td>\n",
       "    </tr>\n",
       "    <tr>\n",
       "      <th>291</th>\n",
       "      <td>2019-08-03</td>\n",
       "      <td>A</td>\n",
       "      <td>1845</td>\n",
       "    </tr>\n",
       "  </tbody>\n",
       "</table>\n",
       "</div>"
      ],
      "text/plain": [
       "          date group  visitors\n",
       "55  2019-08-01     A       719\n",
       "66  2019-08-01     B       713\n",
       "175 2019-08-02     A      1338\n",
       "173 2019-08-02     B      1294\n",
       "291 2019-08-03     A      1845"
      ]
     },
     "execution_count": 20,
     "metadata": {},
     "output_type": "execute_result"
    }
   ],
   "source": [
    "# создадим кумулятивные данные по покупателям\n",
    "visitorsAggregated = datesGroups.apply(lambda x: visitors[np.logical_and(visitors['date'] <= x['date'], visitors['group'] == x['group'])].agg({'date' : 'max', 'group' : 'max', 'visitors' : 'sum'}), axis=1).sort_values(by=['date','group'])\n",
    "visitorsAggregated.head()"
   ]
  },
  {
   "cell_type": "code",
   "execution_count": 21,
   "metadata": {},
   "outputs": [
    {
     "data": {
      "text/html": [
       "<div>\n",
       "<style scoped>\n",
       "    .dataframe tbody tr th:only-of-type {\n",
       "        vertical-align: middle;\n",
       "    }\n",
       "\n",
       "    .dataframe tbody tr th {\n",
       "        vertical-align: top;\n",
       "    }\n",
       "\n",
       "    .dataframe thead th {\n",
       "        text-align: right;\n",
       "    }\n",
       "</style>\n",
       "<table border=\"1\" class=\"dataframe\">\n",
       "  <thead>\n",
       "    <tr style=\"text-align: right;\">\n",
       "      <th></th>\n",
       "      <th>date</th>\n",
       "      <th>group</th>\n",
       "      <th>orders</th>\n",
       "      <th>buyers</th>\n",
       "      <th>revenue</th>\n",
       "      <th>visitors</th>\n",
       "    </tr>\n",
       "  </thead>\n",
       "  <tbody>\n",
       "    <tr>\n",
       "      <th>0</th>\n",
       "      <td>2019-08-01</td>\n",
       "      <td>A</td>\n",
       "      <td>24</td>\n",
       "      <td>20</td>\n",
       "      <td>148579</td>\n",
       "      <td>719</td>\n",
       "    </tr>\n",
       "    <tr>\n",
       "      <th>1</th>\n",
       "      <td>2019-08-01</td>\n",
       "      <td>B</td>\n",
       "      <td>21</td>\n",
       "      <td>20</td>\n",
       "      <td>101217</td>\n",
       "      <td>713</td>\n",
       "    </tr>\n",
       "    <tr>\n",
       "      <th>2</th>\n",
       "      <td>2019-08-02</td>\n",
       "      <td>A</td>\n",
       "      <td>44</td>\n",
       "      <td>38</td>\n",
       "      <td>242401</td>\n",
       "      <td>1338</td>\n",
       "    </tr>\n",
       "    <tr>\n",
       "      <th>3</th>\n",
       "      <td>2019-08-02</td>\n",
       "      <td>B</td>\n",
       "      <td>45</td>\n",
       "      <td>43</td>\n",
       "      <td>266748</td>\n",
       "      <td>1294</td>\n",
       "    </tr>\n",
       "    <tr>\n",
       "      <th>4</th>\n",
       "      <td>2019-08-03</td>\n",
       "      <td>A</td>\n",
       "      <td>68</td>\n",
       "      <td>62</td>\n",
       "      <td>354874</td>\n",
       "      <td>1845</td>\n",
       "    </tr>\n",
       "  </tbody>\n",
       "</table>\n",
       "</div>"
      ],
      "text/plain": [
       "        date group  orders  buyers  revenue  visitors\n",
       "0 2019-08-01     A      24      20   148579       719\n",
       "1 2019-08-01     B      21      20   101217       713\n",
       "2 2019-08-02     A      44      38   242401      1338\n",
       "3 2019-08-02     B      45      43   266748      1294\n",
       "4 2019-08-03     A      68      62   354874      1845"
      ]
     },
     "execution_count": 21,
     "metadata": {},
     "output_type": "execute_result"
    }
   ],
   "source": [
    "# объединяем кумулятивные данные в одной таблице и присваиваем ее столбцам понятные названия\n",
    "cumulativeData = ordersAggregated.merge(visitorsAggregated, left_on=['date', 'group'], right_on=['date', 'group'])\n",
    "cumulativeData.columns = ['date', 'group', 'orders', 'buyers', 'revenue', 'visitors']\n",
    "\n",
    "cumulativeData.head(5)"
   ]
  },
  {
   "cell_type": "code",
   "execution_count": 22,
   "metadata": {},
   "outputs": [
    {
     "data": {
      "image/png": "[encoded data removed]",
      "text/plain": [
       "<Figure size 864x288 with 1 Axes>"
      ]
     },
     "metadata": {
      "needs_background": "light"
     },
     "output_type": "display_data"
    }
   ],
   "source": [
    "# датафрейм с кумулятивным количеством заказов и кумулятивной выручкой по дням в группе А\n",
    "cumulativeRevenueA = cumulativeData[cumulativeData['group']=='A'][['date','revenue', 'orders']]\n",
    "\n",
    "# датафрейм с кумулятивным количеством заказов и кумулятивной выручкой по дням в группе B\n",
    "cumulativeRevenueB = cumulativeData[cumulativeData['group']=='B'][['date','revenue', 'orders']]\n",
    "plt.figure(figsize=(12, 4))\n",
    "plt.title('Кумулятивная выручка по группам')\n",
    "# Строим график выручки группы А\n",
    "plt.plot(cumulativeRevenueA['date'], cumulativeRevenueA['revenue'], label='A')\n",
    "\n",
    "# Строим график выручки группы B\n",
    "plt.plot(cumulativeRevenueB['date'], cumulativeRevenueB['revenue'], label='B')\n",
    "\n",
    "plt.legend();"
   ]
  },
  {
   "cell_type": "markdown",
   "metadata": {},
   "source": [
    "### Построение графика кумулятивной выручки по группам. \n",
    "Выручка почти равномерно увеличивается в течение всего теста. Это хорошо.\n",
    "\n",
    "В начале теста группы вели себя раномерно, затем группа `B` обогнала группe `A` и осталась выше до конца  теста. \n",
    "\n",
    "Однако в группе `B` есть резкий скачок. Возможно, что это всплеск числа заказов, либо появление очень дорогих заказов в выборке. "
   ]
  },
  {
   "cell_type": "code",
   "execution_count": 23,
   "metadata": {},
   "outputs": [
    {
     "data": {
      "image/png": "[encoded data removed]",
      "text/plain": [
       "<Figure size 864x288 with 1 Axes>"
      ]
     },
     "metadata": {
      "needs_background": "light"
     },
     "output_type": "display_data"
    }
   ],
   "source": [
    "# Построим графики среднего чека по группам — разделим кумулятивную выручку на кумулятивное число заказов:\n",
    "plt.figure(figsize=(12, 4))\n",
    "plt.plot(cumulativeRevenueA['date'], cumulativeRevenueA['revenue']/cumulativeRevenueA['orders'], label='A')\n",
    "plt.plot(cumulativeRevenueB['date'], cumulativeRevenueB['revenue']/cumulativeRevenueB['orders'], label='B')\n",
    "plt.title('Кумулятивный средний чек по группам')\n",
    "plt.legend();"
   ]
  },
  {
   "cell_type": "markdown",
   "metadata": {},
   "source": [
    "### Построение графика кумулятивного среднего чека по группам.\n",
    "Средний чек группы `A` стал равномерным с середины теста. \n",
    "Средний чек группы `B` имеет в середине теста скачок и продолжает падать. Возможно, в группу `B` попали крупные заказы (резкий всплеск на графике). Тогда ей нужно больше данных, чтобы прийти к реальному среднему чеку или очистить данные от аномалий."
   ]
  },
  {
   "cell_type": "code",
   "execution_count": 24,
   "metadata": {},
   "outputs": [
    {
     "data": {
      "image/png": "[encoded data removed]",
      "text/plain": [
       "<Figure size 864x288 with 1 Axes>"
      ]
     },
     "metadata": {
      "needs_background": "light"
     },
     "output_type": "display_data"
    }
   ],
   "source": [
    "# собираем данные в одном датафрейме\n",
    "mergedCumulativeRevenue = cumulativeRevenueA.merge(cumulativeRevenueB, left_on='date', right_on='date', how='left', suffixes=['A', 'B'])\n",
    "plt.figure(figsize=(12, 4))\n",
    "plt.title('Относительные изменения кумулятивного среднего чека группы B к группе A')\n",
    "# cтроим отношение средних чеков\n",
    "plt.plot(mergedCumulativeRevenue['date'], (mergedCumulativeRevenue['revenueB']/mergedCumulativeRevenue['ordersB'])/(mergedCumulativeRevenue['revenueA']/mergedCumulativeRevenue['ordersA'])-1)\n",
    "\n",
    "# добавляем ось X\n",
    "plt.axhline(y=0, color='black', linestyle='--');"
   ]
  },
  {
   "cell_type": "markdown",
   "metadata": {},
   "source": [
    "### Построение графика относительного изменения кумулятивного среднего чека группы B к группе A\n",
    "В нескольких точках график различия между сегментами резко «скачет». Где-то уж точно спрятались крупные заказы и выбросы!"
   ]
  },
  {
   "cell_type": "code",
   "execution_count": 25,
   "metadata": {
    "scrolled": true
   },
   "outputs": [
    {
     "data": {
      "image/png": "[encoded data removed]",
      "text/plain": [
       "<Figure size 864x288 with 1 Axes>"
      ]
     },
     "metadata": {
      "needs_background": "light"
     },
     "output_type": "display_data"
    }
   ],
   "source": [
    "# считаем кумулятивную конверсию\n",
    "cumulativeData['conversion'] = cumulativeData['orders']/cumulativeData['visitors']\n",
    "\n",
    "# отделяем данные по группе A\n",
    "cumulativeDataA = cumulativeData[cumulativeData['group']=='A']\n",
    "\n",
    "# отделяем данные по группе B\n",
    "cumulativeDataB = cumulativeData[cumulativeData['group']=='B']\n",
    "\n",
    "# строим графики\n",
    "plt.figure(figsize=(12, 4))\n",
    "plt.title('Кумулятивное среднее количество заказов на посетителя (конверсия)')\n",
    "plt.plot(cumulativeDataA['date'], cumulativeDataA['conversion'], label='A')\n",
    "plt.plot(cumulativeDataB['date'], cumulativeDataB['conversion'], label='B')\n",
    "plt.legend();"
   ]
  },
  {
   "cell_type": "markdown",
   "metadata": {},
   "source": [
    "### Построение графика кумулятивного среднего количества заказов на посетителя по группам\n",
    "В начале теста группы колебались около одного значения, но затем конверсия группы `B` вырвалась вперёд и зафиксировалась, а конверсия группы `A` просела и также зафиксировалась."
   ]
  },
  {
   "cell_type": "code",
   "execution_count": 26,
   "metadata": {},
   "outputs": [
    {
     "data": {
      "image/png": "[encoded data removed]",
      "text/plain": [
       "<Figure size 1152x288 with 1 Axes>"
      ]
     },
     "metadata": {
      "needs_background": "light"
     },
     "output_type": "display_data"
    }
   ],
   "source": [
    "mergedCumulativeConversions = cumulativeDataA[['date','conversion']].merge(cumulativeDataB[['date','conversion']], left_on='date', right_on='date', how='left', suffixes=['A', 'B'])\n",
    "plt.figure(figsize=(16, 4))\n",
    "plt.title('Относительное изменение кумулятивного среднего количества заказов на посетителя группы B к группе A')\n",
    "plt.plot(mergedCumulativeConversions['date'], mergedCumulativeConversions['conversionB']/mergedCumulativeConversions['conversionA']-1, label=\"Относительный прирост конверсии группы B относительно группы A\")\n",
    "plt.legend()\n",
    "\n",
    "plt.axhline(y=0, color='black', linestyle='--')\n",
    "plt.axhline(y=-0.1, color='grey', linestyle='--')\n",
    "plt.axis([cumulativeDataA['date'].min(), cumulativeDataA['date'].max(), -0.3, 0.3]);"
   ]
  },
  {
   "cell_type": "markdown",
   "metadata": {},
   "source": [
    "### Построение графика относительного изменения кумулятивного среднего количества заказов на посетителя группы B к группе A. \n",
    "В начале теста группа `B` проигрывала группе `A`, затем вырвалась вперёд и стабилизировалась. Но еще держим в уме аномалии, возможно, они приукрашивают картину. "
   ]
  },
  {
   "cell_type": "code",
   "execution_count": 27,
   "metadata": {},
   "outputs": [
    {
     "name": "stdout",
     "output_type": "stream",
     "text": [
      "       visitorId  orders\n",
      "1023  4256040402      11\n",
      "591   2458001652      11\n",
      "569   2378935119       9\n",
      "487   2038680547       8\n",
      "44     199603092       5\n",
      "744   3062433592       5\n",
      "55     237748145       5\n",
      "917   3803269165       5\n",
      "299   1230306981       5\n",
      "897   3717692402       5\n"
     ]
    }
   ],
   "source": [
    "ordersByUsers = (\n",
    "    orders.groupby('visitorId', as_index=False)\n",
    "    .agg({'transactionId': 'nunique'})\n",
    ")\n",
    "\n",
    "ordersByUsers.columns = ['visitorId', 'orders']\n",
    "\n",
    "print(ordersByUsers.sort_values(by='orders', ascending=False).head(10))"
   ]
  },
  {
   "cell_type": "code",
   "execution_count": 28,
   "metadata": {},
   "outputs": [
    {
     "data": {
      "image/png": "[encoded data removed]",
      "text/plain": [
       "<Figure size 864x288 with 1 Axes>"
      ]
     },
     "metadata": {
      "needs_background": "light"
     },
     "output_type": "display_data"
    }
   ],
   "source": [
    "x_values = pd.Series(range(0,len(ordersByUsers)))\n",
    "plt.figure(figsize=(12, 4))\n",
    "plt.title('Количества заказов по пользователям')\n",
    "plt.scatter(x_values, ordersByUsers['orders']);"
   ]
  },
  {
   "cell_type": "markdown",
   "metadata": {},
   "source": [
    "### Построение точечного графика количества заказов по пользователям. \n",
    "Большинство покупателей заказывали только один раз. Доля пользователей с 2 заказами тоже значительна. \n",
    "Незначительную долю занимают пользователи от 3 заказов, но точная доля не ясна — непонятно, считать их аномалиями или нет. \n"
   ]
  },
  {
   "cell_type": "code",
   "execution_count": 29,
   "metadata": {},
   "outputs": [
    {
     "name": "stdout",
     "output_type": "stream",
     "text": [
      "[2. 4.]\n"
     ]
    }
   ],
   "source": [
    "print(np.percentile(ordersByUsers['orders'], [95, 99]))"
   ]
  },
  {
   "cell_type": "markdown",
   "metadata": {},
   "source": [
    "### Посчитали 95-й и 99-й перцентили количества заказов на пользователя. \n",
    "95% пользователей делали до 2 заказов включительно, пользователей с 3 и более заказами можно считать приятными для бизнеса аномалиями."
   ]
  },
  {
   "cell_type": "code",
   "execution_count": 30,
   "metadata": {},
   "outputs": [
    {
     "data": {
      "image/png": "[encoded data removed]",
      "text/plain": [
       "<Figure size 864x288 with 1 Axes>"
      ]
     },
     "metadata": {
      "needs_background": "light"
     },
     "output_type": "display_data"
    }
   ],
   "source": [
    "plt.figure(figsize=(12, 4))\n",
    "plt.title('Стоимость заказов')\n",
    "x_values = pd.Series(range(0,len(orders['revenue'])))\n",
    "plt.scatter(x_values, orders['revenue']);"
   ]
  },
  {
   "cell_type": "markdown",
   "metadata": {},
   "source": [
    "### Построение точечного график стоимостей заказов\n",
    "Основная масса стоимости закзов находится в пределах 100 000, но точные рамки расчитаем ниже. "
   ]
  },
  {
   "cell_type": "code",
   "execution_count": 31,
   "metadata": {},
   "outputs": [
    {
     "name": "stdout",
     "output_type": "stream",
     "text": [
      "[28000.  58233.2]\n"
     ]
    }
   ],
   "source": [
    "print(np.percentile(orders['revenue'], [95, 99]))"
   ]
  },
  {
   "cell_type": "markdown",
   "metadata": {},
   "source": [
    "### Посчитали 95-й и 99-й перцентили стоимости заказов\n",
    "95% заказов стоят до 28000, 99% заказов стоят до 58233. Возьму за аномалии заказы до 30 000. "
   ]
  },
  {
   "cell_type": "code",
   "execution_count": 32,
   "metadata": {},
   "outputs": [
    {
     "name": "stdout",
     "output_type": "stream",
     "text": [
      "Перцентиль стоимости заказа до 30 000 = 95.49%\n"
     ]
    }
   ],
   "source": [
    "print(\"Перцентиль стоимости заказа до 30 000 = {0:.2%}\".format(orders['revenue'][orders['revenue'] < 30000].count()/orders['revenue'].count()))"
   ]
  },
  {
   "cell_type": "code",
   "execution_count": 33,
   "metadata": {},
   "outputs": [
    {
     "name": "stdout",
     "output_type": "stream",
     "text": [
      "Перцентиль кол-ва заказов до 3 = 97.09%\n"
     ]
    }
   ],
   "source": [
    "print(\"Перцентиль кол-ва заказов до 3 = {0:.2%}\".format(ordersByUsers['orders'][ordersByUsers['orders'] < 3].count()/ordersByUsers['orders'].count()))"
   ]
  },
  {
   "cell_type": "markdown",
   "metadata": {},
   "source": [
    "Сформулируем гипотезы. \n",
    "\n",
    "`Нулевая`: различий в среднем количестве заказов между группами нет. \n",
    "\n",
    "`Альтернативная`: различия в среднем между группами есть."
   ]
  },
  {
   "cell_type": "code",
   "execution_count": 34,
   "metadata": {},
   "outputs": [],
   "source": [
    "visitorsADaily = visitors[visitors['group'] == 'A'][['date', 'visitors']]\n",
    "visitorsADaily.columns = ['date', 'visitorsPerDateA']\n",
    "\n",
    "visitorsACummulative = visitorsADaily.apply(\n",
    "    lambda x: visitorsADaily[visitorsADaily['date'] <= x['date']].agg(\n",
    "        {'date': 'max', 'visitorsPerDateA': 'sum'}\n",
    "    ),\n",
    "    axis=1,\n",
    ")\n",
    "visitorsACummulative.columns = ['date', 'visitorsCummulativeA']\n",
    "\n",
    "visitorsBDaily = visitors[visitors['group'] == 'B'][['date', 'visitors']]\n",
    "visitorsBDaily.columns = ['date', 'visitorsPerDateB']\n",
    "\n",
    "visitorsBCummulative = visitorsBDaily.apply(\n",
    "    lambda x: visitorsBDaily[visitorsBDaily['date'] <= x['date']].agg(\n",
    "        {'date': 'max', 'visitorsPerDateB': 'sum'}\n",
    "    ),\n",
    "    axis=1,\n",
    ")\n",
    "visitorsBCummulative.columns = ['date', 'visitorsCummulativeB']\n",
    "\n",
    "ordersADaily = (\n",
    "    orders[orders['group'] == 'A'][['date', 'transactionId', 'visitorId', 'revenue']]\n",
    "    .groupby('date', as_index=False)\n",
    "    .agg({'transactionId': pd.Series.nunique, 'revenue': 'sum'})\n",
    ")\n",
    "ordersADaily.columns = ['date', 'ordersPerDateA', 'revenuePerDateA']\n",
    "\n",
    "ordersACummulative = ordersADaily.apply(\n",
    "    lambda x: ordersADaily[ordersADaily['date'] <= x['date']].agg(\n",
    "        {'date': 'max', 'ordersPerDateA': 'sum', 'revenuePerDateA': 'sum'}\n",
    "    ),\n",
    "    axis=1,\n",
    ").sort_values(by=['date'])\n",
    "ordersACummulative.columns = [\n",
    "    'date',\n",
    "    'ordersCummulativeA',\n",
    "    'revenueCummulativeA',\n",
    "]\n",
    "\n",
    "ordersBDaily = (\n",
    "    orders[orders['group'] == 'B'][['date', 'transactionId', 'visitorId', 'revenue']]\n",
    "    .groupby('date', as_index=False)\n",
    "    .agg({'transactionId': pd.Series.nunique, 'revenue': 'sum'})\n",
    ")\n",
    "ordersBDaily.columns = ['date', 'ordersPerDateB', 'revenuePerDateB']\n",
    "\n",
    "ordersBCummulative = ordersBDaily.apply(\n",
    "    lambda x: ordersBDaily[ordersBDaily['date'] <= x['date']].agg(\n",
    "        {'date': 'max', 'ordersPerDateB': 'sum', 'revenuePerDateB': 'sum'}\n",
    "    ),\n",
    "    axis=1,\n",
    ").sort_values(by=['date'])\n",
    "ordersBCummulative.columns = [\n",
    "    'date',\n",
    "    'ordersCummulativeB',\n",
    "    'revenueCummulativeB',\n",
    "]\n",
    "\n",
    "data = (\n",
    "    ordersADaily.merge(\n",
    "        ordersBDaily, left_on='date', right_on='date', how='left'\n",
    "    )\n",
    "    .merge(ordersACummulative, left_on='date', right_on='date', how='left')\n",
    "    .merge(ordersBCummulative, left_on='date', right_on='date', how='left')\n",
    "    .merge(visitorsADaily, left_on='date', right_on='date', how='left')\n",
    "    .merge(visitorsBDaily, left_on='date', right_on='date', how='left')\n",
    "    .merge(visitorsACummulative, left_on='date', right_on='date', how='left')\n",
    "    .merge(visitorsBCummulative, left_on='date', right_on='date', how='left')\n",
    ")\n"
   ]
  },
  {
   "cell_type": "code",
   "execution_count": 35,
   "metadata": {},
   "outputs": [],
   "source": [
    "ordersByUsersA = (\n",
    "    orders[orders['group'] == 'A']\n",
    "    .groupby('visitorId', as_index=False)\n",
    "    .agg({'transactionId': pd.Series.nunique})\n",
    ")\n",
    "ordersByUsersA.columns = ['visitorId', 'orders']\n",
    "\n",
    "ordersByUsersB = (\n",
    "    orders[orders['group'] == 'B']\n",
    "    .groupby('visitorId', as_index=False)\n",
    "    .agg({'transactionId': pd.Series.nunique})\n",
    ")\n",
    "ordersByUsersB.columns = ['visitorId', 'orders']"
   ]
  },
  {
   "cell_type": "code",
   "execution_count": 36,
   "metadata": {},
   "outputs": [],
   "source": [
    "sampleA = pd.concat([ordersByUsersA['orders'],pd.Series(0, index=np.arange(data['visitorsPerDateA'].sum() - len(ordersByUsersA['orders'])), name='orders')],axis=0)\n",
    "\n",
    "sampleB = pd.concat([ordersByUsersB['orders'],pd.Series(0, index=np.arange(data['visitorsPerDateB'].sum() - len(ordersByUsersB['orders'])), name='orders')],axis=0)"
   ]
  },
  {
   "cell_type": "code",
   "execution_count": 37,
   "metadata": {
    "scrolled": true
   },
   "outputs": [
    {
     "name": "stdout",
     "output_type": "stream",
     "text": [
      "0.017\n",
      "0.138\n"
     ]
    }
   ],
   "source": [
    "print(\"{0:.3f}\".format(stats.mannwhitneyu(sampleA, sampleB)[1]))\n",
    "\n",
    "print(\"{0:.3f}\".format(sampleB.mean() / sampleA.mean() - 1))"
   ]
  },
  {
   "cell_type": "markdown",
   "metadata": {},
   "source": [
    "### Посчитаем статистическую значимость различий в среднем количестве заказов на посетителя между группами по «сырым» данным\n",
    "Вывод: По «сырым» данным различия в среднем числе заказов групп A и B есть. Т.к. p-value = 0.017 меньше 0.05. Значит, нулевую гипотезу о том, что статистически значимых различий в среднем числе заказов между группами нет, отвергаем. Однако относительный выигрыш группы B равен 13.8% — второе число в выводе."
   ]
  },
  {
   "cell_type": "markdown",
   "metadata": {},
   "source": [
    "`Нулевая гипотеза`: различий в среднем чеке между группами нет. \n",
    "\n",
    "`Альтернативная гипотеза`: различия в среднем чеке между группами есть."
   ]
  },
  {
   "cell_type": "code",
   "execution_count": 38,
   "metadata": {},
   "outputs": [
    {
     "name": "stdout",
     "output_type": "stream",
     "text": [
      "0.729\n",
      "0.259\n"
     ]
    }
   ],
   "source": [
    "print('{0:.3f}'.format(stats.mannwhitneyu(orders[orders['group']=='A']['revenue'], orders[orders['group']=='B']['revenue'])[1]))\n",
    "print('{0:.3f}'.format(orders[orders['group']=='B']['revenue'].mean()/orders[orders['group']=='A']['revenue'].mean()-1))"
   ]
  },
  {
   "cell_type": "markdown",
   "metadata": {},
   "source": [
    "### Посчитаем статистическую значимость различий в среднем чеке заказа между группами по «сырым» данным\n",
    "Вывод: По «сырым» данным различий в среднем чеке групп A и B нет, т.к. p-value = 0.729 значительно больше 0.05. Значит, причин отвергать нулевую гипотезу и считать, что в среднем чеке есть различия, нет. Впрочем, средний чек группы B значительно выше среднего чека группы A."
   ]
  },
  {
   "cell_type": "markdown",
   "metadata": {},
   "source": [
    "Сформулируем гипотезы для очищенных данных. \n",
    "\n",
    "`Нулевая`: различий в среднем количестве заказов между группами нет. \n",
    "\n",
    "`Альтернативная`: различия в среднем между группами есть."
   ]
  },
  {
   "cell_type": "code",
   "execution_count": 39,
   "metadata": {},
   "outputs": [
    {
     "name": "stdout",
     "output_type": "stream",
     "text": [
      "1099    148427295\n",
      "18      199603092\n",
      "928     204675465\n",
      "23      237748145\n",
      "37      249864742\n",
      "Name: visitorId, dtype: int64\n",
      "68\n"
     ]
    }
   ],
   "source": [
    "# посчитаем кол-во аномальных пользователей(кол-во заказы от 3 и выше, сумма заказов от 30000 и выше)\n",
    "usersWithManyOrders = pd.concat(\n",
    "    [\n",
    "        ordersByUsersA[ordersByUsersA['orders'] > 2]['visitorId'],\n",
    "        ordersByUsersB[ordersByUsersB['orders'] > 2]['visitorId'],\n",
    "    ],\n",
    "    axis=0,\n",
    ")\n",
    "usersWithExpensiveOrders = orders[orders['revenue'] > 30000]['visitorId']\n",
    "abnormalUsers = (\n",
    "    pd.concat([usersWithManyOrders, usersWithExpensiveOrders], axis=0)\n",
    "    .drop_duplicates()\n",
    "    .sort_values()\n",
    ")\n",
    "print(abnormalUsers.head(5))\n",
    "print(abnormalUsers.shape[0])"
   ]
  },
  {
   "cell_type": "code",
   "execution_count": 40,
   "metadata": {},
   "outputs": [],
   "source": [
    "# исключим из выборки аномальных пользователей\n",
    "sampleAFiltered = pd.concat(\n",
    "    [\n",
    "        ordersByUsersA[\n",
    "            np.logical_not(ordersByUsersA['visitorId'].isin(abnormalUsers))\n",
    "        ]['orders'],\n",
    "        pd.Series(\n",
    "            0,\n",
    "            index=np.arange(\n",
    "                data['visitorsPerDateA'].sum() - len(ordersByUsersA['orders'])\n",
    "            ),\n",
    "            name='orders',\n",
    "        ),\n",
    "    ],\n",
    "    axis=0,\n",
    ")\n",
    "\n",
    "sampleBFiltered = pd.concat(\n",
    "    [\n",
    "        ordersByUsersB[\n",
    "            np.logical_not(ordersByUsersB['visitorId'].isin(abnormalUsers))\n",
    "        ]['orders'],\n",
    "        pd.Series(\n",
    "            0,\n",
    "            index=np.arange(\n",
    "                data['visitorsPerDateB'].sum() - len(ordersByUsersB['orders'])\n",
    "            ),\n",
    "            name='orders',\n",
    "        ),\n",
    "    ],\n",
    "    axis=0,\n",
    ")"
   ]
  },
  {
   "cell_type": "code",
   "execution_count": 41,
   "metadata": {},
   "outputs": [
    {
     "name": "stdout",
     "output_type": "stream",
     "text": [
      "0.013\n",
      "0.172\n"
     ]
    }
   ],
   "source": [
    "print('{0:.3f}'.format(stats.mannwhitneyu(sampleAFiltered, sampleBFiltered)[1]))\n",
    "print('{0:.3f}'.format(sampleBFiltered.mean()/sampleAFiltered.mean()-1))"
   ]
  },
  {
   "cell_type": "markdown",
   "metadata": {},
   "source": [
    "### Посчитайте статистическую значимость различий в среднем количестве заказов на посетителя между группами между группами по «очищенным» данным.  \n",
    "Вывод: По «очищенным» данным различия в среднем числе заказов групп `A` и `B` так же есть. Т.к. p-value = 0.013 меньше 0.05. Значит, нулевую гипотезу о том, что статистически значимых различий в среднем числе заказов между группами нет, отвергаем. Однако относительный выигрыш группы `B` равен 17.2% — второе число в выводе. Т.е. по \"очищенным\" данным, кол-во заказов растет в группе `B` больше, чем по \"сырым\".\n"
   ]
  },
  {
   "cell_type": "markdown",
   "metadata": {},
   "source": [
    "`Нулевая гипотеза`: различий в среднем чеке между группами нет. \n",
    "\n",
    "`Альтернативная гипотеза`: различия в среднем чеке между группами есть."
   ]
  },
  {
   "cell_type": "code",
   "execution_count": 42,
   "metadata": {},
   "outputs": [
    {
     "name": "stdout",
     "output_type": "stream",
     "text": [
      "0.720\n",
      "-0.023\n"
     ]
    }
   ],
   "source": [
    "print(\n",
    "    '{0:.3f}'.format(\n",
    "        stats.mannwhitneyu(\n",
    "            orders[\n",
    "                np.logical_and(\n",
    "                    orders['group'] == 'A',\n",
    "                    np.logical_not(orders['visitorId'].isin(abnormalUsers)),\n",
    "                )\n",
    "            ]['revenue'],\n",
    "            orders[\n",
    "                np.logical_and(\n",
    "                    orders['group'] == 'B',\n",
    "                    np.logical_not(orders['visitorId'].isin(abnormalUsers)),\n",
    "                )\n",
    "            ]['revenue'],\n",
    "        )[1]\n",
    "    )\n",
    ")\n",
    "\n",
    "print(\n",
    "    \"{0:.3f}\".format(\n",
    "        orders[\n",
    "            np.logical_and(\n",
    "                orders['group'] == 'B',\n",
    "                np.logical_not(orders['visitorId'].isin(abnormalUsers)),\n",
    "            )\n",
    "        ]['revenue'].mean()\n",
    "        / orders[\n",
    "            np.logical_and(\n",
    "                orders['group'] == 'A',\n",
    "                np.logical_not(orders['visitorId'].isin(abnormalUsers)),\n",
    "            )\n",
    "        ]['revenue'].mean()\n",
    "        - 1\n",
    "    )\n",
    ")"
   ]
  },
  {
   "cell_type": "markdown",
   "metadata": {},
   "source": [
    "### Посчитали статистическую значимость различий в среднем чеке заказа между группами по «очищенным» данным.\n",
    "P-value практически не изменился, но разница между сегментами сократилась с 26% до 2%. Вывод: По «очищенным» данным различий в среднем чеке групп A и B нет, т.к. p-value = 0.720 значительно больше 0.05. Значит, причин отвергать нулевую гипотезу и считать, что в среднем чеке есть различия, нет. Средний чек группы B по «очищенным» данным всего на 2,3% ниже среднего чека группы A."
   ]
  },
  {
   "attachments": {
    "image-2.png": {
     "image/png": "[encoded data removed]"
    },
    "image-3.png": {
     "image/png": "[encoded data removed]"
    },
    "image-4.png": {
     "image/png": "[encoded data removed]"
    },
    "image.png": {
     "image/png": "[encoded data removed]"
    }
   },
   "cell_type": "markdown",
   "metadata": {},
   "source": [
    "### Решение по результатам теста \n",
    "\n",
    "Имеющиеся факты:\n",
    "- Есть статистически значимое различие по среднему количеству заказов между группами и по «сырым», и по «очищенным» данным;\n",
    "- Нет статистически значимого различия по среднему чеку между группами ни по «сырым», ни по «очищенным» данным;\n",
    "- График различия среднего количества заказов по \"сырым\" данным между группами сообщает, что результаты группы B лучше группы A:\n",
    "![image.png](attachment:image.png)\n",
    "- График различия среднего количества заказов по \"очищенным\" данным между группами практически повторяет график по \"сырым\" данным:\n",
    "![image-3.png](attachment:image-3.png)\n",
    "- По графику различия среднего чека по \"сырым\" данным выводы сделать не возможно, кроме наличия скачков, связаных с аномалиями:\n",
    "![image-2.png](attachment:image-2.png)\n",
    "- График различия среднего чека по \"очищенным\" данным показывает стабилизацию изменений средних чеков групп с середины теста:\n",
    "![image-4.png](attachment:image-4.png)\n",
    "\n",
    "Исходя из обнаруженных фактов, тест можно остановить и признать его успешным. \n",
    "Он показал рост среднего количества заказов в группе `B`, хотя средний чек остался на прежнем уровне. "
   ]
  },
  {
   "cell_type": "markdown",
   "metadata": {},
   "source": [
    "# Графики по очищенным данным."
   ]
  },
  {
   "cell_type": "code",
   "execution_count": 43,
   "metadata": {},
   "outputs": [],
   "source": [
    "order_1 = orders[np.logical_not(orders['visitorId'].isin(abnormalUsers))]"
   ]
  },
  {
   "cell_type": "code",
   "execution_count": 44,
   "metadata": {},
   "outputs": [
    {
     "data": {
      "text/html": [
       "<div>\n",
       "<style scoped>\n",
       "    .dataframe tbody tr th:only-of-type {\n",
       "        vertical-align: middle;\n",
       "    }\n",
       "\n",
       "    .dataframe tbody tr th {\n",
       "        vertical-align: top;\n",
       "    }\n",
       "\n",
       "    .dataframe thead th {\n",
       "        text-align: right;\n",
       "    }\n",
       "</style>\n",
       "<table border=\"1\" class=\"dataframe\">\n",
       "  <thead>\n",
       "    <tr style=\"text-align: right;\">\n",
       "      <th></th>\n",
       "      <th>visitorId</th>\n",
       "    </tr>\n",
       "    <tr>\n",
       "      <th>group</th>\n",
       "      <th></th>\n",
       "    </tr>\n",
       "  </thead>\n",
       "  <tbody>\n",
       "    <tr>\n",
       "      <th>A</th>\n",
       "      <td>460</td>\n",
       "    </tr>\n",
       "    <tr>\n",
       "      <th>B</th>\n",
       "      <td>542</td>\n",
       "    </tr>\n",
       "  </tbody>\n",
       "</table>\n",
       "</div>"
      ],
      "text/plain": [
       "       visitorId\n",
       "group           \n",
       "A            460\n",
       "B            542"
      ]
     },
     "execution_count": 44,
     "metadata": {},
     "output_type": "execute_result"
    }
   ],
   "source": [
    "order_1.groupby('group').agg({'visitorId':'nunique'})"
   ]
  },
  {
   "cell_type": "code",
   "execution_count": 45,
   "metadata": {},
   "outputs": [],
   "source": [
    "# создаем массив уникальных пар значений дат и групп теста\n",
    "datesGroups_1 = order_1[['date','group']].drop_duplicates()"
   ]
  },
  {
   "cell_type": "code",
   "execution_count": 46,
   "metadata": {},
   "outputs": [
    {
     "data": {
      "text/html": [
       "<div>\n",
       "<style scoped>\n",
       "    .dataframe tbody tr th:only-of-type {\n",
       "        vertical-align: middle;\n",
       "    }\n",
       "\n",
       "    .dataframe tbody tr th {\n",
       "        vertical-align: top;\n",
       "    }\n",
       "\n",
       "    .dataframe thead th {\n",
       "        text-align: right;\n",
       "    }\n",
       "</style>\n",
       "<table border=\"1\" class=\"dataframe\">\n",
       "  <thead>\n",
       "    <tr style=\"text-align: right;\">\n",
       "      <th></th>\n",
       "      <th>date</th>\n",
       "      <th>group</th>\n",
       "      <th>transactionId</th>\n",
       "      <th>visitorId</th>\n",
       "      <th>revenue</th>\n",
       "    </tr>\n",
       "  </thead>\n",
       "  <tbody>\n",
       "    <tr>\n",
       "      <th>55</th>\n",
       "      <td>2019-08-01</td>\n",
       "      <td>A</td>\n",
       "      <td>24</td>\n",
       "      <td>20</td>\n",
       "      <td>148579</td>\n",
       "    </tr>\n",
       "    <tr>\n",
       "      <th>66</th>\n",
       "      <td>2019-08-01</td>\n",
       "      <td>B</td>\n",
       "      <td>21</td>\n",
       "      <td>20</td>\n",
       "      <td>101217</td>\n",
       "    </tr>\n",
       "    <tr>\n",
       "      <th>175</th>\n",
       "      <td>2019-08-02</td>\n",
       "      <td>A</td>\n",
       "      <td>44</td>\n",
       "      <td>38</td>\n",
       "      <td>242401</td>\n",
       "    </tr>\n",
       "    <tr>\n",
       "      <th>173</th>\n",
       "      <td>2019-08-02</td>\n",
       "      <td>B</td>\n",
       "      <td>45</td>\n",
       "      <td>43</td>\n",
       "      <td>266748</td>\n",
       "    </tr>\n",
       "    <tr>\n",
       "      <th>291</th>\n",
       "      <td>2019-08-03</td>\n",
       "      <td>A</td>\n",
       "      <td>68</td>\n",
       "      <td>62</td>\n",
       "      <td>354874</td>\n",
       "    </tr>\n",
       "  </tbody>\n",
       "</table>\n",
       "</div>"
      ],
      "text/plain": [
       "          date group  transactionId  visitorId  revenue\n",
       "55  2019-08-01     A             24         20   148579\n",
       "66  2019-08-01     B             21         20   101217\n",
       "175 2019-08-02     A             44         38   242401\n",
       "173 2019-08-02     B             45         43   266748\n",
       "291 2019-08-03     A             68         62   354874"
      ]
     },
     "execution_count": 46,
     "metadata": {},
     "output_type": "execute_result"
    }
   ],
   "source": [
    "# создадим кумулятивные данные по заказам\n",
    "ordersAggregated_1 = datesGroups_1.apply(lambda x: order_1[np.logical_and(order_1['date'] <= x['date'], order_1['group'] == x['group'])]\\\n",
    ".agg({'date' : 'max', 'group' : 'max', 'transactionId' : 'nunique', 'visitorId' : 'nunique', 'revenue' : 'sum'}), axis=1).sort_values(by=['date','group'])\n",
    "ordersAggregated.head()"
   ]
  },
  {
   "cell_type": "code",
   "execution_count": 47,
   "metadata": {},
   "outputs": [
    {
     "data": {
      "text/html": [
       "<div>\n",
       "<style scoped>\n",
       "    .dataframe tbody tr th:only-of-type {\n",
       "        vertical-align: middle;\n",
       "    }\n",
       "\n",
       "    .dataframe tbody tr th {\n",
       "        vertical-align: top;\n",
       "    }\n",
       "\n",
       "    .dataframe thead th {\n",
       "        text-align: right;\n",
       "    }\n",
       "</style>\n",
       "<table border=\"1\" class=\"dataframe\">\n",
       "  <thead>\n",
       "    <tr style=\"text-align: right;\">\n",
       "      <th></th>\n",
       "      <th>date</th>\n",
       "      <th>group</th>\n",
       "      <th>visitors</th>\n",
       "    </tr>\n",
       "  </thead>\n",
       "  <tbody>\n",
       "    <tr>\n",
       "      <th>55</th>\n",
       "      <td>2019-08-01</td>\n",
       "      <td>A</td>\n",
       "      <td>719</td>\n",
       "    </tr>\n",
       "    <tr>\n",
       "      <th>66</th>\n",
       "      <td>2019-08-01</td>\n",
       "      <td>B</td>\n",
       "      <td>713</td>\n",
       "    </tr>\n",
       "    <tr>\n",
       "      <th>175</th>\n",
       "      <td>2019-08-02</td>\n",
       "      <td>A</td>\n",
       "      <td>1338</td>\n",
       "    </tr>\n",
       "    <tr>\n",
       "      <th>174</th>\n",
       "      <td>2019-08-02</td>\n",
       "      <td>B</td>\n",
       "      <td>1294</td>\n",
       "    </tr>\n",
       "    <tr>\n",
       "      <th>291</th>\n",
       "      <td>2019-08-03</td>\n",
       "      <td>A</td>\n",
       "      <td>1845</td>\n",
       "    </tr>\n",
       "  </tbody>\n",
       "</table>\n",
       "</div>"
      ],
      "text/plain": [
       "          date group  visitors\n",
       "55  2019-08-01     A       719\n",
       "66  2019-08-01     B       713\n",
       "175 2019-08-02     A      1338\n",
       "174 2019-08-02     B      1294\n",
       "291 2019-08-03     A      1845"
      ]
     },
     "execution_count": 47,
     "metadata": {},
     "output_type": "execute_result"
    }
   ],
   "source": [
    "# создадим кумулятивные данные по покупателям\n",
    "visitorsAggregated_1 = datesGroups_1.apply(lambda x: visitors[np.logical_and(visitors['date'] <= x['date'], visitors['group'] == x['group'])].agg({'date' : 'max', 'group' : 'max', 'visitors' : 'sum'}), axis=1).sort_values(by=['date','group'])\n",
    "visitorsAggregated_1.head()"
   ]
  },
  {
   "cell_type": "code",
   "execution_count": 48,
   "metadata": {
    "scrolled": true
   },
   "outputs": [
    {
     "data": {
      "text/html": [
       "<div>\n",
       "<style scoped>\n",
       "    .dataframe tbody tr th:only-of-type {\n",
       "        vertical-align: middle;\n",
       "    }\n",
       "\n",
       "    .dataframe tbody tr th {\n",
       "        vertical-align: top;\n",
       "    }\n",
       "\n",
       "    .dataframe thead th {\n",
       "        text-align: right;\n",
       "    }\n",
       "</style>\n",
       "<table border=\"1\" class=\"dataframe\">\n",
       "  <thead>\n",
       "    <tr style=\"text-align: right;\">\n",
       "      <th></th>\n",
       "      <th>date</th>\n",
       "      <th>group</th>\n",
       "      <th>orders</th>\n",
       "      <th>buyers</th>\n",
       "      <th>revenue</th>\n",
       "      <th>visitors</th>\n",
       "    </tr>\n",
       "  </thead>\n",
       "  <tbody>\n",
       "    <tr>\n",
       "      <th>0</th>\n",
       "      <td>2019-08-01</td>\n",
       "      <td>A</td>\n",
       "      <td>18</td>\n",
       "      <td>17</td>\n",
       "      <td>112340</td>\n",
       "      <td>719</td>\n",
       "    </tr>\n",
       "    <tr>\n",
       "      <th>1</th>\n",
       "      <td>2019-08-01</td>\n",
       "      <td>B</td>\n",
       "      <td>19</td>\n",
       "      <td>19</td>\n",
       "      <td>78258</td>\n",
       "      <td>713</td>\n",
       "    </tr>\n",
       "    <tr>\n",
       "      <th>2</th>\n",
       "      <td>2019-08-02</td>\n",
       "      <td>A</td>\n",
       "      <td>37</td>\n",
       "      <td>35</td>\n",
       "      <td>204472</td>\n",
       "      <td>1338</td>\n",
       "    </tr>\n",
       "    <tr>\n",
       "      <th>3</th>\n",
       "      <td>2019-08-02</td>\n",
       "      <td>B</td>\n",
       "      <td>40</td>\n",
       "      <td>39</td>\n",
       "      <td>171492</td>\n",
       "      <td>1294</td>\n",
       "    </tr>\n",
       "    <tr>\n",
       "      <th>4</th>\n",
       "      <td>2019-08-03</td>\n",
       "      <td>A</td>\n",
       "      <td>61</td>\n",
       "      <td>59</td>\n",
       "      <td>316945</td>\n",
       "      <td>1845</td>\n",
       "    </tr>\n",
       "  </tbody>\n",
       "</table>\n",
       "</div>"
      ],
      "text/plain": [
       "        date group  orders  buyers  revenue  visitors\n",
       "0 2019-08-01     A      18      17   112340       719\n",
       "1 2019-08-01     B      19      19    78258       713\n",
       "2 2019-08-02     A      37      35   204472      1338\n",
       "3 2019-08-02     B      40      39   171492      1294\n",
       "4 2019-08-03     A      61      59   316945      1845"
      ]
     },
     "execution_count": 48,
     "metadata": {},
     "output_type": "execute_result"
    }
   ],
   "source": [
    "# объединяем кумулятивные данные в одной таблице и присваиваем ее столбцам понятные названия\n",
    "cumulativeData_1 = ordersAggregated_1.merge(visitorsAggregated_1, left_on=['date', 'group'], right_on=['date', 'group'])\n",
    "cumulativeData_1.columns = ['date', 'group', 'orders', 'buyers', 'revenue', 'visitors']\n",
    "\n",
    "cumulativeData_1.head(5)"
   ]
  },
  {
   "cell_type": "code",
   "execution_count": 49,
   "metadata": {
    "scrolled": true
   },
   "outputs": [
    {
     "data": {
      "image/png": "[encoded data removed]",
      "text/plain": [
       "<Figure size 864x288 with 1 Axes>"
      ]
     },
     "metadata": {
      "needs_background": "light"
     },
     "output_type": "display_data"
    }
   ],
   "source": [
    "# датафрейм с кумулятивным количеством заказов и кумулятивной выручкой по дням в группе А\n",
    "cumulativeRevenueA_1 = cumulativeData_1[cumulativeData_1['group']=='A'][['date','revenue', 'orders']]\n",
    "\n",
    "# датафрейм с кумулятивным количеством заказов и кумулятивной выручкой по дням в группе B\n",
    "cumulativeRevenueB_1 = cumulativeData_1[cumulativeData_1['group']=='B'][['date','revenue', 'orders']]\n",
    "plt.figure(figsize=(12, 4))\n",
    "plt.title('Кумулятивная выручка по группам, \"очищеные\" данные')\n",
    "# Строим график выручки группы А\n",
    "plt.plot(cumulativeRevenueA_1['date'], cumulativeRevenueA_1['revenue'], label='A')\n",
    "\n",
    "# Строим график выручки группы B\n",
    "plt.plot(cumulativeRevenueB_1['date'], cumulativeRevenueB_1['revenue'], label='B')\n",
    "\n",
    "plt.legend();"
   ]
  },
  {
   "cell_type": "code",
   "execution_count": 50,
   "metadata": {},
   "outputs": [
    {
     "data": {
      "image/png": "[encoded data removed]",
      "text/plain": [
       "<Figure size 864x288 with 1 Axes>"
      ]
     },
     "metadata": {
      "needs_background": "light"
     },
     "output_type": "display_data"
    }
   ],
   "source": [
    "# Построим графики среднего чека по группам — разделим кумулятивную выручку на кумулятивное число заказов:\n",
    "plt.figure(figsize=(12, 4))\n",
    "plt.plot(cumulativeRevenueA_1['date'], cumulativeRevenueA_1['revenue']/cumulativeRevenueA_1['orders'], label='A')\n",
    "plt.plot(cumulativeRevenueB_1['date'], cumulativeRevenueB_1['revenue']/cumulativeRevenueB_1['orders'], label='B')\n",
    "plt.title('Кумулятивный средний чек по группам, \"очищеные\" данные')\n",
    "plt.legend();"
   ]
  },
  {
   "cell_type": "code",
   "execution_count": 51,
   "metadata": {
    "scrolled": true
   },
   "outputs": [
    {
     "data": {
      "image/png": "[encoded data removed]",
      "text/plain": [
       "<Figure size 864x288 with 1 Axes>"
      ]
     },
     "metadata": {
      "needs_background": "light"
     },
     "output_type": "display_data"
    }
   ],
   "source": [
    "# собираем данные в одном датафрейме\n",
    "mergedCumulativeRevenue_1 = cumulativeRevenueA_1.merge(cumulativeRevenueB_1, left_on='date', right_on='date', how='left', suffixes=['A', 'B'])\n",
    "plt.figure(figsize=(12, 4))\n",
    "plt.title('Относительные изменения кумулятивного среднего чека группы B к группе A, \"очищеные\" данные')\n",
    "# cтроим отношение средних чеков\n",
    "plt.plot(mergedCumulativeRevenue_1['date'], (mergedCumulativeRevenue_1['revenueB']/mergedCumulativeRevenue_1['ordersB'])/(mergedCumulativeRevenue_1['revenueA']/mergedCumulativeRevenue_1['ordersA'])-1)\n",
    "\n",
    "# добавляем ось X\n",
    "plt.axhline(y=0, color='black', linestyle='--');"
   ]
  },
  {
   "cell_type": "code",
   "execution_count": 52,
   "metadata": {
    "scrolled": true
   },
   "outputs": [
    {
     "data": {
      "image/png": "[encoded data removed]",
      "text/plain": [
       "<Figure size 864x288 with 1 Axes>"
      ]
     },
     "metadata": {
      "needs_background": "light"
     },
     "output_type": "display_data"
    }
   ],
   "source": [
    "# Построим графики среднего чека по группам — разделим кумулятивную выручку на кумулятивное число заказов:\n",
    "plt.figure(figsize=(12, 4))\n",
    "plt.plot(cumulativeRevenueA['date'], cumulativeRevenueA['revenue']/cumulativeRevenueA['orders'], label='A')\n",
    "plt.plot(cumulativeRevenueB['date'], cumulativeRevenueB['revenue']/cumulativeRevenueB['orders'], label='B')\n",
    "plt.title('Кумулятивный средний чек по группам, \"очищеные\" данные')\n",
    "plt.legend();"
   ]
  },
  {
   "cell_type": "code",
   "execution_count": 53,
   "metadata": {
    "scrolled": false
   },
   "outputs": [
    {
     "data": {
      "image/png": "[encoded data removed]",
      "text/plain": [
       "<Figure size 864x288 with 1 Axes>"
      ]
     },
     "metadata": {
      "needs_background": "light"
     },
     "output_type": "display_data"
    }
   ],
   "source": [
    "# считаем кумулятивную конверсию\n",
    "cumulativeData_1['conversion'] = cumulativeData_1['orders']/cumulativeData_1['visitors']\n",
    "\n",
    "# отделяем данные по группе A\n",
    "cumulativeDataA_1 = cumulativeData_1[cumulativeData['group']=='A']\n",
    "\n",
    "# отделяем данные по группе B\n",
    "cumulativeDataB_1 = cumulativeData_1[cumulativeData_1['group']=='B']\n",
    "\n",
    "# строим графики\n",
    "plt.figure(figsize=(12, 4))\n",
    "plt.title('Кумулятивное среднее количество заказов на посетителя (конверсия), \"очищеные\" данные')\n",
    "plt.plot(cumulativeDataA_1['date'], cumulativeDataA_1['conversion'], label='A')\n",
    "plt.plot(cumulativeDataB_1['date'], cumulativeDataB_1['conversion'], label='B')\n",
    "plt.legend();"
   ]
  },
  {
   "cell_type": "code",
   "execution_count": 54,
   "metadata": {
    "scrolled": true
   },
   "outputs": [
    {
     "data": {
      "image/png": "[encoded data removed]",
      "text/plain": [
       "<Figure size 1152x288 with 1 Axes>"
      ]
     },
     "metadata": {
      "needs_background": "light"
     },
     "output_type": "display_data"
    }
   ],
   "source": [
    "mergedCumulativeConversions_1 = cumulativeDataA_1[['date','conversion']].merge(cumulativeDataB_1[['date','conversion']], left_on='date', right_on='date', how='left', suffixes=['A', 'B'])\n",
    "plt.figure(figsize=(16, 4))\n",
    "plt.title('Относительное изменение кумулятивного среднего количества заказов на посетителя группы B к группе A')\n",
    "plt.plot(mergedCumulativeConversions_1['date'], mergedCumulativeConversions_1['conversionB']/mergedCumulativeConversions_1['conversionA']-1, label=\"Относительный прирост конверсии группы B относительно группы A\")\n",
    "plt.legend()\n",
    "\n",
    "plt.axhline(y=0, color='black', linestyle='--')\n",
    "plt.axhline(y=-0.1, color='grey', linestyle='--')\n",
    "plt.axis([cumulativeDataA_1['date'].min(), cumulativeDataA_1['date'].max(), -0.3, 0.3]);"
   ]
  },
  {
   "cell_type": "markdown",
   "metadata": {},
   "source": [
    "## Общий вывод:"
   ]
  },
  {
   "cell_type": "markdown",
   "metadata": {},
   "source": [
    "### На основании общей информации по датафрейму hypothesis:\n",
    "1. Привели названия столбцов к нижему регистру. "
   ]
  },
  {
   "cell_type": "markdown",
   "metadata": {},
   "source": [
    "### На основании общей информации по датафрейму orders сделал следующие выводы:\n",
    "1. Столбец `date` перевели в формат datetime;\n",
    "2. Есть аномалии в столбце `revenue`, без изменений, т.к. необходимы в анализе и влияют ли они на его результат.\n",
    "3. Группа A состоит из 503 пользователей, а В из 586 пользователей. Может показаться, что это может влиять на анализ, но мы используем в анализе усредненные показатели(средний чек, средне кол-во заказов)\n"
   ]
  },
  {
   "cell_type": "markdown",
   "metadata": {},
   "source": [
    "### На основании общей информации по датафрейму visitors сделал следующие выводы:\n",
    "1.  Столбец `date` перевели в формат datetime."
   ]
  },
  {
   "cell_type": "markdown",
   "metadata": {},
   "source": [
    "### Применение фреймворк ICE для приоритизации гипотез. \n",
    "Применение фреймворк ICE показало, что перспективные гипотезы №№ 8, 0 и 7.\n",
    "\n",
    "Гипотезы №№ 5, 3 и 4 имеют самые низкие приоритеты.\n",
    "\n",
    "|№ |\tкраткое описание гипотезы\t|ICE|\n",
    "|:---|:-------|:----:|\n",
    "|8\t|Запустить акцию, дающую скидку на товар в день рождения\t|16.200000|\n",
    "|0\t|Добавить два новых канала привлечения трафика, что позволит привлекать на 30% больше пользователей\t|13.333333|\n",
    "|7|\tДобавить форму подписки на все основные страницы, чтобы собрать базу клиентов для email-рассылок\t|11.200000|\n",
    "|6|\tПоказать на главной странице баннеры с актуальными акциями и распродажами, чтобы увеличить конверсию\t|8.000000||\n",
    "|2\t|Добавить блоки рекомендаций товаров на сайт интернет магазина, чтобы повысить конверсию и средний чек заказа\t|7.000000|\n",
    "|1\t|Запустить собственную службу доставки, что сократит срок доставки заказов\t|2.000000|\n",
    "|5\t|Добавить страницу отзывов клиентов о магазине, что позволит увеличить количество заказов\t|1.333333|\n",
    "|3|\tИзменить структура категорий, что увеличит конверсию, т.к. пользователи быстрее найдут нужный товар\t|1.125000|\n",
    "|4\t|Изменить цвет фона главной страницы, чтобы увеличить вовлеченность пользователей\t|1.000000|"
   ]
  },
  {
   "cell_type": "markdown",
   "metadata": {},
   "source": [
    "### Применение фреймворк RICE для приоритизации гипотез. \n",
    "Применение фреймворк RICE показало, что перспективные гипотезы №№ 7, 2 и 0.\n",
    "\n",
    "Гипотезы №№ 1, 5 и 4 имеют самые низкие приоритеты.\n",
    "\n",
    "|№ |\tкраткое описание гипотезы\t|RICE|\n",
    "|:---|:-------|:----:|\n",
    "|7\t|Добавить форму подписки на все основные страницы, чтобы собрать базу клиентов для email-рассылок\t|112.0|\n",
    "|2\t|Добавить блоки рекомендаций товаров на сайт интернет магазина, чтобы повысить конверсию и средний чек заказа\t|56.0|\n",
    "|0\t|Добавить два новых канала привлечения трафика, что позволит привлекать на 30% больше пользователей\t|40.0|\n",
    "|6\t|Показать на главной странице баннеры с актуальными акциями и распродажами, чтобы увеличить конверсию\t|40.0|\n",
    "|8\t|Запустить акцию, дающую скидку на товар в день рождения\t|16.2|\n",
    "|3|\tИзменить структура категорий, что увеличит конверсию, т.к. пользователи быстрее найдут нужный товар\t|9.0|\n",
    "|1|\tЗапустить собственную службу доставки, что сократит срок доставки заказов\t|4.0|\n",
    "|5|\tДобавить страницу отзывов клиентов о магазине, что позволит увеличить количество заказов\t|4.0|\n",
    "|4|\tИзменить цвет фона главной страницы, чтобы увеличить вовлеченность пользователей\t|3.0|"
   ]
  },
  {
   "cell_type": "markdown",
   "metadata": {},
   "source": [
    "### Изменения приоритизация гипотез при применении RICE вместо ICE. \n",
    "- Применение фреймворк ICE показало, что перспективные гипотезы №№ 8, 0 и 7.\n",
    "- Применение фреймворк RICE показало, что перспективные гипотезы №№ 7, 2 и 0.\n",
    "- Среди тройки лидеров по фреймворкам ICE и RICE оставались только гипотезы №№ 0 и 7. \n",
    "- Лидер по ICE гипотеза №8 стала по RICE только пятым! Гипотеза № 7 с третьего места по ICE стала лидером по RICE. Гипотеза №2 с пятого места по ICE заняла второе место по RICE. Гипотеза № 0 со второго места по ICE стала третьей по RICE.\n",
    "- Данные изменения связаны с параметром `Reach` — охват пользователей. Самый высокий (10) он у гипотезы №7, что позволило ей стать самой перспективной гипотезой по RICE, вызвано, скорее всего тем, что при подписки 100% пользователей указывают свою эл.почту. Самый низкий (1) у гипотезы №5, что уронило ее рейтинг по RICE, вызвано, скорее всего тем, что дату рождения указывает около 10% пользователей. "
   ]
  },
  {
   "cell_type": "markdown",
   "metadata": {},
   "source": [
    "### Построение графика кумулятивной выручки по группам. \n",
    "Выручка почти равномерно увеличивается в течение всего теста. Это хорошо.\n",
    "\n",
    "В начале теста группы вели себя раномерно, затем группа `B` обогнала группe `A` и осталась выше до конца  теста. \n",
    "\n",
    "Однако в группе `B` есть резкий скачок. Возможно, что это всплеск числа заказов, либо появление очень дорогих заказов в выборке. "
   ]
  },
  {
   "cell_type": "markdown",
   "metadata": {},
   "source": [
    "### Построение графика кумулятивного среднего чека по группам.\n",
    "Средний чек группы `A` стал равномерным с середины теста. \n",
    "Средний чек группы `B` имеет в середине теста скачок и продолжает падать. Возможно, в группу `B` попали крупные заказы (резкий всплеск на графике). Тогда ей нужно больше данных, чтобы прийти к реальному среднему чеку или очистить данные от аномалий."
   ]
  },
  {
   "cell_type": "markdown",
   "metadata": {},
   "source": [
    "### Построение графика относительного изменения кумулятивного среднего чека группы B к группе A\n",
    "В нескольких точках график различия между сегментами резко «скачет». Где-то уж точно спрятались крупные заказы и выбросы!"
   ]
  },
  {
   "cell_type": "markdown",
   "metadata": {},
   "source": [
    "### Построение графика кумулятивного среднего количества заказов на посетителя по группам\n",
    "В начале теста группы колебались около одного значения, но затем конверсия группы `B` вырвалась вперёд и зафиксировалась, а конверсия группы `A` просела и также зафиксировалась."
   ]
  },
  {
   "cell_type": "markdown",
   "metadata": {},
   "source": [
    "### Построение графика относительного изменения кумулятивного среднего количества заказов на посетителя группы B к группе A. \n",
    "В начале теста группа `B` проигрывала группе `A`, затем вырвалась вперёд и стабилизировалась. Но еще держим в уме аномалии, возможно, они приукрашивают картину. "
   ]
  },
  {
   "cell_type": "markdown",
   "metadata": {},
   "source": [
    "### Построение точечного графика количества заказов по пользователям. \n",
    "Большинство покупателей заказывали только один раз. Доля пользователей с 2 заказами тоже значительна. \n",
    "Незначительную долю занимают пользователи от 3 заказов, но точная доля не ясна — непонятно, считать их аномалиями или нет. \n"
   ]
  },
  {
   "cell_type": "markdown",
   "metadata": {},
   "source": [
    "### Посчитали 95-й и 99-й перцентили количества заказов на пользователя. \n",
    "95% пользователей делали до 2 заказов включительно, пользователей с 3 и более заказами можно считать приятными для бизнеса аномалиями."
   ]
  },
  {
   "cell_type": "markdown",
   "metadata": {},
   "source": [
    "### Построение точечного график стоимостей заказов\n",
    "Основная масса стоимости закзов находится в пределах 100 000, но точные рамки расчитаем ниже. "
   ]
  },
  {
   "cell_type": "markdown",
   "metadata": {},
   "source": [
    "### Посчитали 95-й и 99-й перцентили стоимости заказов\n",
    "95% заказов стоят до 28000, 99% заказов стоят до 58233. Возьму за аномалии заказы до 30 000. "
   ]
  },
  {
   "cell_type": "markdown",
   "metadata": {},
   "source": [
    "### Посчитаем статистическую значимость различий в среднем количестве заказов на посетителя между группами по «сырым» данным\n",
    "Вывод: По «сырым» данным различия в среднем числе заказов групп A и B есть. Т.к. p-value = 0.017 меньше 0.05. Значит, нулевую гипотезу о том, что статистически значимых различий в среднем числе заказов между группами нет, отвергаем. Однако относительный выигрыш группы B равен 13.8% — второе число в выводе."
   ]
  },
  {
   "cell_type": "markdown",
   "metadata": {},
   "source": [
    "### Посчитаем статистическую значимость различий в среднем чеке заказа между группами по «сырым» данным\n",
    "Вывод: По «сырым» данным различий в среднем чеке групп A и B нет, т.к. p-value = 0.729 значительно больше 0.05. Значит, причин отвергать нулевую гипотезу и считать, что в среднем чеке есть различия, нет. Впрочем, средний чек группы B значительно выше среднего чека группы A."
   ]
  },
  {
   "cell_type": "markdown",
   "metadata": {},
   "source": [
    "### Посчитайте статистическую значимость различий в среднем количестве заказов на посетителя между группами между группами по «очищенным» данным.  \n",
    "Вывод: По «очищиным» данным различия в среднем числе заказов групп `A` и `B` так же есть. Т.к. p-value = 0.013 меньше 0.05. Значит, нулевую гипотезу о том, что статистически значимых различий в среднем числе заказов между группами нет, отвергаем. Однако относительный выигрыш группы `B` равен 17.2% — второе число в выводе. Т.е. по \"очищенным\" данным, кол-во заказов растет в группе `B` больше, чем по \"сырым\".\n"
   ]
  },
  {
   "cell_type": "markdown",
   "metadata": {},
   "source": [
    "### Посчитали статистическую значимость различий в среднем чеке заказа между группами по «очищенным» данным.\n",
    "P-value практически не изменился, но разница между сегментами сократилась с 26% до 2%. Вывод: По «очищенным» данным различий в среднем чеке групп A и B нет, т.к. p-value = 0.720 значительно больше 0.05. Значит, причин отвергать нулевую гипотезу и считать, что в среднем чеке есть различия, нет. Средний чек группы B по «очищенным» данным всего на 2,3% ниже среднего чека группы A."
   ]
  },
  {
   "attachments": {
    "image-2.png": {
     "image/png": "[encoded data removed]"
    },
    "image-3.png": {
     "image/png": "[encoded data removed]"
    },
    "image-4.png": {
     "image/png": "[encoded data removed]"
    },
    "image.png": {
     "image/png": "[encoded data removed]"
    }
   },
   "cell_type": "markdown",
   "metadata": {},
   "source": [
    "### Решение по результатам теста \n",
    "\n",
    "Имеющиеся факты:\n",
    "- Есть статистически значимое различие по среднему количеству заказов между группами и по «сырым», и по «очищенным» данным;\n",
    "- Нет статистически значимого различия по среднему чеку между группами ни по «сырым», ни по «очищенным» данным;\n",
    "- График различия среднего количества заказов по \"сырым\" данным между группами сообщает, что результаты группы B лучше группы A:\n",
    "![image.png](attachment:image.png)\n",
    "- График различия среднего количества заказов по \"очищенным\" данным между группами практически повторяет график по \"сырым\" данным:\n",
    "![image-3.png](attachment:image-3.png)\n",
    "- По графику различия среднего чека по \"сырым\" данным выводы сделать не возможно, кроме наличия скачков, связаных с аномалиями:\n",
    "![image-2.png](attachment:image-2.png)\n",
    "- График различия среднего чека по \"очищенным\" данным показывает стабилизацию изменений средних чеков групп с середины теста:\n",
    "![image-4.png](attachment:image-4.png)\n",
    "\n",
    "Исходя из обнаруженных фактов, тест можно остановить и признать его успешным. \n",
    "Он показал рост среднего количества заказов в группе `B`, хотя средний чек остался на прежнем уровне. "
   ]
  }
 ],
 "metadata": {
  "ExecuteTimeLog": [
   {
    "duration": 354,
    "start_time": "2023-03-07T02:32:03.458Z"
   },
   {
    "duration": 200,
    "start_time": "2023-03-07T02:35:33.645Z"
   },
   {
    "duration": 3,
    "start_time": "2023-03-07T02:35:36.527Z"
   },
   {
    "duration": 41,
    "start_time": "2023-03-07T02:35:54.225Z"
   },
   {
    "duration": 37,
    "start_time": "2023-03-07T02:37:01.415Z"
   },
   {
    "duration": 28,
    "start_time": "2023-03-07T02:37:09.736Z"
   },
   {
    "duration": 68,
    "start_time": "2023-03-07T02:49:15.373Z"
   },
   {
    "duration": 13,
    "start_time": "2023-03-07T02:51:30.707Z"
   },
   {
    "duration": 6,
    "start_time": "2023-03-07T02:51:32.796Z"
   },
   {
    "duration": 30,
    "start_time": "2023-03-07T02:51:48.228Z"
   },
   {
    "duration": 1136,
    "start_time": "2023-03-07T02:56:11.971Z"
   },
   {
    "duration": 4,
    "start_time": "2023-03-07T02:58:44.210Z"
   },
   {
    "duration": 8,
    "start_time": "2023-03-07T02:58:49.198Z"
   },
   {
    "duration": 10,
    "start_time": "2023-03-07T02:59:18.140Z"
   },
   {
    "duration": 3,
    "start_time": "2023-03-07T03:03:23.840Z"
   },
   {
    "duration": 10,
    "start_time": "2023-03-07T03:03:25.964Z"
   },
   {
    "duration": 8,
    "start_time": "2023-03-07T03:05:42.580Z"
   },
   {
    "duration": 9,
    "start_time": "2023-03-07T03:19:08.373Z"
   },
   {
    "duration": 10,
    "start_time": "2023-03-07T03:19:18.694Z"
   },
   {
    "duration": 10,
    "start_time": "2023-03-07T03:24:29.907Z"
   },
   {
    "duration": 380,
    "start_time": "2023-03-07T03:44:28.828Z"
   },
   {
    "duration": 6,
    "start_time": "2023-03-07T03:45:57.678Z"
   },
   {
    "duration": 156,
    "start_time": "2023-03-07T03:47:28.982Z"
   },
   {
    "duration": 109,
    "start_time": "2023-03-07T03:53:33.057Z"
   },
   {
    "duration": 10,
    "start_time": "2023-03-07T03:54:19.453Z"
   },
   {
    "duration": 154,
    "start_time": "2023-03-07T03:55:36.508Z"
   },
   {
    "duration": 156,
    "start_time": "2023-03-07T03:55:52.818Z"
   },
   {
    "duration": 113,
    "start_time": "2023-03-07T03:56:07.658Z"
   },
   {
    "duration": 11,
    "start_time": "2023-03-07T03:56:18.048Z"
   },
   {
    "duration": 241,
    "start_time": "2023-03-07T03:56:36.047Z"
   },
   {
    "duration": 185,
    "start_time": "2023-03-07T03:56:40.358Z"
   },
   {
    "duration": 221,
    "start_time": "2023-03-07T03:57:08.297Z"
   },
   {
    "duration": 170,
    "start_time": "2023-03-07T03:59:27.967Z"
   },
   {
    "duration": 2,
    "start_time": "2023-03-07T04:12:49.138Z"
   },
   {
    "duration": 193,
    "start_time": "2023-03-07T04:13:34.507Z"
   },
   {
    "duration": 175,
    "start_time": "2023-03-07T04:15:00.683Z"
   },
   {
    "duration": 163,
    "start_time": "2023-03-07T04:20:27.808Z"
   },
   {
    "duration": 266,
    "start_time": "2023-03-07T04:23:47.178Z"
   },
   {
    "duration": 302,
    "start_time": "2023-03-07T04:24:43.323Z"
   },
   {
    "duration": 300,
    "start_time": "2023-03-07T04:25:01.338Z"
   },
   {
    "duration": 213,
    "start_time": "2023-03-07T04:30:10.967Z"
   },
   {
    "duration": 198,
    "start_time": "2023-03-07T04:33:01.879Z"
   },
   {
    "duration": 301,
    "start_time": "2023-03-07T04:36:01.187Z"
   },
   {
    "duration": 401,
    "start_time": "2023-03-07T04:36:34.258Z"
   },
   {
    "duration": 16,
    "start_time": "2023-03-07T04:41:51.678Z"
   },
   {
    "duration": 8,
    "start_time": "2023-03-07T04:43:03.648Z"
   },
   {
    "duration": 10,
    "start_time": "2023-03-07T04:43:44.328Z"
   },
   {
    "duration": 116,
    "start_time": "2023-03-07T04:43:50.022Z"
   },
   {
    "duration": 298,
    "start_time": "2023-03-07T04:46:45.928Z"
   },
   {
    "duration": 295,
    "start_time": "2023-03-07T04:46:56.338Z"
   },
   {
    "duration": 118,
    "start_time": "2023-03-07T04:47:50.207Z"
   },
   {
    "duration": 5,
    "start_time": "2023-03-07T04:52:26.087Z"
   },
   {
    "duration": 3,
    "start_time": "2023-03-07T04:52:47.858Z"
   },
   {
    "duration": 129,
    "start_time": "2023-03-07T04:57:40.632Z"
   },
   {
    "duration": 128,
    "start_time": "2023-03-07T04:58:29.308Z"
   },
   {
    "duration": 4,
    "start_time": "2023-03-07T05:01:37.138Z"
   },
   {
    "duration": 215,
    "start_time": "2023-03-07T05:20:42.827Z"
   },
   {
    "duration": 121,
    "start_time": "2023-03-07T05:21:02.083Z"
   },
   {
    "duration": 9,
    "start_time": "2023-03-07T05:22:23.142Z"
   },
   {
    "duration": 8,
    "start_time": "2023-03-07T05:22:40.632Z"
   },
   {
    "duration": 521,
    "start_time": "2023-03-07T05:23:23.992Z"
   },
   {
    "duration": 31,
    "start_time": "2023-03-07T05:23:28.642Z"
   },
   {
    "duration": 3,
    "start_time": "2023-03-07T05:24:42.290Z"
   },
   {
    "duration": 21,
    "start_time": "2023-03-07T05:24:46.917Z"
   },
   {
    "duration": 19,
    "start_time": "2023-03-07T05:35:14.863Z"
   },
   {
    "duration": 25,
    "start_time": "2023-03-07T05:35:37.098Z"
   },
   {
    "duration": 11,
    "start_time": "2023-03-07T06:11:52.187Z"
   },
   {
    "duration": 19,
    "start_time": "2023-03-07T06:21:41.542Z"
   },
   {
    "duration": 4,
    "start_time": "2023-03-07T06:22:11.227Z"
   },
   {
    "duration": 9,
    "start_time": "2023-03-07T06:22:19.158Z"
   },
   {
    "duration": 11,
    "start_time": "2023-03-07T06:23:35.977Z"
   },
   {
    "duration": 6,
    "start_time": "2023-03-07T06:25:50.717Z"
   },
   {
    "duration": 11,
    "start_time": "2023-03-07T06:26:31.047Z"
   },
   {
    "duration": 10,
    "start_time": "2023-03-07T06:27:15.143Z"
   },
   {
    "duration": 8,
    "start_time": "2023-03-07T06:28:13.004Z"
   },
   {
    "duration": 12,
    "start_time": "2023-03-07T06:28:30.863Z"
   },
   {
    "duration": 3,
    "start_time": "2023-03-07T06:28:48.978Z"
   },
   {
    "duration": 12,
    "start_time": "2023-03-07T06:30:22.278Z"
   },
   {
    "duration": 12,
    "start_time": "2023-03-07T06:30:38.863Z"
   },
   {
    "duration": 11,
    "start_time": "2023-03-07T06:31:53.442Z"
   },
   {
    "duration": 21,
    "start_time": "2023-03-07T06:32:02.697Z"
   },
   {
    "duration": 19,
    "start_time": "2023-03-07T06:32:46.488Z"
   },
   {
    "duration": 14,
    "start_time": "2023-03-07T06:37:48.489Z"
   },
   {
    "duration": 14,
    "start_time": "2023-03-07T06:48:35.347Z"
   },
   {
    "duration": 23,
    "start_time": "2023-03-07T10:37:00.359Z"
   },
   {
    "duration": 15,
    "start_time": "2023-03-07T10:38:10.565Z"
   },
   {
    "duration": 4,
    "start_time": "2023-03-07T10:39:51.074Z"
   },
   {
    "duration": 6,
    "start_time": "2023-03-07T10:41:05.528Z"
   },
   {
    "duration": 180,
    "start_time": "2023-03-07T10:42:19.727Z"
   },
   {
    "duration": 157,
    "start_time": "2023-03-07T10:42:56.767Z"
   },
   {
    "duration": 16,
    "start_time": "2023-03-07T10:43:27.326Z"
   },
   {
    "duration": 183,
    "start_time": "2023-03-07T10:43:44.622Z"
   },
   {
    "duration": 13,
    "start_time": "2023-03-07T10:43:48.687Z"
   },
   {
    "duration": 244,
    "start_time": "2023-03-07T10:45:52.615Z"
   },
   {
    "duration": 218,
    "start_time": "2023-03-07T10:46:56.526Z"
   },
   {
    "duration": 335,
    "start_time": "2023-03-07T10:49:58.030Z"
   },
   {
    "duration": 255,
    "start_time": "2023-03-07T10:55:00.330Z"
   },
   {
    "duration": 207,
    "start_time": "2023-03-07T10:55:43.776Z"
   },
   {
    "duration": 382,
    "start_time": "2023-03-07T10:58:38.124Z"
   },
   {
    "duration": 1339,
    "start_time": "2023-03-07T11:11:04.890Z"
   },
   {
    "duration": 133,
    "start_time": "2023-03-07T11:11:06.238Z"
   },
   {
    "duration": 7,
    "start_time": "2023-03-07T11:11:06.374Z"
   },
   {
    "duration": 72,
    "start_time": "2023-03-07T11:11:06.384Z"
   },
   {
    "duration": 69,
    "start_time": "2023-03-07T11:11:06.462Z"
   },
   {
    "duration": 65,
    "start_time": "2023-03-07T11:11:06.536Z"
   },
   {
    "duration": 3,
    "start_time": "2023-03-07T11:11:06.603Z"
   },
   {
    "duration": 28,
    "start_time": "2023-03-07T11:11:06.608Z"
   },
   {
    "duration": 40,
    "start_time": "2023-03-07T11:11:06.638Z"
   },
   {
    "duration": 9,
    "start_time": "2023-03-07T11:11:06.680Z"
   },
   {
    "duration": 12,
    "start_time": "2023-03-07T11:11:06.691Z"
   },
   {
    "duration": 17,
    "start_time": "2023-03-07T11:11:06.705Z"
   },
   {
    "duration": 19,
    "start_time": "2023-03-07T11:11:06.724Z"
   },
   {
    "duration": 45,
    "start_time": "2023-03-07T11:11:06.746Z"
   },
   {
    "duration": 9,
    "start_time": "2023-03-07T11:11:06.793Z"
   },
   {
    "duration": 212,
    "start_time": "2023-03-07T11:11:06.804Z"
   },
   {
    "duration": 155,
    "start_time": "2023-03-07T11:11:07.018Z"
   },
   {
    "duration": 24,
    "start_time": "2023-03-07T11:11:07.174Z"
   },
   {
    "duration": 318,
    "start_time": "2023-03-07T11:11:07.200Z"
   },
   {
    "duration": 223,
    "start_time": "2023-03-07T11:11:07.520Z"
   },
   {
    "duration": 350,
    "start_time": "2023-03-07T11:11:07.745Z"
   },
   {
    "duration": 262,
    "start_time": "2023-03-07T11:11:08.097Z"
   },
   {
    "duration": 329,
    "start_time": "2023-03-07T11:11:08.361Z"
   },
   {
    "duration": 8,
    "start_time": "2023-03-07T11:11:08.692Z"
   },
   {
    "duration": 143,
    "start_time": "2023-03-07T11:11:08.702Z"
   },
   {
    "duration": 5,
    "start_time": "2023-03-07T11:11:08.846Z"
   },
   {
    "duration": 187,
    "start_time": "2023-03-07T11:11:08.853Z"
   },
   {
    "duration": 6,
    "start_time": "2023-03-07T11:11:09.041Z"
   },
   {
    "duration": 270,
    "start_time": "2023-03-07T11:11:09.050Z"
   },
   {
    "duration": 176,
    "start_time": "2023-03-07T11:11:09.322Z"
   },
   {
    "duration": 9,
    "start_time": "2023-03-07T11:11:09.500Z"
   },
   {
    "duration": 38,
    "start_time": "2023-03-07T11:11:09.511Z"
   },
   {
    "duration": 31,
    "start_time": "2023-03-07T11:11:09.552Z"
   },
   {
    "duration": 12,
    "start_time": "2023-03-07T11:11:09.585Z"
   },
   {
    "duration": 13,
    "start_time": "2023-03-07T11:11:09.599Z"
   },
   {
    "duration": 32,
    "start_time": "2023-03-07T11:11:09.613Z"
   },
   {
    "duration": 47,
    "start_time": "2023-03-07T11:11:09.648Z"
   },
   {
    "duration": 5,
    "start_time": "2023-03-07T11:11:09.697Z"
   },
   {
    "duration": 14,
    "start_time": "2023-03-07T11:11:09.704Z"
   },
   {
    "duration": 208,
    "start_time": "2023-03-07T11:11:09.721Z"
   },
   {
    "duration": 164,
    "start_time": "2023-03-07T11:11:09.933Z"
   },
   {
    "duration": 14,
    "start_time": "2023-03-07T11:11:10.099Z"
   },
   {
    "duration": 357,
    "start_time": "2023-03-07T11:11:10.114Z"
   },
   {
    "duration": 222,
    "start_time": "2023-03-07T11:11:10.472Z"
   },
   {
    "duration": 371,
    "start_time": "2023-03-07T11:11:10.695Z"
   },
   {
    "duration": 240,
    "start_time": "2023-03-07T11:11:11.070Z"
   },
   {
    "duration": 393,
    "start_time": "2023-03-07T11:11:11.312Z"
   },
   {
    "duration": 126,
    "start_time": "2023-03-07T11:17:26.774Z"
   },
   {
    "duration": 264,
    "start_time": "2023-03-07T11:18:14.707Z"
   },
   {
    "duration": 104,
    "start_time": "2023-03-07T11:18:50.573Z"
   },
   {
    "duration": 10,
    "start_time": "2023-03-07T11:19:05.074Z"
   },
   {
    "duration": 24,
    "start_time": "2023-03-07T11:20:14.228Z"
   },
   {
    "duration": 227,
    "start_time": "2023-03-07T11:31:41.719Z"
   },
   {
    "duration": 1241,
    "start_time": "2023-03-07T11:41:23.611Z"
   },
   {
    "duration": 113,
    "start_time": "2023-03-07T11:41:24.856Z"
   },
   {
    "duration": 6,
    "start_time": "2023-03-07T11:41:24.975Z"
   },
   {
    "duration": 80,
    "start_time": "2023-03-07T11:41:24.984Z"
   },
   {
    "duration": 46,
    "start_time": "2023-03-07T11:41:25.072Z"
   },
   {
    "duration": 9,
    "start_time": "2023-03-07T11:41:25.120Z"
   },
   {
    "duration": 96,
    "start_time": "2023-03-07T11:41:25.131Z"
   },
   {
    "duration": 7,
    "start_time": "2023-03-07T11:41:25.228Z"
   },
   {
    "duration": 48,
    "start_time": "2023-03-07T11:41:25.248Z"
   },
   {
    "duration": 12,
    "start_time": "2023-03-07T11:41:25.299Z"
   },
   {
    "duration": 10,
    "start_time": "2023-03-07T11:41:25.313Z"
   },
   {
    "duration": 22,
    "start_time": "2023-03-07T11:41:25.325Z"
   },
   {
    "duration": 43,
    "start_time": "2023-03-07T11:41:25.349Z"
   },
   {
    "duration": 17,
    "start_time": "2023-03-07T11:41:25.394Z"
   },
   {
    "duration": 24,
    "start_time": "2023-03-07T11:41:25.413Z"
   },
   {
    "duration": 57,
    "start_time": "2023-03-07T11:41:25.439Z"
   },
   {
    "duration": 208,
    "start_time": "2023-03-07T11:41:25.497Z"
   },
   {
    "duration": 160,
    "start_time": "2023-03-07T11:41:25.707Z"
   },
   {
    "duration": 18,
    "start_time": "2023-03-07T11:41:25.869Z"
   },
   {
    "duration": 358,
    "start_time": "2023-03-07T11:41:25.891Z"
   },
   {
    "duration": 222,
    "start_time": "2023-03-07T11:41:26.252Z"
   },
   {
    "duration": 273,
    "start_time": "2023-03-07T11:41:26.477Z"
   },
   {
    "duration": 253,
    "start_time": "2023-03-07T11:41:26.752Z"
   },
   {
    "duration": 376,
    "start_time": "2023-03-07T11:41:27.007Z"
   },
   {
    "duration": 12,
    "start_time": "2023-03-07T11:41:27.390Z"
   },
   {
    "duration": 172,
    "start_time": "2023-03-07T11:41:27.404Z"
   },
   {
    "duration": 7,
    "start_time": "2023-03-07T11:41:27.578Z"
   },
   {
    "duration": 172,
    "start_time": "2023-03-07T11:41:27.590Z"
   },
   {
    "duration": 6,
    "start_time": "2023-03-07T11:41:27.768Z"
   },
   {
    "duration": 250,
    "start_time": "2023-03-07T11:41:27.776Z"
   },
   {
    "duration": 166,
    "start_time": "2023-03-07T11:41:28.028Z"
   },
   {
    "duration": 8,
    "start_time": "2023-03-07T11:41:28.196Z"
   },
   {
    "duration": 42,
    "start_time": "2023-03-07T11:41:28.205Z"
   },
   {
    "duration": 25,
    "start_time": "2023-03-07T11:41:28.248Z"
   },
   {
    "duration": 18,
    "start_time": "2023-03-07T11:41:28.275Z"
   },
   {
    "duration": 13,
    "start_time": "2023-03-07T11:41:28.294Z"
   },
   {
    "duration": 25,
    "start_time": "2023-03-07T11:41:28.309Z"
   },
   {
    "duration": 21,
    "start_time": "2023-03-07T11:41:28.336Z"
   },
   {
    "duration": 29,
    "start_time": "2023-03-07T11:41:28.361Z"
   },
   {
    "duration": 12,
    "start_time": "2023-03-07T11:41:28.392Z"
   },
   {
    "duration": 8,
    "start_time": "2023-03-07T11:41:28.405Z"
   },
   {
    "duration": 191,
    "start_time": "2023-03-07T11:41:28.414Z"
   },
   {
    "duration": 142,
    "start_time": "2023-03-07T11:41:28.607Z"
   },
   {
    "duration": 27,
    "start_time": "2023-03-07T11:41:28.751Z"
   },
   {
    "duration": 339,
    "start_time": "2023-03-07T11:41:28.780Z"
   },
   {
    "duration": 220,
    "start_time": "2023-03-07T11:41:29.121Z"
   },
   {
    "duration": 309,
    "start_time": "2023-03-07T11:41:29.343Z"
   },
   {
    "duration": 225,
    "start_time": "2023-03-07T11:41:29.656Z"
   },
   {
    "duration": 229,
    "start_time": "2023-03-07T11:41:29.883Z"
   },
   {
    "duration": 367,
    "start_time": "2023-03-07T11:41:30.114Z"
   },
   {
    "duration": 222,
    "start_time": "2023-03-07T11:41:30.483Z"
   },
   {
    "duration": 1318,
    "start_time": "2023-03-07T12:20:02.667Z"
   },
   {
    "duration": 78,
    "start_time": "2023-03-07T12:20:03.987Z"
   },
   {
    "duration": 5,
    "start_time": "2023-03-07T12:20:04.067Z"
   },
   {
    "duration": 74,
    "start_time": "2023-03-07T12:20:04.075Z"
   },
   {
    "duration": 82,
    "start_time": "2023-03-07T12:20:04.151Z"
   },
   {
    "duration": 14,
    "start_time": "2023-03-07T12:20:04.235Z"
   },
   {
    "duration": 85,
    "start_time": "2023-03-07T12:20:04.251Z"
   },
   {
    "duration": 4,
    "start_time": "2023-03-07T12:20:04.338Z"
   },
   {
    "duration": 38,
    "start_time": "2023-03-07T12:20:04.344Z"
   },
   {
    "duration": 37,
    "start_time": "2023-03-07T12:20:04.385Z"
   },
   {
    "duration": 36,
    "start_time": "2023-03-07T12:20:04.424Z"
   },
   {
    "duration": 47,
    "start_time": "2023-03-07T12:20:04.461Z"
   },
   {
    "duration": 21,
    "start_time": "2023-03-07T12:20:04.511Z"
   },
   {
    "duration": 29,
    "start_time": "2023-03-07T12:20:04.534Z"
   },
   {
    "duration": 41,
    "start_time": "2023-03-07T12:20:04.565Z"
   },
   {
    "duration": 14,
    "start_time": "2023-03-07T12:20:04.608Z"
   },
   {
    "duration": 201,
    "start_time": "2023-03-07T12:20:04.623Z"
   },
   {
    "duration": 155,
    "start_time": "2023-03-07T12:20:04.826Z"
   },
   {
    "duration": 14,
    "start_time": "2023-03-07T12:20:04.983Z"
   },
   {
    "duration": 311,
    "start_time": "2023-03-07T12:20:04.999Z"
   },
   {
    "duration": 208,
    "start_time": "2023-03-07T12:20:05.312Z"
   },
   {
    "duration": 309,
    "start_time": "2023-03-07T12:20:05.530Z"
   },
   {
    "duration": 233,
    "start_time": "2023-03-07T12:20:05.840Z"
   },
   {
    "duration": 319,
    "start_time": "2023-03-07T12:20:06.075Z"
   },
   {
    "duration": 13,
    "start_time": "2023-03-07T12:20:06.396Z"
   },
   {
    "duration": 155,
    "start_time": "2023-03-07T12:20:06.411Z"
   },
   {
    "duration": 5,
    "start_time": "2023-03-07T12:20:06.568Z"
   },
   {
    "duration": 239,
    "start_time": "2023-03-07T12:20:06.577Z"
   },
   {
    "duration": 5,
    "start_time": "2023-03-07T12:20:06.817Z"
   },
   {
    "duration": 231,
    "start_time": "2023-03-07T12:20:06.824Z"
   },
   {
    "duration": 162,
    "start_time": "2023-03-07T12:20:07.057Z"
   },
   {
    "duration": 7,
    "start_time": "2023-03-07T12:20:07.230Z"
   },
   {
    "duration": 44,
    "start_time": "2023-03-07T12:20:07.239Z"
   },
   {
    "duration": 62,
    "start_time": "2023-03-07T12:20:07.284Z"
   },
   {
    "duration": 36,
    "start_time": "2023-03-07T12:20:07.348Z"
   },
   {
    "duration": 96,
    "start_time": "2023-03-07T12:20:07.385Z"
   },
   {
    "duration": 29,
    "start_time": "2023-03-07T12:20:07.483Z"
   },
   {
    "duration": 15,
    "start_time": "2023-03-07T12:20:07.514Z"
   },
   {
    "duration": 33,
    "start_time": "2023-03-07T12:20:07.531Z"
   },
   {
    "duration": 31,
    "start_time": "2023-03-07T12:20:07.566Z"
   },
   {
    "duration": 8,
    "start_time": "2023-03-07T12:20:07.599Z"
   },
   {
    "duration": 189,
    "start_time": "2023-03-07T12:20:07.609Z"
   },
   {
    "duration": 136,
    "start_time": "2023-03-07T12:20:07.800Z"
   },
   {
    "duration": 12,
    "start_time": "2023-03-07T12:20:07.938Z"
   },
   {
    "duration": 301,
    "start_time": "2023-03-07T12:20:07.952Z"
   },
   {
    "duration": 189,
    "start_time": "2023-03-07T12:20:08.255Z"
   },
   {
    "duration": 299,
    "start_time": "2023-03-07T12:20:08.446Z"
   },
   {
    "duration": 241,
    "start_time": "2023-03-07T12:20:08.747Z"
   },
   {
    "duration": 200,
    "start_time": "2023-03-07T12:20:08.990Z"
   },
   {
    "duration": 362,
    "start_time": "2023-03-07T12:20:09.191Z"
   },
   {
    "duration": 146,
    "start_time": "2023-03-07T16:16:17.915Z"
   },
   {
    "duration": 52,
    "start_time": "2023-03-07T16:25:34.941Z"
   },
   {
    "duration": 1729,
    "start_time": "2023-03-07T16:25:52.286Z"
   },
   {
    "duration": 275,
    "start_time": "2023-03-07T16:25:54.018Z"
   },
   {
    "duration": 8,
    "start_time": "2023-03-07T16:25:54.295Z"
   },
   {
    "duration": 61,
    "start_time": "2023-03-07T16:25:54.305Z"
   },
   {
    "duration": 54,
    "start_time": "2023-03-07T16:25:54.368Z"
   },
   {
    "duration": 11,
    "start_time": "2023-03-07T16:25:54.424Z"
   },
   {
    "duration": 84,
    "start_time": "2023-03-07T16:26:09.127Z"
   },
   {
    "duration": 23,
    "start_time": "2023-03-07T16:26:19.395Z"
   },
   {
    "duration": 22,
    "start_time": "2023-03-07T16:26:42.713Z"
   },
   {
    "duration": 20,
    "start_time": "2023-03-07T16:27:11.091Z"
   },
   {
    "duration": 20,
    "start_time": "2023-03-07T16:27:29.207Z"
   },
   {
    "duration": 21,
    "start_time": "2023-03-07T16:28:45.012Z"
   },
   {
    "duration": 20,
    "start_time": "2023-03-07T16:29:09.151Z"
   },
   {
    "duration": 33,
    "start_time": "2023-03-07T16:29:15.101Z"
   },
   {
    "duration": 36,
    "start_time": "2023-03-07T16:29:50.621Z"
   },
   {
    "duration": 19,
    "start_time": "2023-03-07T16:32:13.821Z"
   },
   {
    "duration": 426,
    "start_time": "2023-03-07T16:33:07.297Z"
   },
   {
    "duration": 21,
    "start_time": "2023-03-07T16:33:20.395Z"
   },
   {
    "duration": 37,
    "start_time": "2023-03-07T16:33:33.762Z"
   },
   {
    "duration": 16,
    "start_time": "2023-03-07T16:33:49.129Z"
   },
   {
    "duration": 17,
    "start_time": "2023-03-07T16:36:54.721Z"
   },
   {
    "duration": 10,
    "start_time": "2023-03-07T16:37:53.071Z"
   },
   {
    "duration": 13,
    "start_time": "2023-03-07T16:38:10.696Z"
   },
   {
    "duration": 4,
    "start_time": "2023-03-07T16:38:29.152Z"
   },
   {
    "duration": 16,
    "start_time": "2023-03-07T16:38:55.101Z"
   },
   {
    "duration": 1721,
    "start_time": "2023-03-07T16:42:56.171Z"
   },
   {
    "duration": 1598,
    "start_time": "2023-03-07T16:43:02.901Z"
   },
   {
    "duration": 12,
    "start_time": "2023-03-07T16:43:15.641Z"
   },
   {
    "duration": 12,
    "start_time": "2023-03-07T16:43:22.111Z"
   },
   {
    "duration": 11,
    "start_time": "2023-03-07T16:43:31.202Z"
   },
   {
    "duration": 14,
    "start_time": "2023-03-07T16:48:10.541Z"
   },
   {
    "duration": 13,
    "start_time": "2023-03-07T16:48:46.737Z"
   },
   {
    "duration": 14,
    "start_time": "2023-03-07T16:49:08.211Z"
   },
   {
    "duration": 1456,
    "start_time": "2023-03-07T17:07:09.066Z"
   },
   {
    "duration": 4,
    "start_time": "2023-03-07T17:07:15.603Z"
   },
   {
    "duration": 100,
    "start_time": "2023-03-07T17:07:15.610Z"
   },
   {
    "duration": 4,
    "start_time": "2023-03-07T17:07:15.712Z"
   },
   {
    "duration": 50,
    "start_time": "2023-03-07T17:07:15.718Z"
   },
   {
    "duration": 60,
    "start_time": "2023-03-07T17:07:15.770Z"
   },
   {
    "duration": 9,
    "start_time": "2023-03-07T17:07:15.832Z"
   },
   {
    "duration": 53,
    "start_time": "2023-03-07T17:07:15.843Z"
   },
   {
    "duration": 3,
    "start_time": "2023-03-07T17:07:15.898Z"
   },
   {
    "duration": 16,
    "start_time": "2023-03-07T17:07:15.903Z"
   },
   {
    "duration": 16,
    "start_time": "2023-03-07T17:07:15.923Z"
   },
   {
    "duration": 22,
    "start_time": "2023-03-07T17:07:15.941Z"
   },
   {
    "duration": 35,
    "start_time": "2023-03-07T17:07:15.964Z"
   },
   {
    "duration": 3,
    "start_time": "2023-03-07T17:07:16.002Z"
   },
   {
    "duration": 12,
    "start_time": "2023-03-07T17:07:16.007Z"
   },
   {
    "duration": 12,
    "start_time": "2023-03-07T17:07:24.011Z"
   },
   {
    "duration": 27,
    "start_time": "2023-03-07T17:07:43.673Z"
   },
   {
    "duration": 11,
    "start_time": "2023-03-07T17:07:47.911Z"
   },
   {
    "duration": 1451,
    "start_time": "2023-03-08T00:25:53.043Z"
   },
   {
    "duration": 199,
    "start_time": "2023-03-08T00:25:54.497Z"
   },
   {
    "duration": 4,
    "start_time": "2023-03-08T00:25:54.698Z"
   },
   {
    "duration": 52,
    "start_time": "2023-03-08T00:25:54.704Z"
   },
   {
    "duration": 45,
    "start_time": "2023-03-08T00:25:54.758Z"
   },
   {
    "duration": 10,
    "start_time": "2023-03-08T00:25:54.806Z"
   },
   {
    "duration": 60,
    "start_time": "2023-03-08T00:25:54.818Z"
   },
   {
    "duration": 3,
    "start_time": "2023-03-08T00:25:54.880Z"
   },
   {
    "duration": 16,
    "start_time": "2023-03-08T00:25:54.885Z"
   },
   {
    "duration": 5,
    "start_time": "2023-03-08T00:25:54.905Z"
   },
   {
    "duration": 20,
    "start_time": "2023-03-08T00:25:54.912Z"
   },
   {
    "duration": 49,
    "start_time": "2023-03-08T00:25:54.933Z"
   },
   {
    "duration": 4,
    "start_time": "2023-03-08T00:25:54.984Z"
   },
   {
    "duration": 12,
    "start_time": "2023-03-08T00:25:54.990Z"
   },
   {
    "duration": 13,
    "start_time": "2023-03-08T00:25:55.004Z"
   },
   {
    "duration": 13,
    "start_time": "2023-03-08T00:25:55.019Z"
   },
   {
    "duration": 13,
    "start_time": "2023-03-08T00:25:55.034Z"
   },
   {
    "duration": 8,
    "start_time": "2023-03-08T00:25:55.074Z"
   },
   {
    "duration": 189,
    "start_time": "2023-03-08T00:25:55.084Z"
   },
   {
    "duration": 145,
    "start_time": "2023-03-08T00:25:55.275Z"
   },
   {
    "duration": 14,
    "start_time": "2023-03-08T00:25:55.422Z"
   },
   {
    "duration": 310,
    "start_time": "2023-03-08T00:25:55.438Z"
   },
   {
    "duration": 209,
    "start_time": "2023-03-08T00:25:55.750Z"
   },
   {
    "duration": 377,
    "start_time": "2023-03-08T00:25:55.961Z"
   },
   {
    "duration": 228,
    "start_time": "2023-03-08T00:25:56.340Z"
   },
   {
    "duration": 333,
    "start_time": "2023-03-08T00:25:56.573Z"
   },
   {
    "duration": 10,
    "start_time": "2023-03-08T00:25:56.908Z"
   },
   {
    "duration": 154,
    "start_time": "2023-03-08T00:25:56.921Z"
   },
   {
    "duration": 5,
    "start_time": "2023-03-08T00:25:57.077Z"
   },
   {
    "duration": 162,
    "start_time": "2023-03-08T00:25:57.084Z"
   },
   {
    "duration": 4,
    "start_time": "2023-03-08T00:25:57.248Z"
   },
   {
    "duration": 243,
    "start_time": "2023-03-08T00:25:57.254Z"
   },
   {
    "duration": 147,
    "start_time": "2023-03-08T00:25:57.499Z"
   },
   {
    "duration": 7,
    "start_time": "2023-03-08T00:25:57.648Z"
   },
   {
    "duration": 39,
    "start_time": "2023-03-08T00:25:57.657Z"
   },
   {
    "duration": 12,
    "start_time": "2023-03-08T00:25:57.698Z"
   },
   {
    "duration": 10,
    "start_time": "2023-03-08T00:25:57.713Z"
   },
   {
    "duration": 13,
    "start_time": "2023-03-08T00:25:57.725Z"
   },
   {
    "duration": 49,
    "start_time": "2023-03-08T00:25:57.740Z"
   },
   {
    "duration": 15,
    "start_time": "2023-03-08T00:25:57.790Z"
   },
   {
    "duration": 7,
    "start_time": "2023-03-08T00:25:57.806Z"
   },
   {
    "duration": 13,
    "start_time": "2023-03-08T00:25:57.815Z"
   },
   {
    "duration": 13,
    "start_time": "2023-03-08T00:25:57.830Z"
   },
   {
    "duration": 196,
    "start_time": "2023-03-08T00:25:57.845Z"
   },
   {
    "duration": 138,
    "start_time": "2023-03-08T00:25:58.043Z"
   },
   {
    "duration": 15,
    "start_time": "2023-03-08T00:25:58.182Z"
   },
   {
    "duration": 332,
    "start_time": "2023-03-08T00:25:58.198Z"
   },
   {
    "duration": 213,
    "start_time": "2023-03-08T00:25:58.532Z"
   },
   {
    "duration": 353,
    "start_time": "2023-03-08T00:25:58.747Z"
   },
   {
    "duration": 227,
    "start_time": "2023-03-08T00:25:59.102Z"
   },
   {
    "duration": 211,
    "start_time": "2023-03-08T00:25:59.331Z"
   },
   {
    "duration": 361,
    "start_time": "2023-03-08T00:25:59.544Z"
   },
   {
    "duration": 45,
    "start_time": "2023-03-08T00:28:52.217Z"
   },
   {
    "duration": 105,
    "start_time": "2023-03-08T00:29:01.648Z"
   },
   {
    "duration": 15,
    "start_time": "2023-03-08T00:34:20.001Z"
   },
   {
    "duration": 3,
    "start_time": "2023-03-08T00:37:53.692Z"
   },
   {
    "duration": 78,
    "start_time": "2023-03-08T00:38:18.147Z"
   },
   {
    "duration": 16,
    "start_time": "2023-03-08T00:38:30.216Z"
   },
   {
    "duration": 11,
    "start_time": "2023-03-08T00:39:00.609Z"
   },
   {
    "duration": 8,
    "start_time": "2023-03-08T00:39:04.332Z"
   },
   {
    "duration": 9,
    "start_time": "2023-03-08T00:39:37.409Z"
   },
   {
    "duration": 341,
    "start_time": "2023-03-08T00:42:08.301Z"
   },
   {
    "duration": 335,
    "start_time": "2023-03-08T00:42:40.862Z"
   },
   {
    "duration": 16,
    "start_time": "2023-03-08T00:43:05.449Z"
   },
   {
    "duration": 10,
    "start_time": "2023-03-08T00:56:00.642Z"
   },
   {
    "duration": 11,
    "start_time": "2023-03-08T00:57:02.282Z"
   },
   {
    "duration": 314,
    "start_time": "2023-03-08T00:57:09.930Z"
   },
   {
    "duration": 7,
    "start_time": "2023-03-08T00:58:15.353Z"
   },
   {
    "duration": 17,
    "start_time": "2023-03-08T00:58:30.642Z"
   },
   {
    "duration": 10,
    "start_time": "2023-03-08T01:00:02.168Z"
   },
   {
    "duration": 7,
    "start_time": "2023-03-08T01:00:51.948Z"
   },
   {
    "duration": 11,
    "start_time": "2023-03-08T01:01:16.218Z"
   },
   {
    "duration": 8,
    "start_time": "2023-03-08T01:05:31.113Z"
   },
   {
    "duration": 13,
    "start_time": "2023-03-08T01:06:09.328Z"
   },
   {
    "duration": 93,
    "start_time": "2023-03-08T01:07:56.262Z"
   },
   {
    "duration": 18,
    "start_time": "2023-03-08T01:08:48.907Z"
   },
   {
    "duration": 22,
    "start_time": "2023-03-08T01:09:02.117Z"
   },
   {
    "duration": 16,
    "start_time": "2023-03-08T01:09:27.460Z"
   },
   {
    "duration": 15,
    "start_time": "2023-03-08T01:09:34.523Z"
   },
   {
    "duration": 15,
    "start_time": "2023-03-08T01:09:43.457Z"
   },
   {
    "duration": 16,
    "start_time": "2023-03-08T01:10:09.457Z"
   },
   {
    "duration": 21,
    "start_time": "2023-03-08T01:10:29.979Z"
   },
   {
    "duration": 1208,
    "start_time": "2023-03-08T01:10:58.314Z"
   },
   {
    "duration": 79,
    "start_time": "2023-03-08T01:10:59.524Z"
   },
   {
    "duration": 4,
    "start_time": "2023-03-08T01:10:59.604Z"
   },
   {
    "duration": 97,
    "start_time": "2023-03-08T01:10:59.611Z"
   },
   {
    "duration": 63,
    "start_time": "2023-03-08T01:10:59.710Z"
   },
   {
    "duration": 13,
    "start_time": "2023-03-08T01:10:59.776Z"
   },
   {
    "duration": 47,
    "start_time": "2023-03-08T01:10:59.791Z"
   },
   {
    "duration": 3,
    "start_time": "2023-03-08T01:10:59.840Z"
   },
   {
    "duration": 35,
    "start_time": "2023-03-08T01:10:59.844Z"
   },
   {
    "duration": 6,
    "start_time": "2023-03-08T01:10:59.882Z"
   },
   {
    "duration": 36,
    "start_time": "2023-03-08T01:10:59.890Z"
   },
   {
    "duration": 30,
    "start_time": "2023-03-08T01:10:59.928Z"
   },
   {
    "duration": 41,
    "start_time": "2023-03-08T01:10:59.960Z"
   },
   {
    "duration": 50,
    "start_time": "2023-03-08T01:11:00.003Z"
   },
   {
    "duration": 27,
    "start_time": "2023-03-08T01:11:00.055Z"
   },
   {
    "duration": 25,
    "start_time": "2023-03-08T01:11:00.084Z"
   },
   {
    "duration": 248,
    "start_time": "2023-03-08T01:11:00.111Z"
   },
   {
    "duration": 0,
    "start_time": "2023-03-08T01:11:00.361Z"
   },
   {
    "duration": 0,
    "start_time": "2023-03-08T01:11:00.363Z"
   },
   {
    "duration": 0,
    "start_time": "2023-03-08T01:11:00.364Z"
   },
   {
    "duration": 0,
    "start_time": "2023-03-08T01:11:00.366Z"
   },
   {
    "duration": 0,
    "start_time": "2023-03-08T01:11:00.375Z"
   },
   {
    "duration": 0,
    "start_time": "2023-03-08T01:11:00.376Z"
   },
   {
    "duration": 0,
    "start_time": "2023-03-08T01:11:00.378Z"
   },
   {
    "duration": 0,
    "start_time": "2023-03-08T01:11:00.380Z"
   },
   {
    "duration": 0,
    "start_time": "2023-03-08T01:11:00.381Z"
   },
   {
    "duration": 0,
    "start_time": "2023-03-08T01:11:00.382Z"
   },
   {
    "duration": 0,
    "start_time": "2023-03-08T01:11:00.383Z"
   },
   {
    "duration": 0,
    "start_time": "2023-03-08T01:11:00.385Z"
   },
   {
    "duration": 0,
    "start_time": "2023-03-08T01:11:00.387Z"
   },
   {
    "duration": 0,
    "start_time": "2023-03-08T01:11:00.390Z"
   },
   {
    "duration": 0,
    "start_time": "2023-03-08T01:11:00.393Z"
   },
   {
    "duration": 0,
    "start_time": "2023-03-08T01:11:00.394Z"
   },
   {
    "duration": 0,
    "start_time": "2023-03-08T01:11:00.395Z"
   },
   {
    "duration": 0,
    "start_time": "2023-03-08T01:11:00.396Z"
   },
   {
    "duration": 0,
    "start_time": "2023-03-08T01:11:00.397Z"
   },
   {
    "duration": 0,
    "start_time": "2023-03-08T01:11:00.398Z"
   },
   {
    "duration": 0,
    "start_time": "2023-03-08T01:11:00.399Z"
   },
   {
    "duration": 0,
    "start_time": "2023-03-08T01:11:00.405Z"
   },
   {
    "duration": 0,
    "start_time": "2023-03-08T01:11:00.408Z"
   },
   {
    "duration": 0,
    "start_time": "2023-03-08T01:11:00.409Z"
   },
   {
    "duration": 0,
    "start_time": "2023-03-08T01:11:00.411Z"
   },
   {
    "duration": 0,
    "start_time": "2023-03-08T01:11:00.413Z"
   },
   {
    "duration": 0,
    "start_time": "2023-03-08T01:11:00.414Z"
   },
   {
    "duration": 0,
    "start_time": "2023-03-08T01:11:00.415Z"
   },
   {
    "duration": 0,
    "start_time": "2023-03-08T01:11:00.417Z"
   },
   {
    "duration": 0,
    "start_time": "2023-03-08T01:11:00.418Z"
   },
   {
    "duration": 0,
    "start_time": "2023-03-08T01:11:00.419Z"
   },
   {
    "duration": 0,
    "start_time": "2023-03-08T01:11:00.420Z"
   },
   {
    "duration": 0,
    "start_time": "2023-03-08T01:11:00.420Z"
   },
   {
    "duration": 0,
    "start_time": "2023-03-08T01:11:00.421Z"
   },
   {
    "duration": 0,
    "start_time": "2023-03-08T01:11:00.422Z"
   },
   {
    "duration": 29,
    "start_time": "2023-03-08T01:11:51.180Z"
   },
   {
    "duration": 10,
    "start_time": "2023-03-08T01:15:58.859Z"
   },
   {
    "duration": 22,
    "start_time": "2023-03-08T01:16:39.309Z"
   },
   {
    "duration": 16,
    "start_time": "2023-03-08T01:16:51.009Z"
   },
   {
    "duration": 24,
    "start_time": "2023-03-08T01:17:07.496Z"
   },
   {
    "duration": 19,
    "start_time": "2023-03-08T01:29:07.059Z"
   },
   {
    "duration": 9,
    "start_time": "2023-03-08T01:30:41.803Z"
   },
   {
    "duration": 8,
    "start_time": "2023-03-08T01:31:35.554Z"
   },
   {
    "duration": 14,
    "start_time": "2023-03-08T01:31:56.328Z"
   },
   {
    "duration": 11,
    "start_time": "2023-03-08T01:32:18.391Z"
   },
   {
    "duration": 8,
    "start_time": "2023-03-08T01:32:40.199Z"
   },
   {
    "duration": 6,
    "start_time": "2023-03-08T01:32:56.553Z"
   },
   {
    "duration": 10,
    "start_time": "2023-03-08T01:34:13.398Z"
   },
   {
    "duration": 1290,
    "start_time": "2023-03-08T01:34:22.117Z"
   },
   {
    "duration": 104,
    "start_time": "2023-03-08T01:34:23.410Z"
   },
   {
    "duration": 5,
    "start_time": "2023-03-08T01:34:23.516Z"
   },
   {
    "duration": 54,
    "start_time": "2023-03-08T01:34:23.524Z"
   },
   {
    "duration": 56,
    "start_time": "2023-03-08T01:34:23.581Z"
   },
   {
    "duration": 9,
    "start_time": "2023-03-08T01:34:23.638Z"
   },
   {
    "duration": 68,
    "start_time": "2023-03-08T01:34:23.649Z"
   },
   {
    "duration": 3,
    "start_time": "2023-03-08T01:34:23.719Z"
   },
   {
    "duration": 15,
    "start_time": "2023-03-08T01:34:23.723Z"
   },
   {
    "duration": 5,
    "start_time": "2023-03-08T01:34:23.741Z"
   },
   {
    "duration": 29,
    "start_time": "2023-03-08T01:34:23.772Z"
   },
   {
    "duration": 25,
    "start_time": "2023-03-08T01:34:23.806Z"
   },
   {
    "duration": 10,
    "start_time": "2023-03-08T01:34:23.834Z"
   },
   {
    "duration": 11,
    "start_time": "2023-03-08T01:34:23.846Z"
   },
   {
    "duration": 20,
    "start_time": "2023-03-08T01:34:23.859Z"
   },
   {
    "duration": 43,
    "start_time": "2023-03-08T01:34:23.881Z"
   },
   {
    "duration": 166,
    "start_time": "2023-03-08T01:34:23.925Z"
   },
   {
    "duration": 0,
    "start_time": "2023-03-08T01:34:24.096Z"
   },
   {
    "duration": 0,
    "start_time": "2023-03-08T01:34:24.098Z"
   },
   {
    "duration": 1,
    "start_time": "2023-03-08T01:34:24.100Z"
   },
   {
    "duration": 0,
    "start_time": "2023-03-08T01:34:24.102Z"
   },
   {
    "duration": 0,
    "start_time": "2023-03-08T01:34:24.106Z"
   },
   {
    "duration": 0,
    "start_time": "2023-03-08T01:34:24.107Z"
   },
   {
    "duration": 0,
    "start_time": "2023-03-08T01:34:24.109Z"
   },
   {
    "duration": 0,
    "start_time": "2023-03-08T01:34:24.109Z"
   },
   {
    "duration": 0,
    "start_time": "2023-03-08T01:34:24.111Z"
   },
   {
    "duration": 0,
    "start_time": "2023-03-08T01:34:24.112Z"
   },
   {
    "duration": 0,
    "start_time": "2023-03-08T01:34:24.114Z"
   },
   {
    "duration": 0,
    "start_time": "2023-03-08T01:34:24.115Z"
   },
   {
    "duration": 0,
    "start_time": "2023-03-08T01:34:24.116Z"
   },
   {
    "duration": 0,
    "start_time": "2023-03-08T01:34:24.117Z"
   },
   {
    "duration": 0,
    "start_time": "2023-03-08T01:34:24.119Z"
   },
   {
    "duration": 0,
    "start_time": "2023-03-08T01:34:24.121Z"
   },
   {
    "duration": 0,
    "start_time": "2023-03-08T01:34:24.122Z"
   },
   {
    "duration": 0,
    "start_time": "2023-03-08T01:34:24.123Z"
   },
   {
    "duration": 0,
    "start_time": "2023-03-08T01:34:24.125Z"
   },
   {
    "duration": 0,
    "start_time": "2023-03-08T01:34:24.126Z"
   },
   {
    "duration": 0,
    "start_time": "2023-03-08T01:34:24.126Z"
   },
   {
    "duration": 0,
    "start_time": "2023-03-08T01:34:24.128Z"
   },
   {
    "duration": 0,
    "start_time": "2023-03-08T01:34:24.129Z"
   },
   {
    "duration": 0,
    "start_time": "2023-03-08T01:34:24.130Z"
   },
   {
    "duration": 0,
    "start_time": "2023-03-08T01:34:24.181Z"
   },
   {
    "duration": 0,
    "start_time": "2023-03-08T01:34:24.183Z"
   },
   {
    "duration": 0,
    "start_time": "2023-03-08T01:34:24.184Z"
   },
   {
    "duration": 1,
    "start_time": "2023-03-08T01:34:24.185Z"
   },
   {
    "duration": 0,
    "start_time": "2023-03-08T01:34:24.187Z"
   },
   {
    "duration": 0,
    "start_time": "2023-03-08T01:34:24.189Z"
   },
   {
    "duration": 0,
    "start_time": "2023-03-08T01:34:24.193Z"
   },
   {
    "duration": 0,
    "start_time": "2023-03-08T01:34:24.194Z"
   },
   {
    "duration": 0,
    "start_time": "2023-03-08T01:34:24.198Z"
   },
   {
    "duration": 0,
    "start_time": "2023-03-08T01:34:24.199Z"
   },
   {
    "duration": 0,
    "start_time": "2023-03-08T01:34:24.201Z"
   },
   {
    "duration": 0,
    "start_time": "2023-03-08T01:34:24.203Z"
   },
   {
    "duration": 0,
    "start_time": "2023-03-08T01:34:24.204Z"
   },
   {
    "duration": 18,
    "start_time": "2023-03-08T01:35:14.032Z"
   },
   {
    "duration": 1209,
    "start_time": "2023-03-08T01:35:21.569Z"
   },
   {
    "duration": 81,
    "start_time": "2023-03-08T01:35:22.781Z"
   },
   {
    "duration": 5,
    "start_time": "2023-03-08T01:35:22.864Z"
   },
   {
    "duration": 67,
    "start_time": "2023-03-08T01:35:22.870Z"
   },
   {
    "duration": 54,
    "start_time": "2023-03-08T01:35:22.940Z"
   },
   {
    "duration": 10,
    "start_time": "2023-03-08T01:35:22.995Z"
   },
   {
    "duration": 41,
    "start_time": "2023-03-08T01:35:23.007Z"
   },
   {
    "duration": 12,
    "start_time": "2023-03-08T01:35:23.074Z"
   },
   {
    "duration": 15,
    "start_time": "2023-03-08T01:35:23.089Z"
   },
   {
    "duration": 8,
    "start_time": "2023-03-08T01:35:23.105Z"
   },
   {
    "duration": 20,
    "start_time": "2023-03-08T01:35:23.115Z"
   },
   {
    "duration": 16,
    "start_time": "2023-03-08T01:35:23.136Z"
   },
   {
    "duration": 36,
    "start_time": "2023-03-08T01:35:23.154Z"
   },
   {
    "duration": 11,
    "start_time": "2023-03-08T01:35:23.194Z"
   },
   {
    "duration": 15,
    "start_time": "2023-03-08T01:35:23.207Z"
   },
   {
    "duration": 16,
    "start_time": "2023-03-08T01:35:23.224Z"
   },
   {
    "duration": 63,
    "start_time": "2023-03-08T01:35:23.241Z"
   },
   {
    "duration": 6,
    "start_time": "2023-03-08T01:35:23.306Z"
   },
   {
    "duration": 202,
    "start_time": "2023-03-08T01:35:23.313Z"
   },
   {
    "duration": 138,
    "start_time": "2023-03-08T01:35:23.516Z"
   },
   {
    "duration": 32,
    "start_time": "2023-03-08T01:35:23.656Z"
   },
   {
    "duration": 309,
    "start_time": "2023-03-08T01:35:23.691Z"
   },
   {
    "duration": 226,
    "start_time": "2023-03-08T01:35:24.002Z"
   },
   {
    "duration": 322,
    "start_time": "2023-03-08T01:35:24.230Z"
   },
   {
    "duration": 264,
    "start_time": "2023-03-08T01:35:24.554Z"
   },
   {
    "duration": 321,
    "start_time": "2023-03-08T01:35:24.820Z"
   },
   {
    "duration": 10,
    "start_time": "2023-03-08T01:35:25.143Z"
   },
   {
    "duration": 199,
    "start_time": "2023-03-08T01:35:25.155Z"
   },
   {
    "duration": 5,
    "start_time": "2023-03-08T01:35:25.356Z"
   },
   {
    "duration": 171,
    "start_time": "2023-03-08T01:35:25.376Z"
   },
   {
    "duration": 5,
    "start_time": "2023-03-08T01:35:25.550Z"
   },
   {
    "duration": 32,
    "start_time": "2023-03-08T01:35:25.558Z"
   },
   {
    "duration": 16,
    "start_time": "2023-03-08T01:35:25.592Z"
   },
   {
    "duration": 316,
    "start_time": "2023-03-08T01:35:25.610Z"
   },
   {
    "duration": 161,
    "start_time": "2023-03-08T01:35:25.928Z"
   },
   {
    "duration": 7,
    "start_time": "2023-03-08T01:35:26.092Z"
   },
   {
    "duration": 25,
    "start_time": "2023-03-08T01:35:26.101Z"
   },
   {
    "duration": 12,
    "start_time": "2023-03-08T01:35:26.128Z"
   },
   {
    "duration": 40,
    "start_time": "2023-03-08T01:35:26.142Z"
   },
   {
    "duration": 13,
    "start_time": "2023-03-08T01:35:26.188Z"
   },
   {
    "duration": 24,
    "start_time": "2023-03-08T01:35:26.205Z"
   },
   {
    "duration": 15,
    "start_time": "2023-03-08T01:35:26.231Z"
   },
   {
    "duration": 18,
    "start_time": "2023-03-08T01:35:26.248Z"
   },
   {
    "duration": 18,
    "start_time": "2023-03-08T01:35:26.276Z"
   },
   {
    "duration": 6,
    "start_time": "2023-03-08T01:35:26.296Z"
   },
   {
    "duration": 197,
    "start_time": "2023-03-08T01:35:26.304Z"
   },
   {
    "duration": 149,
    "start_time": "2023-03-08T01:35:26.503Z"
   },
   {
    "duration": 22,
    "start_time": "2023-03-08T01:35:26.654Z"
   },
   {
    "duration": 239,
    "start_time": "2023-03-08T01:35:26.683Z"
   },
   {
    "duration": 216,
    "start_time": "2023-03-08T01:35:26.923Z"
   },
   {
    "duration": 351,
    "start_time": "2023-03-08T01:35:27.141Z"
   },
   {
    "duration": 222,
    "start_time": "2023-03-08T01:35:27.493Z"
   },
   {
    "duration": 218,
    "start_time": "2023-03-08T01:35:27.717Z"
   },
   {
    "duration": 368,
    "start_time": "2023-03-08T01:35:27.937Z"
   },
   {
    "duration": 70,
    "start_time": "2023-03-08T01:37:42.986Z"
   },
   {
    "duration": 111,
    "start_time": "2023-03-08T01:38:36.192Z"
   },
   {
    "duration": 5,
    "start_time": "2023-03-08T01:38:42.258Z"
   },
   {
    "duration": 5,
    "start_time": "2023-03-08T01:40:02.489Z"
   },
   {
    "duration": 5,
    "start_time": "2023-03-08T01:41:12.737Z"
   },
   {
    "duration": 5,
    "start_time": "2023-03-08T01:41:48.747Z"
   },
   {
    "duration": 1026,
    "start_time": "2023-03-08T05:29:34.891Z"
   },
   {
    "duration": 84,
    "start_time": "2023-03-08T05:29:35.920Z"
   },
   {
    "duration": 3,
    "start_time": "2023-03-08T05:29:36.006Z"
   },
   {
    "duration": 62,
    "start_time": "2023-03-08T05:29:36.012Z"
   },
   {
    "duration": 65,
    "start_time": "2023-03-08T05:29:36.076Z"
   },
   {
    "duration": 9,
    "start_time": "2023-03-08T05:29:36.143Z"
   },
   {
    "duration": 38,
    "start_time": "2023-03-08T05:29:36.153Z"
   },
   {
    "duration": 3,
    "start_time": "2023-03-08T05:29:36.193Z"
   },
   {
    "duration": 40,
    "start_time": "2023-03-08T05:29:36.197Z"
   },
   {
    "duration": 15,
    "start_time": "2023-03-08T05:29:36.239Z"
   },
   {
    "duration": 47,
    "start_time": "2023-03-08T05:29:36.256Z"
   },
   {
    "duration": 14,
    "start_time": "2023-03-08T05:29:36.305Z"
   },
   {
    "duration": 25,
    "start_time": "2023-03-08T05:29:36.321Z"
   },
   {
    "duration": 28,
    "start_time": "2023-03-08T05:29:36.348Z"
   },
   {
    "duration": 24,
    "start_time": "2023-03-08T05:29:36.380Z"
   },
   {
    "duration": 28,
    "start_time": "2023-03-08T05:29:36.405Z"
   },
   {
    "duration": 77,
    "start_time": "2023-03-08T05:29:36.436Z"
   },
   {
    "duration": 6,
    "start_time": "2023-03-08T05:29:36.515Z"
   },
   {
    "duration": 172,
    "start_time": "2023-03-08T05:29:36.523Z"
   },
   {
    "duration": 118,
    "start_time": "2023-03-08T05:29:36.697Z"
   },
   {
    "duration": 23,
    "start_time": "2023-03-08T05:29:36.817Z"
   },
   {
    "duration": 264,
    "start_time": "2023-03-08T05:29:36.842Z"
   },
   {
    "duration": 174,
    "start_time": "2023-03-08T05:29:37.107Z"
   },
   {
    "duration": 269,
    "start_time": "2023-03-08T05:29:37.283Z"
   },
   {
    "duration": 199,
    "start_time": "2023-03-08T05:29:37.554Z"
   },
   {
    "duration": 292,
    "start_time": "2023-03-08T05:29:37.755Z"
   },
   {
    "duration": 10,
    "start_time": "2023-03-08T05:29:38.049Z"
   },
   {
    "duration": 137,
    "start_time": "2023-03-08T05:29:38.063Z"
   },
   {
    "duration": 5,
    "start_time": "2023-03-08T05:29:38.202Z"
   },
   {
    "duration": 152,
    "start_time": "2023-03-08T05:29:38.208Z"
   },
   {
    "duration": 4,
    "start_time": "2023-03-08T05:29:38.362Z"
   },
   {
    "duration": 8,
    "start_time": "2023-03-08T05:29:38.368Z"
   },
   {
    "duration": 10,
    "start_time": "2023-03-08T05:29:38.378Z"
   },
   {
    "duration": 295,
    "start_time": "2023-03-08T05:29:38.390Z"
   },
   {
    "duration": 149,
    "start_time": "2023-03-08T05:29:38.687Z"
   },
   {
    "duration": 6,
    "start_time": "2023-03-08T05:29:38.838Z"
   },
   {
    "duration": 25,
    "start_time": "2023-03-08T05:29:38.845Z"
   },
   {
    "duration": 10,
    "start_time": "2023-03-08T05:29:38.871Z"
   },
   {
    "duration": 9,
    "start_time": "2023-03-08T05:29:38.883Z"
   },
   {
    "duration": 12,
    "start_time": "2023-03-08T05:29:38.893Z"
   },
   {
    "duration": 41,
    "start_time": "2023-03-08T05:29:38.907Z"
   },
   {
    "duration": 15,
    "start_time": "2023-03-08T05:29:38.950Z"
   },
   {
    "duration": 4,
    "start_time": "2023-03-08T05:29:38.966Z"
   },
   {
    "duration": 13,
    "start_time": "2023-03-08T05:29:38.972Z"
   },
   {
    "duration": 11,
    "start_time": "2023-03-08T05:29:38.987Z"
   },
   {
    "duration": 172,
    "start_time": "2023-03-08T05:29:38.999Z"
   },
   {
    "duration": 115,
    "start_time": "2023-03-08T05:29:39.173Z"
   },
   {
    "duration": 11,
    "start_time": "2023-03-08T05:29:39.290Z"
   },
   {
    "duration": 186,
    "start_time": "2023-03-08T05:29:39.303Z"
   },
   {
    "duration": 172,
    "start_time": "2023-03-08T05:29:39.491Z"
   },
   {
    "duration": 257,
    "start_time": "2023-03-08T05:29:39.665Z"
   },
   {
    "duration": 188,
    "start_time": "2023-03-08T05:29:39.931Z"
   },
   {
    "duration": 235,
    "start_time": "2023-03-08T05:29:40.121Z"
   },
   {
    "duration": 305,
    "start_time": "2023-03-08T05:29:40.357Z"
   }
  ],
  "kernelspec": {
   "display_name": "Python 3 (ipykernel)",
   "language": "python",
   "name": "python3"
  },
  "language_info": {
   "codemirror_mode": {
    "name": "ipython",
    "version": 3
   },
   "file_extension": ".py",
   "mimetype": "text/x-python",
   "name": "python",
   "nbconvert_exporter": "python",
   "pygments_lexer": "ipython3",
   "version": "3.9.12"
  },
  "toc": {
   "base_numbering": 1,
   "nav_menu": {},
   "number_sections": true,
   "sideBar": true,
   "skip_h1_title": true,
   "title_cell": "Table of Contents",
   "title_sidebar": "Contents",
   "toc_cell": false,
   "toc_position": {
    "height": "calc(100% - 180px)",
    "left": "10px",
    "top": "150px",
    "width": "258.594px"
   },
   "toc_section_display": true,
   "toc_window_display": false
  }
 },
 "nbformat": 4,
 "nbformat_minor": 2
}
