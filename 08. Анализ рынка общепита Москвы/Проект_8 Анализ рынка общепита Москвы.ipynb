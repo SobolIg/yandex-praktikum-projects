{
 "cells": [
  {
   "cell_type": "markdown",
   "metadata": {},
   "source": [
    "# Краткое описание проекта\n",
    "\n",
    "На основании датасета с заведениями общественного питания Москвы подготовить исследование рынка Москвы, найти интересные особенности и презентовать полученные результаты, которые в будущем помогут в выборе подходящего инвесторам места.\n",
    "\n",
    "# Цель проекта\n",
    "## Шаг 1. Загрузить данные и изучить общую информацию:\n",
    "### Сколько заведений представлено? \n",
    "### Что можно сказать о каждом столбце? Значения какого типа они хранят? \n",
    "## Шаг 2. Выполнить предобработку данных:\n",
    "### Изучить, есть ли дубликаты в данных. \n",
    "### Изучить пропуски: встречаются ли они, в каких столбцах? Можно ли их обработать или оставить как есть?\n",
    "### Выполнить предобработку данных:\n",
    "#### Создадим столбец street с названиями улиц из столбца с адресом.\n",
    "#### Создадим столбец is_24/7 с обозначением, что заведение работает ежедневно и круглосуточно (24/7): \n",
    " - логическое значение True — если заведение работает ежедневно и круглосуточно;\n",
    " - логическое значение False — в противоположном случае.\n",
    "\n",
    "## Шаг 3. Анализ данных\n",
    "### Какие категории заведений представлены в данных? Исследуем количество объектов общественного питания по категориям: рестораны, кофейни, пиццерии, бары и так далее. Построем визуализации. Ответим на вопрос о распределении заведений по категориям.\n",
    "### Исследуем количество посадочных мест в местах по категориям: рестораны, кофейни, пиццерии, бары и так далее. Построем визуализации. Проанализируем результаты и сделаем выводы.\n",
    "### Рассмотрим и изобразим соотношение сетевых и несетевых заведений в датасете. Каких заведений больше?\n",
    "### Какие категории заведений чаще являются сетевыми? Исследуем данные и ответим на вопрос графиком.\n",
    "### Сгруппируем данные по названиям заведений и найдем топ-15 популярных сетей в Москве. Построим подходящую для такой информации визуализацию. Знакомы ли нам эти сети? Есть ли какой-то признак, который их объединяет? К какой категории заведений они относятся? \n",
    "### Какие административные районы Москвы присутствуют в датасете? Отобразим общее количество заведений и количество заведений каждой категории по районам. Попробуем проиллюстрировать эту информацию одним графиком.\n",
    "### Визуализируем распределение средних рейтингов по категориям заведений. Узнаем сильно ли различаются усреднённые рейтинги в разных типах общепита.\n",
    "### Построим фоновую картограмму (хороплет) со средним рейтингом заведений каждого района. Границы районов Москвы, которые встречаются в датасете.\n",
    "### Отобразим все заведения датасета на карте с помощью кластеров средствами библиотеки folium.\n",
    "### Найдем топ-15 улиц по количеству заведений. Построим график распределения количества заведений и их категорий по этим улицам. Попробуем проиллюстрировать эту информацию одним графиком.\n",
    "### Найдем улицы, на которых находится только один объект общепита. Что можно сказать об этих заведениях?\n",
    "### Значения средних чеков заведений хранятся в столбце middle_avg_bill. Эти числа показывают примерную стоимость заказа в рублях, которая чаще всего выражена диапазоном. Посчитаем медиану этого столбца для каждого района. Используем это значение в качестве ценового индикатора района. Построим фоновую картограмму (хороплет) с полученными значениями для каждого района. Проанализируем цены в центральном административном округе и других. Как удалённость от центра влияет на цены в заведениях?\n",
    "### Соберем наблюдения по вопросам выше в один общий вывод.\n",
    "\n",
    "## Шаг 4. Детализируем исследование: открытие кофейни\n",
    "### Сколько всего кофеен в датасете? В каких районах их больше всего, каковы особенности их расположения?\n",
    "### Есть ли круглосуточные кофейни?\n",
    "### Какие у кофеен рейтинги? Как они распределяются по районам?\n",
    "### На какую стоимость чашки капучино стоит ориентироваться при открытии и почему?\n",
    "По желанию вы можете расширить список вопросов для исследования, добавив собственные.\n",
    "Постройте визуализации. Попробуйте дать рекомендацию для открытия нового заведения. Это творческое задание: здесь нет правильного или неправильного ответа, но ваше решение должно быть чем-то обосновано. Объяснить свою рекомендацию можно текстом с описанием или маркерами на географической карте.\n",
    "## Шаг 5. Подготовка презентации\n",
    "Подготовьте презентацию исследования для инвесторов. Отвечая на вопросы о московском общепите, вы уже построили много диаграмм, и помещать каждую из них в презентацию не нужно. Выберите важные тезисы и наблюдения, которые могут заинтересовать заказчиков. \n",
    "Для создания презентации используйте любой удобный инструмент, но отправить презентацию нужно обязательно в формате PDF. Приложите ссылку на презентацию в markdown-ячейке в формате:\n",
    "Скопировать код\n",
    "Презентация: <ссылка на облачное хранилище с презентацией> \n",
    "Следуйте принципам оформления из темы «Подготовка презентации».\n",
    "\n",
    "\n",
    "# Описание данных\n",
    "\n",
    "- \t`name` — название заведения;\n",
    "- \t`address` — адрес заведения;\n",
    "- \t`category` — категория заведения, например «кафе», «пиццерия» или «кофейня»;\n",
    "- \t`hours` — информация о днях и часах работы;\n",
    "- \t`lat` — широта географической точки, в которой находится заведение;\n",
    "- \t`lng` — долгота географической точки, в которой находится заведение;\n",
    "- \t`rating` — рейтинг заведения по оценкам пользователей в Яндекс Картах (высшая оценка — 5.0);\n",
    "- \t`price` — категория цен в заведении, например «средние», «ниже среднего», «выше среднего» и так далее;\n",
    "- \t`avg_bill` — строка, которая хранит среднюю стоимость заказа в виде диапазона, например: \n",
    "    - «Средний счёт: 1000–1500 ₽»;\n",
    "    - «Цена чашки капучино: 130–220 ₽»;\n",
    "    - «Цена бокала пива: 400–600 ₽».\n",
    "и так далее;\n",
    "- \t`middle_avg_bill` — число с оценкой среднего чека, которое указано только для значений из столбца avg_bill, начинающихся с подстроки «Средний счёт»: \n",
    "    - Если в строке указан ценовой диапазон из двух значений, в столбец войдёт медиана этих двух значений.\n",
    "    - Если в строке указано одно число — цена без диапазона, то в столбец войдёт это число.\n",
    "    - Если значения нет или оно не начинается с подстроки «Средний счёт», то в столбец ничего не войдёт.\n",
    "- \t`middle_coffee_cup` — число с оценкой одной чашки капучино, которое указано только для значений из столбца avg_bill, начинающихся с подстроки «Цена одной чашки капучино»: \n",
    "    - Если в строке указан ценовой диапазон из двух значений, в столбец войдёт медиана этих двух значений.\n",
    "    - Если в строке указано одно число — цена без диапазона, то в столбец войдёт это число.\n",
    "    - Если значения нет или оно не начинается с подстроки «Цена одной чашки капучино», то в столбец ничего не войдёт.\n",
    "- \t`chain` — число, выраженное 0 или 1, которое показывает, является ли заведение сетевым (для маленьких сетей могут встречаться ошибки);\n",
    "- \t`district` — административный район, в котором находится заведение, например Центральный административный округ;\n",
    "- \t`seats` — количество посадочных мест.\n",
    "\n",
    "\n",
    "# План работы\n",
    "1. Открыть файлы с данными и изучить общую информацию;\n",
    "2. Подготовить данные;\n",
    "3. Провести анализ данных;\n",
    "4. Провести детальный анализ открытие кофейни;\n",
    "5. Подготовить презентацию. \n",
    "\n"
   ]
  },
  {
   "cell_type": "code",
   "execution_count": null,
   "metadata": {},
   "outputs": [],
   "source": [
    "# импортируем библиотеки\n",
    "import pandas as pd\n",
    "import plotly.express as px\n",
    "import numpy as np\n",
    "import matplotlib.pyplot as plt\n",
    "import seaborn as sns\n",
    "import json\n",
    "from folium import Map, Choropleth\n",
    "import folium\n",
    "from folium import Marker, Map\n",
    "from folium.plugins import MarkerCluster\n",
    "import pymorphy2"
   ]
  },
  {
   "cell_type": "code",
   "execution_count": null,
   "metadata": {},
   "outputs": [],
   "source": [
    "# прочитаем файлы и создадим датафреймы\n",
    "moscow_places = pd.read_csv('../datasets/moscow_places.csv') # локальный путь"
   ]
  },
  {
   "cell_type": "code",
   "execution_count": null,
   "metadata": {},
   "outputs": [],
   "source": [
    "# функция для получения общей информации по датасету\n",
    "def get_info(df):\n",
    "    display(df.head())\n",
    "    display(df.tail())\n",
    "    print(df.info())\n",
    "    display(df.describe(include='all', datetime_is_numeric=True))\n",
    "    print('\\nКоличество дубликатов:\\n', df.duplicated().sum())\n",
    "    print('\\nКоличество пустых:\\n', df.isna().sum())\n",
    "    print('\\033[1m'+ 'Уникальные значения'+'\\033[0m'+'\\n')\n",
    "    for i in df.columns.to_list():\n",
    "        if len(df[i].unique()) < 11:\n",
    "            print('\\033[91m'+ 'Признак {} имеет {} следующих уникальных значений:'.format(i, len(df[i].unique()))+'\\033[0m')\n",
    "            print(df[i].unique())\n",
    "            print('\\033[1m' + '---------------------------------------------------------------------------------'+ '\\033[0m') "
   ]
  },
  {
   "cell_type": "code",
   "execution_count": null,
   "metadata": {
    "scrolled": false
   },
   "outputs": [],
   "source": [
    "get_info(moscow_places)"
   ]
  },
  {
   "cell_type": "markdown",
   "metadata": {},
   "source": [
    "## Общая информация\n",
    "### Всего в датасете представлено 8406 заведений;\n",
    "### Информация о столбцах:\n",
    "1. `name` имеет тип  object, пустых нет. \n",
    "2. `category` имеет тип object, пустых нет. \n",
    "3. `address` имеет тип object, пустых нет. \n",
    "4. `district` имеет тип object, пустых нет. \n",
    "5. `hours` имеет тип object, 536 пустых значений. \n",
    "6. `lat` имеет тип float64, пустых нет.\n",
    "7. `lng` имеет тип float64, пустых нет.\n",
    "8. `rating` имеет тип float64, пустых нет.\n",
    "9. `price` имеет тип object, 5091 пустых значений. Посмотреть есть ли информация в `middle_avg_bill` и возможно заменить пропуски. \n",
    "10. `avg_bill` имеет тип object, 4590 пустых значений. Посмотреть есть ли информация в `middle_avg_bill` и возможно заменить пропуски. \n",
    "11. `middle_avg_bill` имеет тип float64, 5257 пустых значений. Проверить нулевой средний чек и максимальные значения.\n",
    "12. `middle_coffee_cup` имеет тип float64, 7871 пустых значений. Проверить цену 1568 руб. \n",
    "13. `chain` имеет тип int64, пустых нет. \n",
    "14. `seats` имеет тип float64, 3611 пустых значений. Посмотреть разбросы и возможно заменить пустые. \n",
    "\n",
    "Все типы данных столбцов соответсвуют описанию данных."
   ]
  },
  {
   "cell_type": "markdown",
   "metadata": {},
   "source": [
    "## Предобработка данных"
   ]
  },
  {
   "cell_type": "code",
   "execution_count": null,
   "metadata": {},
   "outputs": [],
   "source": [
    "moscow_places.duplicated().sum()"
   ]
  },
  {
   "cell_type": "markdown",
   "metadata": {},
   "source": [
    "Проверим на неявные дубликаты. \n",
    "Неявные дубликаты могут быть `name`, `address` и `hours`.\n",
    "Исследуем `name` и  `hours`, `address` полностью проверять не будем, проверим на неявные дубликаты улицы после сздания столбца `street`. "
   ]
  },
  {
   "cell_type": "code",
   "execution_count": null,
   "metadata": {},
   "outputs": [],
   "source": [
    "# посмотрим на сетевые имена, веди там сможем увидеть неявные дубликаты\n",
    "moscow_places.query('chain == 1').sort_values('name')['name'].unique().tolist()"
   ]
  },
  {
   "cell_type": "markdown",
   "metadata": {},
   "source": [
    "Есть отличия по написанию с большой и маленькой буквы. Приведем все в нижний регистр.\n",
    "Проверка на правильность написания не возможно, т.к. правописание и орфография на стороне владельца заведения. Утверждать (для примера), что  Чайхона и Чайхана одно имя мы не можем.\n",
    "Так же заменим ё на е, так как встречается ё и утверждать, что всегда имя через ё мы не можем"
   ]
  },
  {
   "cell_type": "code",
   "execution_count": null,
   "metadata": {
    "scrolled": true
   },
   "outputs": [],
   "source": [
    "# посмотрим сколько уникальных до изменений и после\n",
    "len(moscow_places['name'].unique().tolist())"
   ]
  },
  {
   "cell_type": "code",
   "execution_count": null,
   "metadata": {},
   "outputs": [],
   "source": [
    "# приведем к нижнему регистру\n",
    "moscow_places['name'] = moscow_places['name'].apply(lambda x: x.lower())"
   ]
  },
  {
   "cell_type": "code",
   "execution_count": null,
   "metadata": {
    "scrolled": true
   },
   "outputs": [],
   "source": [
    "len(moscow_places['name'].unique().tolist())"
   ]
  },
  {
   "cell_type": "code",
   "execution_count": null,
   "metadata": {},
   "outputs": [],
   "source": [
    "moscow_places['name'] = moscow_places['name'].apply(lambda x: x.replace('ё', 'е'))"
   ]
  },
  {
   "cell_type": "code",
   "execution_count": null,
   "metadata": {
    "scrolled": true
   },
   "outputs": [],
   "source": [
    "len(moscow_places['name'].unique().tolist())"
   ]
  },
  {
   "cell_type": "markdown",
   "metadata": {},
   "source": [
    "Неявных дубликаты исправили 112 через нижний регистр, 6 через замену ё на е."
   ]
  },
  {
   "cell_type": "code",
   "execution_count": null,
   "metadata": {
    "scrolled": true
   },
   "outputs": [],
   "source": [
    "len(moscow_places['hours'].unique().tolist())"
   ]
  },
  {
   "cell_type": "code",
   "execution_count": null,
   "metadata": {},
   "outputs": [],
   "source": [
    "moscow_places['hours'] = moscow_places.query('~hours.isna()')['hours'].apply(lambda x: str(x).lower())"
   ]
  },
  {
   "cell_type": "code",
   "execution_count": null,
   "metadata": {
    "scrolled": true
   },
   "outputs": [],
   "source": [
    "len(moscow_places['hours'].unique().tolist())"
   ]
  },
  {
   "cell_type": "code",
   "execution_count": null,
   "metadata": {},
   "outputs": [],
   "source": [
    "moscow_places.duplicated().sum()"
   ]
  },
  {
   "cell_type": "markdown",
   "metadata": {},
   "source": [
    "### Дубликатов нет."
   ]
  },
  {
   "cell_type": "markdown",
   "metadata": {},
   "source": [
    "Мы имеем следующие столбцы с пустыми значениями\n",
    "1. `hours` 536 пустых значений. \n",
    "2. `price` имеет тип object, 5091 пустых значений. Посмотреть есть ли информация в `middle_avg_bill` и возможно заменить пропуски. \n",
    "3. `avg_bill` имеет тип object, 4590 пустых значений. Посмотреть есть ли информация в `middle_avg_bill` и возможно заменить пропуски. \n",
    "4. `middle_avg_bill` имеет тип float64, 5257 пустых значений. Проверить нулевой средний чек и максимальные значения.\n",
    "5. `middle_coffee_cup` имеет тип float64, 7871 пустых значений. Проверить максимальные значения.\n",
    "6. `seats` имеет тип float64, 3611 пустых значений. Посмотреть разбросы и возможно заменить пустые. \n",
    "\n"
   ]
  },
  {
   "cell_type": "code",
   "execution_count": null,
   "metadata": {
    "scrolled": true
   },
   "outputs": [],
   "source": [
    "# посмотрим 5-ку популярный режимов работы по категориям заведениям \n",
    "for cat in moscow_places['category'].unique().tolist():\n",
    "    print(\"Категория :\", cat)\n",
    "    print(moscow_places[moscow_places['category'] == cat].groupby('hours').agg({'name':['count']}).sort_values(('name', 'count'), ascending = False).head())\n",
    "    print()"
   ]
  },
  {
   "cell_type": "markdown",
   "metadata": {},
   "source": [
    "По столбцу `hours` сделать выводы по режиму правильно невозможно, но т.к. их достаточно (около 6%) то удалять и изменять не будем. Во всех категория, кроме столовых, есть ежедневно, круглосуточно, но некруглосуточные режимы имеют небольшие различия и поэтому создадим дальше столбец is_24/7 для понимания лучшего режима работы."
   ]
  },
  {
   "cell_type": "code",
   "execution_count": null,
   "metadata": {
    "scrolled": false
   },
   "outputs": [],
   "source": [
    "# проверим есть ли данные в `avg_bill`, но пустые значения в middle_coffee_cup\n",
    "moscow_places.query('price.isna() & ~middle_avg_bill.isna()').shape[0]"
   ]
  },
  {
   "cell_type": "markdown",
   "metadata": {},
   "source": [
    "Есть в `price` пустые ячейки, но есть информация в `middle_avg_bill`. Такую информацию можно заполнить. Но сначала проверим нулевой средний чек и максимальные значения. "
   ]
  },
  {
   "cell_type": "code",
   "execution_count": null,
   "metadata": {},
   "outputs": [],
   "source": [
    "# проверим есть ли данные начинаешие с \"Средний счёт\" в `avg_bill`, но пустые значения в middle_avg_bill\n",
    "moscow_places.query('~avg_bill.isna() & avg_bill.str.startswith(\"Средний счёт\") & middle_avg_bill.isna()')"
   ]
  },
  {
   "cell_type": "code",
   "execution_count": null,
   "metadata": {
    "scrolled": true
   },
   "outputs": [],
   "source": [
    "# проверим есть ли данные начинаешие с \"Цена чашки \" в `avg_bill`, но пустые значения в middle_coffee_cup\n",
    "moscow_places.query('~avg_bill.isna() & avg_bill.str.startswith(\"Цена чашки \") & middle_coffee_cup.isna()')"
   ]
  },
  {
   "cell_type": "markdown",
   "metadata": {},
   "source": [
    "Столбцы `avg_bill` и `middle_avg_bill`, `avg_bill` и `middle_coffee_cup` между собой коррелируют. Т.е. пропуски заполнить верно нельзя. "
   ]
  },
  {
   "cell_type": "code",
   "execution_count": null,
   "metadata": {
    "scrolled": true
   },
   "outputs": [],
   "source": [
    "# посмотрим нулевой и максимальный средний чек \n",
    "moscow_places.query('~middle_avg_bill.isna()').sort_values('middle_avg_bill')"
   ]
  },
  {
   "cell_type": "code",
   "execution_count": null,
   "metadata": {
    "scrolled": true
   },
   "outputs": [],
   "source": [
    "# нулевой чек в сетевом заведении \"Кофемания\", посмотрим чеки и возможно заменим данные\n",
    "moscow_places.query('name == \"Кофемания\" and ~middle_avg_bill.isna()').sort_values('middle_avg_bill')"
   ]
  },
  {
   "cell_type": "code",
   "execution_count": null,
   "metadata": {},
   "outputs": [],
   "source": [
    "# скорее всего ошибка ввода в строке 3688 , заменим на самый популярный чек в сети \n",
    "moscow_places.loc[3688, 'avg_bill'] = 'Средний счёт:1500–2500 ₽'\n",
    "moscow_places.loc[3688, 'middle_avg_bill'] = 2000"
   ]
  },
  {
   "cell_type": "code",
   "execution_count": null,
   "metadata": {},
   "outputs": [],
   "source": [
    "# удалю данные с средним чеком 11 т.руб. т.к. не может быть Чойхана(Чайхана) с таким ценником, \n",
    "# как и 35 000 в пункте переливания крови (или надо в доноры итди)\n",
    "moscow_places = moscow_places.query('middle_avg_bill != 11000 & middle_avg_bill != 35000')"
   ]
  },
  {
   "cell_type": "code",
   "execution_count": null,
   "metadata": {},
   "outputs": [],
   "source": [
    "moscow_places.query('~middle_avg_bill.isna()').groupby('price').agg({'middle_avg_bill':['mean', 'min', 'max']})"
   ]
  },
  {
   "cell_type": "code",
   "execution_count": null,
   "metadata": {},
   "outputs": [],
   "source": [
    "# создадим функция в зависимост от среднего чека \n",
    "def price_name(row):\n",
    "    try:\n",
    "        if 0 < row <= 220:\n",
    "            return 'низкие'\n",
    "        elif 220 < row <= 600:\n",
    "            return 'средние'\n",
    "        elif 600 < row <= 1350:\n",
    "            return 'выше среднего'\n",
    "        elif row > 1350:\n",
    "            return 'высокие'\n",
    "        else:\n",
    "            np.nan\n",
    "    except:\n",
    "        pass"
   ]
  },
  {
   "cell_type": "code",
   "execution_count": null,
   "metadata": {
    "scrolled": true
   },
   "outputs": [],
   "source": [
    "# применим функцию price_name на пустые ячейки 'price' в зависимотси от 'middle_avg_bill'\n",
    "moscow_places['price']=moscow_places['price'].fillna(moscow_places.query('~middle_avg_bill.isna()')['middle_avg_bill'].apply(price_name))"
   ]
  },
  {
   "cell_type": "code",
   "execution_count": null,
   "metadata": {},
   "outputs": [],
   "source": [
    "# посмотрим цену middle_coffee_cup\n",
    "moscow_places.query('~middle_coffee_cup.isna()').sort_values('middle_coffee_cup')"
   ]
  },
  {
   "cell_type": "code",
   "execution_count": null,
   "metadata": {},
   "outputs": [],
   "source": [
    "# максимальное значение в сети Шоколадница, посмотрим там цены и попробуем исправить\n",
    "moscow_places.query('name == \"Шоколадница\" and ~middle_coffee_cup.isna()').sort_values('middle_coffee_cup')"
   ]
  },
  {
   "cell_type": "code",
   "execution_count": null,
   "metadata": {},
   "outputs": [],
   "source": [
    "# скорее всего ошибка ввода исправил в строке 2859, более похожая цена вместо 2907 - 290, тогда среднее 260\n",
    "moscow_places.loc[2859, 'avg_bill'] = 'Цена чашки капучино:230–290 ₽'\n",
    "moscow_places.loc[2859, 'middle_coffee_cup'] = 260"
   ]
  },
  {
   "cell_type": "code",
   "execution_count": null,
   "metadata": {
    "scrolled": false
   },
   "outputs": [],
   "source": [
    "# распределние по ситящим местам\n",
    "moscow_places[moscow_places['seats']>0].boxplot(column='seats', vert=False, figsize=(18, 6))\n",
    "plt.title('Распределение сидящих мест по категориям');"
   ]
  },
  {
   "cell_type": "code",
   "execution_count": null,
   "metadata": {
    "scrolled": false
   },
   "outputs": [],
   "source": [
    "print(np.percentile(moscow_places[moscow_places['seats'] > 0]['seats'], [25, 50, 75, 95, 97.5, 99]))"
   ]
  },
  {
   "cell_type": "code",
   "execution_count": null,
   "metadata": {},
   "outputs": [],
   "source": [
    "# заполним пропуски более персиля 95 разделим на 10, возможно высокие данные из-за разных баз. \n",
    "# максимальное кол-во сидящих мест 320 (95 персиль) вполне представляемое, выше делим на 10\n",
    "moscow_places['seats'] = moscow_places['seats'].apply(lambda x: x%10 if (x > 320) else x)\n",
    "\n",
    "# нулевые также заполним медианой\n",
    "moscow_places['seats'] = moscow_places['seats'].apply(lambda x: moscow_places['seats'].median() if (x == 0) else x)"
   ]
  },
  {
   "cell_type": "markdown",
   "metadata": {},
   "source": [
    "### Пропуски:\n",
    "Кол-во пустых значений занимает значительное кол-во в столбцах:\n",
    "По столбцу `hours` сделать выводы по режиму правильно невозможно, но т.к. их достаточно (около 6%) то удалять и изменять не будем. Во всех категория, кроме столовых, есть ежедневно, круглосуточно, но некруглосуточные режимы имеют небольшие различия и поэтому создадим дальше столбец is_24/7 для понимания лучшего режима работы.\n",
    "\n",
    "Столбец `price` заполнил на основании имеющих данных в столбце `middle_avg_bill`.\n",
    "\n",
    "В столбце `middle_avg_bill` удалил средние чеки 11000 и 35000 ввиду ошибки и точно сказть размер его нельзя. Нулевой средний чек заполнил на основание данных в других точках сети.\n",
    "\n",
    "В столбце `middle_coffee_cup` заменил максимальное значение на самое популярное значение в сети.\n",
    "\n",
    "В столбце `seats` заполним нулевые значения медианой, значения более 95 процентиля разделил на 10, мотивируя ошибкой ввода. Пустые оставил без изменений, т.к. они сильно могут повлиять на анализ. "
   ]
  },
  {
   "cell_type": "code",
   "execution_count": null,
   "metadata": {},
   "outputs": [],
   "source": [
    "# Создадим столбец street с названиями улиц из столбца с адресом.\n",
    "moscow_places['street'] = moscow_places['address'].apply(lambda x: x.split(\",\")[1].strip())"
   ]
  },
  {
   "cell_type": "code",
   "execution_count": null,
   "metadata": {},
   "outputs": [],
   "source": [
    "moscow_places[moscow_places['street'] == \"№ 7\"]"
   ]
  },
  {
   "cell_type": "code",
   "execution_count": null,
   "metadata": {},
   "outputs": [],
   "source": [
    "# посмотрим уникальные названия улиц\n",
    "a = moscow_places['street'].unique()\n",
    "\n",
    "print(sorted(a))\n",
    "print(len(a))"
   ]
  },
  {
   "cell_type": "code",
   "execution_count": null,
   "metadata": {},
   "outputs": [],
   "source": [
    "# Проверим наименования улиц(проспектов и т.д), они написаны с Большой буквы \n",
    "phrase_upper = []\n",
    "for ind in moscow_places['street'].unique().tolist():\n",
    "    #print(ind)\n",
    "    words_upper = []\n",
    "    for jnd in ind.split(' '):\n",
    "        \n",
    "        if jnd == jnd.capitalize():\n",
    "            words_upper.append(jnd)\n",
    "    if words_upper != [] and ' '.join(words_upper) not in phrase_upper:\n",
    "        phrase_upper.append(' '.join(words_upper))\n",
    "print(sorted(phrase_upper))\n",
    "print(len(phrase_upper))"
   ]
  },
  {
   "cell_type": "code",
   "execution_count": null,
   "metadata": {
    "scrolled": true
   },
   "outputs": [],
   "source": [
    "# выявим где несколько наименований в улицах\n",
    "for k in phrase_upper:\n",
    "    b = 0\n",
    "    c = []\n",
    "    for m in a:\n",
    "        \n",
    "        if k in m:\n",
    "            #print(k, m)\n",
    "            c.append(m)\n",
    "            b += 1\n",
    "            #print(c)\n",
    "    if b > 1:\n",
    "        print (k, c)"
   ]
  },
  {
   "cell_type": "code",
   "execution_count": null,
   "metadata": {},
   "outputs": [],
   "source": [
    "# Заменим неявные дубликаты\n",
    "# Ангарские ['парк Ангарские пруды', 'парк Ангарские Пруды']\n",
    "moscow_places['street'] = moscow_places['street'].replace('парк Ангарские Пруды', 'парк Ангарские пруды')\n",
    "# Ярославская ['Ярославская улица', 'ул. Ярославская']\n",
    "moscow_places['street'] = moscow_places['street'].replace('ул. Ярославская', 'Ярославская улица')\n",
    "# Комсомольский ['Комсомольский проспект', 'пр-т Комсомольский']\n",
    "moscow_places['street'] = moscow_places['street'].replace('пр-т Комсомольский', 'Комсомольский проспект')\n",
    "# Мичуринский ['Мичуринский проспект', 'улица Мичуринский Проспект']\n",
    "moscow_places['street'] = moscow_places['street'].replace('улица Мичуринский Проспект', 'Мичуринский проспект')\n",
    "# Профсоюзная ['Профсоюзная улица', 'ул. Профсоюзная']\n",
    "moscow_places['street'] = moscow_places['street'].replace('ул. Профсоюзная', 'Профсоюзная улица')\n",
    "# Шкулёва ['улица Шкулёва 4', 'улица Шкулёва']\n",
    "moscow_places['street'] = moscow_places['street'].replace('улица Шкулёва 4', 'улица Шкулёва')\n",
    "# Липецкая ['Липецкая улица', 'Липецкая улица (дублёр)']\n",
    "moscow_places['street'] = moscow_places['street'].replace('Липецкая улица (дублёр)', 'Липецкая улица')\n",
    "# Ленинский ['Ленинский проспект', 'Ленинский проспект (дублёр)']\n",
    "moscow_places['street'] = moscow_places['street'].replace('Ленинский проспект (дублёр)', 'Ленинский проспект')"
   ]
  },
  {
   "cell_type": "code",
   "execution_count": null,
   "metadata": {},
   "outputs": [],
   "source": [
    "# Заменим неявные дубликаты и в адресе\n",
    "# Ангарские ['парк Ангарские пруды', 'парк Ангарские Пруды']\n",
    "moscow_places['address'] = moscow_places['address'].replace('парк Ангарские Пруды', 'парк Ангарские пруды')\n",
    "# Ярославская ['Ярославская улица', 'ул. Ярославская']\n",
    "moscow_places['address'] = moscow_places['address'].replace('ул. Ярославская', 'Ярославская улица')\n",
    "# Комсомольский ['Комсомольский проспект', 'пр-т Комсомольский']\n",
    "moscow_places['address'] = moscow_places['address'].replace('пр-т Комсомольский', 'Комсомольский проспект')\n",
    "# Мичуринский ['Мичуринский проспект', 'улица Мичуринский Проспект']\n",
    "moscow_places['address'] = moscow_places['address'].replace('улица Мичуринский Проспект', 'Мичуринский проспект')\n",
    "# Профсоюзная ['Профсоюзная улица', 'ул. Профсоюзная']\n",
    "moscow_places['address'] = moscow_places['address'].replace('ул. Профсоюзная', 'Профсоюзная улица')\n",
    "# Шкулёва ['улица Шкулёва 4', 'улица Шкулёва']\n",
    "moscow_places['address'] = moscow_places['address'].replace('улица Шкулёва 4', 'улица Шкулёва')\n",
    "# Липецкая ['Липецкая улица', 'Липецкая улица (дублёр)']\n",
    "moscow_places['address'] = moscow_places['address'].replace('Липецкая улица (дублёр)', 'Липецкая улица')\n",
    "# Ленинский ['Ленинский проспект', 'Ленинский проспект (дублёр)']\n",
    "moscow_places['address'] = moscow_places['address'].replace('Ленинский проспект (дублёр)', 'Ленинский проспект')"
   ]
  },
  {
   "cell_type": "code",
   "execution_count": null,
   "metadata": {},
   "outputs": [],
   "source": [
    "# еще раз проверим на дубликаты после изменений неявных дубликатов\n",
    "moscow_places.duplicated().sum()"
   ]
  },
  {
   "cell_type": "markdown",
   "metadata": {},
   "source": [
    "### Создал столбец `street`, неявные дубликаты исправил."
   ]
  },
  {
   "cell_type": "markdown",
   "metadata": {},
   "source": [
    "### Дубликатов нет после изменений неявных дубликатов"
   ]
  },
  {
   "cell_type": "code",
   "execution_count": null,
   "metadata": {},
   "outputs": [],
   "source": [
    "moscow_places['is_24/7'] = moscow_places['hours'].apply(lambda x: True if x == 'ежедневно, круглосуточно' else False)"
   ]
  },
  {
   "cell_type": "code",
   "execution_count": null,
   "metadata": {},
   "outputs": [],
   "source": [
    "moscow_places.head()"
   ]
  },
  {
   "cell_type": "markdown",
   "metadata": {},
   "source": [
    "### Создал столбец is_24/7\n",
    "- с обозначением, что заведение работает ежедневно и круглосуточно (24/7):\n",
    "    - логическое значение True — если заведение работает ежедневно и круглосуточно;\n",
    "    - логическое значение False — в противоположном случае"
   ]
  },
  {
   "cell_type": "code",
   "execution_count": null,
   "metadata": {},
   "outputs": [],
   "source": [
    "# создадим функция короткие название АО\n",
    "def district_short(row):\n",
    "    if row == 'Северо-Восточный административный округ':\n",
    "        return 'С_ВАО'\n",
    "    if row == 'Центральный административный округ':\n",
    "        return 'ЦАО'\n",
    "    if row == 'Юго-Западный административный округ':\n",
    "        return 'Ю_ЗАО'\n",
    "    if row == 'Северный административный округ':\n",
    "        return 'САО'\n",
    "    if row == 'Южный административный округ':\n",
    "        return 'ЮАО'\n",
    "    if row == 'Восточный административный округ':\n",
    "        return 'ВАО'\n",
    "    if row == 'Западный административный округ':\n",
    "        return 'ЗАО'\n",
    "    if row == 'Северо-Западный административный округ':\n",
    "        return 'С_ЗАО'\n",
    "    if row == 'Юго-Восточный административный округ':\n",
    "        return 'Ю_ВАО'"
   ]
  },
  {
   "cell_type": "code",
   "execution_count": null,
   "metadata": {},
   "outputs": [],
   "source": [
    "moscow_places['district_short'] = moscow_places['district'].apply(district_short)"
   ]
  },
  {
   "cell_type": "markdown",
   "metadata": {},
   "source": [
    "### Создал столбец district_short\n",
    "для удобства визуализации"
   ]
  },
  {
   "cell_type": "markdown",
   "metadata": {},
   "source": [
    "## Анализ данных"
   ]
  },
  {
   "cell_type": "code",
   "execution_count": null,
   "metadata": {},
   "outputs": [],
   "source": [
    "# создадим таблицу по категорям с кол-вом точек \n",
    "data_category = moscow_places.groupby('category').agg({'name':['count']}).reset_index()\n",
    "data_category.columns = ['category', 'count']"
   ]
  },
  {
   "cell_type": "code",
   "execution_count": null,
   "metadata": {},
   "outputs": [],
   "source": [
    "data_category = data_category.sort_values('count', ascending = False, ignore_index=True)\n",
    "data_category"
   ]
  },
  {
   "cell_type": "code",
   "execution_count": null,
   "metadata": {
    "scrolled": false
   },
   "outputs": [],
   "source": [
    "fig = px.pie(data_category, values='count', names='category', title='Распределение по категориям')\n",
    "fig.show()"
   ]
  },
  {
   "cell_type": "code",
   "execution_count": null,
   "metadata": {
    "scrolled": false
   },
   "outputs": [],
   "source": [
    "# используем стиль dark из библиотеки seaborn\n",
    "sns.set_style('dark')\n",
    "# назначаем размер графика\n",
    "plt.figure(figsize=(16, 6))\n",
    "# строим столбчатый график средствами seaborn\n",
    "sns.barplot(x='count', y='category', data=data_category)\n",
    "# формируем заголовок графика и подписи осей средствами matplotlib\n",
    "plt.title('Распределение по категориям')\n",
    "plt.xlabel('Кол-во заведений')\n",
    "plt.ylabel('Категория заведения')\n",
    "# поворачиваем подписи значений по оси X на 45 градусов\n",
    "#plt.xticks(rotation=45)\n",
    "# выбираем положение легенды и указываем размер шрифта\n",
    "#plt.legend(loc='lower right', fontsize=12)\n",
    "# добавляем сетку\n",
    "plt.grid()\n",
    "# отображаем график на экране\n",
    "plt.show()"
   ]
  },
  {
   "cell_type": "markdown",
   "metadata": {},
   "source": [
    "### Категории заведений и их кол-во: \n",
    "\n",
    "|category|\tcount|\n",
    "|:--|:--:|\n",
    "|кафе\t|2378|\n",
    "|ресторан|\t2043|\n",
    "|кофейня|\t1413|\n",
    "|бар,паб\t|765|\n",
    "|пиццерия|\t633|\n",
    "|быстрое питание|\t603|\n",
    "|столовая\t|315|\n",
    "|булочная\t|256|\n",
    "\n",
    "Категории кафе, ресторан и кофейня занимают 70% от общего количества объектов общественного питания."
   ]
  },
  {
   "cell_type": "code",
   "execution_count": null,
   "metadata": {
    "scrolled": true
   },
   "outputs": [],
   "source": [
    "# создадим таблицу по категорям с кол-вом точек \n",
    "data_category_seats = moscow_places.groupby('category').agg({'seats':['median']}).reset_index()\n",
    "data_category_seats.columns = ['category', 'median']\n",
    "data_category_seats = data_category_seats.sort_values('median', ignore_index=True)\n",
    "data_category_seats"
   ]
  },
  {
   "cell_type": "code",
   "execution_count": null,
   "metadata": {},
   "outputs": [],
   "source": [
    "# строим столбчатую диаграмму \n",
    "fig = px.bar(data_category_seats, # загружаем данные и заново их сортируем\n",
    "             x='median', # указываем столбец с данными для оси X\n",
    "             y='category', # указываем столбец с данными для оси Y\n",
    "             text='median' # добавляем аргумент, который отобразит текст с информацией\n",
    "                                # о количестве объявлений внутри столбца графика\n",
    "            )\n",
    "# оформляем график\n",
    "fig.update_layout(title='Категории заведений по кол-ву посадочных мест',\n",
    "                   xaxis_title='Медианное кол-во посадочных мест',\n",
    "                   yaxis_title='Категория заведения')\n",
    "fig.show() # выводим график"
   ]
  },
  {
   "cell_type": "markdown",
   "metadata": {},
   "source": [
    "### Исследование количество посадочных мест: \n",
    "1. Лидер с отрывом по кол-ву мест категория 'ресторан'; \n",
    "2. Вторая группа 'бар,паб', 'кофейня' и 'столовая'\n",
    "3. Третья группа 'булочная', 'быстрое питание' и 'кафе'\n",
    "4. Замыкает группу 'пиццерия'. "
   ]
  },
  {
   "cell_type": "code",
   "execution_count": null,
   "metadata": {
    "scrolled": true
   },
   "outputs": [],
   "source": [
    "data_chain = moscow_places.groupby('chain').agg({'name':'count'}).reset_index()\n",
    "labels = {0:'Несетевые заведения', 1:'Сетевые заведения'}\n",
    "data_chain['chain'] = data_chain['chain'].map(labels)\n",
    "data_chain"
   ]
  },
  {
   "cell_type": "code",
   "execution_count": null,
   "metadata": {},
   "outputs": [],
   "source": [
    "fig = px.pie(data_chain, values='name', names='chain', title='Распределение сетевых и несетевых заведений')\n",
    "fig.show()"
   ]
  },
  {
   "cell_type": "markdown",
   "metadata": {},
   "source": [
    "### Cоотношение сетевых и несетевых заведений:\n",
    "Несетевых заведений больше сетевых, занимают 61.9% от общего числа. "
   ]
  },
  {
   "cell_type": "code",
   "execution_count": null,
   "metadata": {
    "scrolled": true
   },
   "outputs": [],
   "source": [
    "data_category_chain = moscow_places.groupby(['category', 'chain']).agg({'name':'count'}).reset_index()\n",
    "\n",
    "\n",
    "labels = {0:'Несетевые заведения', 1:'Сетевые заведения'}\n",
    "data_category_chain['chain'] = data_category_chain['chain'].map(labels)\n",
    "data_category_chain = data_category_chain.sort_values('chain').sort_values('name', ascending = False)\n",
    "data_category_chain"
   ]
  },
  {
   "cell_type": "code",
   "execution_count": null,
   "metadata": {},
   "outputs": [],
   "source": [
    "# используем стиль dark из библиотеки seaborn\n",
    "sns.set_style('dark')\n",
    "# назначаем размер графика\n",
    "plt.figure(figsize=(16, 6))\n",
    "# строим столбчатый график средствами seaborn\n",
    "sns.barplot(x='name', y='category', data=data_category_chain, hue='chain')\n",
    "# формируем заголовок графика и подписи осей средствами matplotlib\n",
    "plt.title('Распределение сетевых и несетевых заведений в категориях')\n",
    "plt.xlabel('Кол-во заведений')\n",
    "plt.ylabel('Категория заведения')\n",
    "# поворачиваем подписи значений по оси X на 45 градусов\n",
    "plt.xticks(rotation=45)\n",
    "# выбираем положение легенды и указываем размер шрифта\n",
    "plt.legend(loc='lower right', fontsize=12)\n",
    "# добавляем сетку\n",
    "plt.grid()\n",
    "# отображаем график на экране\n",
    "plt.show()"
   ]
  },
  {
   "cell_type": "code",
   "execution_count": null,
   "metadata": {},
   "outputs": [],
   "source": [
    "data_category_chain_share = moscow_places.groupby('category').agg({'chain':'mean'}).reset_index()\n",
    "data_category_chain_share = data_category_chain_share.sort_values('chain', ascending = False)\n",
    "data_category_chain_share"
   ]
  },
  {
   "cell_type": "code",
   "execution_count": null,
   "metadata": {},
   "outputs": [],
   "source": [
    "# используем стиль dark из библиотеки seaborn\n",
    "sns.set_style('dark')\n",
    "# назначаем размер графика\n",
    "plt.figure(figsize=(16, 6))\n",
    "# строим столбчатый график средствами seaborn\n",
    "sns.barplot(x='chain', y='category', data=data_category_chain_share)\n",
    "# формируем заголовок графика и подписи осей средствами matplotlib\n",
    "plt.title('Распределение сетевых заведений в категориях')\n",
    "plt.xlabel('Кол-во заведений')\n",
    "plt.ylabel('Категория заведения')\n",
    "# поворачиваем подписи значений по оси X на 45 градусов\n",
    "plt.xticks(rotation=45)\n",
    "# выбираем положение легенды и указываем размер шрифта\n",
    "#plt.legend(loc='lower right', fontsize=12)\n",
    "# добавляем сетку\n",
    "plt.grid()\n",
    "# отображаем график на экране\n",
    "plt.show()"
   ]
  },
  {
   "cell_type": "markdown",
   "metadata": {},
   "source": [
    "### Cоотношение сетевых и несетевых заведений в категориях:\n",
    "Категории которые чаще являются сетевыми:\n",
    "1. булочная;\n",
    "2. пиццерия;\n",
    "3. кофейня."
   ]
  },
  {
   "cell_type": "code",
   "execution_count": null,
   "metadata": {
    "scrolled": true
   },
   "outputs": [],
   "source": [
    "moscow_places.query('chain == 1')"
   ]
  },
  {
   "cell_type": "code",
   "execution_count": null,
   "metadata": {
    "scrolled": false
   },
   "outputs": [],
   "source": [
    "# ТОП 15 сетей по кол-ву заведений\n",
    "data_name = moscow_places.query('chain == 1').groupby('name').agg({'category':'count'}).reset_index()\n",
    "data_name = data_name.sort_values('category', ascending = False)\n",
    "data_name_top_15 = data_name.head(15)\n",
    "data_name_top_15 = data_name_top_15.rename(columns={'category': 'amount'}).sort_values('amount')\n",
    "data_name_top_15.sort_values('amount', ascending = False)"
   ]
  },
  {
   "cell_type": "code",
   "execution_count": null,
   "metadata": {},
   "outputs": [],
   "source": [
    "# строим столбчатую диаграмму \n",
    "fig = px.bar(data_name_top_15, # загружаем данные и заново их сортируем\n",
    "             x='amount', # указываем столбец с данными для оси X\n",
    "             y='name', # указываем столбец с данными для оси Y\n",
    "             text='amount' # добавляем аргумент, который отобразит текст с информацией\n",
    "                                # о количестве объявлений внутри столбца графика\n",
    "            )\n",
    "# оформляем график\n",
    "fig.update_layout(title='ТОП 15 сетевых заведений по кол-ву заведений',\n",
    "                   xaxis_title='Кол-во заведений',\n",
    "                   yaxis_title='Наименование сети')\n",
    "fig.show() # выводим график"
   ]
  },
  {
   "cell_type": "code",
   "execution_count": null,
   "metadata": {},
   "outputs": [],
   "source": [
    "# выберем данные по ТОП 15 сетевых заведений дя проверки общих признаков\n",
    "data_name_top_15_all = moscow_places.merge(data_name_top_15, on='name', how = 'left').query('~amount.isna()').sort_values('amount')\n",
    "data_name_top_15_all.head()\n"
   ]
  },
  {
   "cell_type": "code",
   "execution_count": null,
   "metadata": {
    "scrolled": true
   },
   "outputs": [],
   "source": [
    "# посмотрим уникальные значений признаков по ТОП 15\n",
    "print('\\033[1m'+ 'Уникальные значения'+'\\033[0m'+'\\n')\n",
    "for i in data_name_top_15_all.columns.to_list():\n",
    "    if len(data_name_top_15_all[i].unique()) < 11:\n",
    "        print('\\033[91m'+ 'Признак {} имеет {} следующих уникальных значений:'.format(i, len(data_name_top_15_all[i].unique()))+'\\033[0m')\n",
    "        print(data_name_top_15_all[i].unique())\n",
    "        print('\\033[1m' + '---------------------------------------------------------------------------------'+ '\\033[0m') "
   ]
  },
  {
   "cell_type": "code",
   "execution_count": null,
   "metadata": {
    "scrolled": true
   },
   "outputs": [],
   "source": [
    "# категории заведений среди ТОП 15 \n",
    "data_name_top_15_all.groupby('category').agg({'name':'count'}).reset_index().sort_values('category').sort_values('name', ascending = False)\n"
   ]
  },
  {
   "cell_type": "code",
   "execution_count": null,
   "metadata": {
    "scrolled": true
   },
   "outputs": [],
   "source": [
    "# сколько всего заведений в ТОП 15 \n",
    "data_name_top_15_all.shape[0]"
   ]
  },
  {
   "cell_type": "markdown",
   "metadata": {},
   "source": [
    "### ТОП 15 популярных сетей в Москве:\n",
    "1. ТОП 15 сетевых заведений по кол-ву заведений:\n",
    "    1. Шоколадница\n",
    "    2. Домино'с Пицца\n",
    "    3. Додо Пицца\n",
    "    4. One Price Coffee\n",
    "    5. Яндекс Лавка\n",
    "    6. Cofix\n",
    "    7. Prime\n",
    "    8. Хинкальная\n",
    "    9. КОФЕПОРТ\n",
    "    10. Кулинарная лавка братьев Караваевых\n",
    "    11. Теремок\n",
    "    12. Чайхана\n",
    "    13. CofeFest\n",
    "    14. Буханка\n",
    "    15. Му-Му\n",
    "2. Часть заведений знакома жителю Новосибирска, т.е. мне;\n",
    "3. Единственный признак который их объединяет, то что они сетевые;\n",
    "4. ТОП 15 представлено во всех категориях заведений, но 4 категории, кофейня (336 заведений), ресторан (186), пиццерия (151) и кафе (100), составляют 95% в ТОП 15. "
   ]
  },
  {
   "cell_type": "code",
   "execution_count": null,
   "metadata": {
    "scrolled": true
   },
   "outputs": [],
   "source": [
    "data_name_top_15_district = data_name_top_15_all.groupby('district_short').agg({'name':'count'}).sort_values('name', ascending = False).reset_index()\n",
    "data_name_top_15_district"
   ]
  },
  {
   "cell_type": "code",
   "execution_count": null,
   "metadata": {},
   "outputs": [],
   "source": [
    "# используем стиль dark из библиотеки seaborn\n",
    "sns.set_style('dark')\n",
    "# назначаем размер графика\n",
    "plt.figure(figsize=(16, 6))\n",
    "# строим столбчатый график средствами seaborn\n",
    "sns.barplot(x='name', y='district_short', data=data_name_top_15_district)\n",
    "# формируем заголовок графика и подписи осей средствами matplotlib\n",
    "plt.title('Распределение сетевых заведений по районам')\n",
    "plt.xlabel('Кол-во заведений')\n",
    "plt.ylabel('Районы')\n",
    "# поворачиваем подписи значений по оси X на 45 градусов\n",
    "plt.xticks(rotation=45)\n",
    "# добавляем сетку\n",
    "plt.grid()\n",
    "# отображаем график на экране\n",
    "plt.show()"
   ]
  },
  {
   "cell_type": "code",
   "execution_count": null,
   "metadata": {},
   "outputs": [],
   "source": [
    "# создадим таблицу по районам и категоиям с кол-вом заведений\n",
    "data_name_top_15_district_category = data_name_top_15_all.groupby(['district_short', 'category']).\\\n",
    "agg({'name':'count'}).reset_index().sort_values('category').sort_values('name', ascending = False)\n",
    "data_name_top_15_district_category.head()"
   ]
  },
  {
   "cell_type": "code",
   "execution_count": null,
   "metadata": {
    "scrolled": false
   },
   "outputs": [],
   "source": [
    "# используем стиль dark из библиотеки seaborn\n",
    "#sns.set_style('darkgrid')\n",
    "# назначаем размер графика\n",
    "plt.figure(figsize=(16, 6))\n",
    "# строим столбчатый график средствами seaborn\n",
    "sns.barplot(x='district_short', y='name', data=data_name_top_15_district_category, hue='category')\n",
    "# формируем заголовок графика и подписи осей средствами matplotlib\n",
    "plt.title('Распределение категорий сетевых заведений по районам')\n",
    "plt.xlabel('Районы')\n",
    "plt.ylabel('Кол-во заведений')\n",
    "# поворачиваем подписи значений по оси X на 45 градусов\n",
    "plt.xticks(rotation=-70)\n",
    "# выбираем положение легенды и указываем размер шрифта\n",
    "plt.legend(loc='upper right', fontsize=10)\n",
    "# отображаем график на экране\n",
    "plt.show()"
   ]
  },
  {
   "cell_type": "code",
   "execution_count": null,
   "metadata": {},
   "outputs": [],
   "source": [
    "# для отображения на одном графике необходимо общее кол-во заведений\n",
    "# создадим таблицу с категорией total\n",
    "data_name_top_15_district['category'] = 'total'\n",
    "data_name_top_15_district = data_name_top_15_district.reindex(columns=['district_short', 'category', 'name'])\n",
    "data_name_top_15_district\n"
   ]
  },
  {
   "cell_type": "code",
   "execution_count": null,
   "metadata": {
    "scrolled": true
   },
   "outputs": [],
   "source": [
    "# соединим таблицы общего кол-ва заведений и по категориям \n",
    "result = pd.concat([data_name_top_15_district, data_name_top_15_district_category])\n",
    "result"
   ]
  },
  {
   "cell_type": "code",
   "execution_count": null,
   "metadata": {
    "scrolled": false
   },
   "outputs": [],
   "source": [
    "# используем стиль dark из библиотеки seaborn\n",
    "#sns.set_style('darkgrid')\n",
    "# назначаем размер графика\n",
    "plt.figure(figsize=(16, 6))\n",
    "# строим столбчатый график средствами seaborn\n",
    "sns.barplot(x='district_short', y='name', data=result, hue='category')\n",
    "# формируем заголовок графика и подписи осей средствами matplotlib\n",
    "plt.title('Распределение категорий сетевых заведений по районам')\n",
    "plt.xlabel('Районы')\n",
    "plt.ylabel('Кол-во заведений')\n",
    "# поворачиваем подписи значений по оси X на 45 градусов\n",
    "plt.xticks(rotation=-70)\n",
    "# выбираем положение легенды и указываем размер шрифта\n",
    "plt.legend(loc='upper right', fontsize=10)\n",
    "# отображаем график на экране\n",
    "plt.show()"
   ]
  },
  {
   "cell_type": "markdown",
   "metadata": {},
   "source": [
    "### Aдминистративные районы Москвы в датасете:\n",
    "1. Датасет представлен 9 административными районами Москвы;\n",
    "2. Распределение кол-во заведений по районам: \n",
    "|район|кол-во заведений|\n",
    "|:--|:--:|\n",
    "|Центральный административный округ|214|\n",
    "|Южный административный округ|89|\n",
    "|Западный административный округ|88|\n",
    "|Северный административный округ|88|\n",
    "|Северо-Восточный административный округ|85|\n",
    "|Восточный административный округ|80|\n",
    "|Юго-Западный административный округ|70|\n",
    "|Юго-Восточный административный округ|56|\n",
    "|Северо-Западный административный округ|46|\n",
    "3. Категория заведений Кофейня занимает первое место во всех районах."
   ]
  },
  {
   "cell_type": "code",
   "execution_count": null,
   "metadata": {
    "scrolled": true
   },
   "outputs": [],
   "source": [
    "# создадим таблицу по категорям c средним рейтингом \n",
    "data_category_rating = moscow_places.groupby('category').agg({'rating':'median'}).reset_index()\n",
    "data_category_rating.columns = ['category', 'median_rating']\n",
    "data_category_rating = data_category_rating.sort_values('median_rating', ignore_index=True)\n",
    "data_category_rating"
   ]
  },
  {
   "cell_type": "code",
   "execution_count": null,
   "metadata": {},
   "outputs": [],
   "source": [
    "# строим столбчатую диаграмму \n",
    "fig = px.bar(data_category_rating, # загружаем данные и заново их сортируем\n",
    "             x='median_rating', # указываем столбец с данными для оси X\n",
    "             y='category', # указываем столбец с данными для оси Y\n",
    "             text='median_rating' # добавляем аргумент, который отобразит текст с информацией\n",
    "                                # о количестве объявлений внутри столбца графика\n",
    "            )\n",
    "# оформляем график\n",
    "fig.update_layout(title='Средний рейтинг',\n",
    "                   xaxis_title='Медианный рейтинг',\n",
    "                   yaxis_title='Категория заведения')\n",
    "fig.show() # выводим график"
   ]
  },
  {
   "cell_type": "markdown",
   "metadata": {},
   "source": [
    "### Распределение средних рейтингов по категориям заведений:\n",
    "\n",
    "Усреднённые рейтинги в разных типах общепита не сильно отличаются. "
   ]
  },
  {
   "cell_type": "code",
   "execution_count": null,
   "metadata": {
    "scrolled": false
   },
   "outputs": [],
   "source": [
    "# создадим таблицу по районам c средним рейтингом \n",
    "data_district_rating = moscow_places.groupby('district').agg({'rating':'median'}).reset_index()\n",
    "data_district_rating.columns = ['district', 'median_rating']\n",
    "data_district_rating = data_district_rating.sort_values('median_rating', ignore_index=True)\n",
    "data_district_rating"
   ]
  },
  {
   "cell_type": "code",
   "execution_count": null,
   "metadata": {},
   "outputs": [],
   "source": [
    "# загружаем JSON-файл с границами округов Москвы\n",
    "with open('/datasets/admin_level_geomap.geojson', encoding='utf-8') as f:\n",
    "    geo_json = json.load(f)\n",
    "#state_geo = '/datasets/admin_level_geomap.geojson'\n",
    "# moscow_lat - широта центра Москвы, moscow_lng - долгота центра Москвы\n",
    "moscow_lat, moscow_lng = 55.751244, 37.618423\n",
    "\n",
    "# создаём карту Москвы\n",
    "m = Map(location=[moscow_lat, moscow_lng], zoom_start=10)\n",
    "\n",
    "# создаём хороплет с помощью конструктора Choropleth и добавляем его на карту\n",
    "Choropleth(\n",
    "    geo_data=geo_json,\n",
    "    data=data_district_rating,\n",
    "    columns=['district', 'median_rating'],\n",
    "    key_on='feature.name',\n",
    "    fill_color='YlGn',\n",
    "    fill_opacity=0.8,\n",
    "    legend_name='Медианный рейтинг заведений по районам',\n",
    ").add_to(m)\n",
    "\n",
    "# выводим карту\n",
    "m"
   ]
  },
  {
   "cell_type": "markdown",
   "metadata": {},
   "source": [
    "### Фоновая картограммя (хороплет) со средним рейтингом заведений каждого района:\n",
    "\n",
    "1. Высокий рейтинг заведений в Центральном административном округе. \n",
    "2. Отстают Северо-Восточный административный округ и Юго-Восточный административный округ;\n",
    "3. Остальные районы в середине рейтинга."
   ]
  },
  {
   "cell_type": "code",
   "execution_count": null,
   "metadata": {},
   "outputs": [],
   "source": [
    "# moscow_lat - широта центра Москвы, moscow_lng - долгота центра Москвы\n",
    "moscow_lat, moscow_lng = 55.751244, 37.618423\n",
    "\n",
    "# создаём карту Москвы\n",
    "m = Map(location=[moscow_lat, moscow_lng], zoom_start=10)\n",
    "# создаём пустой кластер, добавляем его на карту\n",
    "marker_cluster = MarkerCluster().add_to(m)\n",
    "\n",
    "# пишем функцию, которая принимает строку датафрейма,\n",
    "# создаёт маркер в текущей точке и добавляет его в кластер marker_cluster\n",
    "def create_clusters(row):\n",
    "    Marker(\n",
    "        [row['lat'], row['lng']],\n",
    "        popup=f\"{row['name']} {row['rating']}\",\n",
    "    ).add_to(marker_cluster)\n",
    "\n",
    "# применяем функцию create_clusters() к каждой строке датафрейма\n",
    "moscow_places.apply(create_clusters, axis=1)\n",
    "\n",
    "# выводим карту\n",
    "m"
   ]
  },
  {
   "cell_type": "markdown",
   "metadata": {},
   "source": [
    "### Отобразил все заведения датасета на карте."
   ]
  },
  {
   "cell_type": "code",
   "execution_count": null,
   "metadata": {
    "scrolled": false
   },
   "outputs": [],
   "source": [
    "# ТОП 15 улиц по кол-ву заведений\n",
    "data_street = moscow_places.groupby('street').agg({'name':'count'}).reset_index()\n",
    "data_street = data_street.sort_values('name', ascending = False)\n",
    "data_street_top_15 = data_street.head(15)\n",
    "data_street_top_15 = data_street_top_15.sort_values('name')\n",
    "data_street_top_15.sort_values('name', ascending = False)"
   ]
  },
  {
   "cell_type": "code",
   "execution_count": null,
   "metadata": {},
   "outputs": [],
   "source": [
    "# выберем данные по ТОП 15 улиц заведений дя проверки общих признаков\n",
    "data_street_top_15_all = moscow_places.merge(data_street_top_15, on='street', how = 'left').query('~name_y.isna()').sort_values('name_y')\n",
    "data_street_top_15_all.head()\n"
   ]
  },
  {
   "cell_type": "code",
   "execution_count": null,
   "metadata": {},
   "outputs": [],
   "source": [
    "# создадим таблицу по районам и категоиям с кол-вом заведений\n",
    "data_street_top_15_category = data_street_top_15_all.groupby(['street', 'category']).\\\n",
    "agg({'name_x':'count'}).reset_index().sort_values('category').sort_values('name_x', ascending = False)\n",
    "data_street_top_15_category = data_street_top_15_category.rename(columns={'name_x': 'name'})\n",
    "data_street_top_15_category.head()"
   ]
  },
  {
   "cell_type": "code",
   "execution_count": null,
   "metadata": {},
   "outputs": [],
   "source": [
    "# для отображения на одном графике необходимо общее кол-во заведений\n",
    "# создадим таблицу с категорией total\n",
    "data_street_top_15['category'] = 'total'\n",
    "data_street_top_15 = data_street_top_15.reindex(columns=['street', 'category', 'name'])\n",
    "data_street_top_15\n"
   ]
  },
  {
   "cell_type": "code",
   "execution_count": null,
   "metadata": {
    "scrolled": true
   },
   "outputs": [],
   "source": [
    "# соединим таблицы общего кол-ва заведений и по категориям \n",
    "result = pd.concat([data_street_top_15_category, data_street_top_15]).sort_values('name', ascending = False)\n",
    "result"
   ]
  },
  {
   "cell_type": "code",
   "execution_count": null,
   "metadata": {
    "scrolled": false
   },
   "outputs": [],
   "source": [
    "# используем стиль dark из библиотеки seaborn\n",
    "#sns.set_style('darkgrid')\n",
    "# назначаем размер графика\n",
    "plt.figure(figsize=(16, 8))\n",
    "# строим столбчатый график средствами seaborn\n",
    "sns.barplot(x='street', y='name', data=result, hue='category')\n",
    "# формируем заголовок графика и подписи осей средствами matplotlib\n",
    "plt.title('Распределение заведений по ТОП 15 улицам')\n",
    "plt.xlabel('Улица')\n",
    "plt.ylabel('Кол-во заведений')\n",
    "# поворачиваем подписи значений по оси X на 45 градусов\n",
    "plt.xticks(rotation=-70)\n",
    "# выбираем положение легенды и указываем размер шрифта\n",
    "plt.legend(loc='upper right', fontsize=10)\n",
    "# отображаем график на экране\n",
    "plt.show()"
   ]
  },
  {
   "cell_type": "markdown",
   "metadata": {},
   "source": [
    "### ТОП 15 улиц по количеству заведений:\n",
    "\n",
    "|улица|кол-во заведений|\n",
    "|:--|:--:|\n",
    "|проспект Мира|184|\n",
    "|Профсоюзная улица|123|\n",
    "|Ленинский проспект|108|\n",
    "|проспект Вернадского|108|\n",
    "|Ленинградский проспект|95|\n",
    "|Дмитровское шоссе|87|\n",
    "|Каширское шоссе|76|\n",
    "|Варшавское шоссе|76|\n",
    "|Ленинградское шоссе|70|\n",
    "|МКАД|65|\n",
    "|Люблинская улица|60|\n",
    "|Мичуринский проспект|57|\n",
    "|улица Вавилова|55|\n",
    "|Кутузовский проспект|54|\n",
    "|улица Миклухо-Маклая|49|\n",
    "\n",
    "На улицах первые места занимает либо кафе либо ресторан"
   ]
  },
  {
   "cell_type": "code",
   "execution_count": null,
   "metadata": {
    "scrolled": true
   },
   "outputs": [],
   "source": [
    "# ТОП 15 улиц по кол-ву заведений\n",
    "data_street_one_point = moscow_places.groupby('street').agg({'name':'count'}).reset_index()\n",
    "data_street_one_point = data_street_one_point.query('name == 1')\n",
    "data_street_one_point"
   ]
  },
  {
   "cell_type": "code",
   "execution_count": null,
   "metadata": {
    "scrolled": true
   },
   "outputs": [],
   "source": [
    "# выберем данные по ТОП 15 улиц заведений дя проверки общих признаков\n",
    "data_street_one_point_all = moscow_places.merge(data_street_one_point, on='street', how = 'left').query('~name_y.isna()').sort_values('name_y')\n",
    "data_street_one_point_all.head()\n"
   ]
  },
  {
   "cell_type": "code",
   "execution_count": null,
   "metadata": {
    "scrolled": true
   },
   "outputs": [],
   "source": [
    "# moscow_lat - широта центра Москвы, moscow_lng - долгота центра Москвы\n",
    "moscow_lat, moscow_lng = 55.751244, 37.618423\n",
    "\n",
    "# создаём карту Москвы\n",
    "m = Map(location=[moscow_lat, moscow_lng], zoom_start=10)\n",
    "# создаём пустой кластер, добавляем его на карту\n",
    "marker_cluster = MarkerCluster().add_to(m)\n",
    "\n",
    "# пишем функцию, которая принимает строку датафрейма,\n",
    "# создаёт маркер в текущей точке и добавляет его в кластер marker_cluster\n",
    "def create_clusters(row):\n",
    "    Marker(\n",
    "        [row['lat'], row['lng']],\n",
    "        popup=f\"{row['name_x']} {row['rating']}\",\n",
    "    ).add_to(marker_cluster)\n",
    "\n",
    "# применяем функцию create_clusters() к каждой строке датафрейма\n",
    "data_street_one_point_all.apply(create_clusters, axis=1)\n",
    "\n",
    "# выводим карту\n",
    "m"
   ]
  },
  {
   "cell_type": "code",
   "execution_count": null,
   "metadata": {
    "scrolled": true
   },
   "outputs": [],
   "source": [
    "# посмотрим уникальные значений признаков по ТОП 15\n",
    "print('\\033[1m'+ 'Уникальные значения'+'\\033[0m'+'\\n')\n",
    "for i in data_street_one_point_all.columns.to_list():\n",
    "    if len(data_street_one_point_all[i].unique()) < 11:\n",
    "        print('\\033[91m'+ 'Признак {} имеет {} следующих уникальных значений:'.format(i, len(data_street_one_point_all[i].unique()))+'\\033[0m')\n",
    "        print(data_street_one_point_all[i].unique())\n",
    "        print('\\033[1m' + '---------------------------------------------------------------------------------'+ '\\033[0m') "
   ]
  },
  {
   "cell_type": "code",
   "execution_count": null,
   "metadata": {},
   "outputs": [],
   "source": [
    "data_street_one_point_all.groupby('category').count()"
   ]
  },
  {
   "cell_type": "markdown",
   "metadata": {},
   "source": [
    "### Улицы, на которых находится только один объект общепита:\n",
    "Заведения находятся на небольших улицах, но есть во всех представленных районах, категорий и как в сетях, так и одиночные заведения."
   ]
  },
  {
   "cell_type": "code",
   "execution_count": null,
   "metadata": {
    "scrolled": false
   },
   "outputs": [],
   "source": [
    "# создадим таблицу по районам c средним рейтингом \n",
    "data_district_middle_avg_bill = moscow_places.groupby('district').agg({'middle_avg_bill':'median'}).reset_index()\n",
    "data_district_middle_avg_bill.columns = ['district', 'middle_avg_bill']\n",
    "data_district_middle_avg_bill = data_district_middle_avg_bill.sort_values('middle_avg_bill', ignore_index=True, ascending = False)\n",
    "data_district_middle_avg_bill"
   ]
  },
  {
   "cell_type": "code",
   "execution_count": null,
   "metadata": {},
   "outputs": [],
   "source": [
    "# загружаем JSON-файл с границами округов Москвы\n",
    "with open('/datasets/admin_level_geomap.geojson', encoding='utf-8') as f:\n",
    "    geo_json = json.load(f)\n",
    "#state_geo = '/datasets/admin_level_geomap.geojson'\n",
    "# moscow_lat - широта центра Москвы, moscow_lng - долгота центра Москвы\n",
    "moscow_lat, moscow_lng = 55.751244, 37.618423\n",
    "\n",
    "# создаём карту Москвы\n",
    "m = Map(location=[moscow_lat, moscow_lng], zoom_start=10)\n",
    "\n",
    "# создаём хороплет с помощью конструктора Choropleth и добавляем его на карту\n",
    "Choropleth(\n",
    "    geo_data=geo_json,\n",
    "    data=data_district_middle_avg_bill,\n",
    "    columns=['district', 'middle_avg_bill'],\n",
    "    key_on='feature.name',\n",
    "    fill_color='YlGn',\n",
    "    fill_opacity=0.8,\n",
    "    legend_name='Медианный рейтинг заведений по районам',\n",
    ").add_to(m)\n",
    "\n",
    "# выводим карту\n",
    "m"
   ]
  },
  {
   "cell_type": "markdown",
   "metadata": {},
   "source": [
    "### Средние чеки по районам:\n",
    "|район|средний чек|\n",
    "|:--|:--:|\n",
    "|Западный административный округ|1000.0|\n",
    "|Центральный административный округ|1000.0|\n",
    "|Северо-Западный административный округ|700.0|\n",
    "|Северный административный округ|650.0|\n",
    "|Юго-Западный административный округ|600.0|\n",
    "|Восточный административный округ|575.0|\n",
    "|Северо-Восточный административный округ|500.0|\n",
    "|Южный административный округ|500.0|\n",
    "|Юго-Восточный административный округ|450.0|\n",
    "\n",
    "1. Дорогая группа (1000 руб.): Западный и Центральный административные округи;\n",
    "2. Средняя группа (700 - 600 руб.) Северо-Западный, Северный и Юго-Западный административные округа;\n",
    "3. Доступная группа (575 - 450 руб.) Восточный, Северо-Восточный, Южный и Юго-Восточный административные округа.\n",
    "Удаленность западного округа от центрального не влияет на среднюю цену, возможно связано с привлекательность западного округа. \n",
    "Удаленность западного и северного направления уменьшает средний чек, но южное и восточное направление уменьшает еще больше.  "
   ]
  },
  {
   "cell_type": "markdown",
   "metadata": {},
   "source": [
    "### Общий вывод:\n",
    "#### Категории заведений и их кол-во: \n",
    "\n",
    "|category|\tcount|\n",
    "|:--|:--:|\n",
    "|кафе\t|2378|\n",
    "|ресторан|\t2043|\n",
    "|кофейня|\t1413|\n",
    "|бар,паб\t|765|\n",
    "|пиццерия|\t633|\n",
    "|быстрое питание|\t603|\n",
    "|столовая\t|315|\n",
    "|булочная\t|256|\n",
    "\n",
    "Категории кафе, ресторан и кофейня занимают 70% от общего количества объектов общественного питания. \n",
    "#### Исследование количество посадочных мест: \n",
    "1. Лидер с отрывом по кол-ву мест категория 'ресторан'; \n",
    "2. Вторая группа 'бар,паб', 'кофейня' и 'столовая'\n",
    "3. Третья группа 'булочная', 'быстрое питание' и 'кафе'\n",
    "4. Замыкает группу 'пиццерия'. \n",
    "\n",
    "#### Cоотношение сетевых и несетевых заведений:\n",
    "Несетевых заведений больше сетевых, занимают 61.9% от общего числа. \n",
    "\n",
    "#### Cоотношение сетевых и несетевых заведений в категориях:\n",
    "Категории которые чаще являются сетевыми:\n",
    "1. кофейня;\n",
    "2. пиццерия;\n",
    "3. булочная.\n",
    "\n",
    "#### ТОП 15 популярных сетей в Москве:\n",
    "1. ТОП 15 сетевых заведений по кол-ву заведений:\n",
    "    1. Шоколадница\n",
    "    2. Домино'с Пицца\n",
    "    3. Додо Пицца\n",
    "    4. One Price Coffee\n",
    "    5. Яндекс Лавка\n",
    "    6. Cofix\n",
    "    7. Prime\n",
    "    8. Хинкальная\n",
    "    9. КОФЕПОРТ\n",
    "    10. Кулинарная лавка братьев Караваевых\n",
    "    11. Теремок\n",
    "    12. Чайхана\n",
    "    13. CofeFest\n",
    "    14. Буханка\n",
    "    15. Му-Му\n",
    "2. Часть заведений знакома жителю Новосибирска, т.е. мне;\n",
    "3. Единственный признак который их объединяет, то что они сетевые;\n",
    "4. ТОП 15 представлено во всех категориях заведений, но 4 категории, кофейня (336 заведений), ресторан (186), пиццерия (151) и кафе (100), составляют 95% в ТОП 15. \n",
    "\n",
    "#### Aдминистративные районы Москвы в датасете:\n",
    "1. Датасет представлен 9 административными районами Москвы;\n",
    "2. Распределение кол-во заведений по районам: \n",
    "|район|кол-во заведений|\n",
    "|:--|:--:|\n",
    "|Центральный административный округ|214|\n",
    "|Южный административный округ|89|\n",
    "|Западный административный округ|88|\n",
    "|Северный административный округ|88|\n",
    "|Северо-Восточный административный округ|85|\n",
    "|Восточный административный округ|80|\n",
    "|Юго-Западный административный округ|70|\n",
    "|Юго-Восточный административный округ|56|\n",
    "|Северо-Западный административный округ|46|\n",
    "3. Категория заведений Кофейня занимает первое место во всех районах.\n",
    "\n",
    "#### Распределение средних рейтингов по категориям заведений:\n",
    "\n",
    "Усреднённые рейтинги в разных типах общепита не сильно отличаются. \n",
    "#### Фоновая картограммя (хороплет) со средним рейтингом заведений каждого района:\n",
    "\n",
    "1. Высокий рейтинг заведений в Центральном административном округе. \n",
    "2. Отстают Северо-Восточный административный округ и Юго-Восточный административный округ;\n",
    "3. Остальные районы в середине рейтинга.\n",
    "#### ТОП 15 улиц по количеству заведений:\n",
    "\n",
    "|улица|кол-во заведений|\n",
    "|:--|:--:|\n",
    "|проспект Мира|184|\n",
    "|Профсоюзная улица|123|\n",
    "|Ленинский проспект|108|\n",
    "|проспект Вернадского|108|\n",
    "|Ленинградский проспект|95|\n",
    "|Дмитровское шоссе|87|\n",
    "|Каширское шоссе|76|\n",
    "|Варшавское шоссе|76|\n",
    "|Ленинградское шоссе|70|\n",
    "|МКАД|65|\n",
    "|Люблинская улица|60|\n",
    "|Мичуринский проспект|57|\n",
    "|улица Вавилова|55|\n",
    "|Кутузовский проспект|54|\n",
    "|улица Миклухо-Маклая|49|\n",
    "\n",
    "На улицах первые места занимает либо кафе либо ресторан\n",
    "\n",
    "#### Улицы, на которых находится только один объект общепита:\n",
    "Заведения находятся на небольших улицах, но есть во всех представленных районах, категорий и как в сетях, так и одиночные заведения.\n",
    "\n",
    "#### Средние чеки по районам:\n",
    "|район|средний чек|\n",
    "|:--|:--:|\n",
    "|Западный административный округ|1000.0|\n",
    "|Центральный административный округ|1000.0|\n",
    "|Северо-Западный административный округ|700.0|\n",
    "|Северный административный округ|650.0|\n",
    "|Юго-Западный административный округ|600.0|\n",
    "|Восточный административный округ|575.0|\n",
    "|Северо-Восточный административный округ|500.0|\n",
    "|Южный административный округ|500.0|\n",
    "|Юго-Восточный административный округ|450.0|\n",
    "\n",
    "1. Дорогая группа (1000 руб.): Западный и Центральный административные округи;\n",
    "2. Средняя группа (700 - 600 руб.) Северо-Западный, Северный и Юго-Западный административные округа;\n",
    "3. Доступная группа (575 - 450 руб.) Восточный, Северо-Восточный, Южный и Юго-Восточный административные округа.\n",
    "\n",
    "Удаленность западного округа от центрального не влияет на среднюю цену, возможно связано с привлекательность западного округа. \n",
    "\n",
    "Удаленность западного и северного направления уменьшает средний чек, но южное и восточное направление уменьшает еще больше.  "
   ]
  },
  {
   "cell_type": "markdown",
   "metadata": {},
   "source": [
    "## Детализируем исследование: открытие кофейни"
   ]
  },
  {
   "cell_type": "code",
   "execution_count": null,
   "metadata": {},
   "outputs": [],
   "source": [
    "# создадим таблицу только категории кофейня\n",
    "data_coffee_house = moscow_places.query('category == \"кофейня\"')\n",
    "data_coffee_house"
   ]
  },
  {
   "cell_type": "code",
   "execution_count": null,
   "metadata": {},
   "outputs": [],
   "source": [
    "# посмотрим сколько заведений в категории кофейня\n",
    "data_coffee_house.shape[0]"
   ]
  },
  {
   "cell_type": "code",
   "execution_count": null,
   "metadata": {
    "scrolled": true
   },
   "outputs": [],
   "source": [
    "# посмотрим распределение по районам заведений в категории кофейня\n",
    "data_coffee_house_district = data_coffee_house.groupby('district').agg({'name':'count'}).reset_index().sort_values('name', ascending = False)\n",
    "data_coffee_house_district"
   ]
  },
  {
   "cell_type": "code",
   "execution_count": null,
   "metadata": {
    "scrolled": true
   },
   "outputs": [],
   "source": [
    "# посмотрим распределение по районам заведений в категории кофейня\n",
    "data_coffee_house_district_short = data_coffee_house.groupby('district_short').agg({'name':'count'}).reset_index().sort_values('name', ascending = False)\n",
    "data_coffee_house_district_short"
   ]
  },
  {
   "cell_type": "code",
   "execution_count": null,
   "metadata": {},
   "outputs": [],
   "source": [
    "# используем стиль dark из библиотеки seaborn\n",
    "sns.set_style('darkgrid')\n",
    "# назначаем размер графика\n",
    "plt.figure(figsize=(16, 6))\n",
    "# строим столбчатый график средствами seaborn\n",
    "sns.barplot(x='district_short', y='name', data=data_coffee_house_district_short)\n",
    "# формируем заголовок графика и подписи осей средствами matplotlib\n",
    "plt.title('Кол-во кофейн')\n",
    "plt.xlabel('Районы')\n",
    "plt.ylabel('Кол-во кофейн')\n",
    "# поворачиваем подписи значений по оси X на 45 градусов\n",
    "plt.xticks(rotation=-70)\n",
    "# отображаем график на экране\n",
    "plt.show()"
   ]
  },
  {
   "cell_type": "code",
   "execution_count": null,
   "metadata": {},
   "outputs": [],
   "source": [
    "# загружаем JSON-файл с границами округов Москвы\n",
    "with open('/datasets/admin_level_geomap.geojson', encoding='utf-8') as f:\n",
    "    geo_json = json.load(f)\n",
    "#state_geo = '/datasets/admin_level_geomap.geojson'\n",
    "# moscow_lat - широта центра Москвы, moscow_lng - долгота центра Москвы\n",
    "moscow_lat, moscow_lng = 55.751244, 37.618423\n",
    "\n",
    "# создаём карту Москвы\n",
    "m = Map(location=[moscow_lat, moscow_lng], zoom_start=10)\n",
    "\n",
    "# создаём хороплет с помощью конструктора Choropleth и добавляем его на карту\n",
    "Choropleth(\n",
    "    geo_data=geo_json,\n",
    "    data=data_coffee_house_district,\n",
    "    columns=['district', 'name'],\n",
    "    key_on='feature.name',\n",
    "    fill_color='YlGn',\n",
    "    fill_opacity=0.8,\n",
    "    legend_name='Кол-во кофейн',\n",
    ").add_to(m)\n",
    "\n",
    "# выводим карту\n",
    "m"
   ]
  },
  {
   "cell_type": "code",
   "execution_count": null,
   "metadata": {
    "scrolled": false
   },
   "outputs": [],
   "source": [
    "# moscow_lat - широта центра Москвы, moscow_lng - долгота центра Москвы\n",
    "moscow_lat, moscow_lng = 55.751244, 37.618423\n",
    "\n",
    "# создаём карту Москвы\n",
    "m = Map(location=[moscow_lat, moscow_lng], zoom_start=10)\n",
    "# создаём пустой кластер, добавляем его на карту\n",
    "marker_cluster = MarkerCluster().add_to(m)\n",
    "\n",
    "# пишем функцию, которая принимает строку датафрейма,\n",
    "# создаёт маркер в текущей точке и добавляет его в кластер marker_cluster\n",
    "def create_clusters(row):\n",
    "    Marker(\n",
    "        [row['lat'], row['lng']],\n",
    "        popup=f\"{row['name']} {row['rating']}\",\n",
    "    ).add_to(marker_cluster)\n",
    "\n",
    "# применяем функцию create_clusters() к каждой строке датафрейма\n",
    "data_coffee_house.apply(create_clusters, axis=1)\n",
    "\n",
    "# выводим карту\n",
    "m"
   ]
  },
  {
   "cell_type": "markdown",
   "metadata": {},
   "source": [
    "### Анализ кофейн\n",
    "- всего в датасете представлено 1413 коффейн.\n",
    "- самое большое кол-во кофейн в Центральном административном округе\n",
    "- среднее кол-во в Северном, Северо-Восточном, Западном и Южном административных округах\n",
    "- низкое кол-во в Восточном, Юго-Западном, Юго-Восточном и Северо-Западном административных округах \n",
    "|район|кол-во кофейн|\n",
    "|:--|:--:|\n",
    "|Центральный административный округ|428|\n",
    "|Северный административный округ|193|\n",
    "|Северо-Восточный административный округ|159|\n",
    "|Западный административный округ|150|\n",
    "|Южный административный округ|131|\n",
    "|Восточный административный округ|105|\n",
    "|Юго-Западный административный округ|96|\n",
    "|Юго-Восточный административный округ|89|\n",
    "|Северо-Западный административный округ|62|\n",
    "\n",
    "Коффейни располагаются где большой проходимость людей (торговые центры, популярные пешеходные улицы или места)."
   ]
  },
  {
   "cell_type": "code",
   "execution_count": null,
   "metadata": {
    "scrolled": false
   },
   "outputs": [],
   "source": [
    "# посмотрим распределение по сетеям\n",
    "data_coffee_house_is_all_time = data_coffee_house.groupby('is_24/7').agg({'name':'count'}).reset_index().sort_values('name', ascending = False)\n",
    "labels = {False:'Некруглосуточный', True:'Круглосуточный'}\n",
    "data_coffee_house_is_all_time['is_24/7'] = data_coffee_house_is_all_time['is_24/7'].map(labels)\n",
    "data_coffee_house_is_all_time"
   ]
  },
  {
   "cell_type": "code",
   "execution_count": null,
   "metadata": {},
   "outputs": [],
   "source": [
    "fig = px.pie(data_coffee_house_is_all_time, values='name', names='is_24/7', title='Распределение по режиму работы')\n",
    "fig.show()"
   ]
  },
  {
   "cell_type": "code",
   "execution_count": null,
   "metadata": {},
   "outputs": [],
   "source": [
    "data_coffee_house"
   ]
  },
  {
   "cell_type": "code",
   "execution_count": null,
   "metadata": {
    "scrolled": false
   },
   "outputs": [],
   "source": [
    "# посмотрим распределение по сетеям\n",
    "data_coffee_house_chain = data_coffee_house.groupby('chain').agg({'name':'count'}).reset_index().sort_values('name', ascending = False)\n",
    "labels = {1:'Сеть', 0:'Не сеть'}\n",
    "data_coffee_house_chain['chain'] = data_coffee_house_chain['chain'].map(labels)\n",
    "data_coffee_house_chain"
   ]
  },
  {
   "cell_type": "code",
   "execution_count": null,
   "metadata": {
    "scrolled": false
   },
   "outputs": [],
   "source": [
    "fig = px.pie(data_coffee_house_chain, values='name', names='chain', title='Принадлежность к сетям')\n",
    "fig.show()"
   ]
  },
  {
   "cell_type": "markdown",
   "metadata": {},
   "source": [
    "### Круглосуточные кофейни:\n",
    "Круглосуточные кофейни есть, но их всего 4% от общего числа . Поэтому открывать круглосуточную не рекомендую. "
   ]
  },
  {
   "cell_type": "code",
   "execution_count": null,
   "metadata": {},
   "outputs": [],
   "source": [
    "data_coffee_house['rating'].describe()"
   ]
  },
  {
   "cell_type": "code",
   "execution_count": null,
   "metadata": {
    "scrolled": true
   },
   "outputs": [],
   "source": [
    "# посмотрим распределение по районам заведений в категории кофейня\n",
    "data_coffee_house_rating = data_coffee_house.groupby('district').agg({'rating':'median'}).reset_index().sort_values('rating', ascending = False)\n",
    "data_coffee_house_rating"
   ]
  },
  {
   "cell_type": "markdown",
   "metadata": {},
   "source": [
    "### Рейтинги кофеен:\n",
    "- Рейтинги кофеен варьируют от 1,4 до 5;\n",
    "- Средний рейтинг 4,3;\n",
    "- Средний рейтинг 4,3 у всех районов, кроме Западного административног округа, где 4,2:\n",
    "\n"
   ]
  },
  {
   "cell_type": "code",
   "execution_count": null,
   "metadata": {},
   "outputs": [],
   "source": [
    "data_coffee_house"
   ]
  },
  {
   "cell_type": "code",
   "execution_count": null,
   "metadata": {
    "scrolled": false
   },
   "outputs": [],
   "source": [
    "# посмотрим распределение по районам заведений в категории кофейня\n",
    "data_coffee_house_middle_coffee_cup = data_coffee_house.groupby('district').agg({'middle_coffee_cup':'median'}).reset_index().sort_values('middle_coffee_cup', ascending = False)\n",
    "data_coffee_house_middle_coffee_cup"
   ]
  },
  {
   "cell_type": "code",
   "execution_count": null,
   "metadata": {
    "scrolled": false
   },
   "outputs": [],
   "source": [
    "# посмотрим распределение по районам заведений в категории кофейня\n",
    "data_coffee_house_middle_coffee_cup_district_short = data_coffee_house.groupby('district_short').agg({'middle_coffee_cup':'median'}).reset_index().sort_values('middle_coffee_cup', ascending = False)\n",
    "data_coffee_house_middle_coffee_cup_district_short"
   ]
  },
  {
   "cell_type": "code",
   "execution_count": null,
   "metadata": {
    "scrolled": false
   },
   "outputs": [],
   "source": [
    "# используем стиль dark из библиотеки seaborn\n",
    "#sns.set_style('darkgrid')\n",
    "# назначаем размер графика\n",
    "plt.figure(figsize=(16, 6))\n",
    "# строим столбчатый график средствами seaborn\n",
    "sns.barplot(x='district_short', y='middle_coffee_cup', data=data_coffee_house_middle_coffee_cup_district_short)\n",
    "# формируем заголовок графика и подписи осей средствами matplotlib\n",
    "plt.title('Распределение средней цены чашки капучино')\n",
    "plt.xlabel('Районы')\n",
    "plt.ylabel('Средняя цена')\n",
    "# поворачиваем подписи значений по оси X на 45 градусов\n",
    "plt.xticks(rotation=-70)\n",
    "# отображаем график на экране\n",
    "plt.show()"
   ]
  },
  {
   "cell_type": "markdown",
   "metadata": {},
   "source": [
    "### Стоимость чашки капучино:\n",
    "Стоимость чашки капучино варьирует от 198 до 135 руб. \n",
    "\n",
    "|район|средняя цена чашки капучино|\n",
    "|:--|:--:|\n",
    "|Юго-Западный административный округ|198.0|\n",
    "|Центральный административный округ|190.0|\n",
    "|Западный административный округ|189.0|\n",
    "|Северо-Западный административный округ|165.0|\n",
    "|Северо-Восточный административный округ|162.5|\n",
    "|Северный административный округ|159.0|\n",
    "|Южный административный округ|150.0|\n",
    "|Юго-Восточный административный округ|147.5|\n",
    "|Восточный административный округ|135.0|\n",
    "\n",
    "Среднюю цену лучше устанавливать на среднем уровне по району."
   ]
  },
  {
   "attachments": {
    "image-2.png": {
     "image/png": "[encoded data removed]"
    },
    "image-5.png": {
     "image/png": "[encoded data removed]"
    },
    "image-6.png": {
     "image/png": "[encoded data removed]"
    },
    "image-7.png": {
     "image/png": "[encoded data removed]"
    }
   },
   "cell_type": "markdown",
   "metadata": {},
   "source": [
    "### Моя рекомендация:\n",
    "Кроме самого наполненого кофейнями ЦАО, хорошим вариантом будут Северный, Северо-Восточный, Западный и Южный АО, в остальных районах скорее всего не популярны кофейни:\n",
    "![image-7.png](attachment:image-7.png)\n",
    "Кофейня не должна быть круглосуточной, т.к. с таким режимом всего 4.18% кофейн\n",
    "![image-2.png](attachment:image-2.png)\n",
    "По стоимости чашки капучино самые доступные цены в Южном, Юго-Восточном и Восточном АО:\n",
    "![image-6.png](attachment:image-6.png)\n",
    "Кофейню можно открывать самостоятельно, без примыкания к сетям (приобретение франшизы), т.к. их практически пополам:\n",
    "![image-5.png](attachment:image-5.png)\n",
    "\n",
    "Обобщая выводы выше, предлагаю открыть некруглосуточную кофейню в Южном АО со средней ценой чашки капучино 150 руб. без примыкания к сетям."
   ]
  },
  {
   "cell_type": "markdown",
   "metadata": {},
   "source": [
    "### На какую стоимость чашки капучино стоит ориентироваться при открытии и почему?\n",
    "По желанию вы можете расширить список вопросов для исследования, добавив собственные.\n",
    "Постройте визуализации. Попробуйте дать рекомендацию для открытия нового заведения. Это творческое задание: здесь нет правильного или неправильного ответа, но ваше решение должно быть чем-то обосновано. Объяснить свою рекомендацию можно текстом с описанием или маркерами на географической карте."
   ]
  },
  {
   "cell_type": "markdown",
   "metadata": {},
   "source": [
    "Презентация: <https://disk.yandex.ru/i/DYvKOBen8ehPIg>"
   ]
  }
 ],
 "metadata": {
  "ExecuteTimeLog": [
   {
    "duration": 425,
    "start_time": "2023-04-03T02:06:49.895Z"
   },
   {
    "duration": 107,
    "start_time": "2023-04-03T02:07:34.170Z"
   },
   {
    "duration": 61,
    "start_time": "2023-04-03T02:08:40.381Z"
   },
   {
    "duration": 15,
    "start_time": "2023-04-03T02:09:01.475Z"
   },
   {
    "duration": 4,
    "start_time": "2023-04-03T02:09:22.391Z"
   },
   {
    "duration": 116,
    "start_time": "2023-04-03T02:09:34.080Z"
   },
   {
    "duration": 14,
    "start_time": "2023-04-03T02:29:33.329Z"
   },
   {
    "duration": 6,
    "start_time": "2023-04-03T02:34:31.159Z"
   },
   {
    "duration": 5,
    "start_time": "2023-04-03T02:36:36.693Z"
   },
   {
    "duration": 69,
    "start_time": "2023-04-03T02:37:14.109Z"
   },
   {
    "duration": 8,
    "start_time": "2023-04-03T02:42:16.573Z"
   },
   {
    "duration": 15,
    "start_time": "2023-04-03T02:44:42.413Z"
   },
   {
    "duration": 5,
    "start_time": "2023-04-03T02:48:25.283Z"
   },
   {
    "duration": 9,
    "start_time": "2023-04-03T02:50:56.758Z"
   },
   {
    "duration": 46,
    "start_time": "2023-04-03T02:52:02.363Z"
   },
   {
    "duration": 11,
    "start_time": "2023-04-03T02:52:06.538Z"
   },
   {
    "duration": 24,
    "start_time": "2023-04-03T02:52:15.853Z"
   },
   {
    "duration": 6,
    "start_time": "2023-04-03T02:52:56.178Z"
   },
   {
    "duration": 7,
    "start_time": "2023-04-03T02:53:16.448Z"
   },
   {
    "duration": 13,
    "start_time": "2023-04-03T02:54:03.308Z"
   },
   {
    "duration": 11,
    "start_time": "2023-04-03T02:54:16.928Z"
   },
   {
    "duration": 13,
    "start_time": "2023-04-03T02:54:48.228Z"
   },
   {
    "duration": 18,
    "start_time": "2023-04-03T02:54:54.827Z"
   },
   {
    "duration": 15,
    "start_time": "2023-04-03T02:55:04.058Z"
   },
   {
    "duration": 17,
    "start_time": "2023-04-03T02:56:48.258Z"
   },
   {
    "duration": 19,
    "start_time": "2023-04-03T02:57:00.359Z"
   },
   {
    "duration": 15,
    "start_time": "2023-04-03T02:57:30.467Z"
   },
   {
    "duration": 14,
    "start_time": "2023-04-03T02:58:45.293Z"
   },
   {
    "duration": 5,
    "start_time": "2023-04-03T03:00:37.668Z"
   },
   {
    "duration": 13,
    "start_time": "2023-04-03T03:00:54.698Z"
   },
   {
    "duration": 14,
    "start_time": "2023-04-03T03:01:30.639Z"
   },
   {
    "duration": 15,
    "start_time": "2023-04-03T03:01:43.368Z"
   },
   {
    "duration": 16,
    "start_time": "2023-04-03T03:02:01.928Z"
   },
   {
    "duration": 18,
    "start_time": "2023-04-03T03:03:54.014Z"
   },
   {
    "duration": 16,
    "start_time": "2023-04-03T03:04:58.459Z"
   },
   {
    "duration": 14,
    "start_time": "2023-04-03T03:05:15.949Z"
   },
   {
    "duration": 20,
    "start_time": "2023-04-03T03:05:26.804Z"
   },
   {
    "duration": 20,
    "start_time": "2023-04-03T03:06:29.295Z"
   },
   {
    "duration": 25,
    "start_time": "2023-04-03T03:06:42.204Z"
   },
   {
    "duration": 16,
    "start_time": "2023-04-03T03:06:59.320Z"
   },
   {
    "duration": 17,
    "start_time": "2023-04-03T03:07:23.669Z"
   },
   {
    "duration": 25,
    "start_time": "2023-04-03T03:07:27.739Z"
   },
   {
    "duration": 12,
    "start_time": "2023-04-03T03:08:26.419Z"
   },
   {
    "duration": 24,
    "start_time": "2023-04-03T03:09:03.479Z"
   },
   {
    "duration": 24,
    "start_time": "2023-04-03T03:09:23.990Z"
   },
   {
    "duration": 6,
    "start_time": "2023-04-03T03:20:31.871Z"
   },
   {
    "duration": 63,
    "start_time": "2023-04-03T03:22:20.519Z"
   },
   {
    "duration": 49,
    "start_time": "2023-04-03T03:22:38.094Z"
   },
   {
    "duration": 11,
    "start_time": "2023-04-03T03:22:45.280Z"
   },
   {
    "duration": 7,
    "start_time": "2023-04-03T03:22:54.249Z"
   },
   {
    "duration": 25,
    "start_time": "2023-04-03T03:23:11.650Z"
   },
   {
    "duration": 8,
    "start_time": "2023-04-03T03:23:29.670Z"
   },
   {
    "duration": 19,
    "start_time": "2023-04-03T03:23:51.469Z"
   },
   {
    "duration": 15,
    "start_time": "2023-04-03T03:24:46.949Z"
   },
   {
    "duration": 15,
    "start_time": "2023-04-03T03:25:29.950Z"
   },
   {
    "duration": 12,
    "start_time": "2023-04-03T03:25:49.859Z"
   },
   {
    "duration": 14,
    "start_time": "2023-04-03T03:26:16.699Z"
   },
   {
    "duration": 10,
    "start_time": "2023-04-03T03:26:25.950Z"
   },
   {
    "duration": 16,
    "start_time": "2023-04-03T03:26:49.035Z"
   },
   {
    "duration": 48,
    "start_time": "2023-04-03T03:29:11.670Z"
   },
   {
    "duration": 15,
    "start_time": "2023-04-03T03:29:44.079Z"
   },
   {
    "duration": 52,
    "start_time": "2023-04-03T03:30:04.830Z"
   },
   {
    "duration": 56,
    "start_time": "2023-04-03T07:42:40.835Z"
   },
   {
    "duration": 80,
    "start_time": "2023-04-03T07:43:45.191Z"
   },
   {
    "duration": 966,
    "start_time": "2023-04-03T07:49:41.334Z"
   },
   {
    "duration": 7,
    "start_time": "2023-04-03T07:49:57.715Z"
   },
   {
    "duration": 5,
    "start_time": "2023-04-03T07:55:24.453Z"
   },
   {
    "duration": 5,
    "start_time": "2023-04-03T07:56:23.554Z"
   },
   {
    "duration": 4,
    "start_time": "2023-04-03T07:56:29.197Z"
   },
   {
    "duration": 7,
    "start_time": "2023-04-03T07:58:33.819Z"
   },
   {
    "duration": 4,
    "start_time": "2023-04-03T07:58:45.583Z"
   },
   {
    "duration": 10,
    "start_time": "2023-04-03T07:59:55.954Z"
   },
   {
    "duration": 29,
    "start_time": "2023-04-03T08:00:02.688Z"
   },
   {
    "duration": 8,
    "start_time": "2023-04-03T08:00:51.124Z"
   },
   {
    "duration": 16,
    "start_time": "2023-04-03T08:01:09.143Z"
   },
   {
    "duration": 8,
    "start_time": "2023-04-03T08:04:19.923Z"
   },
   {
    "duration": 6,
    "start_time": "2023-04-03T08:05:08.793Z"
   },
   {
    "duration": 17,
    "start_time": "2023-04-03T08:05:21.728Z"
   },
   {
    "duration": 10,
    "start_time": "2023-04-03T08:08:26.623Z"
   },
   {
    "duration": 8,
    "start_time": "2023-04-03T08:08:36.254Z"
   },
   {
    "duration": 5,
    "start_time": "2023-04-03T08:08:52.253Z"
   },
   {
    "duration": 8,
    "start_time": "2023-04-03T08:11:10.124Z"
   },
   {
    "duration": 4,
    "start_time": "2023-04-03T08:11:53.333Z"
   },
   {
    "duration": 8,
    "start_time": "2023-04-03T08:12:18.664Z"
   },
   {
    "duration": 5,
    "start_time": "2023-04-03T08:12:31.434Z"
   },
   {
    "duration": 23,
    "start_time": "2023-04-03T08:13:07.433Z"
   },
   {
    "duration": 20,
    "start_time": "2023-04-03T08:13:41.835Z"
   },
   {
    "duration": 17,
    "start_time": "2023-04-03T08:13:56.044Z"
   },
   {
    "duration": 36,
    "start_time": "2023-04-03T08:15:10.364Z"
   },
   {
    "duration": 16,
    "start_time": "2023-04-03T08:16:57.654Z"
   },
   {
    "duration": 14,
    "start_time": "2023-04-03T08:17:17.814Z"
   },
   {
    "duration": 20,
    "start_time": "2023-04-03T08:17:29.429Z"
   },
   {
    "duration": 71,
    "start_time": "2023-04-03T08:37:43.524Z"
   },
   {
    "duration": 19,
    "start_time": "2023-04-03T08:38:20.824Z"
   },
   {
    "duration": 8,
    "start_time": "2023-04-03T08:39:27.679Z"
   },
   {
    "duration": 7,
    "start_time": "2023-04-03T08:40:18.817Z"
   },
   {
    "duration": 224,
    "start_time": "2023-04-03T08:40:31.790Z"
   },
   {
    "duration": 11,
    "start_time": "2023-04-03T09:01:43.360Z"
   },
   {
    "duration": 6,
    "start_time": "2023-04-03T09:02:24.334Z"
   },
   {
    "duration": 19,
    "start_time": "2023-04-03T09:02:28.169Z"
   },
   {
    "duration": 246,
    "start_time": "2023-04-03T09:02:30.964Z"
   },
   {
    "duration": 13,
    "start_time": "2023-04-03T09:09:01.454Z"
   },
   {
    "duration": 9,
    "start_time": "2023-04-03T09:13:01.099Z"
   },
   {
    "duration": 27,
    "start_time": "2023-04-03T09:13:08.394Z"
   },
   {
    "duration": 411,
    "start_time": "2023-04-03T09:13:42.330Z"
   },
   {
    "duration": 69,
    "start_time": "2023-04-03T09:13:42.743Z"
   },
   {
    "duration": 4,
    "start_time": "2023-04-03T09:13:42.814Z"
   },
   {
    "duration": 128,
    "start_time": "2023-04-03T09:13:42.820Z"
   },
   {
    "duration": 14,
    "start_time": "2023-04-03T09:13:42.950Z"
   },
   {
    "duration": 83,
    "start_time": "2023-04-03T09:13:42.966Z"
   },
   {
    "duration": 9,
    "start_time": "2023-04-03T09:13:43.050Z"
   },
   {
    "duration": 14,
    "start_time": "2023-04-03T09:13:43.061Z"
   },
   {
    "duration": 32,
    "start_time": "2023-04-03T09:13:43.077Z"
   },
   {
    "duration": 237,
    "start_time": "2023-04-03T09:13:43.111Z"
   },
   {
    "duration": 13,
    "start_time": "2023-04-03T09:13:43.350Z"
   },
   {
    "duration": 14,
    "start_time": "2023-04-03T09:13:43.364Z"
   },
   {
    "duration": 48,
    "start_time": "2023-04-03T09:13:43.379Z"
   },
   {
    "duration": 8,
    "start_time": "2023-04-03T09:13:43.431Z"
   },
   {
    "duration": 21,
    "start_time": "2023-04-03T09:13:43.441Z"
   },
   {
    "duration": 5,
    "start_time": "2023-04-03T09:13:43.464Z"
   },
   {
    "duration": 10,
    "start_time": "2023-04-03T09:13:43.471Z"
   },
   {
    "duration": 18,
    "start_time": "2023-04-03T09:13:43.503Z"
   },
   {
    "duration": 26,
    "start_time": "2023-04-03T09:13:43.523Z"
   },
   {
    "duration": 98,
    "start_time": "2023-04-03T09:13:43.551Z"
   },
   {
    "duration": 0,
    "start_time": "2023-04-03T09:13:43.651Z"
   },
   {
    "duration": 18,
    "start_time": "2023-04-03T09:14:55.369Z"
   },
   {
    "duration": 5,
    "start_time": "2023-04-03T09:16:23.474Z"
   },
   {
    "duration": 23,
    "start_time": "2023-04-03T09:16:26.024Z"
   },
   {
    "duration": 14,
    "start_time": "2023-04-03T09:21:00.644Z"
   },
   {
    "duration": 9,
    "start_time": "2023-04-03T09:22:30.724Z"
   },
   {
    "duration": 9,
    "start_time": "2023-04-03T09:22:54.115Z"
   },
   {
    "duration": 10,
    "start_time": "2023-04-03T09:23:05.415Z"
   },
   {
    "duration": 8,
    "start_time": "2023-04-03T09:25:33.615Z"
   },
   {
    "duration": 138,
    "start_time": "2023-04-03T09:25:57.665Z"
   },
   {
    "duration": 32,
    "start_time": "2023-04-03T09:26:02.604Z"
   },
   {
    "duration": 10,
    "start_time": "2023-04-03T09:26:17.989Z"
   },
   {
    "duration": 11,
    "start_time": "2023-04-03T09:26:40.995Z"
   },
   {
    "duration": 7,
    "start_time": "2023-04-03T09:26:57.860Z"
   },
   {
    "duration": 5,
    "start_time": "2023-04-03T09:26:59.855Z"
   },
   {
    "duration": 12,
    "start_time": "2023-04-03T09:27:10.826Z"
   },
   {
    "duration": 15,
    "start_time": "2023-04-03T09:27:51.756Z"
   },
   {
    "duration": 10,
    "start_time": "2023-04-03T09:32:18.195Z"
   },
   {
    "duration": 3,
    "start_time": "2023-04-03T09:32:52.625Z"
   },
   {
    "duration": 922,
    "start_time": "2023-04-03T09:32:59.695Z"
   },
   {
    "duration": 5,
    "start_time": "2023-04-03T09:33:27.574Z"
   },
   {
    "duration": 61,
    "start_time": "2023-04-03T09:33:51.386Z"
   },
   {
    "duration": 16,
    "start_time": "2023-04-03T09:37:04.977Z"
   },
   {
    "duration": 13,
    "start_time": "2023-04-03T09:37:17.826Z"
   },
   {
    "duration": 18,
    "start_time": "2023-04-03T09:37:26.712Z"
   },
   {
    "duration": 5,
    "start_time": "2023-04-03T09:37:34.514Z"
   },
   {
    "duration": 15,
    "start_time": "2023-04-03T09:37:50.135Z"
   },
   {
    "duration": 19,
    "start_time": "2023-04-03T09:39:30.245Z"
   },
   {
    "duration": 13,
    "start_time": "2023-04-03T09:39:44.760Z"
   },
   {
    "duration": 267,
    "start_time": "2023-04-03T09:40:47.425Z"
   },
   {
    "duration": 396,
    "start_time": "2023-04-03T09:41:03.177Z"
   },
   {
    "duration": 271,
    "start_time": "2023-04-03T09:42:04.065Z"
   },
   {
    "duration": 250,
    "start_time": "2023-04-03T09:42:22.255Z"
   },
   {
    "duration": 11,
    "start_time": "2023-04-03T09:42:35.020Z"
   },
   {
    "duration": 11,
    "start_time": "2023-04-03T09:42:47.507Z"
   },
   {
    "duration": 7,
    "start_time": "2023-04-03T09:43:00.376Z"
   },
   {
    "duration": 401,
    "start_time": "2023-04-03T09:43:35.269Z"
   },
   {
    "duration": 66,
    "start_time": "2023-04-03T09:44:36.495Z"
   },
   {
    "duration": 12,
    "start_time": "2023-04-03T09:45:00.184Z"
   },
   {
    "duration": 8,
    "start_time": "2023-04-03T09:45:13.677Z"
   },
   {
    "duration": 48,
    "start_time": "2023-04-03T09:45:22.512Z"
   },
   {
    "duration": 9,
    "start_time": "2023-04-03T09:48:53.689Z"
   },
   {
    "duration": 9,
    "start_time": "2023-04-03T09:49:01.194Z"
   },
   {
    "duration": 15,
    "start_time": "2023-04-03T10:05:12.580Z"
   },
   {
    "duration": 722,
    "start_time": "2023-04-03T10:16:53.544Z"
   },
   {
    "duration": 31,
    "start_time": "2023-04-03T12:06:17.204Z"
   },
   {
    "duration": 27,
    "start_time": "2023-04-03T12:07:44.865Z"
   },
   {
    "duration": 274,
    "start_time": "2023-04-03T12:13:05.255Z"
   },
   {
    "duration": 2,
    "start_time": "2023-04-03T12:19:03.270Z"
   },
   {
    "duration": 76,
    "start_time": "2023-04-03T12:19:45.023Z"
   },
   {
    "duration": 5,
    "start_time": "2023-04-03T12:20:06.294Z"
   },
   {
    "duration": 10,
    "start_time": "2023-04-03T12:22:51.958Z"
   },
   {
    "duration": 6,
    "start_time": "2023-04-03T12:26:14.821Z"
   },
   {
    "duration": 171,
    "start_time": "2023-04-03T12:26:17.020Z"
   },
   {
    "duration": 6,
    "start_time": "2023-04-03T12:30:22.795Z"
   },
   {
    "duration": 150,
    "start_time": "2023-04-03T12:30:24.755Z"
   },
   {
    "duration": 284,
    "start_time": "2023-04-03T12:31:46.425Z"
   },
   {
    "duration": 7,
    "start_time": "2023-04-03T12:32:04.972Z"
   },
   {
    "duration": 286,
    "start_time": "2023-04-03T12:32:10.639Z"
   },
   {
    "duration": 372,
    "start_time": "2023-04-03T12:32:15.954Z"
   },
   {
    "duration": 271,
    "start_time": "2023-04-03T12:40:57.373Z"
   },
   {
    "duration": 287,
    "start_time": "2023-04-03T12:41:41.029Z"
   },
   {
    "duration": 252,
    "start_time": "2023-04-03T12:42:12.824Z"
   },
   {
    "duration": 271,
    "start_time": "2023-04-03T12:43:47.815Z"
   },
   {
    "duration": 152,
    "start_time": "2023-04-03T13:01:12.050Z"
   },
   {
    "duration": 350,
    "start_time": "2023-04-03T13:01:25.480Z"
   },
   {
    "duration": 490,
    "start_time": "2023-04-03T13:02:28.295Z"
   },
   {
    "duration": 1103,
    "start_time": "2023-04-03T13:03:35.418Z"
   },
   {
    "duration": 236,
    "start_time": "2023-04-03T13:03:54.569Z"
   },
   {
    "duration": 45,
    "start_time": "2023-04-03T13:07:18.075Z"
   },
   {
    "duration": 263,
    "start_time": "2023-04-03T13:08:11.135Z"
   },
   {
    "duration": 334,
    "start_time": "2023-04-03T13:08:21.696Z"
   },
   {
    "duration": 21,
    "start_time": "2023-04-03T13:11:52.390Z"
   },
   {
    "duration": 22,
    "start_time": "2023-04-03T13:12:34.968Z"
   },
   {
    "duration": 40,
    "start_time": "2023-04-03T13:14:08.288Z"
   },
   {
    "duration": 48,
    "start_time": "2023-04-03T13:14:42.610Z"
   },
   {
    "duration": 45,
    "start_time": "2023-04-03T13:14:47.911Z"
   },
   {
    "duration": 45,
    "start_time": "2023-04-03T13:15:21.431Z"
   },
   {
    "duration": 10,
    "start_time": "2023-04-03T13:16:10.486Z"
   },
   {
    "duration": 18,
    "start_time": "2023-04-03T13:18:47.385Z"
   },
   {
    "duration": 12,
    "start_time": "2023-04-03T13:19:36.269Z"
   },
   {
    "duration": 7,
    "start_time": "2023-04-03T13:20:34.667Z"
   },
   {
    "duration": 11,
    "start_time": "2023-04-03T13:20:41.767Z"
   },
   {
    "duration": 10,
    "start_time": "2023-04-03T13:22:56.441Z"
   },
   {
    "duration": 12,
    "start_time": "2023-04-03T13:26:22.079Z"
   },
   {
    "duration": 274,
    "start_time": "2023-04-03T13:27:06.071Z"
   },
   {
    "duration": 9,
    "start_time": "2023-04-03T13:28:05.081Z"
   },
   {
    "duration": 283,
    "start_time": "2023-04-03T13:28:19.375Z"
   },
   {
    "duration": 11,
    "start_time": "2023-04-03T13:28:55.637Z"
   },
   {
    "duration": 8,
    "start_time": "2023-04-03T13:29:48.196Z"
   },
   {
    "duration": 60,
    "start_time": "2023-04-03T13:40:47.391Z"
   },
   {
    "duration": 11,
    "start_time": "2023-04-03T13:40:51.616Z"
   },
   {
    "duration": 17,
    "start_time": "2023-04-03T13:41:03.815Z"
   },
   {
    "duration": 9,
    "start_time": "2023-04-03T13:43:29.920Z"
   },
   {
    "duration": 21,
    "start_time": "2023-04-03T13:49:34.116Z"
   },
   {
    "duration": 35,
    "start_time": "2023-04-03T13:52:24.620Z"
   },
   {
    "duration": 67,
    "start_time": "2023-04-03T13:53:44.835Z"
   },
   {
    "duration": 11,
    "start_time": "2023-04-03T13:56:25.892Z"
   },
   {
    "duration": 29,
    "start_time": "2023-04-03T14:16:58.228Z"
   },
   {
    "duration": 33,
    "start_time": "2023-04-03T14:17:54.056Z"
   },
   {
    "duration": 30,
    "start_time": "2023-04-03T14:19:55.116Z"
   },
   {
    "duration": 33,
    "start_time": "2023-04-03T14:22:01.535Z"
   },
   {
    "duration": 11,
    "start_time": "2023-04-03T14:24:59.710Z"
   },
   {
    "duration": 4,
    "start_time": "2023-04-03T14:26:28.985Z"
   },
   {
    "duration": 4,
    "start_time": "2023-04-03T14:26:45.710Z"
   },
   {
    "duration": 5,
    "start_time": "2023-04-03T14:27:29.176Z"
   },
   {
    "duration": 5,
    "start_time": "2023-04-03T14:28:04.176Z"
   },
   {
    "duration": 5,
    "start_time": "2023-04-03T14:28:10.555Z"
   },
   {
    "duration": 4,
    "start_time": "2023-04-03T14:29:06.531Z"
   },
   {
    "duration": 147,
    "start_time": "2023-04-03T14:29:50.590Z"
   },
   {
    "duration": 30,
    "start_time": "2023-04-03T14:34:19.044Z"
   },
   {
    "duration": 4,
    "start_time": "2023-04-03T14:39:50.730Z"
   },
   {
    "duration": 4,
    "start_time": "2023-04-03T14:40:01.822Z"
   },
   {
    "duration": 1333,
    "start_time": "2023-04-03T14:40:11.586Z"
   },
   {
    "duration": 60,
    "start_time": "2023-04-03T14:40:12.921Z"
   },
   {
    "duration": 5,
    "start_time": "2023-04-03T14:40:12.983Z"
   },
   {
    "duration": 143,
    "start_time": "2023-04-03T14:40:12.990Z"
   },
   {
    "duration": 27,
    "start_time": "2023-04-03T14:40:13.136Z"
   },
   {
    "duration": 47,
    "start_time": "2023-04-03T14:40:13.165Z"
   },
   {
    "duration": 5,
    "start_time": "2023-04-03T14:40:13.214Z"
   },
   {
    "duration": 27,
    "start_time": "2023-04-03T14:40:13.221Z"
   },
   {
    "duration": 5,
    "start_time": "2023-04-03T14:40:13.250Z"
   },
   {
    "duration": 13,
    "start_time": "2023-04-03T14:40:13.257Z"
   },
   {
    "duration": 56,
    "start_time": "2023-04-03T14:40:13.272Z"
   },
   {
    "duration": 79,
    "start_time": "2023-04-03T14:40:13.330Z"
   },
   {
    "duration": 644,
    "start_time": "2023-04-03T14:40:13.411Z"
   },
   {
    "duration": 0,
    "start_time": "2023-04-03T14:40:14.057Z"
   },
   {
    "duration": 0,
    "start_time": "2023-04-03T14:40:14.059Z"
   },
   {
    "duration": 0,
    "start_time": "2023-04-03T14:40:14.060Z"
   },
   {
    "duration": 0,
    "start_time": "2023-04-03T14:40:14.061Z"
   },
   {
    "duration": 0,
    "start_time": "2023-04-03T14:40:14.062Z"
   },
   {
    "duration": 0,
    "start_time": "2023-04-03T14:40:14.063Z"
   },
   {
    "duration": 0,
    "start_time": "2023-04-03T14:40:14.064Z"
   },
   {
    "duration": 0,
    "start_time": "2023-04-03T14:40:14.065Z"
   },
   {
    "duration": 0,
    "start_time": "2023-04-03T14:40:14.066Z"
   },
   {
    "duration": 0,
    "start_time": "2023-04-03T14:40:14.068Z"
   },
   {
    "duration": 0,
    "start_time": "2023-04-03T14:40:14.069Z"
   },
   {
    "duration": 0,
    "start_time": "2023-04-03T14:40:14.070Z"
   },
   {
    "duration": 0,
    "start_time": "2023-04-03T14:40:14.071Z"
   },
   {
    "duration": 0,
    "start_time": "2023-04-03T14:40:14.072Z"
   },
   {
    "duration": 0,
    "start_time": "2023-04-03T14:40:14.074Z"
   },
   {
    "duration": 0,
    "start_time": "2023-04-03T14:40:14.075Z"
   },
   {
    "duration": 0,
    "start_time": "2023-04-03T14:40:14.076Z"
   },
   {
    "duration": 0,
    "start_time": "2023-04-03T14:40:14.076Z"
   },
   {
    "duration": 0,
    "start_time": "2023-04-03T14:40:14.077Z"
   },
   {
    "duration": 0,
    "start_time": "2023-04-03T14:40:14.078Z"
   },
   {
    "duration": 0,
    "start_time": "2023-04-03T14:40:14.079Z"
   },
   {
    "duration": 0,
    "start_time": "2023-04-03T14:40:14.080Z"
   },
   {
    "duration": 1230,
    "start_time": "2023-04-03T14:40:37.890Z"
   },
   {
    "duration": 59,
    "start_time": "2023-04-03T14:40:39.121Z"
   },
   {
    "duration": 4,
    "start_time": "2023-04-03T14:40:39.182Z"
   },
   {
    "duration": 138,
    "start_time": "2023-04-03T14:40:39.188Z"
   },
   {
    "duration": 30,
    "start_time": "2023-04-03T14:40:39.328Z"
   },
   {
    "duration": 44,
    "start_time": "2023-04-03T14:40:39.360Z"
   },
   {
    "duration": 5,
    "start_time": "2023-04-03T14:40:39.407Z"
   },
   {
    "duration": 26,
    "start_time": "2023-04-03T14:40:39.414Z"
   },
   {
    "duration": 4,
    "start_time": "2023-04-03T14:40:39.442Z"
   },
   {
    "duration": 4,
    "start_time": "2023-04-03T14:40:39.450Z"
   },
   {
    "duration": 64,
    "start_time": "2023-04-03T14:40:39.455Z"
   },
   {
    "duration": 66,
    "start_time": "2023-04-03T14:40:39.521Z"
   },
   {
    "duration": 11,
    "start_time": "2023-04-03T14:40:39.602Z"
   },
   {
    "duration": 43,
    "start_time": "2023-04-03T14:40:39.615Z"
   },
   {
    "duration": 7,
    "start_time": "2023-04-03T14:40:39.660Z"
   },
   {
    "duration": 289,
    "start_time": "2023-04-03T14:40:39.670Z"
   },
   {
    "duration": 261,
    "start_time": "2023-04-03T14:40:39.961Z"
   },
   {
    "duration": 255,
    "start_time": "2023-04-03T14:40:40.224Z"
   },
   {
    "duration": 22,
    "start_time": "2023-04-03T14:40:40.481Z"
   },
   {
    "duration": 25,
    "start_time": "2023-04-03T14:40:40.505Z"
   },
   {
    "duration": 13,
    "start_time": "2023-04-03T14:40:40.532Z"
   },
   {
    "duration": 77,
    "start_time": "2023-04-03T14:40:40.546Z"
   },
   {
    "duration": 9,
    "start_time": "2023-04-03T14:40:40.624Z"
   },
   {
    "duration": 19,
    "start_time": "2023-04-03T14:40:40.635Z"
   },
   {
    "duration": 18,
    "start_time": "2023-04-03T14:40:40.655Z"
   },
   {
    "duration": 232,
    "start_time": "2023-04-03T14:40:40.675Z"
   },
   {
    "duration": 12,
    "start_time": "2023-04-03T14:40:40.910Z"
   },
   {
    "duration": 8,
    "start_time": "2023-04-03T14:40:40.925Z"
   },
   {
    "duration": 34,
    "start_time": "2023-04-03T14:40:40.935Z"
   },
   {
    "duration": 26,
    "start_time": "2023-04-03T14:40:40.971Z"
   },
   {
    "duration": 15,
    "start_time": "2023-04-03T14:40:40.999Z"
   },
   {
    "duration": 446,
    "start_time": "2023-04-03T14:40:41.016Z"
   },
   {
    "duration": 15,
    "start_time": "2023-04-03T14:40:41.464Z"
   },
   {
    "duration": 15,
    "start_time": "2023-04-03T14:45:16.272Z"
   },
   {
    "duration": 20,
    "start_time": "2023-04-03T14:46:59.784Z"
   },
   {
    "duration": 161,
    "start_time": "2023-04-03T14:50:25.510Z"
   },
   {
    "duration": 44,
    "start_time": "2023-04-03T14:50:52.070Z"
   },
   {
    "duration": 3,
    "start_time": "2023-04-03T15:00:01.615Z"
   },
   {
    "duration": 1583,
    "start_time": "2023-04-04T04:43:17.472Z"
   },
   {
    "duration": 545,
    "start_time": "2023-04-04T04:43:19.057Z"
   },
   {
    "duration": 5,
    "start_time": "2023-04-04T04:43:19.604Z"
   },
   {
    "duration": 136,
    "start_time": "2023-04-04T04:43:19.611Z"
   },
   {
    "duration": 124,
    "start_time": "2023-04-04T04:43:19.750Z"
   },
   {
    "duration": 0,
    "start_time": "2023-04-04T04:43:19.876Z"
   },
   {
    "duration": 0,
    "start_time": "2023-04-04T04:43:19.878Z"
   },
   {
    "duration": 0,
    "start_time": "2023-04-04T04:43:19.880Z"
   },
   {
    "duration": 0,
    "start_time": "2023-04-04T04:43:19.889Z"
   },
   {
    "duration": 0,
    "start_time": "2023-04-04T04:43:19.891Z"
   },
   {
    "duration": 0,
    "start_time": "2023-04-04T04:43:19.892Z"
   },
   {
    "duration": 0,
    "start_time": "2023-04-04T04:43:19.894Z"
   },
   {
    "duration": 0,
    "start_time": "2023-04-04T04:43:19.898Z"
   },
   {
    "duration": 0,
    "start_time": "2023-04-04T04:43:19.899Z"
   },
   {
    "duration": 0,
    "start_time": "2023-04-04T04:43:19.901Z"
   },
   {
    "duration": 0,
    "start_time": "2023-04-04T04:43:19.902Z"
   },
   {
    "duration": 0,
    "start_time": "2023-04-04T04:43:19.904Z"
   },
   {
    "duration": 0,
    "start_time": "2023-04-04T04:43:19.906Z"
   },
   {
    "duration": 0,
    "start_time": "2023-04-04T04:43:19.907Z"
   },
   {
    "duration": 0,
    "start_time": "2023-04-04T04:43:19.909Z"
   },
   {
    "duration": 0,
    "start_time": "2023-04-04T04:43:19.910Z"
   },
   {
    "duration": 0,
    "start_time": "2023-04-04T04:43:19.911Z"
   },
   {
    "duration": 0,
    "start_time": "2023-04-04T04:43:19.914Z"
   },
   {
    "duration": 0,
    "start_time": "2023-04-04T04:43:19.915Z"
   },
   {
    "duration": 0,
    "start_time": "2023-04-04T04:43:19.916Z"
   },
   {
    "duration": 0,
    "start_time": "2023-04-04T04:43:19.918Z"
   },
   {
    "duration": 0,
    "start_time": "2023-04-04T04:43:19.919Z"
   },
   {
    "duration": 0,
    "start_time": "2023-04-04T04:43:19.920Z"
   },
   {
    "duration": 0,
    "start_time": "2023-04-04T04:43:19.921Z"
   },
   {
    "duration": 0,
    "start_time": "2023-04-04T04:43:19.923Z"
   },
   {
    "duration": 0,
    "start_time": "2023-04-04T04:43:19.924Z"
   },
   {
    "duration": 0,
    "start_time": "2023-04-04T04:43:19.925Z"
   },
   {
    "duration": 0,
    "start_time": "2023-04-04T04:43:19.927Z"
   },
   {
    "duration": 0,
    "start_time": "2023-04-04T04:43:19.928Z"
   },
   {
    "duration": 0,
    "start_time": "2023-04-04T04:43:19.929Z"
   },
   {
    "duration": 0,
    "start_time": "2023-04-04T04:43:19.987Z"
   },
   {
    "duration": 0,
    "start_time": "2023-04-04T04:43:19.988Z"
   },
   {
    "duration": 0,
    "start_time": "2023-04-04T04:43:19.990Z"
   },
   {
    "duration": 0,
    "start_time": "2023-04-04T04:43:19.991Z"
   },
   {
    "duration": 0,
    "start_time": "2023-04-04T04:43:19.992Z"
   },
   {
    "duration": 66,
    "start_time": "2023-04-04T04:49:29.951Z"
   },
   {
    "duration": 17,
    "start_time": "2023-04-04T04:50:31.715Z"
   },
   {
    "duration": 13,
    "start_time": "2023-04-04T05:00:45.227Z"
   },
   {
    "duration": 31,
    "start_time": "2023-04-04T05:01:40.196Z"
   },
   {
    "duration": 39,
    "start_time": "2023-04-04T05:02:09.082Z"
   },
   {
    "duration": 21,
    "start_time": "2023-04-04T05:02:30.571Z"
   },
   {
    "duration": 29,
    "start_time": "2023-04-04T05:03:03.411Z"
   },
   {
    "duration": 19,
    "start_time": "2023-04-04T05:04:07.111Z"
   },
   {
    "duration": 111,
    "start_time": "2023-04-04T05:05:27.242Z"
   },
   {
    "duration": 48,
    "start_time": "2023-04-04T05:05:45.041Z"
   },
   {
    "duration": 48,
    "start_time": "2023-04-04T05:06:03.031Z"
   },
   {
    "duration": 34,
    "start_time": "2023-04-04T05:06:15.831Z"
   },
   {
    "duration": 38,
    "start_time": "2023-04-04T05:07:08.076Z"
   },
   {
    "duration": 45,
    "start_time": "2023-04-04T05:07:18.541Z"
   },
   {
    "duration": 18,
    "start_time": "2023-04-04T05:07:30.896Z"
   },
   {
    "duration": 20,
    "start_time": "2023-04-04T05:09:48.036Z"
   },
   {
    "duration": 28,
    "start_time": "2023-04-04T05:10:35.666Z"
   },
   {
    "duration": 20,
    "start_time": "2023-04-04T05:10:55.542Z"
   },
   {
    "duration": 25,
    "start_time": "2023-04-04T05:12:51.902Z"
   },
   {
    "duration": 17,
    "start_time": "2023-04-04T05:13:49.232Z"
   },
   {
    "duration": 26,
    "start_time": "2023-04-04T05:13:57.552Z"
   },
   {
    "duration": 16,
    "start_time": "2023-04-04T05:14:06.302Z"
   },
   {
    "duration": 12,
    "start_time": "2023-04-04T05:14:10.513Z"
   },
   {
    "duration": 10,
    "start_time": "2023-04-04T05:14:17.177Z"
   },
   {
    "duration": 46,
    "start_time": "2023-04-04T05:18:32.974Z"
   },
   {
    "duration": 19,
    "start_time": "2023-04-04T05:18:47.523Z"
   },
   {
    "duration": 30,
    "start_time": "2023-04-04T05:19:02.466Z"
   },
   {
    "duration": 39,
    "start_time": "2023-04-04T05:19:41.603Z"
   },
   {
    "duration": 31,
    "start_time": "2023-04-04T05:20:15.763Z"
   },
   {
    "duration": 18,
    "start_time": "2023-04-04T05:22:04.513Z"
   },
   {
    "duration": 18,
    "start_time": "2023-04-04T05:23:54.916Z"
   },
   {
    "duration": 81,
    "start_time": "2023-04-04T05:24:01.352Z"
   },
   {
    "duration": 24,
    "start_time": "2023-04-04T05:36:05.332Z"
   },
   {
    "duration": 26,
    "start_time": "2023-04-04T05:37:28.042Z"
   },
   {
    "duration": 44,
    "start_time": "2023-04-04T05:38:48.419Z"
   },
   {
    "duration": 5,
    "start_time": "2023-04-04T05:39:51.057Z"
   },
   {
    "duration": 26,
    "start_time": "2023-04-04T05:39:55.342Z"
   },
   {
    "duration": 309,
    "start_time": "2023-04-04T05:55:48.508Z"
   },
   {
    "duration": 4,
    "start_time": "2023-04-04T05:56:08.353Z"
   },
   {
    "duration": 26,
    "start_time": "2023-04-04T05:56:14.202Z"
   },
   {
    "duration": 9,
    "start_time": "2023-04-04T05:59:45.763Z"
   },
   {
    "duration": 12,
    "start_time": "2023-04-04T05:59:56.158Z"
   },
   {
    "duration": 11,
    "start_time": "2023-04-04T06:00:20.903Z"
   },
   {
    "duration": 3,
    "start_time": "2023-04-04T06:00:50.544Z"
   },
   {
    "duration": 97,
    "start_time": "2023-04-04T06:00:50.549Z"
   },
   {
    "duration": 6,
    "start_time": "2023-04-04T06:00:50.649Z"
   },
   {
    "duration": 182,
    "start_time": "2023-04-04T06:00:50.657Z"
   },
   {
    "duration": 13,
    "start_time": "2023-04-04T06:00:50.842Z"
   },
   {
    "duration": 81,
    "start_time": "2023-04-04T06:00:50.857Z"
   },
   {
    "duration": 10,
    "start_time": "2023-04-04T06:00:50.939Z"
   },
   {
    "duration": 59,
    "start_time": "2023-04-04T06:00:50.951Z"
   },
   {
    "duration": 76,
    "start_time": "2023-04-04T06:00:51.012Z"
   },
   {
    "duration": 59,
    "start_time": "2023-04-04T06:00:51.090Z"
   },
   {
    "duration": 83,
    "start_time": "2023-04-04T06:00:51.151Z"
   },
   {
    "duration": 24,
    "start_time": "2023-04-04T06:01:04.715Z"
   },
   {
    "duration": 5,
    "start_time": "2023-04-04T06:01:14.288Z"
   },
   {
    "duration": 25,
    "start_time": "2023-04-04T06:01:18.467Z"
   },
   {
    "duration": 9,
    "start_time": "2023-04-04T06:03:01.649Z"
   },
   {
    "duration": 24,
    "start_time": "2023-04-04T06:03:12.243Z"
   },
   {
    "duration": 3,
    "start_time": "2023-04-04T06:03:26.638Z"
   },
   {
    "duration": 64,
    "start_time": "2023-04-04T06:03:26.645Z"
   },
   {
    "duration": 5,
    "start_time": "2023-04-04T06:03:26.711Z"
   },
   {
    "duration": 135,
    "start_time": "2023-04-04T06:03:26.717Z"
   },
   {
    "duration": 13,
    "start_time": "2023-04-04T06:03:26.854Z"
   },
   {
    "duration": 64,
    "start_time": "2023-04-04T06:03:26.869Z"
   },
   {
    "duration": 9,
    "start_time": "2023-04-04T06:03:26.935Z"
   },
   {
    "duration": 18,
    "start_time": "2023-04-04T06:03:26.945Z"
   },
   {
    "duration": 36,
    "start_time": "2023-04-04T06:03:26.965Z"
   },
   {
    "duration": 28,
    "start_time": "2023-04-04T06:03:27.003Z"
   },
   {
    "duration": 24,
    "start_time": "2023-04-04T06:03:27.033Z"
   },
   {
    "duration": 24,
    "start_time": "2023-04-04T06:03:29.958Z"
   },
   {
    "duration": 7,
    "start_time": "2023-04-04T06:04:53.129Z"
   },
   {
    "duration": 20,
    "start_time": "2023-04-04T06:05:40.222Z"
   },
   {
    "duration": 4,
    "start_time": "2023-04-04T06:09:32.139Z"
   },
   {
    "duration": 26,
    "start_time": "2023-04-04T06:10:18.721Z"
   },
   {
    "duration": 12,
    "start_time": "2023-04-04T06:10:34.847Z"
   },
   {
    "duration": 9,
    "start_time": "2023-04-04T06:11:04.453Z"
   },
   {
    "duration": 9,
    "start_time": "2023-04-04T06:11:23.653Z"
   },
   {
    "duration": 69,
    "start_time": "2023-04-04T06:11:46.129Z"
   },
   {
    "duration": 2800,
    "start_time": "2023-04-04T10:03:00.181Z"
   },
   {
    "duration": 14,
    "start_time": "2023-04-04T10:03:27.468Z"
   },
   {
    "duration": 9,
    "start_time": "2023-04-04T10:04:10.738Z"
   },
   {
    "duration": 23,
    "start_time": "2023-04-04T10:04:16.273Z"
   },
   {
    "duration": 4,
    "start_time": "2023-04-04T10:10:28.573Z"
   },
   {
    "duration": 446,
    "start_time": "2023-04-04T10:10:46.667Z"
   },
   {
    "duration": 8,
    "start_time": "2023-04-04T10:10:56.618Z"
   },
   {
    "duration": 20,
    "start_time": "2023-04-04T10:11:02.510Z"
   },
   {
    "duration": 5,
    "start_time": "2023-04-04T10:11:41.918Z"
   },
   {
    "duration": 9,
    "start_time": "2023-04-04T10:11:46.507Z"
   },
   {
    "duration": 16,
    "start_time": "2023-04-04T10:11:48.563Z"
   },
   {
    "duration": 3,
    "start_time": "2023-04-04T10:11:57.949Z"
   },
   {
    "duration": 77,
    "start_time": "2023-04-04T10:11:57.955Z"
   },
   {
    "duration": 5,
    "start_time": "2023-04-04T10:11:58.034Z"
   },
   {
    "duration": 146,
    "start_time": "2023-04-04T10:11:58.041Z"
   },
   {
    "duration": 13,
    "start_time": "2023-04-04T10:11:58.190Z"
   },
   {
    "duration": 54,
    "start_time": "2023-04-04T10:11:58.205Z"
   },
   {
    "duration": 32,
    "start_time": "2023-04-04T10:11:58.261Z"
   },
   {
    "duration": 22,
    "start_time": "2023-04-04T10:11:58.295Z"
   },
   {
    "duration": 17,
    "start_time": "2023-04-04T10:11:58.318Z"
   },
   {
    "duration": 26,
    "start_time": "2023-04-04T10:11:58.337Z"
   },
   {
    "duration": 45,
    "start_time": "2023-04-04T10:11:58.365Z"
   },
   {
    "duration": 4,
    "start_time": "2023-04-04T10:11:58.411Z"
   },
   {
    "duration": 9,
    "start_time": "2023-04-04T10:11:58.417Z"
   },
   {
    "duration": 20,
    "start_time": "2023-04-04T10:11:58.429Z"
   },
   {
    "duration": 5,
    "start_time": "2023-04-04T10:11:58.451Z"
   },
   {
    "duration": 33,
    "start_time": "2023-04-04T10:11:58.457Z"
   },
   {
    "duration": 27,
    "start_time": "2023-04-04T10:11:58.492Z"
   },
   {
    "duration": 16,
    "start_time": "2023-04-04T10:12:05.529Z"
   },
   {
    "duration": 4,
    "start_time": "2023-04-04T10:13:09.513Z"
   },
   {
    "duration": 4,
    "start_time": "2023-04-04T10:13:16.491Z"
   },
   {
    "duration": 84,
    "start_time": "2023-04-04T10:13:16.497Z"
   },
   {
    "duration": 5,
    "start_time": "2023-04-04T10:13:16.583Z"
   },
   {
    "duration": 139,
    "start_time": "2023-04-04T10:13:16.590Z"
   },
   {
    "duration": 13,
    "start_time": "2023-04-04T10:13:16.731Z"
   },
   {
    "duration": 79,
    "start_time": "2023-04-04T10:13:16.746Z"
   },
   {
    "duration": 11,
    "start_time": "2023-04-04T10:13:16.827Z"
   },
   {
    "duration": 19,
    "start_time": "2023-04-04T10:13:16.839Z"
   },
   {
    "duration": 36,
    "start_time": "2023-04-04T10:13:16.860Z"
   },
   {
    "duration": 31,
    "start_time": "2023-04-04T10:13:16.899Z"
   },
   {
    "duration": 24,
    "start_time": "2023-04-04T10:13:16.931Z"
   },
   {
    "duration": 6,
    "start_time": "2023-04-04T10:13:16.957Z"
   },
   {
    "duration": 8,
    "start_time": "2023-04-04T10:13:16.987Z"
   },
   {
    "duration": 18,
    "start_time": "2023-04-04T10:13:16.996Z"
   },
   {
    "duration": 4,
    "start_time": "2023-04-04T10:13:17.015Z"
   },
   {
    "duration": 10,
    "start_time": "2023-04-04T10:13:17.020Z"
   },
   {
    "duration": 13,
    "start_time": "2023-04-04T10:13:17.032Z"
   },
   {
    "duration": 18,
    "start_time": "2023-04-04T10:13:21.489Z"
   },
   {
    "duration": 4,
    "start_time": "2023-04-04T10:14:24.518Z"
   },
   {
    "duration": 3,
    "start_time": "2023-04-04T10:14:31.423Z"
   },
   {
    "duration": 112,
    "start_time": "2023-04-04T10:14:31.438Z"
   },
   {
    "duration": 6,
    "start_time": "2023-04-04T10:14:31.553Z"
   },
   {
    "duration": 152,
    "start_time": "2023-04-04T10:14:31.561Z"
   },
   {
    "duration": 14,
    "start_time": "2023-04-04T10:14:31.715Z"
   },
   {
    "duration": 105,
    "start_time": "2023-04-04T10:14:31.731Z"
   },
   {
    "duration": 19,
    "start_time": "2023-04-04T10:14:31.838Z"
   },
   {
    "duration": 44,
    "start_time": "2023-04-04T10:14:31.859Z"
   },
   {
    "duration": 24,
    "start_time": "2023-04-04T10:14:31.905Z"
   },
   {
    "duration": 33,
    "start_time": "2023-04-04T10:14:31.931Z"
   },
   {
    "duration": 35,
    "start_time": "2023-04-04T10:14:31.968Z"
   },
   {
    "duration": 4,
    "start_time": "2023-04-04T10:14:32.005Z"
   },
   {
    "duration": 33,
    "start_time": "2023-04-04T10:14:32.011Z"
   },
   {
    "duration": 31,
    "start_time": "2023-04-04T10:14:32.046Z"
   },
   {
    "duration": 9,
    "start_time": "2023-04-04T10:14:32.079Z"
   },
   {
    "duration": 31,
    "start_time": "2023-04-04T10:14:32.090Z"
   },
   {
    "duration": 18,
    "start_time": "2023-04-04T10:14:32.123Z"
   },
   {
    "duration": 30,
    "start_time": "2023-04-04T10:14:32.142Z"
   },
   {
    "duration": 14,
    "start_time": "2023-04-04T10:15:54.708Z"
   },
   {
    "duration": 4,
    "start_time": "2023-04-04T10:16:00.588Z"
   },
   {
    "duration": 114,
    "start_time": "2023-04-04T10:16:00.595Z"
   },
   {
    "duration": 8,
    "start_time": "2023-04-04T10:16:00.712Z"
   },
   {
    "duration": 180,
    "start_time": "2023-04-04T10:16:00.722Z"
   },
   {
    "duration": 15,
    "start_time": "2023-04-04T10:16:00.904Z"
   },
   {
    "duration": 124,
    "start_time": "2023-04-04T10:16:00.921Z"
   },
   {
    "duration": 9,
    "start_time": "2023-04-04T10:16:01.048Z"
   },
   {
    "duration": 64,
    "start_time": "2023-04-04T10:16:01.059Z"
   },
   {
    "duration": 60,
    "start_time": "2023-04-04T10:16:01.126Z"
   },
   {
    "duration": 129,
    "start_time": "2023-04-04T10:16:01.188Z"
   },
   {
    "duration": 99,
    "start_time": "2023-04-04T10:16:01.319Z"
   },
   {
    "duration": 113,
    "start_time": "2023-04-04T10:16:01.420Z"
   },
   {
    "duration": 51,
    "start_time": "2023-04-04T10:16:01.537Z"
   },
   {
    "duration": 55,
    "start_time": "2023-04-04T10:16:01.590Z"
   },
   {
    "duration": 41,
    "start_time": "2023-04-04T10:16:01.647Z"
   },
   {
    "duration": 65,
    "start_time": "2023-04-04T10:16:01.690Z"
   },
   {
    "duration": 53,
    "start_time": "2023-04-04T10:16:01.758Z"
   },
   {
    "duration": 97,
    "start_time": "2023-04-04T10:16:01.813Z"
   },
   {
    "duration": 37,
    "start_time": "2023-04-04T10:16:56.385Z"
   },
   {
    "duration": 36,
    "start_time": "2023-04-04T10:18:02.357Z"
   },
   {
    "duration": 6,
    "start_time": "2023-04-04T10:19:21.381Z"
   },
   {
    "duration": 9,
    "start_time": "2023-04-04T10:19:41.307Z"
   },
   {
    "duration": 279,
    "start_time": "2023-04-04T10:22:22.498Z"
   },
   {
    "duration": 31,
    "start_time": "2023-04-04T10:24:07.638Z"
   },
   {
    "duration": 31,
    "start_time": "2023-04-04T10:24:40.617Z"
   },
   {
    "duration": 14,
    "start_time": "2023-04-04T10:25:37.146Z"
   },
   {
    "duration": 12,
    "start_time": "2023-04-04T10:26:18.066Z"
   },
   {
    "duration": 14,
    "start_time": "2023-04-04T10:26:27.567Z"
   },
   {
    "duration": 14,
    "start_time": "2023-04-04T12:01:58.604Z"
   },
   {
    "duration": 12,
    "start_time": "2023-04-04T12:41:35.608Z"
   },
   {
    "duration": 8,
    "start_time": "2023-04-04T12:42:45.058Z"
   },
   {
    "duration": 7,
    "start_time": "2023-04-04T12:42:47.828Z"
   },
   {
    "duration": 12,
    "start_time": "2023-04-04T12:50:19.453Z"
   },
   {
    "duration": 12,
    "start_time": "2023-04-04T12:50:31.848Z"
   },
   {
    "duration": 14,
    "start_time": "2023-04-04T12:51:06.896Z"
   },
   {
    "duration": 12,
    "start_time": "2023-04-04T12:51:16.747Z"
   },
   {
    "duration": 7,
    "start_time": "2023-04-04T12:54:33.738Z"
   },
   {
    "duration": 6,
    "start_time": "2023-04-04T12:58:43.532Z"
   },
   {
    "duration": 2988,
    "start_time": "2023-04-04T13:00:10.798Z"
   },
   {
    "duration": 1996,
    "start_time": "2023-04-04T13:00:21.213Z"
   },
   {
    "duration": 31,
    "start_time": "2023-04-04T13:02:40.668Z"
   },
   {
    "duration": 91,
    "start_time": "2023-04-04T13:03:23.847Z"
   },
   {
    "duration": 51,
    "start_time": "2023-04-04T13:03:51.578Z"
   },
   {
    "duration": 60,
    "start_time": "2023-04-04T13:04:27.632Z"
   },
   {
    "duration": 70,
    "start_time": "2023-04-04T13:04:39.122Z"
   },
   {
    "duration": 37,
    "start_time": "2023-04-04T13:05:27.453Z"
   },
   {
    "duration": 100,
    "start_time": "2023-04-04T13:06:09.658Z"
   },
   {
    "duration": 69,
    "start_time": "2023-04-04T13:06:31.589Z"
   },
   {
    "duration": 147,
    "start_time": "2023-04-04T13:13:35.936Z"
   },
   {
    "duration": 7,
    "start_time": "2023-04-04T13:14:35.992Z"
   },
   {
    "duration": 9,
    "start_time": "2023-04-04T13:15:53.050Z"
   },
   {
    "duration": 85,
    "start_time": "2023-04-04T13:17:50.842Z"
   },
   {
    "duration": 6,
    "start_time": "2023-04-04T13:18:05.557Z"
   },
   {
    "duration": 142,
    "start_time": "2023-04-04T13:18:09.556Z"
   },
   {
    "duration": 5,
    "start_time": "2023-04-04T13:19:30.258Z"
   },
   {
    "duration": 141,
    "start_time": "2023-04-04T13:19:48.592Z"
   },
   {
    "duration": 82,
    "start_time": "2023-04-04T13:20:57.462Z"
   },
   {
    "duration": 182,
    "start_time": "2023-04-04T13:21:00.424Z"
   },
   {
    "duration": 30,
    "start_time": "2023-04-04T13:21:13.712Z"
   },
   {
    "duration": 318,
    "start_time": "2023-04-04T13:24:55.801Z"
   },
   {
    "duration": 265,
    "start_time": "2023-04-04T13:26:16.482Z"
   },
   {
    "duration": 1289,
    "start_time": "2023-04-04T13:26:59.142Z"
   },
   {
    "duration": 73,
    "start_time": "2023-04-04T13:27:00.434Z"
   },
   {
    "duration": 5,
    "start_time": "2023-04-04T13:27:00.509Z"
   },
   {
    "duration": 187,
    "start_time": "2023-04-04T13:27:00.517Z"
   },
   {
    "duration": 14,
    "start_time": "2023-04-04T13:27:00.706Z"
   },
   {
    "duration": 83,
    "start_time": "2023-04-04T13:27:00.722Z"
   },
   {
    "duration": 11,
    "start_time": "2023-04-04T13:27:00.807Z"
   },
   {
    "duration": 59,
    "start_time": "2023-04-04T13:27:00.819Z"
   },
   {
    "duration": 32,
    "start_time": "2023-04-04T13:27:00.880Z"
   },
   {
    "duration": 50,
    "start_time": "2023-04-04T13:27:00.914Z"
   },
   {
    "duration": 39,
    "start_time": "2023-04-04T13:27:00.966Z"
   },
   {
    "duration": 37,
    "start_time": "2023-04-04T13:27:01.007Z"
   },
   {
    "duration": 37,
    "start_time": "2023-04-04T13:27:01.045Z"
   },
   {
    "duration": 54,
    "start_time": "2023-04-04T13:27:01.086Z"
   },
   {
    "duration": 62,
    "start_time": "2023-04-04T13:27:01.142Z"
   },
   {
    "duration": 48,
    "start_time": "2023-04-04T13:27:01.206Z"
   },
   {
    "duration": 51,
    "start_time": "2023-04-04T13:27:01.256Z"
   },
   {
    "duration": 76,
    "start_time": "2023-04-04T13:27:01.309Z"
   },
   {
    "duration": 32,
    "start_time": "2023-04-04T13:27:01.386Z"
   },
   {
    "duration": 35,
    "start_time": "2023-04-04T13:27:01.420Z"
   },
   {
    "duration": 35,
    "start_time": "2023-04-04T13:27:01.457Z"
   },
   {
    "duration": 42,
    "start_time": "2023-04-04T13:27:01.493Z"
   },
   {
    "duration": 65,
    "start_time": "2023-04-04T13:27:01.537Z"
   },
   {
    "duration": 170,
    "start_time": "2023-04-04T13:27:01.604Z"
   },
   {
    "duration": 12,
    "start_time": "2023-04-04T13:27:01.776Z"
   },
   {
    "duration": 130,
    "start_time": "2023-04-04T13:27:01.790Z"
   },
   {
    "duration": 15,
    "start_time": "2023-04-04T13:27:01.922Z"
   },
   {
    "duration": 54,
    "start_time": "2023-04-04T13:27:01.939Z"
   },
   {
    "duration": 70,
    "start_time": "2023-04-04T13:27:01.995Z"
   },
   {
    "duration": 256,
    "start_time": "2023-04-04T13:27:02.066Z"
   },
   {
    "duration": 15,
    "start_time": "2023-04-04T13:27:02.326Z"
   },
   {
    "duration": 65,
    "start_time": "2023-04-04T13:27:02.342Z"
   },
   {
    "duration": 64,
    "start_time": "2023-04-04T13:27:02.409Z"
   },
   {
    "duration": 41,
    "start_time": "2023-04-04T13:27:02.475Z"
   },
   {
    "duration": 26,
    "start_time": "2023-04-04T13:27:02.518Z"
   },
   {
    "duration": 384,
    "start_time": "2023-04-04T13:27:02.546Z"
   },
   {
    "duration": 16,
    "start_time": "2023-04-04T13:27:02.932Z"
   },
   {
    "duration": 13,
    "start_time": "2023-04-04T13:29:46.202Z"
   },
   {
    "duration": 345,
    "start_time": "2023-04-04T13:45:09.062Z"
   },
   {
    "duration": 16,
    "start_time": "2023-04-04T13:49:51.361Z"
   },
   {
    "duration": 22,
    "start_time": "2023-04-04T13:50:27.847Z"
   },
   {
    "duration": 1314,
    "start_time": "2023-04-04T13:56:33.011Z"
   },
   {
    "duration": 65,
    "start_time": "2023-04-04T13:56:34.327Z"
   },
   {
    "duration": 5,
    "start_time": "2023-04-04T13:56:34.403Z"
   },
   {
    "duration": 125,
    "start_time": "2023-04-04T13:56:34.411Z"
   },
   {
    "duration": 15,
    "start_time": "2023-04-04T13:56:34.538Z"
   },
   {
    "duration": 81,
    "start_time": "2023-04-04T13:56:34.555Z"
   },
   {
    "duration": 11,
    "start_time": "2023-04-04T13:56:34.638Z"
   },
   {
    "duration": 48,
    "start_time": "2023-04-04T13:56:34.651Z"
   },
   {
    "duration": 18,
    "start_time": "2023-04-04T13:56:34.701Z"
   },
   {
    "duration": 29,
    "start_time": "2023-04-04T13:56:34.721Z"
   },
   {
    "duration": 49,
    "start_time": "2023-04-04T13:56:34.752Z"
   },
   {
    "duration": 9,
    "start_time": "2023-04-04T13:56:34.803Z"
   },
   {
    "duration": 17,
    "start_time": "2023-04-04T13:56:34.814Z"
   },
   {
    "duration": 27,
    "start_time": "2023-04-04T13:56:34.833Z"
   },
   {
    "duration": 3,
    "start_time": "2023-04-04T13:56:34.862Z"
   },
   {
    "duration": 15,
    "start_time": "2023-04-04T13:56:34.867Z"
   },
   {
    "duration": 44,
    "start_time": "2023-04-04T13:56:34.883Z"
   },
   {
    "duration": 29,
    "start_time": "2023-04-04T13:56:34.929Z"
   },
   {
    "duration": 6,
    "start_time": "2023-04-04T13:56:34.960Z"
   },
   {
    "duration": 191,
    "start_time": "2023-04-04T13:56:34.967Z"
   },
   {
    "duration": 7,
    "start_time": "2023-04-04T13:56:35.160Z"
   },
   {
    "duration": 128,
    "start_time": "2023-04-04T13:56:35.169Z"
   },
   {
    "duration": 9,
    "start_time": "2023-04-04T13:56:35.301Z"
   },
   {
    "duration": 18,
    "start_time": "2023-04-04T13:56:35.311Z"
   },
   {
    "duration": 24,
    "start_time": "2023-04-04T13:56:35.332Z"
   },
   {
    "duration": 268,
    "start_time": "2023-04-04T13:56:35.358Z"
   },
   {
    "duration": 15,
    "start_time": "2023-04-04T13:56:35.628Z"
   },
   {
    "duration": 17,
    "start_time": "2023-04-04T13:56:35.647Z"
   },
   {
    "duration": 39,
    "start_time": "2023-04-04T13:56:35.666Z"
   },
   {
    "duration": 11,
    "start_time": "2023-04-04T13:56:35.707Z"
   },
   {
    "duration": 14,
    "start_time": "2023-04-04T13:56:35.720Z"
   },
   {
    "duration": 406,
    "start_time": "2023-04-04T13:56:35.735Z"
   },
   {
    "duration": 14,
    "start_time": "2023-04-04T13:56:36.143Z"
   },
   {
    "duration": 421,
    "start_time": "2023-04-04T13:56:36.159Z"
   },
   {
    "duration": 21,
    "start_time": "2023-04-04T13:59:51.087Z"
   },
   {
    "duration": 15,
    "start_time": "2023-04-04T14:06:08.757Z"
   },
   {
    "duration": 0,
    "start_time": "2023-04-04T14:08:33.472Z"
   },
   {
    "duration": 19,
    "start_time": "2023-04-04T14:08:36.041Z"
   },
   {
    "duration": 55,
    "start_time": "2023-04-04T14:09:43.066Z"
   },
   {
    "duration": 13,
    "start_time": "2023-04-04T14:10:09.186Z"
   },
   {
    "duration": 50,
    "start_time": "2023-04-04T14:10:12.021Z"
   },
   {
    "duration": 46,
    "start_time": "2023-04-04T14:12:09.087Z"
   },
   {
    "duration": 14,
    "start_time": "2023-04-04T14:14:26.181Z"
   },
   {
    "duration": 49,
    "start_time": "2023-04-04T14:14:29.837Z"
   },
   {
    "duration": 27,
    "start_time": "2023-04-04T14:15:44.552Z"
   },
   {
    "duration": 10,
    "start_time": "2023-04-04T14:16:35.751Z"
   },
   {
    "duration": 21,
    "start_time": "2023-04-04T14:18:34.487Z"
   },
   {
    "duration": 7,
    "start_time": "2023-04-04T14:19:31.597Z"
   },
   {
    "duration": 13,
    "start_time": "2023-04-04T14:19:38.412Z"
   },
   {
    "duration": 37,
    "start_time": "2023-04-04T14:19:54.983Z"
   },
   {
    "duration": 36,
    "start_time": "2023-04-04T14:20:41.926Z"
   },
   {
    "duration": 15,
    "start_time": "2023-04-04T14:23:38.089Z"
   },
   {
    "duration": 11,
    "start_time": "2023-04-04T14:23:49.707Z"
   },
   {
    "duration": 49,
    "start_time": "2023-04-04T14:24:30.328Z"
   },
   {
    "duration": 46,
    "start_time": "2023-04-04T14:25:34.767Z"
   },
   {
    "duration": 9,
    "start_time": "2023-04-04T14:28:17.332Z"
   },
   {
    "duration": 13,
    "start_time": "2023-04-04T14:28:23.812Z"
   },
   {
    "duration": 12,
    "start_time": "2023-04-04T14:28:58.437Z"
   },
   {
    "duration": 13,
    "start_time": "2023-04-04T14:29:05.692Z"
   },
   {
    "duration": 36,
    "start_time": "2023-04-04T14:29:12.257Z"
   },
   {
    "duration": 13,
    "start_time": "2023-04-04T14:33:10.127Z"
   },
   {
    "duration": 14,
    "start_time": "2023-04-04T14:34:28.243Z"
   },
   {
    "duration": 15,
    "start_time": "2023-04-04T14:34:43.085Z"
   },
   {
    "duration": 21,
    "start_time": "2023-04-04T14:34:47.342Z"
   },
   {
    "duration": 292,
    "start_time": "2023-04-04T14:36:50.918Z"
   },
   {
    "duration": 25,
    "start_time": "2023-04-04T14:38:19.062Z"
   },
   {
    "duration": 17,
    "start_time": "2023-04-04T14:38:27.822Z"
   },
   {
    "duration": 21,
    "start_time": "2023-04-04T14:38:49.602Z"
   },
   {
    "duration": 18,
    "start_time": "2023-04-04T14:39:01.432Z"
   },
   {
    "duration": 11,
    "start_time": "2023-04-04T14:39:34.109Z"
   },
   {
    "duration": 282,
    "start_time": "2023-04-04T14:39:36.825Z"
   },
   {
    "duration": 11,
    "start_time": "2023-04-04T14:40:43.485Z"
   },
   {
    "duration": 289,
    "start_time": "2023-04-04T14:40:46.043Z"
   },
   {
    "duration": 18,
    "start_time": "2023-04-04T14:41:26.343Z"
   },
   {
    "duration": 305,
    "start_time": "2023-04-04T14:41:28.043Z"
   },
   {
    "duration": 283,
    "start_time": "2023-04-04T14:43:39.188Z"
   },
   {
    "duration": 15,
    "start_time": "2023-04-04T14:44:57.203Z"
   },
   {
    "duration": 395,
    "start_time": "2023-04-04T14:44:59.081Z"
   },
   {
    "duration": 340,
    "start_time": "2023-04-04T14:45:20.223Z"
   },
   {
    "duration": 300,
    "start_time": "2023-04-04T14:49:27.433Z"
   },
   {
    "duration": 1660,
    "start_time": "2023-04-05T02:32:43.854Z"
   },
   {
    "duration": 316,
    "start_time": "2023-04-05T02:32:45.517Z"
   },
   {
    "duration": 6,
    "start_time": "2023-04-05T02:32:45.835Z"
   },
   {
    "duration": 211,
    "start_time": "2023-04-05T02:32:45.845Z"
   },
   {
    "duration": 17,
    "start_time": "2023-04-05T02:32:46.066Z"
   },
   {
    "duration": 79,
    "start_time": "2023-04-05T02:32:46.085Z"
   },
   {
    "duration": 9,
    "start_time": "2023-04-05T02:32:46.166Z"
   },
   {
    "duration": 91,
    "start_time": "2023-04-05T02:32:46.176Z"
   },
   {
    "duration": 55,
    "start_time": "2023-04-05T02:32:46.268Z"
   },
   {
    "duration": 64,
    "start_time": "2023-04-05T02:32:46.325Z"
   },
   {
    "duration": 25,
    "start_time": "2023-04-05T02:32:46.391Z"
   },
   {
    "duration": 13,
    "start_time": "2023-04-05T02:32:46.418Z"
   },
   {
    "duration": 44,
    "start_time": "2023-04-05T02:32:46.432Z"
   },
   {
    "duration": 70,
    "start_time": "2023-04-05T02:32:46.479Z"
   },
   {
    "duration": 39,
    "start_time": "2023-04-05T02:32:46.551Z"
   },
   {
    "duration": 35,
    "start_time": "2023-04-05T02:32:46.596Z"
   },
   {
    "duration": 67,
    "start_time": "2023-04-05T02:32:46.632Z"
   },
   {
    "duration": 28,
    "start_time": "2023-04-05T02:32:46.701Z"
   },
   {
    "duration": 6,
    "start_time": "2023-04-05T02:32:46.731Z"
   },
   {
    "duration": 186,
    "start_time": "2023-04-05T02:32:46.739Z"
   },
   {
    "duration": 7,
    "start_time": "2023-04-05T02:32:46.927Z"
   },
   {
    "duration": 129,
    "start_time": "2023-04-05T02:32:46.941Z"
   },
   {
    "duration": 10,
    "start_time": "2023-04-05T02:32:47.072Z"
   },
   {
    "duration": 11,
    "start_time": "2023-04-05T02:32:47.083Z"
   },
   {
    "duration": 30,
    "start_time": "2023-04-05T02:32:47.096Z"
   },
   {
    "duration": 260,
    "start_time": "2023-04-05T02:32:47.127Z"
   },
   {
    "duration": 13,
    "start_time": "2023-04-05T02:32:47.388Z"
   },
   {
    "duration": 26,
    "start_time": "2023-04-05T02:32:47.402Z"
   },
   {
    "duration": 41,
    "start_time": "2023-04-05T02:32:47.429Z"
   },
   {
    "duration": 17,
    "start_time": "2023-04-05T02:32:47.471Z"
   },
   {
    "duration": 16,
    "start_time": "2023-04-05T02:32:47.490Z"
   },
   {
    "duration": 396,
    "start_time": "2023-04-05T02:32:47.508Z"
   },
   {
    "duration": 14,
    "start_time": "2023-04-05T02:32:47.908Z"
   },
   {
    "duration": 203,
    "start_time": "2023-04-05T02:32:47.924Z"
   },
   {
    "duration": 96,
    "start_time": "2023-04-05T02:32:48.128Z"
   },
   {
    "duration": 63,
    "start_time": "2023-04-05T02:32:48.226Z"
   },
   {
    "duration": 15,
    "start_time": "2023-04-05T02:32:48.290Z"
   },
   {
    "duration": 287,
    "start_time": "2023-04-05T02:32:48.306Z"
   },
   {
    "duration": 267,
    "start_time": "2023-04-05T02:33:41.352Z"
   },
   {
    "duration": 36,
    "start_time": "2023-04-05T02:35:04.515Z"
   },
   {
    "duration": 159,
    "start_time": "2023-04-05T02:35:57.096Z"
   },
   {
    "duration": 12,
    "start_time": "2023-04-05T02:36:07.362Z"
   },
   {
    "duration": 21,
    "start_time": "2023-04-05T02:36:18.954Z"
   },
   {
    "duration": 20,
    "start_time": "2023-04-05T02:36:31.553Z"
   },
   {
    "duration": 16,
    "start_time": "2023-04-05T02:37:37.174Z"
   },
   {
    "duration": 16,
    "start_time": "2023-04-05T02:37:49.922Z"
   },
   {
    "duration": 6,
    "start_time": "2023-04-05T02:40:25.535Z"
   },
   {
    "duration": 28,
    "start_time": "2023-04-05T02:40:29.321Z"
   },
   {
    "duration": 1538,
    "start_time": "2023-04-05T02:41:42.892Z"
   },
   {
    "duration": 351,
    "start_time": "2023-04-05T02:41:57.252Z"
   },
   {
    "duration": 1225,
    "start_time": "2023-04-05T02:42:59.373Z"
   },
   {
    "duration": 11,
    "start_time": "2023-04-05T02:47:01.295Z"
   },
   {
    "duration": 13,
    "start_time": "2023-04-05T02:47:08.663Z"
   },
   {
    "duration": 39,
    "start_time": "2023-04-05T02:47:10.766Z"
   },
   {
    "duration": 3,
    "start_time": "2023-04-05T02:47:36.173Z"
   },
   {
    "duration": 95,
    "start_time": "2023-04-05T02:47:36.178Z"
   },
   {
    "duration": 5,
    "start_time": "2023-04-05T02:47:36.275Z"
   },
   {
    "duration": 150,
    "start_time": "2023-04-05T02:47:36.282Z"
   },
   {
    "duration": 19,
    "start_time": "2023-04-05T02:47:36.441Z"
   },
   {
    "duration": 133,
    "start_time": "2023-04-05T02:47:36.462Z"
   },
   {
    "duration": 15,
    "start_time": "2023-04-05T02:47:36.598Z"
   },
   {
    "duration": 41,
    "start_time": "2023-04-05T02:47:36.616Z"
   },
   {
    "duration": 76,
    "start_time": "2023-04-05T02:47:36.660Z"
   },
   {
    "duration": 68,
    "start_time": "2023-04-05T02:47:36.738Z"
   },
   {
    "duration": 48,
    "start_time": "2023-04-05T02:47:36.809Z"
   },
   {
    "duration": 6,
    "start_time": "2023-04-05T02:47:36.862Z"
   },
   {
    "duration": 41,
    "start_time": "2023-04-05T02:47:36.870Z"
   },
   {
    "duration": 57,
    "start_time": "2023-04-05T02:47:36.915Z"
   },
   {
    "duration": 11,
    "start_time": "2023-04-05T02:47:36.974Z"
   },
   {
    "duration": 22,
    "start_time": "2023-04-05T02:47:36.987Z"
   },
   {
    "duration": 70,
    "start_time": "2023-04-05T02:47:37.011Z"
   },
   {
    "duration": 40,
    "start_time": "2023-04-05T02:47:37.083Z"
   },
   {
    "duration": 40,
    "start_time": "2023-04-05T02:47:37.125Z"
   },
   {
    "duration": 212,
    "start_time": "2023-04-05T02:47:37.167Z"
   },
   {
    "duration": 8,
    "start_time": "2023-04-05T02:47:37.381Z"
   },
   {
    "duration": 125,
    "start_time": "2023-04-05T02:47:37.391Z"
   },
   {
    "duration": 11,
    "start_time": "2023-04-05T02:47:37.518Z"
   },
   {
    "duration": 33,
    "start_time": "2023-04-05T02:47:37.531Z"
   },
   {
    "duration": 36,
    "start_time": "2023-04-05T02:47:37.566Z"
   },
   {
    "duration": 240,
    "start_time": "2023-04-05T02:47:37.605Z"
   },
   {
    "duration": 18,
    "start_time": "2023-04-05T02:47:37.849Z"
   },
   {
    "duration": 24,
    "start_time": "2023-04-05T02:47:37.869Z"
   },
   {
    "duration": 50,
    "start_time": "2023-04-05T02:47:37.895Z"
   },
   {
    "duration": 36,
    "start_time": "2023-04-05T02:47:37.947Z"
   },
   {
    "duration": 31,
    "start_time": "2023-04-05T02:47:37.985Z"
   },
   {
    "duration": 58,
    "start_time": "2023-04-05T02:47:38.018Z"
   },
   {
    "duration": 14,
    "start_time": "2023-04-05T02:47:38.078Z"
   },
   {
    "duration": 72,
    "start_time": "2023-04-05T02:47:38.095Z"
   },
   {
    "duration": 12,
    "start_time": "2023-04-05T02:47:38.169Z"
   },
   {
    "duration": 62,
    "start_time": "2023-04-05T02:47:38.182Z"
   },
   {
    "duration": 36,
    "start_time": "2023-04-05T02:47:38.247Z"
   },
   {
    "duration": 323,
    "start_time": "2023-04-05T02:47:38.285Z"
   },
   {
    "duration": 47,
    "start_time": "2023-04-05T02:47:38.610Z"
   },
   {
    "duration": 12,
    "start_time": "2023-04-05T02:47:40.893Z"
   },
   {
    "duration": 38,
    "start_time": "2023-04-05T02:47:42.810Z"
   },
   {
    "duration": 62,
    "start_time": "2023-04-05T02:48:27.416Z"
   },
   {
    "duration": 14,
    "start_time": "2023-04-05T02:50:16.600Z"
   },
   {
    "duration": 17,
    "start_time": "2023-04-05T02:50:20.203Z"
   },
   {
    "duration": 32,
    "start_time": "2023-04-05T02:51:29.333Z"
   },
   {
    "duration": 17,
    "start_time": "2023-04-05T02:51:39.683Z"
   },
   {
    "duration": 66,
    "start_time": "2023-04-05T02:52:03.203Z"
   },
   {
    "duration": 39,
    "start_time": "2023-04-05T02:52:56.482Z"
   },
   {
    "duration": 22,
    "start_time": "2023-04-05T02:54:58.302Z"
   },
   {
    "duration": 34,
    "start_time": "2023-04-05T02:55:11.445Z"
   },
   {
    "duration": 17,
    "start_time": "2023-04-05T02:57:31.655Z"
   },
   {
    "duration": 40,
    "start_time": "2023-04-05T02:57:59.473Z"
   },
   {
    "duration": 55,
    "start_time": "2023-04-05T02:58:31.402Z"
   },
   {
    "duration": 48,
    "start_time": "2023-04-05T02:59:11.533Z"
   },
   {
    "duration": 11,
    "start_time": "2023-04-05T03:00:02.018Z"
   },
   {
    "duration": 56,
    "start_time": "2023-04-05T03:01:51.278Z"
   },
   {
    "duration": 28,
    "start_time": "2023-04-05T03:02:17.178Z"
   },
   {
    "duration": 19,
    "start_time": "2023-04-05T03:02:31.213Z"
   },
   {
    "duration": 16,
    "start_time": "2023-04-05T03:02:54.587Z"
   },
   {
    "duration": 54,
    "start_time": "2023-04-05T03:02:57.647Z"
   },
   {
    "duration": 73,
    "start_time": "2023-04-05T03:04:13.203Z"
   },
   {
    "duration": 40,
    "start_time": "2023-04-05T03:05:36.804Z"
   },
   {
    "duration": 11,
    "start_time": "2023-04-05T03:05:59.003Z"
   },
   {
    "duration": 14,
    "start_time": "2023-04-05T03:38:32.834Z"
   },
   {
    "duration": 16,
    "start_time": "2023-04-05T03:39:10.379Z"
   },
   {
    "duration": 17,
    "start_time": "2023-04-05T03:39:49.259Z"
   },
   {
    "duration": 24,
    "start_time": "2023-04-05T03:40:10.474Z"
   },
   {
    "duration": 26,
    "start_time": "2023-04-05T03:42:13.099Z"
   },
   {
    "duration": 20,
    "start_time": "2023-04-05T03:42:23.219Z"
   },
   {
    "duration": 19,
    "start_time": "2023-04-05T03:43:22.058Z"
   },
   {
    "duration": 12,
    "start_time": "2023-04-05T03:43:27.890Z"
   },
   {
    "duration": 33,
    "start_time": "2023-04-05T03:43:30.524Z"
   },
   {
    "duration": 15,
    "start_time": "2023-04-05T03:43:56.979Z"
   },
   {
    "duration": 311,
    "start_time": "2023-04-05T03:43:59.550Z"
   },
   {
    "duration": 12,
    "start_time": "2023-04-05T03:44:57.860Z"
   },
   {
    "duration": 322,
    "start_time": "2023-04-05T03:45:00.362Z"
   },
   {
    "duration": 287,
    "start_time": "2023-04-05T03:46:03.199Z"
   },
   {
    "duration": 400,
    "start_time": "2023-04-05T03:46:14.264Z"
   },
   {
    "duration": 25,
    "start_time": "2023-04-05T03:46:42.229Z"
   },
   {
    "duration": 13,
    "start_time": "2023-04-05T03:47:15.119Z"
   },
   {
    "duration": 526,
    "start_time": "2023-04-05T03:47:34.938Z"
   },
   {
    "duration": 500,
    "start_time": "2023-04-05T03:48:40.270Z"
   },
   {
    "duration": 569,
    "start_time": "2023-04-05T03:49:03.299Z"
   },
   {
    "duration": 655,
    "start_time": "2023-04-05T03:49:13.460Z"
   },
   {
    "duration": 539,
    "start_time": "2023-04-05T03:49:37.039Z"
   },
   {
    "duration": 600,
    "start_time": "2023-04-05T03:50:25.493Z"
   },
   {
    "duration": 527,
    "start_time": "2023-04-05T03:50:48.734Z"
   },
   {
    "duration": 659,
    "start_time": "2023-04-05T03:51:42.756Z"
   },
   {
    "duration": 14,
    "start_time": "2023-04-05T03:53:39.056Z"
   },
   {
    "duration": 482,
    "start_time": "2023-04-05T03:53:42.413Z"
   },
   {
    "duration": 507,
    "start_time": "2023-04-05T03:56:12.124Z"
   },
   {
    "duration": 672,
    "start_time": "2023-04-05T03:56:24.889Z"
   },
   {
    "duration": 588,
    "start_time": "2023-04-05T03:56:35.529Z"
   },
   {
    "duration": 557,
    "start_time": "2023-04-05T03:56:45.989Z"
   },
   {
    "duration": 490,
    "start_time": "2023-04-05T03:56:56.118Z"
   },
   {
    "duration": 683,
    "start_time": "2023-04-05T03:57:05.081Z"
   },
   {
    "duration": 517,
    "start_time": "2023-04-05T03:57:14.173Z"
   },
   {
    "duration": 518,
    "start_time": "2023-04-05T03:57:41.493Z"
   },
   {
    "duration": 495,
    "start_time": "2023-04-05T03:58:19.763Z"
   },
   {
    "duration": 684,
    "start_time": "2023-04-05T03:58:28.988Z"
   },
   {
    "duration": 501,
    "start_time": "2023-04-05T03:59:36.880Z"
   },
   {
    "duration": 29,
    "start_time": "2023-04-05T04:01:44.589Z"
   },
   {
    "duration": 15,
    "start_time": "2023-04-05T04:56:24.604Z"
   },
   {
    "duration": 5,
    "start_time": "2023-04-05T04:58:44.308Z"
   },
   {
    "duration": 5,
    "start_time": "2023-04-05T05:15:31.780Z"
   },
   {
    "duration": 5,
    "start_time": "2023-04-05T05:18:31.994Z"
   },
   {
    "duration": 13,
    "start_time": "2023-04-05T05:18:40.943Z"
   },
   {
    "duration": 16,
    "start_time": "2023-04-05T05:21:46.663Z"
   },
   {
    "duration": 16,
    "start_time": "2023-04-05T05:23:35.413Z"
   },
   {
    "duration": 578,
    "start_time": "2023-04-05T05:24:13.281Z"
   },
   {
    "duration": 13,
    "start_time": "2023-04-05T05:29:19.102Z"
   },
   {
    "duration": 45,
    "start_time": "2023-04-05T05:33:41.033Z"
   },
   {
    "duration": 32,
    "start_time": "2023-04-05T05:34:41.127Z"
   },
   {
    "duration": 24,
    "start_time": "2023-04-05T05:34:57.237Z"
   },
   {
    "duration": 29,
    "start_time": "2023-04-05T05:35:43.503Z"
   },
   {
    "duration": 30,
    "start_time": "2023-04-05T05:35:55.776Z"
   },
   {
    "duration": 29,
    "start_time": "2023-04-05T05:36:07.833Z"
   },
   {
    "duration": 20,
    "start_time": "2023-04-05T05:36:22.113Z"
   },
   {
    "duration": 16,
    "start_time": "2023-04-05T05:36:33.508Z"
   },
   {
    "duration": 15,
    "start_time": "2023-04-05T05:37:22.458Z"
   },
   {
    "duration": 49,
    "start_time": "2023-04-05T05:39:09.064Z"
   },
   {
    "duration": 49,
    "start_time": "2023-04-05T05:40:19.973Z"
   },
   {
    "duration": 84,
    "start_time": "2023-04-05T05:40:29.593Z"
   },
   {
    "duration": 59,
    "start_time": "2023-04-05T05:40:39.008Z"
   },
   {
    "duration": 785,
    "start_time": "2023-04-05T05:46:42.618Z"
   },
   {
    "duration": 51,
    "start_time": "2023-04-05T05:49:28.018Z"
   },
   {
    "duration": 19,
    "start_time": "2023-04-05T05:49:35.379Z"
   },
   {
    "duration": 93,
    "start_time": "2023-04-05T05:49:39.718Z"
   },
   {
    "duration": 177,
    "start_time": "2023-04-05T05:49:44.289Z"
   },
   {
    "duration": 157,
    "start_time": "2023-04-05T05:59:28.837Z"
   },
   {
    "duration": 178,
    "start_time": "2023-04-05T05:59:50.045Z"
   },
   {
    "duration": 118,
    "start_time": "2023-04-05T08:41:52.908Z"
   },
   {
    "duration": 248,
    "start_time": "2023-04-05T08:41:53.029Z"
   },
   {
    "duration": 87,
    "start_time": "2023-04-05T08:43:56.133Z"
   },
   {
    "duration": 112,
    "start_time": "2023-04-05T08:44:43.460Z"
   },
   {
    "duration": 104,
    "start_time": "2023-04-05T08:44:55.233Z"
   },
   {
    "duration": 124,
    "start_time": "2023-04-05T08:46:04.094Z"
   },
   {
    "duration": 124,
    "start_time": "2023-04-05T08:47:35.609Z"
   },
   {
    "duration": 100,
    "start_time": "2023-04-05T08:49:10.039Z"
   },
   {
    "duration": 120,
    "start_time": "2023-04-05T08:49:52.883Z"
   },
   {
    "duration": 158,
    "start_time": "2023-04-05T08:50:38.752Z"
   },
   {
    "duration": 143,
    "start_time": "2023-04-05T08:51:00.423Z"
   },
   {
    "duration": 332,
    "start_time": "2023-04-05T08:51:29.204Z"
   },
   {
    "duration": 14,
    "start_time": "2023-04-05T08:56:26.399Z"
   },
   {
    "duration": 20,
    "start_time": "2023-04-05T08:56:43.434Z"
   },
   {
    "duration": 61,
    "start_time": "2023-04-05T08:56:50.067Z"
   },
   {
    "duration": 118,
    "start_time": "2023-04-05T08:57:25.488Z"
   },
   {
    "duration": 122,
    "start_time": "2023-04-05T08:57:40.556Z"
   },
   {
    "duration": 119,
    "start_time": "2023-04-05T08:57:48.894Z"
   },
   {
    "duration": 3,
    "start_time": "2023-04-05T08:58:44.514Z"
   },
   {
    "duration": 1562,
    "start_time": "2023-04-05T08:59:12.028Z"
   },
   {
    "duration": 68,
    "start_time": "2023-04-05T08:59:13.592Z"
   },
   {
    "duration": 6,
    "start_time": "2023-04-05T08:59:13.662Z"
   },
   {
    "duration": 143,
    "start_time": "2023-04-05T08:59:13.670Z"
   },
   {
    "duration": 28,
    "start_time": "2023-04-05T08:59:13.815Z"
   },
   {
    "duration": 61,
    "start_time": "2023-04-05T08:59:13.844Z"
   },
   {
    "duration": 11,
    "start_time": "2023-04-05T08:59:13.907Z"
   },
   {
    "duration": 43,
    "start_time": "2023-04-05T08:59:13.920Z"
   },
   {
    "duration": 21,
    "start_time": "2023-04-05T08:59:13.964Z"
   },
   {
    "duration": 47,
    "start_time": "2023-04-05T08:59:13.987Z"
   },
   {
    "duration": 33,
    "start_time": "2023-04-05T08:59:14.035Z"
   },
   {
    "duration": 8,
    "start_time": "2023-04-05T08:59:14.071Z"
   },
   {
    "duration": 45,
    "start_time": "2023-04-05T08:59:14.081Z"
   },
   {
    "duration": 55,
    "start_time": "2023-04-05T08:59:14.130Z"
   },
   {
    "duration": 5,
    "start_time": "2023-04-05T08:59:14.187Z"
   },
   {
    "duration": 31,
    "start_time": "2023-04-05T08:59:14.194Z"
   },
   {
    "duration": 53,
    "start_time": "2023-04-05T08:59:14.228Z"
   },
   {
    "duration": 37,
    "start_time": "2023-04-05T08:59:14.283Z"
   },
   {
    "duration": 6,
    "start_time": "2023-04-05T08:59:14.322Z"
   },
   {
    "duration": 173,
    "start_time": "2023-04-05T08:59:14.329Z"
   },
   {
    "duration": 8,
    "start_time": "2023-04-05T08:59:14.504Z"
   },
   {
    "duration": 137,
    "start_time": "2023-04-05T08:59:14.514Z"
   },
   {
    "duration": 9,
    "start_time": "2023-04-05T08:59:14.654Z"
   },
   {
    "duration": 18,
    "start_time": "2023-04-05T08:59:14.665Z"
   },
   {
    "duration": 20,
    "start_time": "2023-04-05T08:59:14.685Z"
   },
   {
    "duration": 262,
    "start_time": "2023-04-05T08:59:14.707Z"
   },
   {
    "duration": 14,
    "start_time": "2023-04-05T08:59:14.971Z"
   },
   {
    "duration": 16,
    "start_time": "2023-04-05T08:59:14.986Z"
   },
   {
    "duration": 69,
    "start_time": "2023-04-05T08:59:15.003Z"
   },
   {
    "duration": 68,
    "start_time": "2023-04-05T08:59:15.076Z"
   },
   {
    "duration": 33,
    "start_time": "2023-04-05T08:59:15.146Z"
   },
   {
    "duration": 475,
    "start_time": "2023-04-05T08:59:15.181Z"
   },
   {
    "duration": 16,
    "start_time": "2023-04-05T08:59:15.658Z"
   },
   {
    "duration": 139,
    "start_time": "2023-04-05T08:59:15.676Z"
   },
   {
    "duration": 46,
    "start_time": "2023-04-05T08:59:15.816Z"
   },
   {
    "duration": 67,
    "start_time": "2023-04-05T08:59:15.864Z"
   },
   {
    "duration": 47,
    "start_time": "2023-04-05T08:59:15.933Z"
   },
   {
    "duration": 325,
    "start_time": "2023-04-05T08:59:15.982Z"
   },
   {
    "duration": 39,
    "start_time": "2023-04-05T08:59:16.309Z"
   },
   {
    "duration": 24,
    "start_time": "2023-04-05T08:59:16.350Z"
   },
   {
    "duration": 72,
    "start_time": "2023-04-05T08:59:16.377Z"
   },
   {
    "duration": 34,
    "start_time": "2023-04-05T08:59:16.454Z"
   },
   {
    "duration": 10,
    "start_time": "2023-04-05T08:59:16.490Z"
   },
   {
    "duration": 22,
    "start_time": "2023-04-05T08:59:16.502Z"
   },
   {
    "duration": 6,
    "start_time": "2023-04-05T08:59:16.525Z"
   },
   {
    "duration": 24,
    "start_time": "2023-04-05T08:59:16.533Z"
   },
   {
    "duration": 325,
    "start_time": "2023-04-05T08:59:16.559Z"
   },
   {
    "duration": 14,
    "start_time": "2023-04-05T08:59:16.886Z"
   },
   {
    "duration": 587,
    "start_time": "2023-04-05T08:59:16.902Z"
   },
   {
    "duration": 13,
    "start_time": "2023-04-05T08:59:17.492Z"
   },
   {
    "duration": 37,
    "start_time": "2023-04-05T08:59:17.508Z"
   },
   {
    "duration": 716,
    "start_time": "2023-04-05T08:59:17.550Z"
   },
   {
    "duration": 14,
    "start_time": "2023-04-05T08:59:18.268Z"
   },
   {
    "duration": 76,
    "start_time": "2023-04-05T08:59:18.284Z"
   },
   {
    "duration": 25,
    "start_time": "2023-04-05T08:59:18.362Z"
   },
   {
    "duration": 134,
    "start_time": "2023-04-05T08:59:18.389Z"
   },
   {
    "duration": 4,
    "start_time": "2023-04-05T09:05:02.869Z"
   },
   {
    "duration": 198,
    "start_time": "2023-04-05T09:07:58.146Z"
   },
   {
    "duration": 4,
    "start_time": "2023-04-05T09:08:17.249Z"
   },
   {
    "duration": 22,
    "start_time": "2023-04-05T09:08:24.284Z"
   },
   {
    "duration": 10881,
    "start_time": "2023-04-05T09:08:48.533Z"
   },
   {
    "duration": 124,
    "start_time": "2023-04-05T09:11:22.234Z"
   },
   {
    "duration": 10669,
    "start_time": "2023-04-05T09:11:59.384Z"
   },
   {
    "duration": 26,
    "start_time": "2023-04-05T09:13:36.878Z"
   },
   {
    "duration": 15,
    "start_time": "2023-04-05T09:15:47.988Z"
   },
   {
    "duration": 16,
    "start_time": "2023-04-05T09:16:53.089Z"
   },
   {
    "duration": 31,
    "start_time": "2023-04-05T09:32:29.593Z"
   },
   {
    "duration": 48,
    "start_time": "2023-04-05T09:33:43.119Z"
   },
   {
    "duration": 39,
    "start_time": "2023-04-05T12:52:24.598Z"
   },
   {
    "duration": 16,
    "start_time": "2023-04-05T12:55:30.384Z"
   },
   {
    "duration": 13,
    "start_time": "2023-04-05T12:58:25.517Z"
   },
   {
    "duration": 23,
    "start_time": "2023-04-05T12:59:51.268Z"
   },
   {
    "duration": 15,
    "start_time": "2023-04-05T13:00:01.157Z"
   },
   {
    "duration": 27,
    "start_time": "2023-04-05T13:00:43.938Z"
   },
   {
    "duration": 13,
    "start_time": "2023-04-05T13:01:05.877Z"
   },
   {
    "duration": 25,
    "start_time": "2023-04-05T13:01:27.709Z"
   },
   {
    "duration": 781,
    "start_time": "2023-04-05T13:01:52.677Z"
   },
   {
    "duration": 732,
    "start_time": "2023-04-05T13:02:14.156Z"
   },
   {
    "duration": 759,
    "start_time": "2023-04-05T13:02:23.703Z"
   },
   {
    "duration": 779,
    "start_time": "2023-04-05T13:02:36.893Z"
   },
   {
    "duration": 17,
    "start_time": "2023-04-05T13:03:16.481Z"
   },
   {
    "duration": 761,
    "start_time": "2023-04-05T13:03:20.597Z"
   },
   {
    "duration": 863,
    "start_time": "2023-04-05T13:04:16.598Z"
   },
   {
    "duration": 12,
    "start_time": "2023-04-05T13:04:54.728Z"
   },
   {
    "duration": 780,
    "start_time": "2023-04-05T13:04:58.533Z"
   },
   {
    "duration": 783,
    "start_time": "2023-04-05T13:05:44.760Z"
   },
   {
    "duration": 768,
    "start_time": "2023-04-05T13:05:53.499Z"
   },
   {
    "duration": 43,
    "start_time": "2023-04-05T13:10:40.418Z"
   },
   {
    "duration": 34,
    "start_time": "2023-04-05T13:10:46.771Z"
   },
   {
    "duration": 21,
    "start_time": "2023-04-05T13:14:35.255Z"
   },
   {
    "duration": 13,
    "start_time": "2023-04-05T13:15:03.767Z"
   },
   {
    "duration": 18,
    "start_time": "2023-04-05T13:15:09.818Z"
   },
   {
    "duration": 39,
    "start_time": "2023-04-05T13:16:36.785Z"
   },
   {
    "duration": 67,
    "start_time": "2023-04-05T13:16:59.316Z"
   },
   {
    "duration": 67,
    "start_time": "2023-04-05T13:17:26.173Z"
   },
   {
    "duration": 73,
    "start_time": "2023-04-05T13:17:50.704Z"
   },
   {
    "duration": 39,
    "start_time": "2023-04-05T13:17:57.469Z"
   },
   {
    "duration": 3386,
    "start_time": "2023-04-05T13:19:45.809Z"
   },
   {
    "duration": 1198,
    "start_time": "2023-04-05T13:20:18.423Z"
   },
   {
    "duration": 13,
    "start_time": "2023-04-05T13:22:53.406Z"
   },
   {
    "duration": 10,
    "start_time": "2023-04-05T13:25:05.689Z"
   },
   {
    "duration": 31,
    "start_time": "2023-04-05T13:26:11.724Z"
   },
   {
    "duration": 37,
    "start_time": "2023-04-05T13:26:29.055Z"
   },
   {
    "duration": 15,
    "start_time": "2023-04-05T13:26:42.226Z"
   },
   {
    "duration": 23,
    "start_time": "2023-04-05T13:32:04.497Z"
   },
   {
    "duration": 145,
    "start_time": "2023-04-05T13:32:23.564Z"
   },
   {
    "duration": 37,
    "start_time": "2023-04-05T13:35:39.043Z"
   },
   {
    "duration": 1628,
    "start_time": "2023-04-06T03:21:03.675Z"
   },
   {
    "duration": 229,
    "start_time": "2023-04-06T03:21:05.304Z"
   },
   {
    "duration": 4,
    "start_time": "2023-04-06T03:21:05.535Z"
   },
   {
    "duration": 103,
    "start_time": "2023-04-06T03:21:05.542Z"
   },
   {
    "duration": 26,
    "start_time": "2023-04-06T03:21:05.647Z"
   },
   {
    "duration": 60,
    "start_time": "2023-04-06T03:21:05.674Z"
   },
   {
    "duration": 12,
    "start_time": "2023-04-06T03:21:05.736Z"
   },
   {
    "duration": 53,
    "start_time": "2023-04-06T03:21:05.752Z"
   },
   {
    "duration": 22,
    "start_time": "2023-04-06T03:21:05.807Z"
   },
   {
    "duration": 40,
    "start_time": "2023-04-06T03:21:05.833Z"
   },
   {
    "duration": 31,
    "start_time": "2023-04-06T03:21:05.875Z"
   },
   {
    "duration": 45,
    "start_time": "2023-04-06T03:21:05.908Z"
   },
   {
    "duration": 12,
    "start_time": "2023-04-06T03:21:05.955Z"
   },
   {
    "duration": 36,
    "start_time": "2023-04-06T03:21:05.969Z"
   },
   {
    "duration": 6,
    "start_time": "2023-04-06T03:21:06.007Z"
   },
   {
    "duration": 28,
    "start_time": "2023-04-06T03:21:06.015Z"
   },
   {
    "duration": 41,
    "start_time": "2023-04-06T03:21:06.045Z"
   },
   {
    "duration": 33,
    "start_time": "2023-04-06T03:21:06.088Z"
   },
   {
    "duration": 37,
    "start_time": "2023-04-06T03:21:06.122Z"
   },
   {
    "duration": 160,
    "start_time": "2023-04-06T03:21:06.161Z"
   },
   {
    "duration": 6,
    "start_time": "2023-04-06T03:21:06.323Z"
   },
   {
    "duration": 91,
    "start_time": "2023-04-06T03:21:06.330Z"
   },
   {
    "duration": 8,
    "start_time": "2023-04-06T03:21:06.422Z"
   },
   {
    "duration": 13,
    "start_time": "2023-04-06T03:21:06.431Z"
   },
   {
    "duration": 17,
    "start_time": "2023-04-06T03:21:06.446Z"
   },
   {
    "duration": 201,
    "start_time": "2023-04-06T03:21:06.472Z"
   },
   {
    "duration": 11,
    "start_time": "2023-04-06T03:21:06.675Z"
   },
   {
    "duration": 15,
    "start_time": "2023-04-06T03:21:06.691Z"
   },
   {
    "duration": 19,
    "start_time": "2023-04-06T03:21:06.707Z"
   },
   {
    "duration": 9,
    "start_time": "2023-04-06T03:21:06.728Z"
   },
   {
    "duration": 7,
    "start_time": "2023-04-06T03:21:06.739Z"
   },
   {
    "duration": 453,
    "start_time": "2023-04-06T03:21:06.748Z"
   },
   {
    "duration": 17,
    "start_time": "2023-04-06T03:21:07.203Z"
   },
   {
    "duration": 154,
    "start_time": "2023-04-06T03:21:07.222Z"
   },
   {
    "duration": 10,
    "start_time": "2023-04-06T03:21:07.378Z"
   },
   {
    "duration": 34,
    "start_time": "2023-04-06T03:21:07.390Z"
   },
   {
    "duration": 15,
    "start_time": "2023-04-06T03:21:07.426Z"
   },
   {
    "duration": 262,
    "start_time": "2023-04-06T03:21:07.472Z"
   },
   {
    "duration": 24,
    "start_time": "2023-04-06T03:21:07.736Z"
   },
   {
    "duration": 15,
    "start_time": "2023-04-06T03:21:07.772Z"
   },
   {
    "duration": 40,
    "start_time": "2023-04-06T03:21:07.789Z"
   },
   {
    "duration": 49,
    "start_time": "2023-04-06T03:21:07.831Z"
   },
   {
    "duration": 11,
    "start_time": "2023-04-06T03:21:07.881Z"
   },
   {
    "duration": 11,
    "start_time": "2023-04-06T03:21:07.893Z"
   },
   {
    "duration": 13,
    "start_time": "2023-04-06T03:21:07.905Z"
   },
   {
    "duration": 17,
    "start_time": "2023-04-06T03:21:07.920Z"
   },
   {
    "duration": 291,
    "start_time": "2023-04-06T03:21:07.939Z"
   },
   {
    "duration": 13,
    "start_time": "2023-04-06T03:21:08.232Z"
   },
   {
    "duration": 440,
    "start_time": "2023-04-06T03:21:08.246Z"
   },
   {
    "duration": 13,
    "start_time": "2023-04-06T03:21:08.688Z"
   },
   {
    "duration": 17,
    "start_time": "2023-04-06T03:21:08.703Z"
   },
   {
    "duration": 604,
    "start_time": "2023-04-06T03:21:08.722Z"
   },
   {
    "duration": 13,
    "start_time": "2023-04-06T03:21:09.328Z"
   },
   {
    "duration": 60,
    "start_time": "2023-04-06T03:21:09.343Z"
   },
   {
    "duration": 12,
    "start_time": "2023-04-06T03:21:09.405Z"
   },
   {
    "duration": 240,
    "start_time": "2023-04-06T03:21:09.419Z"
   },
   {
    "duration": 9447,
    "start_time": "2023-04-06T03:21:09.660Z"
   },
   {
    "duration": 17,
    "start_time": "2023-04-06T03:21:19.109Z"
   },
   {
    "duration": 365,
    "start_time": "2023-04-06T03:21:19.128Z"
   },
   {
    "duration": 0,
    "start_time": "2023-04-06T03:21:19.495Z"
   },
   {
    "duration": 0,
    "start_time": "2023-04-06T03:21:19.496Z"
   },
   {
    "duration": 0,
    "start_time": "2023-04-06T03:21:19.497Z"
   },
   {
    "duration": 0,
    "start_time": "2023-04-06T03:21:19.499Z"
   },
   {
    "duration": 0,
    "start_time": "2023-04-06T03:21:19.500Z"
   },
   {
    "duration": 0,
    "start_time": "2023-04-06T03:21:19.501Z"
   },
   {
    "duration": 0,
    "start_time": "2023-04-06T03:21:19.503Z"
   },
   {
    "duration": 0,
    "start_time": "2023-04-06T03:21:19.505Z"
   },
   {
    "duration": 0,
    "start_time": "2023-04-06T03:21:19.506Z"
   },
   {
    "duration": 0,
    "start_time": "2023-04-06T03:21:19.507Z"
   },
   {
    "duration": 0,
    "start_time": "2023-04-06T03:21:19.508Z"
   },
   {
    "duration": 32,
    "start_time": "2023-04-06T03:26:39.046Z"
   },
   {
    "duration": 25,
    "start_time": "2023-04-06T03:26:52.645Z"
   },
   {
    "duration": 23,
    "start_time": "2023-04-06T03:26:59.485Z"
   },
   {
    "duration": 8,
    "start_time": "2023-04-06T03:27:09.185Z"
   },
   {
    "duration": 14,
    "start_time": "2023-04-06T03:29:23.416Z"
   },
   {
    "duration": 5,
    "start_time": "2023-04-06T03:29:29.430Z"
   },
   {
    "duration": 4,
    "start_time": "2023-04-06T03:29:31.440Z"
   },
   {
    "duration": 15,
    "start_time": "2023-04-06T03:30:58.775Z"
   },
   {
    "duration": 11,
    "start_time": "2023-04-06T03:31:08.955Z"
   },
   {
    "duration": 13,
    "start_time": "2023-04-06T03:31:23.016Z"
   },
   {
    "duration": 10,
    "start_time": "2023-04-06T03:31:28.806Z"
   },
   {
    "duration": 13,
    "start_time": "2023-04-06T03:32:54.785Z"
   },
   {
    "duration": 10,
    "start_time": "2023-04-06T03:33:17.485Z"
   },
   {
    "duration": 16,
    "start_time": "2023-04-06T03:33:30.040Z"
   },
   {
    "duration": 22,
    "start_time": "2023-04-06T03:34:37.335Z"
   },
   {
    "duration": 1502,
    "start_time": "2023-04-06T03:34:44.756Z"
   },
   {
    "duration": 153,
    "start_time": "2023-04-06T03:43:23.041Z"
   },
   {
    "duration": 21,
    "start_time": "2023-04-06T03:54:06.443Z"
   },
   {
    "duration": 32,
    "start_time": "2023-04-06T03:54:25.564Z"
   },
   {
    "duration": 14,
    "start_time": "2023-04-06T03:55:10.315Z"
   },
   {
    "duration": 10,
    "start_time": "2023-04-06T03:56:20.154Z"
   },
   {
    "duration": 43,
    "start_time": "2023-04-06T03:57:51.944Z"
   },
   {
    "duration": 28,
    "start_time": "2023-04-06T03:58:15.064Z"
   },
   {
    "duration": 44,
    "start_time": "2023-04-06T03:59:37.373Z"
   },
   {
    "duration": 79,
    "start_time": "2023-04-06T03:59:54.809Z"
   },
   {
    "duration": 1442,
    "start_time": "2023-04-06T04:00:27.854Z"
   },
   {
    "duration": 10,
    "start_time": "2023-04-06T04:03:57.263Z"
   },
   {
    "duration": 85,
    "start_time": "2023-04-06T04:04:06.993Z"
   },
   {
    "duration": 93,
    "start_time": "2023-04-06T04:04:24.263Z"
   },
   {
    "duration": 99,
    "start_time": "2023-04-06T04:04:36.413Z"
   },
   {
    "duration": 76,
    "start_time": "2023-04-06T04:04:44.614Z"
   },
   {
    "duration": 78,
    "start_time": "2023-04-06T04:04:58.542Z"
   },
   {
    "duration": 11,
    "start_time": "2023-04-06T04:05:27.033Z"
   },
   {
    "duration": 33,
    "start_time": "2023-04-06T04:05:36.704Z"
   },
   {
    "duration": 32,
    "start_time": "2023-04-06T04:07:10.866Z"
   },
   {
    "duration": 14,
    "start_time": "2023-04-06T04:08:15.633Z"
   },
   {
    "duration": 12,
    "start_time": "2023-04-06T04:08:46.323Z"
   },
   {
    "duration": 32,
    "start_time": "2023-04-06T04:09:00.103Z"
   },
   {
    "duration": 20,
    "start_time": "2023-04-06T04:09:47.427Z"
   },
   {
    "duration": 11,
    "start_time": "2023-04-06T04:10:30.624Z"
   },
   {
    "duration": 8,
    "start_time": "2023-04-06T04:10:41.574Z"
   },
   {
    "duration": 11,
    "start_time": "2023-04-06T04:11:36.494Z"
   },
   {
    "duration": 16,
    "start_time": "2023-04-06T04:17:50.821Z"
   },
   {
    "duration": 20,
    "start_time": "2023-04-06T04:19:16.335Z"
   },
   {
    "duration": 13,
    "start_time": "2023-04-06T04:19:39.446Z"
   },
   {
    "duration": 38,
    "start_time": "2023-04-06T04:21:29.521Z"
   },
   {
    "duration": 42,
    "start_time": "2023-04-06T04:21:45.366Z"
   },
   {
    "duration": 1666,
    "start_time": "2023-04-06T04:21:59.760Z"
   },
   {
    "duration": 80,
    "start_time": "2023-04-06T04:22:01.429Z"
   },
   {
    "duration": 6,
    "start_time": "2023-04-06T04:22:01.511Z"
   },
   {
    "duration": 196,
    "start_time": "2023-04-06T04:22:01.519Z"
   },
   {
    "duration": 12,
    "start_time": "2023-04-06T04:22:01.717Z"
   },
   {
    "duration": 104,
    "start_time": "2023-04-06T04:22:01.730Z"
   },
   {
    "duration": 14,
    "start_time": "2023-04-06T04:22:01.835Z"
   },
   {
    "duration": 84,
    "start_time": "2023-04-06T04:22:01.851Z"
   },
   {
    "duration": 50,
    "start_time": "2023-04-06T04:22:01.936Z"
   },
   {
    "duration": 95,
    "start_time": "2023-04-06T04:22:01.990Z"
   },
   {
    "duration": 38,
    "start_time": "2023-04-06T04:22:02.087Z"
   },
   {
    "duration": 7,
    "start_time": "2023-04-06T04:22:02.127Z"
   },
   {
    "duration": 69,
    "start_time": "2023-04-06T04:22:02.136Z"
   },
   {
    "duration": 39,
    "start_time": "2023-04-06T04:22:02.207Z"
   },
   {
    "duration": 52,
    "start_time": "2023-04-06T04:22:02.248Z"
   },
   {
    "duration": 61,
    "start_time": "2023-04-06T04:22:02.302Z"
   },
   {
    "duration": 107,
    "start_time": "2023-04-06T04:22:02.365Z"
   },
   {
    "duration": 45,
    "start_time": "2023-04-06T04:22:02.473Z"
   },
   {
    "duration": 27,
    "start_time": "2023-04-06T04:22:02.520Z"
   },
   {
    "duration": 245,
    "start_time": "2023-04-06T04:22:02.549Z"
   },
   {
    "duration": 7,
    "start_time": "2023-04-06T04:22:02.795Z"
   },
   {
    "duration": 192,
    "start_time": "2023-04-06T04:22:02.803Z"
   },
   {
    "duration": 10,
    "start_time": "2023-04-06T04:22:02.997Z"
   },
   {
    "duration": 53,
    "start_time": "2023-04-06T04:22:03.009Z"
   },
   {
    "duration": 71,
    "start_time": "2023-04-06T04:22:03.064Z"
   },
   {
    "duration": 244,
    "start_time": "2023-04-06T04:22:03.138Z"
   },
   {
    "duration": 12,
    "start_time": "2023-04-06T04:22:03.384Z"
   },
   {
    "duration": 39,
    "start_time": "2023-04-06T04:22:03.400Z"
   },
   {
    "duration": 63,
    "start_time": "2023-04-06T04:22:03.440Z"
   },
   {
    "duration": 34,
    "start_time": "2023-04-06T04:22:03.505Z"
   },
   {
    "duration": 15,
    "start_time": "2023-04-06T04:22:03.541Z"
   },
   {
    "duration": 447,
    "start_time": "2023-04-06T04:22:03.558Z"
   },
   {
    "duration": 17,
    "start_time": "2023-04-06T04:22:04.007Z"
   },
   {
    "duration": 105,
    "start_time": "2023-04-06T04:22:04.025Z"
   },
   {
    "duration": 46,
    "start_time": "2023-04-06T04:22:04.132Z"
   },
   {
    "duration": 45,
    "start_time": "2023-04-06T04:22:04.180Z"
   },
   {
    "duration": 16,
    "start_time": "2023-04-06T04:22:04.227Z"
   },
   {
    "duration": 284,
    "start_time": "2023-04-06T04:22:04.245Z"
   },
   {
    "duration": 42,
    "start_time": "2023-04-06T04:22:04.531Z"
   },
   {
    "duration": 20,
    "start_time": "2023-04-06T04:22:04.575Z"
   },
   {
    "duration": 80,
    "start_time": "2023-04-06T04:22:04.597Z"
   },
   {
    "duration": 34,
    "start_time": "2023-04-06T04:22:04.678Z"
   },
   {
    "duration": 17,
    "start_time": "2023-04-06T04:22:04.713Z"
   },
   {
    "duration": 17,
    "start_time": "2023-04-06T04:22:04.732Z"
   },
   {
    "duration": 23,
    "start_time": "2023-04-06T04:22:04.751Z"
   },
   {
    "duration": 17,
    "start_time": "2023-04-06T04:22:04.776Z"
   },
   {
    "duration": 365,
    "start_time": "2023-04-06T04:22:04.795Z"
   },
   {
    "duration": 22,
    "start_time": "2023-04-06T04:22:05.162Z"
   },
   {
    "duration": 523,
    "start_time": "2023-04-06T04:22:05.186Z"
   },
   {
    "duration": 11,
    "start_time": "2023-04-06T04:22:05.711Z"
   },
   {
    "duration": 28,
    "start_time": "2023-04-06T04:22:05.724Z"
   },
   {
    "duration": 684,
    "start_time": "2023-04-06T04:22:05.754Z"
   },
   {
    "duration": 16,
    "start_time": "2023-04-06T04:22:06.440Z"
   },
   {
    "duration": 57,
    "start_time": "2023-04-06T04:22:06.471Z"
   },
   {
    "duration": 12,
    "start_time": "2023-04-06T04:22:06.530Z"
   },
   {
    "duration": 181,
    "start_time": "2023-04-06T04:22:06.545Z"
   },
   {
    "duration": 9682,
    "start_time": "2023-04-06T04:22:06.727Z"
   },
   {
    "duration": 16,
    "start_time": "2023-04-06T04:22:16.411Z"
   },
   {
    "duration": 71,
    "start_time": "2023-04-06T04:22:16.428Z"
   },
   {
    "duration": 388,
    "start_time": "2023-04-06T04:22:16.501Z"
   },
   {
    "duration": 0,
    "start_time": "2023-04-06T04:22:16.891Z"
   },
   {
    "duration": 0,
    "start_time": "2023-04-06T04:22:16.892Z"
   },
   {
    "duration": 0,
    "start_time": "2023-04-06T04:22:16.893Z"
   },
   {
    "duration": 0,
    "start_time": "2023-04-06T04:22:16.894Z"
   },
   {
    "duration": 0,
    "start_time": "2023-04-06T04:22:16.895Z"
   },
   {
    "duration": 0,
    "start_time": "2023-04-06T04:22:16.896Z"
   },
   {
    "duration": 0,
    "start_time": "2023-04-06T04:22:16.897Z"
   },
   {
    "duration": 0,
    "start_time": "2023-04-06T04:22:16.898Z"
   },
   {
    "duration": 0,
    "start_time": "2023-04-06T04:22:16.899Z"
   },
   {
    "duration": 0,
    "start_time": "2023-04-06T04:22:16.900Z"
   },
   {
    "duration": 0,
    "start_time": "2023-04-06T04:22:16.901Z"
   },
   {
    "duration": 1,
    "start_time": "2023-04-06T04:22:16.901Z"
   },
   {
    "duration": 0,
    "start_time": "2023-04-06T04:22:16.902Z"
   },
   {
    "duration": 0,
    "start_time": "2023-04-06T04:22:16.903Z"
   },
   {
    "duration": 0,
    "start_time": "2023-04-06T04:22:16.904Z"
   },
   {
    "duration": 0,
    "start_time": "2023-04-06T04:22:16.905Z"
   },
   {
    "duration": 0,
    "start_time": "2023-04-06T04:22:16.906Z"
   },
   {
    "duration": 0,
    "start_time": "2023-04-06T04:22:16.907Z"
   },
   {
    "duration": 0,
    "start_time": "2023-04-06T04:22:16.908Z"
   },
   {
    "duration": 0,
    "start_time": "2023-04-06T04:22:16.910Z"
   },
   {
    "duration": 0,
    "start_time": "2023-04-06T04:22:16.911Z"
   },
   {
    "duration": 15,
    "start_time": "2023-04-06T04:23:05.617Z"
   },
   {
    "duration": 10,
    "start_time": "2023-04-06T04:23:33.496Z"
   },
   {
    "duration": 10,
    "start_time": "2023-04-06T04:23:52.007Z"
   },
   {
    "duration": 4,
    "start_time": "2023-04-06T04:24:55.848Z"
   },
   {
    "duration": 89,
    "start_time": "2023-04-06T04:24:55.855Z"
   },
   {
    "duration": 5,
    "start_time": "2023-04-06T04:24:55.945Z"
   },
   {
    "duration": 155,
    "start_time": "2023-04-06T04:24:55.952Z"
   },
   {
    "duration": 14,
    "start_time": "2023-04-06T04:24:56.109Z"
   },
   {
    "duration": 97,
    "start_time": "2023-04-06T04:24:56.125Z"
   },
   {
    "duration": 11,
    "start_time": "2023-04-06T04:24:56.224Z"
   },
   {
    "duration": 41,
    "start_time": "2023-04-06T04:24:56.237Z"
   },
   {
    "duration": 29,
    "start_time": "2023-04-06T04:24:56.281Z"
   },
   {
    "duration": 45,
    "start_time": "2023-04-06T04:24:56.312Z"
   },
   {
    "duration": 36,
    "start_time": "2023-04-06T04:24:56.359Z"
   },
   {
    "duration": 13,
    "start_time": "2023-04-06T04:24:56.397Z"
   },
   {
    "duration": 19,
    "start_time": "2023-04-06T04:24:56.412Z"
   },
   {
    "duration": 35,
    "start_time": "2023-04-06T04:24:56.434Z"
   },
   {
    "duration": 13,
    "start_time": "2023-04-06T04:24:56.471Z"
   },
   {
    "duration": 34,
    "start_time": "2023-04-06T04:24:56.486Z"
   },
   {
    "duration": 29,
    "start_time": "2023-04-06T04:24:56.522Z"
   },
   {
    "duration": 24,
    "start_time": "2023-04-06T04:24:56.553Z"
   },
   {
    "duration": 12,
    "start_time": "2023-04-06T04:24:56.579Z"
   },
   {
    "duration": 176,
    "start_time": "2023-04-06T04:24:56.592Z"
   },
   {
    "duration": 6,
    "start_time": "2023-04-06T04:24:56.770Z"
   },
   {
    "duration": 117,
    "start_time": "2023-04-06T04:24:56.777Z"
   },
   {
    "duration": 10,
    "start_time": "2023-04-06T04:24:56.896Z"
   },
   {
    "duration": 15,
    "start_time": "2023-04-06T04:24:56.910Z"
   },
   {
    "duration": 47,
    "start_time": "2023-04-06T04:24:56.927Z"
   },
   {
    "duration": 252,
    "start_time": "2023-04-06T04:24:56.976Z"
   },
   {
    "duration": 14,
    "start_time": "2023-04-06T04:24:57.230Z"
   },
   {
    "duration": 33,
    "start_time": "2023-04-06T04:24:57.246Z"
   },
   {
    "duration": 39,
    "start_time": "2023-04-06T04:24:57.280Z"
   },
   {
    "duration": 22,
    "start_time": "2023-04-06T04:24:57.322Z"
   },
   {
    "duration": 12,
    "start_time": "2023-04-06T04:24:57.345Z"
   },
   {
    "duration": 51,
    "start_time": "2023-04-06T04:24:57.359Z"
   },
   {
    "duration": 14,
    "start_time": "2023-04-06T04:24:57.412Z"
   },
   {
    "duration": 55,
    "start_time": "2023-04-06T04:24:57.427Z"
   },
   {
    "duration": 14,
    "start_time": "2023-04-06T04:24:57.484Z"
   },
   {
    "duration": 73,
    "start_time": "2023-04-06T04:24:57.500Z"
   },
   {
    "duration": 16,
    "start_time": "2023-04-06T04:24:57.575Z"
   },
   {
    "duration": 275,
    "start_time": "2023-04-06T04:24:57.592Z"
   },
   {
    "duration": 25,
    "start_time": "2023-04-06T04:24:57.869Z"
   },
   {
    "duration": 21,
    "start_time": "2023-04-06T04:24:57.896Z"
   },
   {
    "duration": 95,
    "start_time": "2023-04-06T04:24:57.919Z"
   },
   {
    "duration": 39,
    "start_time": "2023-04-06T04:24:58.016Z"
   },
   {
    "duration": 22,
    "start_time": "2023-04-06T04:24:58.058Z"
   },
   {
    "duration": 39,
    "start_time": "2023-04-06T04:24:58.082Z"
   },
   {
    "duration": 28,
    "start_time": "2023-04-06T04:24:58.122Z"
   },
   {
    "duration": 17,
    "start_time": "2023-04-06T04:24:58.151Z"
   },
   {
    "duration": 262,
    "start_time": "2023-04-06T04:24:58.169Z"
   },
   {
    "duration": 14,
    "start_time": "2023-04-06T04:24:58.433Z"
   },
   {
    "duration": 434,
    "start_time": "2023-04-06T04:24:58.448Z"
   },
   {
    "duration": 9,
    "start_time": "2023-04-06T04:24:58.883Z"
   },
   {
    "duration": 14,
    "start_time": "2023-04-06T04:24:58.894Z"
   },
   {
    "duration": 533,
    "start_time": "2023-04-06T04:24:58.910Z"
   },
   {
    "duration": 11,
    "start_time": "2023-04-06T04:24:59.445Z"
   },
   {
    "duration": 55,
    "start_time": "2023-04-06T04:24:59.457Z"
   },
   {
    "duration": 15,
    "start_time": "2023-04-06T04:24:59.514Z"
   },
   {
    "duration": 261,
    "start_time": "2023-04-06T04:24:59.531Z"
   },
   {
    "duration": 8910,
    "start_time": "2023-04-06T04:24:59.794Z"
   },
   {
    "duration": 19,
    "start_time": "2023-04-06T04:25:08.706Z"
   },
   {
    "duration": 79,
    "start_time": "2023-04-06T04:25:08.727Z"
   },
   {
    "duration": 72,
    "start_time": "2023-04-06T04:25:08.808Z"
   },
   {
    "duration": 11,
    "start_time": "2023-04-06T04:25:48.218Z"
   },
   {
    "duration": 15,
    "start_time": "2023-04-06T04:26:09.068Z"
   },
   {
    "duration": 16,
    "start_time": "2023-04-06T04:26:13.527Z"
   },
   {
    "duration": 19,
    "start_time": "2023-04-06T04:27:29.317Z"
   },
   {
    "duration": 7,
    "start_time": "2023-04-06T04:27:55.067Z"
   },
   {
    "duration": 99,
    "start_time": "2023-04-06T04:27:55.076Z"
   },
   {
    "duration": 8,
    "start_time": "2023-04-06T04:27:55.178Z"
   },
   {
    "duration": 152,
    "start_time": "2023-04-06T04:27:55.188Z"
   },
   {
    "duration": 35,
    "start_time": "2023-04-06T04:27:55.343Z"
   },
   {
    "duration": 53,
    "start_time": "2023-04-06T04:27:55.379Z"
   },
   {
    "duration": 9,
    "start_time": "2023-04-06T04:27:55.433Z"
   },
   {
    "duration": 41,
    "start_time": "2023-04-06T04:27:55.444Z"
   },
   {
    "duration": 19,
    "start_time": "2023-04-06T04:27:55.487Z"
   },
   {
    "duration": 23,
    "start_time": "2023-04-06T04:27:55.508Z"
   },
   {
    "duration": 49,
    "start_time": "2023-04-06T04:27:55.533Z"
   },
   {
    "duration": 6,
    "start_time": "2023-04-06T04:27:55.584Z"
   },
   {
    "duration": 21,
    "start_time": "2023-04-06T04:27:55.592Z"
   },
   {
    "duration": 24,
    "start_time": "2023-04-06T04:27:55.617Z"
   },
   {
    "duration": 5,
    "start_time": "2023-04-06T04:27:55.643Z"
   },
   {
    "duration": 28,
    "start_time": "2023-04-06T04:27:55.650Z"
   },
   {
    "duration": 39,
    "start_time": "2023-04-06T04:27:55.680Z"
   },
   {
    "duration": 33,
    "start_time": "2023-04-06T04:27:55.722Z"
   },
   {
    "duration": 18,
    "start_time": "2023-04-06T04:27:55.756Z"
   },
   {
    "duration": 184,
    "start_time": "2023-04-06T04:27:55.777Z"
   },
   {
    "duration": 17,
    "start_time": "2023-04-06T04:27:55.963Z"
   },
   {
    "duration": 139,
    "start_time": "2023-04-06T04:27:55.982Z"
   },
   {
    "duration": 12,
    "start_time": "2023-04-06T04:27:56.123Z"
   },
   {
    "duration": 22,
    "start_time": "2023-04-06T04:27:56.136Z"
   },
   {
    "duration": 34,
    "start_time": "2023-04-06T04:27:56.160Z"
   },
   {
    "duration": 293,
    "start_time": "2023-04-06T04:27:56.196Z"
   },
   {
    "duration": 13,
    "start_time": "2023-04-06T04:27:56.491Z"
   },
   {
    "duration": 49,
    "start_time": "2023-04-06T04:27:56.507Z"
   },
   {
    "duration": 49,
    "start_time": "2023-04-06T04:27:56.558Z"
   },
   {
    "duration": 14,
    "start_time": "2023-04-06T04:27:56.609Z"
   },
   {
    "duration": 9,
    "start_time": "2023-04-06T04:27:56.625Z"
   },
   {
    "duration": 39,
    "start_time": "2023-04-06T04:27:56.636Z"
   },
   {
    "duration": 19,
    "start_time": "2023-04-06T04:27:56.677Z"
   },
   {
    "duration": 51,
    "start_time": "2023-04-06T04:27:56.698Z"
   },
   {
    "duration": 12,
    "start_time": "2023-04-06T04:27:56.772Z"
   },
   {
    "duration": 40,
    "start_time": "2023-04-06T04:27:56.787Z"
   },
   {
    "duration": 20,
    "start_time": "2023-04-06T04:27:56.829Z"
   },
   {
    "duration": 295,
    "start_time": "2023-04-06T04:27:56.851Z"
   },
   {
    "duration": 37,
    "start_time": "2023-04-06T04:27:57.148Z"
   },
   {
    "duration": 18,
    "start_time": "2023-04-06T04:27:57.187Z"
   },
   {
    "duration": 66,
    "start_time": "2023-04-06T04:27:57.209Z"
   },
   {
    "duration": 31,
    "start_time": "2023-04-06T04:27:57.276Z"
   },
   {
    "duration": 13,
    "start_time": "2023-04-06T04:27:57.309Z"
   },
   {
    "duration": 30,
    "start_time": "2023-04-06T04:27:57.326Z"
   },
   {
    "duration": 20,
    "start_time": "2023-04-06T04:27:57.358Z"
   },
   {
    "duration": 17,
    "start_time": "2023-04-06T04:27:57.380Z"
   },
   {
    "duration": 296,
    "start_time": "2023-04-06T04:27:57.400Z"
   },
   {
    "duration": 13,
    "start_time": "2023-04-06T04:27:57.698Z"
   },
   {
    "duration": 439,
    "start_time": "2023-04-06T04:27:57.712Z"
   },
   {
    "duration": 9,
    "start_time": "2023-04-06T04:27:58.152Z"
   },
   {
    "duration": 10,
    "start_time": "2023-04-06T04:27:58.172Z"
   },
   {
    "duration": 471,
    "start_time": "2023-04-06T04:27:58.183Z"
   },
   {
    "duration": 25,
    "start_time": "2023-04-06T04:27:58.655Z"
   },
   {
    "duration": 42,
    "start_time": "2023-04-06T04:27:58.682Z"
   },
   {
    "duration": 18,
    "start_time": "2023-04-06T04:27:58.725Z"
   },
   {
    "duration": 119,
    "start_time": "2023-04-06T04:27:58.745Z"
   },
   {
    "duration": 8474,
    "start_time": "2023-04-06T04:27:58.866Z"
   },
   {
    "duration": 32,
    "start_time": "2023-04-06T04:28:07.343Z"
   },
   {
    "duration": 96,
    "start_time": "2023-04-06T04:28:07.377Z"
   },
   {
    "duration": 18,
    "start_time": "2023-04-06T04:28:18.762Z"
   },
   {
    "duration": 19,
    "start_time": "2023-04-06T04:28:33.672Z"
   },
   {
    "duration": 10,
    "start_time": "2023-04-06T04:28:39.757Z"
   },
   {
    "duration": 10,
    "start_time": "2023-04-06T04:28:57.347Z"
   },
   {
    "duration": 1523,
    "start_time": "2023-04-06T04:29:12.136Z"
   },
   {
    "duration": 65,
    "start_time": "2023-04-06T04:29:13.661Z"
   },
   {
    "duration": 5,
    "start_time": "2023-04-06T04:29:13.728Z"
   },
   {
    "duration": 118,
    "start_time": "2023-04-06T04:29:13.735Z"
   },
   {
    "duration": 25,
    "start_time": "2023-04-06T04:29:13.856Z"
   },
   {
    "duration": 54,
    "start_time": "2023-04-06T04:29:13.883Z"
   },
   {
    "duration": 9,
    "start_time": "2023-04-06T04:29:13.939Z"
   },
   {
    "duration": 17,
    "start_time": "2023-04-06T04:29:13.972Z"
   },
   {
    "duration": 14,
    "start_time": "2023-04-06T04:29:13.991Z"
   },
   {
    "duration": 25,
    "start_time": "2023-04-06T04:29:14.007Z"
   },
   {
    "duration": 65,
    "start_time": "2023-04-06T04:29:14.033Z"
   },
   {
    "duration": 13,
    "start_time": "2023-04-06T04:29:14.100Z"
   },
   {
    "duration": 13,
    "start_time": "2023-04-06T04:29:14.115Z"
   },
   {
    "duration": 21,
    "start_time": "2023-04-06T04:29:14.131Z"
   },
   {
    "duration": 4,
    "start_time": "2023-04-06T04:29:14.155Z"
   },
   {
    "duration": 16,
    "start_time": "2023-04-06T04:29:14.161Z"
   },
   {
    "duration": 22,
    "start_time": "2023-04-06T04:29:14.179Z"
   },
   {
    "duration": 22,
    "start_time": "2023-04-06T04:29:14.203Z"
   },
   {
    "duration": 4,
    "start_time": "2023-04-06T04:29:14.227Z"
   },
   {
    "duration": 168,
    "start_time": "2023-04-06T04:29:14.232Z"
   },
   {
    "duration": 5,
    "start_time": "2023-04-06T04:29:14.402Z"
   },
   {
    "duration": 105,
    "start_time": "2023-04-06T04:29:14.409Z"
   },
   {
    "duration": 11,
    "start_time": "2023-04-06T04:29:14.516Z"
   },
   {
    "duration": 16,
    "start_time": "2023-04-06T04:29:14.529Z"
   },
   {
    "duration": 38,
    "start_time": "2023-04-06T04:29:14.547Z"
   },
   {
    "duration": 338,
    "start_time": "2023-04-06T04:29:14.586Z"
   },
   {
    "duration": 15,
    "start_time": "2023-04-06T04:29:14.926Z"
   },
   {
    "duration": 12,
    "start_time": "2023-04-06T04:29:14.943Z"
   },
   {
    "duration": 33,
    "start_time": "2023-04-06T04:29:14.956Z"
   },
   {
    "duration": 31,
    "start_time": "2023-04-06T04:29:14.991Z"
   },
   {
    "duration": 20,
    "start_time": "2023-04-06T04:29:15.024Z"
   },
   {
    "duration": 428,
    "start_time": "2023-04-06T04:29:15.047Z"
   },
   {
    "duration": 17,
    "start_time": "2023-04-06T04:29:15.477Z"
   },
   {
    "duration": 110,
    "start_time": "2023-04-06T04:29:15.496Z"
   },
   {
    "duration": 65,
    "start_time": "2023-04-06T04:29:15.608Z"
   },
   {
    "duration": 44,
    "start_time": "2023-04-06T04:29:15.674Z"
   },
   {
    "duration": 17,
    "start_time": "2023-04-06T04:29:15.720Z"
   },
   {
    "duration": 338,
    "start_time": "2023-04-06T04:29:15.739Z"
   },
   {
    "duration": 35,
    "start_time": "2023-04-06T04:29:16.079Z"
   },
   {
    "duration": 24,
    "start_time": "2023-04-06T04:29:16.116Z"
   },
   {
    "duration": 95,
    "start_time": "2023-04-06T04:29:16.145Z"
   },
   {
    "duration": 49,
    "start_time": "2023-04-06T04:29:16.243Z"
   },
   {
    "duration": 12,
    "start_time": "2023-04-06T04:29:16.295Z"
   },
   {
    "duration": 44,
    "start_time": "2023-04-06T04:29:16.309Z"
   },
   {
    "duration": 4,
    "start_time": "2023-04-06T04:29:16.355Z"
   },
   {
    "duration": 14,
    "start_time": "2023-04-06T04:29:16.360Z"
   },
   {
    "duration": 247,
    "start_time": "2023-04-06T04:29:16.375Z"
   },
   {
    "duration": 15,
    "start_time": "2023-04-06T04:29:16.623Z"
   },
   {
    "duration": 455,
    "start_time": "2023-04-06T04:29:16.639Z"
   },
   {
    "duration": 11,
    "start_time": "2023-04-06T04:29:17.096Z"
   },
   {
    "duration": 19,
    "start_time": "2023-04-06T04:29:17.108Z"
   },
   {
    "duration": 600,
    "start_time": "2023-04-06T04:29:17.129Z"
   },
   {
    "duration": 13,
    "start_time": "2023-04-06T04:29:17.730Z"
   },
   {
    "duration": 75,
    "start_time": "2023-04-06T04:29:17.744Z"
   },
   {
    "duration": 13,
    "start_time": "2023-04-06T04:29:17.820Z"
   },
   {
    "duration": 117,
    "start_time": "2023-04-06T04:29:17.835Z"
   },
   {
    "duration": 8936,
    "start_time": "2023-04-06T04:29:17.954Z"
   },
   {
    "duration": 16,
    "start_time": "2023-04-06T04:29:26.892Z"
   },
   {
    "duration": 81,
    "start_time": "2023-04-06T04:29:26.909Z"
   },
   {
    "duration": 18,
    "start_time": "2023-04-06T04:29:26.992Z"
   },
   {
    "duration": 61,
    "start_time": "2023-04-06T04:29:27.012Z"
   },
   {
    "duration": 33,
    "start_time": "2023-04-06T04:29:27.075Z"
   },
   {
    "duration": 745,
    "start_time": "2023-04-06T04:29:27.110Z"
   },
   {
    "duration": 22,
    "start_time": "2023-04-06T04:29:27.858Z"
   },
   {
    "duration": 28,
    "start_time": "2023-04-06T04:29:27.882Z"
   },
   {
    "duration": 455,
    "start_time": "2023-04-06T04:29:27.912Z"
   },
   {
    "duration": 16,
    "start_time": "2023-04-06T04:29:28.369Z"
   },
   {
    "duration": 13,
    "start_time": "2023-04-06T04:29:28.387Z"
   },
   {
    "duration": 14,
    "start_time": "2023-04-06T04:29:28.401Z"
   },
   {
    "duration": 130,
    "start_time": "2023-04-06T04:29:28.417Z"
   },
   {
    "duration": 44,
    "start_time": "2023-04-06T04:29:28.548Z"
   },
   {
    "duration": 4,
    "start_time": "2023-04-06T04:29:28.594Z"
   },
   {
    "duration": 20,
    "start_time": "2023-04-06T04:29:28.600Z"
   },
   {
    "duration": 128,
    "start_time": "2023-04-06T04:29:28.622Z"
   },
   {
    "duration": 1560,
    "start_time": "2023-04-06T04:29:28.752Z"
   },
   {
    "duration": 12,
    "start_time": "2023-04-06T04:29:30.314Z"
   },
   {
    "duration": 94,
    "start_time": "2023-04-06T04:29:30.328Z"
   },
   {
    "duration": 69,
    "start_time": "2023-04-06T04:29:30.424Z"
   },
   {
    "duration": 20,
    "start_time": "2023-04-06T04:29:30.495Z"
   },
   {
    "duration": 25,
    "start_time": "2023-04-06T04:29:30.517Z"
   },
   {
    "duration": 29,
    "start_time": "2023-04-06T04:29:30.544Z"
   },
   {
    "duration": 264,
    "start_time": "2023-04-06T04:31:23.586Z"
   },
   {
    "duration": 269,
    "start_time": "2023-04-06T04:33:03.931Z"
   },
   {
    "duration": 288,
    "start_time": "2023-04-06T04:33:22.137Z"
   },
   {
    "duration": 275,
    "start_time": "2023-04-06T04:44:12.094Z"
   },
   {
    "duration": 287,
    "start_time": "2023-04-06T04:45:22.528Z"
   },
   {
    "duration": 12,
    "start_time": "2023-04-06T04:57:57.967Z"
   },
   {
    "duration": 29,
    "start_time": "2023-04-06T04:58:11.756Z"
   },
   {
    "duration": 11,
    "start_time": "2023-04-06T04:58:46.642Z"
   },
   {
    "duration": 13,
    "start_time": "2023-04-06T04:59:12.812Z"
   },
   {
    "duration": 31,
    "start_time": "2023-04-06T04:59:41.012Z"
   },
   {
    "duration": 149,
    "start_time": "2023-04-06T05:38:44.978Z"
   },
   {
    "duration": 4,
    "start_time": "2023-04-06T05:40:01.521Z"
   },
   {
    "duration": 172,
    "start_time": "2023-04-06T05:40:04.898Z"
   },
   {
    "duration": 9,
    "start_time": "2023-04-06T05:40:34.797Z"
   },
   {
    "duration": 35,
    "start_time": "2023-04-06T05:40:43.698Z"
   },
   {
    "duration": 21,
    "start_time": "2023-04-06T05:41:25.604Z"
   },
   {
    "duration": 1556,
    "start_time": "2023-04-06T05:41:49.307Z"
   },
   {
    "duration": 80,
    "start_time": "2023-04-06T05:41:50.865Z"
   },
   {
    "duration": 6,
    "start_time": "2023-04-06T05:41:50.946Z"
   },
   {
    "duration": 185,
    "start_time": "2023-04-06T05:41:50.953Z"
   },
   {
    "duration": 19,
    "start_time": "2023-04-06T05:41:51.141Z"
   },
   {
    "duration": 81,
    "start_time": "2023-04-06T05:41:51.162Z"
   },
   {
    "duration": 11,
    "start_time": "2023-04-06T05:41:51.245Z"
   },
   {
    "duration": 48,
    "start_time": "2023-04-06T05:41:51.258Z"
   },
   {
    "duration": 42,
    "start_time": "2023-04-06T05:41:51.308Z"
   },
   {
    "duration": 49,
    "start_time": "2023-04-06T05:41:51.352Z"
   },
   {
    "duration": 54,
    "start_time": "2023-04-06T05:41:51.403Z"
   },
   {
    "duration": 4,
    "start_time": "2023-04-06T05:41:51.458Z"
   },
   {
    "duration": 43,
    "start_time": "2023-04-06T05:41:51.464Z"
   },
   {
    "duration": 19,
    "start_time": "2023-04-06T05:41:51.511Z"
   },
   {
    "duration": 3,
    "start_time": "2023-04-06T05:41:51.532Z"
   },
   {
    "duration": 11,
    "start_time": "2023-04-06T05:41:51.537Z"
   },
   {
    "duration": 83,
    "start_time": "2023-04-06T05:41:51.550Z"
   },
   {
    "duration": 26,
    "start_time": "2023-04-06T05:41:51.635Z"
   },
   {
    "duration": 57,
    "start_time": "2023-04-06T05:41:51.662Z"
   },
   {
    "duration": 190,
    "start_time": "2023-04-06T05:41:51.721Z"
   },
   {
    "duration": 8,
    "start_time": "2023-04-06T05:41:51.913Z"
   },
   {
    "duration": 177,
    "start_time": "2023-04-06T05:41:51.923Z"
   },
   {
    "duration": 9,
    "start_time": "2023-04-06T05:41:52.102Z"
   },
   {
    "duration": 13,
    "start_time": "2023-04-06T05:41:52.113Z"
   },
   {
    "duration": 18,
    "start_time": "2023-04-06T05:41:52.128Z"
   },
   {
    "duration": 298,
    "start_time": "2023-04-06T05:41:52.148Z"
   },
   {
    "duration": 29,
    "start_time": "2023-04-06T05:41:52.448Z"
   },
   {
    "duration": 27,
    "start_time": "2023-04-06T05:41:52.479Z"
   },
   {
    "duration": 18,
    "start_time": "2023-04-06T05:41:52.508Z"
   },
   {
    "duration": 6,
    "start_time": "2023-04-06T05:41:52.527Z"
   },
   {
    "duration": 9,
    "start_time": "2023-04-06T05:41:52.534Z"
   },
   {
    "duration": 57,
    "start_time": "2023-04-06T05:41:52.544Z"
   },
   {
    "duration": 8,
    "start_time": "2023-04-06T05:41:52.603Z"
   },
   {
    "duration": 7,
    "start_time": "2023-04-06T05:41:52.612Z"
   },
   {
    "duration": 484,
    "start_time": "2023-04-06T05:41:52.621Z"
   },
   {
    "duration": 26,
    "start_time": "2023-04-06T05:41:53.110Z"
   },
   {
    "duration": 151,
    "start_time": "2023-04-06T05:41:53.138Z"
   },
   {
    "duration": 17,
    "start_time": "2023-04-06T05:41:53.291Z"
   },
   {
    "duration": 32,
    "start_time": "2023-04-06T05:41:53.310Z"
   },
   {
    "duration": 42,
    "start_time": "2023-04-06T05:41:53.343Z"
   },
   {
    "duration": 264,
    "start_time": "2023-04-06T05:41:53.390Z"
   },
   {
    "duration": 47,
    "start_time": "2023-04-06T05:41:53.656Z"
   },
   {
    "duration": 22,
    "start_time": "2023-04-06T05:41:53.705Z"
   },
   {
    "duration": 64,
    "start_time": "2023-04-06T05:41:53.729Z"
   },
   {
    "duration": 29,
    "start_time": "2023-04-06T05:41:53.795Z"
   },
   {
    "duration": 10,
    "start_time": "2023-04-06T05:41:53.825Z"
   },
   {
    "duration": 10,
    "start_time": "2023-04-06T05:41:53.836Z"
   },
   {
    "duration": 4,
    "start_time": "2023-04-06T05:41:53.847Z"
   },
   {
    "duration": 45,
    "start_time": "2023-04-06T05:41:53.852Z"
   },
   {
    "duration": 260,
    "start_time": "2023-04-06T05:41:53.899Z"
   },
   {
    "duration": 29,
    "start_time": "2023-04-06T05:41:54.160Z"
   },
   {
    "duration": 451,
    "start_time": "2023-04-06T05:41:54.190Z"
   },
   {
    "duration": 9,
    "start_time": "2023-04-06T05:41:54.642Z"
   },
   {
    "duration": 50,
    "start_time": "2023-04-06T05:41:54.652Z"
   },
   {
    "duration": 623,
    "start_time": "2023-04-06T05:41:54.704Z"
   },
   {
    "duration": 12,
    "start_time": "2023-04-06T05:41:55.329Z"
   },
   {
    "duration": 71,
    "start_time": "2023-04-06T05:41:55.342Z"
   },
   {
    "duration": 10,
    "start_time": "2023-04-06T05:41:55.415Z"
   },
   {
    "duration": 125,
    "start_time": "2023-04-06T05:41:55.427Z"
   },
   {
    "duration": 11199,
    "start_time": "2023-04-06T05:41:55.554Z"
   },
   {
    "duration": 40,
    "start_time": "2023-04-06T05:42:06.755Z"
   },
   {
    "duration": 103,
    "start_time": "2023-04-06T05:42:06.814Z"
   },
   {
    "duration": 66,
    "start_time": "2023-04-06T05:42:06.919Z"
   },
   {
    "duration": 11,
    "start_time": "2023-04-06T05:42:06.990Z"
   },
   {
    "duration": 25,
    "start_time": "2023-04-06T05:42:07.002Z"
   },
   {
    "duration": 802,
    "start_time": "2023-04-06T05:42:07.028Z"
   },
   {
    "duration": 14,
    "start_time": "2023-04-06T05:42:07.832Z"
   },
   {
    "duration": 60,
    "start_time": "2023-04-06T05:42:07.847Z"
   },
   {
    "duration": 476,
    "start_time": "2023-04-06T05:42:07.909Z"
   },
   {
    "duration": 18,
    "start_time": "2023-04-06T05:42:08.386Z"
   },
   {
    "duration": 12,
    "start_time": "2023-04-06T05:42:08.406Z"
   },
   {
    "duration": 11,
    "start_time": "2023-04-06T05:42:08.420Z"
   },
   {
    "duration": 126,
    "start_time": "2023-04-06T05:42:08.433Z"
   },
   {
    "duration": 42,
    "start_time": "2023-04-06T05:42:08.560Z"
   },
   {
    "duration": 8,
    "start_time": "2023-04-06T05:42:08.604Z"
   },
   {
    "duration": 29,
    "start_time": "2023-04-06T05:42:08.614Z"
   },
   {
    "duration": 261,
    "start_time": "2023-04-06T05:42:08.645Z"
   },
   {
    "duration": 110,
    "start_time": "2023-04-06T05:42:08.908Z"
   },
   {
    "duration": 1596,
    "start_time": "2023-04-06T05:42:09.019Z"
   },
   {
    "duration": 14,
    "start_time": "2023-04-06T05:42:10.617Z"
   },
   {
    "duration": 99,
    "start_time": "2023-04-06T05:42:10.633Z"
   },
   {
    "duration": 23,
    "start_time": "2023-04-06T05:42:10.734Z"
   },
   {
    "duration": 11,
    "start_time": "2023-04-06T05:42:10.759Z"
   },
   {
    "duration": 52,
    "start_time": "2023-04-06T05:42:10.785Z"
   },
   {
    "duration": 9,
    "start_time": "2023-04-06T05:42:10.838Z"
   },
   {
    "duration": 16,
    "start_time": "2023-04-06T05:42:10.849Z"
   },
   {
    "duration": 62,
    "start_time": "2023-04-06T05:42:10.866Z"
   },
   {
    "duration": 23,
    "start_time": "2023-04-06T05:42:10.929Z"
   },
   {
    "duration": 270,
    "start_time": "2023-04-06T05:42:10.954Z"
   },
   {
    "duration": 12,
    "start_time": "2023-04-06T05:44:06.309Z"
   },
   {
    "duration": 223,
    "start_time": "2023-04-06T05:44:24.728Z"
   },
   {
    "duration": 13,
    "start_time": "2023-04-06T05:45:57.932Z"
   },
   {
    "duration": 452,
    "start_time": "2023-04-06T05:46:09.152Z"
   },
   {
    "duration": 10,
    "start_time": "2023-04-06T05:46:21.027Z"
   },
   {
    "duration": 11,
    "start_time": "2023-04-06T05:46:25.499Z"
   },
   {
    "duration": 448,
    "start_time": "2023-04-06T05:46:30.867Z"
   },
   {
    "duration": 12,
    "start_time": "2023-04-06T05:47:39.207Z"
   },
   {
    "duration": 13,
    "start_time": "2023-04-06T05:47:49.542Z"
   },
   {
    "duration": 13,
    "start_time": "2023-04-06T05:48:40.198Z"
   },
   {
    "duration": 205,
    "start_time": "2023-04-06T05:49:04.713Z"
   },
   {
    "duration": 236,
    "start_time": "2023-04-06T05:53:13.102Z"
   },
   {
    "duration": 13,
    "start_time": "2023-04-06T06:02:30.623Z"
   },
   {
    "duration": 225,
    "start_time": "2023-04-06T06:02:48.400Z"
   },
   {
    "duration": 1495,
    "start_time": "2023-04-06T08:32:23.911Z"
   },
   {
    "duration": 60,
    "start_time": "2023-04-06T08:32:25.408Z"
   },
   {
    "duration": 12,
    "start_time": "2023-04-06T08:32:25.469Z"
   },
   {
    "duration": 174,
    "start_time": "2023-04-06T08:32:25.491Z"
   },
   {
    "duration": 27,
    "start_time": "2023-04-06T08:32:25.666Z"
   },
   {
    "duration": 84,
    "start_time": "2023-04-06T08:32:25.694Z"
   },
   {
    "duration": 16,
    "start_time": "2023-04-06T08:32:25.790Z"
   },
   {
    "duration": 16,
    "start_time": "2023-04-06T08:32:25.808Z"
   },
   {
    "duration": 18,
    "start_time": "2023-04-06T08:32:25.826Z"
   },
   {
    "duration": 20,
    "start_time": "2023-04-06T08:32:25.847Z"
   },
   {
    "duration": 34,
    "start_time": "2023-04-06T08:32:25.868Z"
   },
   {
    "duration": 17,
    "start_time": "2023-04-06T08:32:25.903Z"
   },
   {
    "duration": 21,
    "start_time": "2023-04-06T08:32:25.921Z"
   },
   {
    "duration": 21,
    "start_time": "2023-04-06T08:32:25.943Z"
   },
   {
    "duration": 3,
    "start_time": "2023-04-06T08:32:25.966Z"
   },
   {
    "duration": 31,
    "start_time": "2023-04-06T08:32:25.982Z"
   },
   {
    "duration": 46,
    "start_time": "2023-04-06T08:32:26.015Z"
   },
   {
    "duration": 55,
    "start_time": "2023-04-06T08:32:26.063Z"
   },
   {
    "duration": 19,
    "start_time": "2023-04-06T08:32:26.120Z"
   },
   {
    "duration": 191,
    "start_time": "2023-04-06T08:32:26.141Z"
   },
   {
    "duration": 7,
    "start_time": "2023-04-06T08:32:26.334Z"
   },
   {
    "duration": 100,
    "start_time": "2023-04-06T08:32:26.343Z"
   },
   {
    "duration": 9,
    "start_time": "2023-04-06T08:32:26.444Z"
   },
   {
    "duration": 22,
    "start_time": "2023-04-06T08:32:26.455Z"
   },
   {
    "duration": 21,
    "start_time": "2023-04-06T08:32:26.490Z"
   },
   {
    "duration": 228,
    "start_time": "2023-04-06T08:32:26.512Z"
   },
   {
    "duration": 11,
    "start_time": "2023-04-06T08:32:26.741Z"
   },
   {
    "duration": 34,
    "start_time": "2023-04-06T08:32:26.756Z"
   },
   {
    "duration": 35,
    "start_time": "2023-04-06T08:32:26.794Z"
   },
   {
    "duration": 8,
    "start_time": "2023-04-06T08:32:26.831Z"
   },
   {
    "duration": 14,
    "start_time": "2023-04-06T08:32:26.840Z"
   },
   {
    "duration": 17,
    "start_time": "2023-04-06T08:32:26.855Z"
   },
   {
    "duration": 11,
    "start_time": "2023-04-06T08:32:26.873Z"
   },
   {
    "duration": 422,
    "start_time": "2023-04-06T08:32:26.885Z"
   },
   {
    "duration": 13,
    "start_time": "2023-04-06T08:32:27.308Z"
   },
   {
    "duration": 97,
    "start_time": "2023-04-06T08:32:27.322Z"
   },
   {
    "duration": 58,
    "start_time": "2023-04-06T08:32:27.421Z"
   },
   {
    "duration": 61,
    "start_time": "2023-04-06T08:32:27.481Z"
   },
   {
    "duration": 14,
    "start_time": "2023-04-06T08:32:27.543Z"
   },
   {
    "duration": 266,
    "start_time": "2023-04-06T08:32:27.558Z"
   },
   {
    "duration": 24,
    "start_time": "2023-04-06T08:32:27.826Z"
   },
   {
    "duration": 42,
    "start_time": "2023-04-06T08:32:27.852Z"
   },
   {
    "duration": 43,
    "start_time": "2023-04-06T08:32:27.896Z"
   },
   {
    "duration": 55,
    "start_time": "2023-04-06T08:32:27.941Z"
   },
   {
    "duration": 12,
    "start_time": "2023-04-06T08:32:27.998Z"
   },
   {
    "duration": 22,
    "start_time": "2023-04-06T08:32:28.012Z"
   },
   {
    "duration": 13,
    "start_time": "2023-04-06T08:32:28.035Z"
   },
   {
    "duration": 11,
    "start_time": "2023-04-06T08:32:28.049Z"
   },
   {
    "duration": 238,
    "start_time": "2023-04-06T08:32:28.061Z"
   },
   {
    "duration": 14,
    "start_time": "2023-04-06T08:32:28.301Z"
   },
   {
    "duration": 412,
    "start_time": "2023-04-06T08:32:28.316Z"
   },
   {
    "duration": 9,
    "start_time": "2023-04-06T08:32:28.730Z"
   },
   {
    "duration": 16,
    "start_time": "2023-04-06T08:32:28.741Z"
   },
   {
    "duration": 561,
    "start_time": "2023-04-06T08:32:28.758Z"
   },
   {
    "duration": 11,
    "start_time": "2023-04-06T08:32:29.320Z"
   },
   {
    "duration": 76,
    "start_time": "2023-04-06T08:32:29.332Z"
   },
   {
    "duration": 31,
    "start_time": "2023-04-06T08:32:29.409Z"
   },
   {
    "duration": 156,
    "start_time": "2023-04-06T08:32:29.442Z"
   },
   {
    "duration": 9084,
    "start_time": "2023-04-06T08:32:29.600Z"
   },
   {
    "duration": 16,
    "start_time": "2023-04-06T08:32:38.691Z"
   },
   {
    "duration": 93,
    "start_time": "2023-04-06T08:32:38.709Z"
   },
   {
    "duration": 13,
    "start_time": "2023-04-06T08:32:38.804Z"
   },
   {
    "duration": 8,
    "start_time": "2023-04-06T08:32:38.819Z"
   },
   {
    "duration": 64,
    "start_time": "2023-04-06T08:32:38.829Z"
   },
   {
    "duration": 767,
    "start_time": "2023-04-06T08:32:38.894Z"
   },
   {
    "duration": 27,
    "start_time": "2023-04-06T08:32:39.662Z"
   },
   {
    "duration": 41,
    "start_time": "2023-04-06T08:32:39.690Z"
   },
   {
    "duration": 472,
    "start_time": "2023-04-06T08:32:39.733Z"
   },
   {
    "duration": 10,
    "start_time": "2023-04-06T08:32:40.206Z"
   },
   {
    "duration": 13,
    "start_time": "2023-04-06T08:32:40.217Z"
   },
   {
    "duration": 14,
    "start_time": "2023-04-06T08:32:40.231Z"
   },
   {
    "duration": 159,
    "start_time": "2023-04-06T08:32:40.246Z"
   },
   {
    "duration": 22,
    "start_time": "2023-04-06T08:32:40.407Z"
   },
   {
    "duration": 3,
    "start_time": "2023-04-06T08:32:40.430Z"
   },
   {
    "duration": 11,
    "start_time": "2023-04-06T08:32:40.435Z"
   },
   {
    "duration": 47,
    "start_time": "2023-04-06T08:32:40.447Z"
   },
   {
    "duration": 210,
    "start_time": "2023-04-06T08:32:40.496Z"
   },
   {
    "duration": 100,
    "start_time": "2023-04-06T08:32:40.708Z"
   },
   {
    "duration": 1574,
    "start_time": "2023-04-06T08:32:40.810Z"
   },
   {
    "duration": 16,
    "start_time": "2023-04-06T08:32:42.386Z"
   },
   {
    "duration": 39,
    "start_time": "2023-04-06T08:32:42.404Z"
   },
   {
    "duration": 49,
    "start_time": "2023-04-06T08:32:42.474Z"
   },
   {
    "duration": 11,
    "start_time": "2023-04-06T08:32:42.525Z"
   },
   {
    "duration": 60,
    "start_time": "2023-04-06T08:32:42.537Z"
   },
   {
    "duration": 21,
    "start_time": "2023-04-06T08:32:42.599Z"
   },
   {
    "duration": 18,
    "start_time": "2023-04-06T08:32:42.621Z"
   },
   {
    "duration": 20,
    "start_time": "2023-04-06T08:32:42.640Z"
   },
   {
    "duration": 36,
    "start_time": "2023-04-06T08:32:42.661Z"
   },
   {
    "duration": 14,
    "start_time": "2023-04-06T08:32:42.699Z"
   },
   {
    "duration": 215,
    "start_time": "2023-04-06T08:32:42.715Z"
   },
   {
    "duration": 1816,
    "start_time": "2023-04-06T08:52:30.003Z"
   },
   {
    "duration": 267,
    "start_time": "2023-04-06T08:52:31.821Z"
   },
   {
    "duration": 5,
    "start_time": "2023-04-06T08:52:32.089Z"
   },
   {
    "duration": 163,
    "start_time": "2023-04-06T08:52:32.096Z"
   },
   {
    "duration": 15,
    "start_time": "2023-04-06T08:52:32.260Z"
   },
   {
    "duration": 73,
    "start_time": "2023-04-06T08:52:32.277Z"
   },
   {
    "duration": 9,
    "start_time": "2023-04-06T08:52:32.352Z"
   },
   {
    "duration": 36,
    "start_time": "2023-04-06T08:52:32.363Z"
   },
   {
    "duration": 28,
    "start_time": "2023-04-06T08:52:32.401Z"
   },
   {
    "duration": 49,
    "start_time": "2023-04-06T08:52:32.432Z"
   },
   {
    "duration": 36,
    "start_time": "2023-04-06T08:52:32.483Z"
   },
   {
    "duration": 4,
    "start_time": "2023-04-06T08:52:32.521Z"
   },
   {
    "duration": 32,
    "start_time": "2023-04-06T08:52:32.527Z"
   },
   {
    "duration": 16,
    "start_time": "2023-04-06T08:52:32.562Z"
   },
   {
    "duration": 22,
    "start_time": "2023-04-06T08:52:32.580Z"
   },
   {
    "duration": 36,
    "start_time": "2023-04-06T08:52:32.603Z"
   },
   {
    "duration": 56,
    "start_time": "2023-04-06T08:52:32.642Z"
   },
   {
    "duration": 22,
    "start_time": "2023-04-06T08:52:32.700Z"
   },
   {
    "duration": 3,
    "start_time": "2023-04-06T08:52:32.724Z"
   },
   {
    "duration": 171,
    "start_time": "2023-04-06T08:52:32.729Z"
   },
   {
    "duration": 6,
    "start_time": "2023-04-06T08:52:32.902Z"
   },
   {
    "duration": 108,
    "start_time": "2023-04-06T08:52:32.909Z"
   },
   {
    "duration": 8,
    "start_time": "2023-04-06T08:52:33.019Z"
   },
   {
    "duration": 26,
    "start_time": "2023-04-06T08:52:33.034Z"
   },
   {
    "duration": 23,
    "start_time": "2023-04-06T08:52:33.062Z"
   },
   {
    "duration": 260,
    "start_time": "2023-04-06T08:52:33.087Z"
   },
   {
    "duration": 17,
    "start_time": "2023-04-06T08:52:33.350Z"
   },
   {
    "duration": 15,
    "start_time": "2023-04-06T08:52:33.371Z"
   },
   {
    "duration": 26,
    "start_time": "2023-04-06T08:52:33.387Z"
   },
   {
    "duration": 6,
    "start_time": "2023-04-06T08:52:33.414Z"
   },
   {
    "duration": 29,
    "start_time": "2023-04-06T08:52:33.421Z"
   },
   {
    "duration": 24,
    "start_time": "2023-04-06T08:52:33.453Z"
   },
   {
    "duration": 10,
    "start_time": "2023-04-06T08:52:33.478Z"
   },
   {
    "duration": 476,
    "start_time": "2023-04-06T08:52:33.489Z"
   },
   {
    "duration": 13,
    "start_time": "2023-04-06T08:52:33.967Z"
   },
   {
    "duration": 97,
    "start_time": "2023-04-06T08:52:33.981Z"
   },
   {
    "duration": 11,
    "start_time": "2023-04-06T08:52:34.080Z"
   },
   {
    "duration": 69,
    "start_time": "2023-04-06T08:52:34.092Z"
   },
   {
    "duration": 25,
    "start_time": "2023-04-06T08:52:34.163Z"
   },
   {
    "duration": 292,
    "start_time": "2023-04-06T08:52:34.190Z"
   },
   {
    "duration": 26,
    "start_time": "2023-04-06T08:52:34.483Z"
   },
   {
    "duration": 32,
    "start_time": "2023-04-06T08:52:34.511Z"
   },
   {
    "duration": 56,
    "start_time": "2023-04-06T08:52:34.546Z"
   },
   {
    "duration": 68,
    "start_time": "2023-04-06T08:52:34.605Z"
   },
   {
    "duration": 14,
    "start_time": "2023-04-06T08:52:34.675Z"
   },
   {
    "duration": 13,
    "start_time": "2023-04-06T08:52:34.691Z"
   },
   {
    "duration": 34,
    "start_time": "2023-04-06T08:52:34.705Z"
   },
   {
    "duration": 30,
    "start_time": "2023-04-06T08:52:34.743Z"
   },
   {
    "duration": 235,
    "start_time": "2023-04-06T08:52:34.775Z"
   },
   {
    "duration": 24,
    "start_time": "2023-04-06T08:52:35.011Z"
   },
   {
    "duration": 468,
    "start_time": "2023-04-06T08:52:35.037Z"
   },
   {
    "duration": 9,
    "start_time": "2023-04-06T08:52:35.506Z"
   },
   {
    "duration": 29,
    "start_time": "2023-04-06T08:52:35.516Z"
   },
   {
    "duration": 621,
    "start_time": "2023-04-06T08:52:35.548Z"
   },
   {
    "duration": 12,
    "start_time": "2023-04-06T08:52:36.170Z"
   },
   {
    "duration": 58,
    "start_time": "2023-04-06T08:52:36.183Z"
   },
   {
    "duration": 19,
    "start_time": "2023-04-06T08:52:36.243Z"
   },
   {
    "duration": 204,
    "start_time": "2023-04-06T08:52:36.264Z"
   },
   {
    "duration": 10065,
    "start_time": "2023-04-06T08:52:36.469Z"
   },
   {
    "duration": 25,
    "start_time": "2023-04-06T08:52:46.536Z"
   },
   {
    "duration": 105,
    "start_time": "2023-04-06T08:52:46.563Z"
   },
   {
    "duration": 67,
    "start_time": "2023-04-06T08:52:46.670Z"
   },
   {
    "duration": 18,
    "start_time": "2023-04-06T08:52:46.739Z"
   },
   {
    "duration": 20,
    "start_time": "2023-04-06T08:52:46.759Z"
   },
   {
    "duration": 783,
    "start_time": "2023-04-06T08:52:46.780Z"
   },
   {
    "duration": 17,
    "start_time": "2023-04-06T08:52:47.565Z"
   },
   {
    "duration": 52,
    "start_time": "2023-04-06T08:52:47.584Z"
   },
   {
    "duration": 503,
    "start_time": "2023-04-06T08:52:47.637Z"
   },
   {
    "duration": 13,
    "start_time": "2023-04-06T08:52:48.143Z"
   },
   {
    "duration": 29,
    "start_time": "2023-04-06T08:52:48.159Z"
   },
   {
    "duration": 15,
    "start_time": "2023-04-06T08:52:48.189Z"
   },
   {
    "duration": 119,
    "start_time": "2023-04-06T08:52:48.205Z"
   },
   {
    "duration": 47,
    "start_time": "2023-04-06T08:52:48.325Z"
   },
   {
    "duration": 3,
    "start_time": "2023-04-06T08:52:48.373Z"
   },
   {
    "duration": 12,
    "start_time": "2023-04-06T08:52:48.377Z"
   },
   {
    "duration": 14,
    "start_time": "2023-04-06T08:52:48.391Z"
   },
   {
    "duration": 236,
    "start_time": "2023-04-06T08:52:48.434Z"
   },
   {
    "duration": 111,
    "start_time": "2023-04-06T08:52:48.672Z"
   },
   {
    "duration": 1752,
    "start_time": "2023-04-06T08:52:48.785Z"
   },
   {
    "duration": 12,
    "start_time": "2023-04-06T08:52:50.538Z"
   },
   {
    "duration": 42,
    "start_time": "2023-04-06T08:52:50.552Z"
   },
   {
    "duration": 58,
    "start_time": "2023-04-06T08:52:50.598Z"
   },
   {
    "duration": 25,
    "start_time": "2023-04-06T08:52:50.658Z"
   },
   {
    "duration": 33,
    "start_time": "2023-04-06T08:52:50.684Z"
   },
   {
    "duration": 18,
    "start_time": "2023-04-06T08:52:50.718Z"
   },
   {
    "duration": 12,
    "start_time": "2023-04-06T08:52:50.738Z"
   },
   {
    "duration": 23,
    "start_time": "2023-04-06T08:52:50.751Z"
   },
   {
    "duration": 10,
    "start_time": "2023-04-06T08:52:50.775Z"
   },
   {
    "duration": 12,
    "start_time": "2023-04-06T08:52:50.786Z"
   },
   {
    "duration": 238,
    "start_time": "2023-04-06T08:52:50.799Z"
   },
   {
    "duration": 13,
    "start_time": "2023-04-06T08:57:27.828Z"
   },
   {
    "duration": 27,
    "start_time": "2023-04-06T08:58:21.991Z"
   },
   {
    "duration": 1925,
    "start_time": "2023-04-07T01:29:50.852Z"
   },
   {
    "duration": 118,
    "start_time": "2023-04-07T01:29:52.787Z"
   },
   {
    "duration": 5,
    "start_time": "2023-04-07T01:29:52.908Z"
   },
   {
    "duration": 131,
    "start_time": "2023-04-07T01:29:52.914Z"
   },
   {
    "duration": 11,
    "start_time": "2023-04-07T01:29:53.047Z"
   },
   {
    "duration": 79,
    "start_time": "2023-04-07T01:29:53.059Z"
   },
   {
    "duration": 8,
    "start_time": "2023-04-07T01:29:53.140Z"
   },
   {
    "duration": 51,
    "start_time": "2023-04-07T01:29:53.150Z"
   },
   {
    "duration": 17,
    "start_time": "2023-04-07T01:29:53.207Z"
   },
   {
    "duration": 21,
    "start_time": "2023-04-07T01:29:53.225Z"
   },
   {
    "duration": 30,
    "start_time": "2023-04-07T01:29:53.247Z"
   },
   {
    "duration": 13,
    "start_time": "2023-04-07T01:29:53.291Z"
   },
   {
    "duration": 8,
    "start_time": "2023-04-07T01:29:53.305Z"
   },
   {
    "duration": 17,
    "start_time": "2023-04-07T01:29:53.315Z"
   },
   {
    "duration": 2,
    "start_time": "2023-04-07T01:29:53.334Z"
   },
   {
    "duration": 11,
    "start_time": "2023-04-07T01:29:53.338Z"
   },
   {
    "duration": 31,
    "start_time": "2023-04-07T01:29:53.350Z"
   },
   {
    "duration": 36,
    "start_time": "2023-04-07T01:29:53.383Z"
   },
   {
    "duration": 5,
    "start_time": "2023-04-07T01:29:53.421Z"
   },
   {
    "duration": 184,
    "start_time": "2023-04-07T01:29:53.427Z"
   },
   {
    "duration": 7,
    "start_time": "2023-04-07T01:29:53.613Z"
   },
   {
    "duration": 128,
    "start_time": "2023-04-07T01:29:53.622Z"
   },
   {
    "duration": 9,
    "start_time": "2023-04-07T01:29:53.751Z"
   },
   {
    "duration": 28,
    "start_time": "2023-04-07T01:29:53.761Z"
   },
   {
    "duration": 23,
    "start_time": "2023-04-07T01:29:53.795Z"
   },
   {
    "duration": 247,
    "start_time": "2023-04-07T01:29:53.820Z"
   },
   {
    "duration": 31,
    "start_time": "2023-04-07T01:29:54.074Z"
   },
   {
    "duration": 5,
    "start_time": "2023-04-07T01:29:54.111Z"
   },
   {
    "duration": 21,
    "start_time": "2023-04-07T01:29:54.117Z"
   },
   {
    "duration": 16,
    "start_time": "2023-04-07T01:29:54.139Z"
   },
   {
    "duration": 8,
    "start_time": "2023-04-07T01:29:54.156Z"
   },
   {
    "duration": 32,
    "start_time": "2023-04-07T01:29:54.165Z"
   },
   {
    "duration": 8,
    "start_time": "2023-04-07T01:29:54.206Z"
   },
   {
    "duration": 532,
    "start_time": "2023-04-07T01:29:54.216Z"
   },
   {
    "duration": 14,
    "start_time": "2023-04-07T01:29:54.749Z"
   },
   {
    "duration": 129,
    "start_time": "2023-04-07T01:29:54.764Z"
   },
   {
    "duration": 17,
    "start_time": "2023-04-07T01:29:54.896Z"
   },
   {
    "duration": 34,
    "start_time": "2023-04-07T01:29:54.915Z"
   },
   {
    "duration": 54,
    "start_time": "2023-04-07T01:29:54.951Z"
   },
   {
    "duration": 340,
    "start_time": "2023-04-07T01:29:55.008Z"
   },
   {
    "duration": 55,
    "start_time": "2023-04-07T01:29:55.353Z"
   },
   {
    "duration": 17,
    "start_time": "2023-04-07T01:29:55.411Z"
   },
   {
    "duration": 65,
    "start_time": "2023-04-07T01:29:55.430Z"
   },
   {
    "duration": 40,
    "start_time": "2023-04-07T01:29:55.497Z"
   },
   {
    "duration": 11,
    "start_time": "2023-04-07T01:29:55.539Z"
   },
   {
    "duration": 11,
    "start_time": "2023-04-07T01:29:55.551Z"
   },
   {
    "duration": 36,
    "start_time": "2023-04-07T01:29:55.563Z"
   },
   {
    "duration": 12,
    "start_time": "2023-04-07T01:29:55.602Z"
   },
   {
    "duration": 288,
    "start_time": "2023-04-07T01:29:55.616Z"
   },
   {
    "duration": 13,
    "start_time": "2023-04-07T01:29:55.909Z"
   },
   {
    "duration": 477,
    "start_time": "2023-04-07T01:29:55.924Z"
   },
   {
    "duration": 9,
    "start_time": "2023-04-07T01:29:56.408Z"
   },
   {
    "duration": 21,
    "start_time": "2023-04-07T01:29:56.418Z"
   },
   {
    "duration": 697,
    "start_time": "2023-04-07T01:29:56.440Z"
   },
   {
    "duration": 11,
    "start_time": "2023-04-07T01:29:57.138Z"
   },
   {
    "duration": 68,
    "start_time": "2023-04-07T01:29:57.151Z"
   },
   {
    "duration": 11,
    "start_time": "2023-04-07T01:29:57.220Z"
   },
   {
    "duration": 253,
    "start_time": "2023-04-07T01:29:57.232Z"
   },
   {
    "duration": 10229,
    "start_time": "2023-04-07T01:29:57.504Z"
   },
   {
    "duration": 70,
    "start_time": "2023-04-07T01:30:07.735Z"
   },
   {
    "duration": 88,
    "start_time": "2023-04-07T01:30:07.817Z"
   },
   {
    "duration": 18,
    "start_time": "2023-04-07T01:30:07.911Z"
   },
   {
    "duration": 20,
    "start_time": "2023-04-07T01:30:07.930Z"
   },
   {
    "duration": 36,
    "start_time": "2023-04-07T01:30:07.980Z"
   },
   {
    "duration": 781,
    "start_time": "2023-04-07T01:30:08.017Z"
   },
   {
    "duration": 19,
    "start_time": "2023-04-07T01:30:08.803Z"
   },
   {
    "duration": 29,
    "start_time": "2023-04-07T01:30:08.823Z"
   },
   {
    "duration": 584,
    "start_time": "2023-04-07T01:30:08.854Z"
   },
   {
    "duration": 12,
    "start_time": "2023-04-07T01:30:09.440Z"
   },
   {
    "duration": 16,
    "start_time": "2023-04-07T01:30:09.453Z"
   },
   {
    "duration": 28,
    "start_time": "2023-04-07T01:30:09.486Z"
   },
   {
    "duration": 114,
    "start_time": "2023-04-07T01:30:09.515Z"
   },
   {
    "duration": 24,
    "start_time": "2023-04-07T01:30:09.631Z"
   },
   {
    "duration": 35,
    "start_time": "2023-04-07T01:30:09.656Z"
   },
   {
    "duration": 14,
    "start_time": "2023-04-07T01:30:09.692Z"
   },
   {
    "duration": 11,
    "start_time": "2023-04-07T01:30:09.707Z"
   },
   {
    "duration": 247,
    "start_time": "2023-04-07T01:30:09.720Z"
   },
   {
    "duration": 99,
    "start_time": "2023-04-07T01:30:09.986Z"
   },
   {
    "duration": 2028,
    "start_time": "2023-04-07T01:30:10.087Z"
   },
   {
    "duration": 11,
    "start_time": "2023-04-07T01:30:12.119Z"
   },
   {
    "duration": 86,
    "start_time": "2023-04-07T01:30:12.131Z"
   },
   {
    "duration": 21,
    "start_time": "2023-04-07T01:30:12.219Z"
   },
   {
    "duration": 11,
    "start_time": "2023-04-07T01:30:12.241Z"
   },
   {
    "duration": 59,
    "start_time": "2023-04-07T01:30:12.253Z"
   },
   {
    "duration": 10,
    "start_time": "2023-04-07T01:30:12.313Z"
   },
   {
    "duration": 27,
    "start_time": "2023-04-07T01:30:12.325Z"
   },
   {
    "duration": 46,
    "start_time": "2023-04-07T01:30:12.353Z"
   },
   {
    "duration": 25,
    "start_time": "2023-04-07T01:30:12.402Z"
   },
   {
    "duration": 13,
    "start_time": "2023-04-07T01:30:12.429Z"
   },
   {
    "duration": 295,
    "start_time": "2023-04-07T01:30:12.443Z"
   },
   {
    "duration": 62,
    "start_time": "2023-04-07T01:32:47.432Z"
   },
   {
    "duration": 10,
    "start_time": "2023-04-07T01:32:51.487Z"
   },
   {
    "duration": 12,
    "start_time": "2023-04-07T01:33:12.932Z"
   },
   {
    "duration": 8,
    "start_time": "2023-04-07T01:33:23.397Z"
   },
   {
    "duration": 180,
    "start_time": "2023-04-07T01:33:32.611Z"
   },
   {
    "duration": 14,
    "start_time": "2023-04-07T01:33:42.269Z"
   },
   {
    "duration": 23,
    "start_time": "2023-04-07T01:33:56.862Z"
   },
   {
    "duration": 12,
    "start_time": "2023-04-07T01:34:04.667Z"
   },
   {
    "duration": 9,
    "start_time": "2023-04-07T01:34:22.999Z"
   },
   {
    "duration": 12,
    "start_time": "2023-04-07T01:34:39.732Z"
   },
   {
    "duration": 5,
    "start_time": "2023-04-07T01:35:53.742Z"
   },
   {
    "duration": 15,
    "start_time": "2023-04-07T01:36:21.303Z"
   },
   {
    "duration": 11,
    "start_time": "2023-04-07T01:38:47.994Z"
   },
   {
    "duration": 10,
    "start_time": "2023-04-07T01:39:26.884Z"
   },
   {
    "duration": 5,
    "start_time": "2023-04-07T01:39:33.404Z"
   },
   {
    "duration": 20,
    "start_time": "2023-04-07T01:40:06.662Z"
   },
   {
    "duration": 10,
    "start_time": "2023-04-07T01:41:11.433Z"
   },
   {
    "duration": 10,
    "start_time": "2023-04-07T01:41:16.813Z"
   },
   {
    "duration": 16,
    "start_time": "2023-04-07T01:41:29.163Z"
   },
   {
    "duration": 3,
    "start_time": "2023-04-07T01:41:57.263Z"
   },
   {
    "duration": 26,
    "start_time": "2023-04-07T01:42:01.953Z"
   },
   {
    "duration": 23,
    "start_time": "2023-04-07T01:44:01.864Z"
   },
   {
    "duration": 10,
    "start_time": "2023-04-07T01:53:18.224Z"
   },
   {
    "duration": 25,
    "start_time": "2023-04-07T01:53:42.049Z"
   },
   {
    "duration": 11,
    "start_time": "2023-04-07T01:54:07.454Z"
   },
   {
    "duration": 290,
    "start_time": "2023-04-07T01:57:01.854Z"
   },
   {
    "duration": 117,
    "start_time": "2023-04-07T01:57:32.435Z"
   },
   {
    "duration": 4,
    "start_time": "2023-04-07T01:59:48.427Z"
   },
   {
    "duration": 8,
    "start_time": "2023-04-07T02:00:14.797Z"
   },
   {
    "duration": 9,
    "start_time": "2023-04-07T02:00:35.575Z"
   },
   {
    "duration": 4,
    "start_time": "2023-04-07T02:00:38.062Z"
   },
   {
    "duration": 4,
    "start_time": "2023-04-07T02:00:45.442Z"
   },
   {
    "duration": 4,
    "start_time": "2023-04-07T02:05:32.026Z"
   },
   {
    "duration": 130,
    "start_time": "2023-04-07T02:15:16.908Z"
   },
   {
    "duration": 17,
    "start_time": "2023-04-07T02:17:48.108Z"
   },
   {
    "duration": 3,
    "start_time": "2023-04-07T02:21:11.148Z"
   },
   {
    "duration": 86,
    "start_time": "2023-04-07T02:21:11.152Z"
   },
   {
    "duration": 6,
    "start_time": "2023-04-07T02:21:11.239Z"
   },
   {
    "duration": 120,
    "start_time": "2023-04-07T02:21:11.246Z"
   },
   {
    "duration": 33,
    "start_time": "2023-04-07T02:21:11.368Z"
   },
   {
    "duration": 15,
    "start_time": "2023-04-07T02:21:11.411Z"
   },
   {
    "duration": 0,
    "start_time": "2023-04-07T02:21:11.427Z"
   },
   {
    "duration": 0,
    "start_time": "2023-04-07T02:21:11.428Z"
   },
   {
    "duration": 7,
    "start_time": "2023-04-07T02:21:26.037Z"
   },
   {
    "duration": 7,
    "start_time": "2023-04-07T02:21:31.047Z"
   },
   {
    "duration": 12,
    "start_time": "2023-04-07T02:21:35.297Z"
   },
   {
    "duration": 17,
    "start_time": "2023-04-07T02:21:38.090Z"
   },
   {
    "duration": 15,
    "start_time": "2023-04-07T02:25:44.293Z"
   },
   {
    "duration": 10,
    "start_time": "2023-04-07T02:25:49.382Z"
   },
   {
    "duration": 9,
    "start_time": "2023-04-07T02:26:24.007Z"
   },
   {
    "duration": 9,
    "start_time": "2023-04-07T02:27:04.962Z"
   },
   {
    "duration": 72,
    "start_time": "2023-04-07T02:27:56.062Z"
   },
   {
    "duration": 6,
    "start_time": "2023-04-07T02:28:00.806Z"
   },
   {
    "duration": 286,
    "start_time": "2023-04-07T02:28:12.643Z"
   },
   {
    "duration": 12,
    "start_time": "2023-04-07T02:28:41.304Z"
   },
   {
    "duration": 9,
    "start_time": "2023-04-07T02:28:44.007Z"
   },
   {
    "duration": 7,
    "start_time": "2023-04-07T02:30:08.567Z"
   },
   {
    "duration": 11,
    "start_time": "2023-04-07T02:34:19.725Z"
   },
   {
    "duration": 12,
    "start_time": "2023-04-07T02:34:27.115Z"
   },
   {
    "duration": 24,
    "start_time": "2023-04-07T02:39:07.528Z"
   },
   {
    "duration": 18,
    "start_time": "2023-04-07T02:39:42.416Z"
   },
   {
    "duration": 8,
    "start_time": "2023-04-07T02:39:53.038Z"
   },
   {
    "duration": 10,
    "start_time": "2023-04-07T02:40:31.028Z"
   },
   {
    "duration": 28,
    "start_time": "2023-04-07T02:40:53.601Z"
   },
   {
    "duration": 97,
    "start_time": "2023-04-07T02:42:10.942Z"
   },
   {
    "duration": 23,
    "start_time": "2023-04-07T02:42:15.194Z"
   },
   {
    "duration": 24,
    "start_time": "2023-04-07T02:42:24.994Z"
   },
   {
    "duration": 27,
    "start_time": "2023-04-07T02:42:28.923Z"
   },
   {
    "duration": 18,
    "start_time": "2023-04-07T02:42:32.594Z"
   },
   {
    "duration": 3,
    "start_time": "2023-04-07T02:43:00.858Z"
   },
   {
    "duration": 64,
    "start_time": "2023-04-07T02:43:00.876Z"
   },
   {
    "duration": 4,
    "start_time": "2023-04-07T02:43:00.942Z"
   },
   {
    "duration": 168,
    "start_time": "2023-04-07T02:43:00.947Z"
   },
   {
    "duration": 11,
    "start_time": "2023-04-07T02:43:01.117Z"
   },
   {
    "duration": 26,
    "start_time": "2023-04-07T02:43:10.688Z"
   },
   {
    "duration": 15,
    "start_time": "2023-04-07T02:43:44.342Z"
   },
   {
    "duration": 14,
    "start_time": "2023-04-07T02:44:28.802Z"
   },
   {
    "duration": 30,
    "start_time": "2023-04-07T02:45:13.486Z"
   },
   {
    "duration": 23,
    "start_time": "2023-04-07T02:45:20.541Z"
   },
   {
    "duration": 37,
    "start_time": "2023-04-07T02:45:41.841Z"
   },
   {
    "duration": 20,
    "start_time": "2023-04-07T02:45:48.041Z"
   },
   {
    "duration": 40,
    "start_time": "2023-04-07T02:45:52.196Z"
   },
   {
    "duration": 20,
    "start_time": "2023-04-07T02:45:57.630Z"
   },
   {
    "duration": 4,
    "start_time": "2023-04-07T02:46:42.931Z"
   },
   {
    "duration": 17,
    "start_time": "2023-04-07T02:47:51.430Z"
   },
   {
    "duration": 17,
    "start_time": "2023-04-07T02:48:14.046Z"
   },
   {
    "duration": 18,
    "start_time": "2023-04-07T02:48:23.317Z"
   },
   {
    "duration": 16,
    "start_time": "2023-04-07T02:48:29.840Z"
   },
   {
    "duration": 15,
    "start_time": "2023-04-07T02:48:35.307Z"
   },
   {
    "duration": 16,
    "start_time": "2023-04-07T02:48:41.111Z"
   },
   {
    "duration": 77,
    "start_time": "2023-04-07T02:51:13.467Z"
   },
   {
    "duration": 57,
    "start_time": "2023-04-07T02:51:24.490Z"
   },
   {
    "duration": 289,
    "start_time": "2023-04-07T02:51:37.830Z"
   },
   {
    "duration": 5,
    "start_time": "2023-04-07T02:52:14.650Z"
   },
   {
    "duration": 4,
    "start_time": "2023-04-07T02:52:19.019Z"
   },
   {
    "duration": 19,
    "start_time": "2023-04-07T02:52:29.384Z"
   },
   {
    "duration": 4,
    "start_time": "2023-04-07T02:53:01.909Z"
   },
   {
    "duration": 54,
    "start_time": "2023-04-07T02:53:53.709Z"
   },
   {
    "duration": 22,
    "start_time": "2023-04-07T02:53:58.396Z"
   },
   {
    "duration": 20,
    "start_time": "2023-04-07T02:54:23.298Z"
   },
   {
    "duration": 7,
    "start_time": "2023-04-07T02:57:24.698Z"
   },
   {
    "duration": 27,
    "start_time": "2023-04-07T02:58:01.362Z"
   },
   {
    "duration": 8,
    "start_time": "2023-04-07T02:58:04.108Z"
   },
   {
    "duration": 11,
    "start_time": "2023-04-07T02:58:45.949Z"
   },
   {
    "duration": 5,
    "start_time": "2023-04-07T02:59:06.214Z"
   },
   {
    "duration": 14,
    "start_time": "2023-04-07T03:04:37.328Z"
   },
   {
    "duration": 103,
    "start_time": "2023-04-07T03:05:20.923Z"
   },
   {
    "duration": 14,
    "start_time": "2023-04-07T03:05:25.706Z"
   },
   {
    "duration": 10,
    "start_time": "2023-04-07T03:11:06.905Z"
   },
   {
    "duration": 5,
    "start_time": "2023-04-07T03:11:25.103Z"
   },
   {
    "duration": 22,
    "start_time": "2023-04-07T03:12:40.013Z"
   },
   {
    "duration": 21,
    "start_time": "2023-04-07T03:13:20.496Z"
   },
   {
    "duration": 24,
    "start_time": "2023-04-07T03:14:07.480Z"
   },
   {
    "duration": 31,
    "start_time": "2023-04-07T03:14:21.054Z"
   },
   {
    "duration": 27,
    "start_time": "2023-04-07T03:14:43.514Z"
   },
   {
    "duration": 17,
    "start_time": "2023-04-07T03:14:58.315Z"
   },
   {
    "duration": 17,
    "start_time": "2023-04-07T03:15:16.191Z"
   },
   {
    "duration": 20,
    "start_time": "2023-04-07T03:16:12.315Z"
   },
   {
    "duration": 21,
    "start_time": "2023-04-07T03:16:18.160Z"
   },
   {
    "duration": 16,
    "start_time": "2023-04-07T03:16:27.295Z"
   },
   {
    "duration": 16,
    "start_time": "2023-04-07T03:16:41.895Z"
   },
   {
    "duration": 24,
    "start_time": "2023-04-07T03:16:54.155Z"
   },
   {
    "duration": 16,
    "start_time": "2023-04-07T03:17:03.945Z"
   },
   {
    "duration": 15,
    "start_time": "2023-04-07T03:17:23.125Z"
   },
   {
    "duration": 4,
    "start_time": "2023-04-07T03:18:59.930Z"
   },
   {
    "duration": 5,
    "start_time": "2023-04-07T03:19:41.015Z"
   },
   {
    "duration": 13,
    "start_time": "2023-04-07T03:19:51.112Z"
   },
   {
    "duration": 10,
    "start_time": "2023-04-07T03:20:02.096Z"
   },
   {
    "duration": 5,
    "start_time": "2023-04-07T03:20:04.031Z"
   },
   {
    "duration": 5,
    "start_time": "2023-04-07T03:35:22.818Z"
   },
   {
    "duration": 9,
    "start_time": "2023-04-07T03:35:29.962Z"
   },
   {
    "duration": 8,
    "start_time": "2023-04-07T03:35:32.353Z"
   },
   {
    "duration": 5,
    "start_time": "2023-04-07T03:35:40.824Z"
   },
   {
    "duration": 5,
    "start_time": "2023-04-07T03:36:49.858Z"
   },
   {
    "duration": 5,
    "start_time": "2023-04-07T03:36:56.192Z"
   },
   {
    "duration": 9,
    "start_time": "2023-04-07T03:39:15.987Z"
   },
   {
    "duration": 13,
    "start_time": "2023-04-07T03:39:21.698Z"
   },
   {
    "duration": 7,
    "start_time": "2023-04-07T03:39:23.972Z"
   },
   {
    "duration": 52,
    "start_time": "2023-04-07T03:42:08.800Z"
   },
   {
    "duration": 831,
    "start_time": "2023-04-07T03:42:14.811Z"
   },
   {
    "duration": 7,
    "start_time": "2023-04-07T03:42:36.699Z"
   },
   {
    "duration": 16,
    "start_time": "2023-04-07T03:42:38.538Z"
   },
   {
    "duration": 13,
    "start_time": "2023-04-07T03:44:07.068Z"
   },
   {
    "duration": 27,
    "start_time": "2023-04-07T03:46:28.763Z"
   },
   {
    "duration": 14,
    "start_time": "2023-04-07T03:47:21.194Z"
   },
   {
    "duration": 17,
    "start_time": "2023-04-07T03:48:19.608Z"
   },
   {
    "duration": 157,
    "start_time": "2023-04-07T03:54:06.089Z"
   },
   {
    "duration": 144,
    "start_time": "2023-04-07T03:55:03.944Z"
   },
   {
    "duration": 153,
    "start_time": "2023-04-07T03:55:11.543Z"
   },
   {
    "duration": 198,
    "start_time": "2023-04-07T03:56:19.039Z"
   },
   {
    "duration": 198,
    "start_time": "2023-04-07T03:56:34.994Z"
   },
   {
    "duration": 11,
    "start_time": "2023-04-07T03:56:47.289Z"
   },
   {
    "duration": 221,
    "start_time": "2023-04-07T03:56:50.259Z"
   },
   {
    "duration": 4,
    "start_time": "2023-04-07T03:57:42.138Z"
   },
   {
    "duration": 68,
    "start_time": "2023-04-07T03:57:42.143Z"
   },
   {
    "duration": 5,
    "start_time": "2023-04-07T03:57:42.213Z"
   },
   {
    "duration": 123,
    "start_time": "2023-04-07T03:57:42.219Z"
   },
   {
    "duration": 33,
    "start_time": "2023-04-07T03:57:42.344Z"
   },
   {
    "duration": 25,
    "start_time": "2023-04-07T03:57:42.387Z"
   },
   {
    "duration": 5,
    "start_time": "2023-04-07T03:57:42.415Z"
   },
   {
    "duration": 8,
    "start_time": "2023-04-07T03:57:42.422Z"
   },
   {
    "duration": 7,
    "start_time": "2023-04-07T03:57:42.433Z"
   },
   {
    "duration": 6,
    "start_time": "2023-04-07T03:57:42.441Z"
   },
   {
    "duration": 36,
    "start_time": "2023-04-07T03:57:42.449Z"
   },
   {
    "duration": 9,
    "start_time": "2023-04-07T03:57:42.488Z"
   },
   {
    "duration": 17,
    "start_time": "2023-04-07T03:57:42.498Z"
   },
   {
    "duration": 5,
    "start_time": "2023-04-07T03:57:42.517Z"
   },
   {
    "duration": 21,
    "start_time": "2023-04-07T03:57:42.524Z"
   },
   {
    "duration": 81,
    "start_time": "2023-04-07T03:57:42.547Z"
   },
   {
    "duration": 9,
    "start_time": "2023-04-07T03:57:42.630Z"
   },
   {
    "duration": 17,
    "start_time": "2023-04-07T03:57:42.640Z"
   },
   {
    "duration": 37,
    "start_time": "2023-04-07T03:57:42.658Z"
   },
   {
    "duration": 27,
    "start_time": "2023-04-07T03:57:42.696Z"
   },
   {
    "duration": 12,
    "start_time": "2023-04-07T03:57:42.725Z"
   },
   {
    "duration": 5,
    "start_time": "2023-04-07T03:57:42.738Z"
   },
   {
    "duration": 36,
    "start_time": "2023-04-07T03:57:42.744Z"
   },
   {
    "duration": 23,
    "start_time": "2023-04-07T03:57:42.784Z"
   },
   {
    "duration": 3,
    "start_time": "2023-04-07T03:57:42.809Z"
   },
   {
    "duration": 12,
    "start_time": "2023-04-07T03:57:42.813Z"
   },
   {
    "duration": 50,
    "start_time": "2023-04-07T03:57:42.827Z"
   },
   {
    "duration": 18,
    "start_time": "2023-04-07T03:57:42.879Z"
   },
   {
    "duration": 6,
    "start_time": "2023-04-07T03:57:42.898Z"
   },
   {
    "duration": 191,
    "start_time": "2023-04-07T03:57:42.905Z"
   },
   {
    "duration": 7,
    "start_time": "2023-04-07T03:57:43.098Z"
   },
   {
    "duration": 116,
    "start_time": "2023-04-07T03:57:43.106Z"
   },
   {
    "duration": 9,
    "start_time": "2023-04-07T03:57:43.223Z"
   },
   {
    "duration": 26,
    "start_time": "2023-04-07T03:57:43.233Z"
   },
   {
    "duration": 15,
    "start_time": "2023-04-07T03:57:43.261Z"
   },
   {
    "duration": 28,
    "start_time": "2023-04-07T03:57:43.280Z"
   },
   {
    "duration": 235,
    "start_time": "2023-04-07T03:57:43.309Z"
   },
   {
    "duration": 12,
    "start_time": "2023-04-07T03:57:43.546Z"
   },
   {
    "duration": 23,
    "start_time": "2023-04-07T03:57:43.573Z"
   },
   {
    "duration": 18,
    "start_time": "2023-04-07T03:57:43.598Z"
   },
   {
    "duration": 9,
    "start_time": "2023-04-07T03:57:43.617Z"
   },
   {
    "duration": 20,
    "start_time": "2023-04-07T03:57:43.627Z"
   },
   {
    "duration": 11,
    "start_time": "2023-04-07T03:57:43.649Z"
   },
   {
    "duration": 8,
    "start_time": "2023-04-07T03:57:43.663Z"
   },
   {
    "duration": 18,
    "start_time": "2023-04-07T03:57:43.678Z"
   },
   {
    "duration": 7,
    "start_time": "2023-04-07T03:57:43.697Z"
   },
   {
    "duration": 35,
    "start_time": "2023-04-07T03:57:43.706Z"
   },
   {
    "duration": 248,
    "start_time": "2023-04-07T03:57:43.743Z"
   },
   {
    "duration": 228,
    "start_time": "2023-04-07T03:59:04.758Z"
   },
   {
    "duration": 3,
    "start_time": "2023-04-07T04:00:01.599Z"
   },
   {
    "duration": 12,
    "start_time": "2023-04-07T04:00:05.990Z"
   },
   {
    "duration": 221,
    "start_time": "2023-04-07T04:00:09.229Z"
   },
   {
    "duration": 25,
    "start_time": "2023-04-07T04:03:07.902Z"
   },
   {
    "duration": 6,
    "start_time": "2023-04-07T04:04:15.729Z"
   },
   {
    "duration": 20,
    "start_time": "2023-04-07T04:04:21.059Z"
   },
   {
    "duration": 10,
    "start_time": "2023-04-07T04:05:24.019Z"
   },
   {
    "duration": 11,
    "start_time": "2023-04-07T04:05:38.638Z"
   },
   {
    "duration": 229,
    "start_time": "2023-04-07T04:06:19.498Z"
   },
   {
    "duration": 225,
    "start_time": "2023-04-07T04:07:05.949Z"
   },
   {
    "duration": 1517,
    "start_time": "2023-04-07T04:11:47.596Z"
   },
   {
    "duration": 60,
    "start_time": "2023-04-07T04:11:49.116Z"
   },
   {
    "duration": 7,
    "start_time": "2023-04-07T04:11:49.178Z"
   },
   {
    "duration": 119,
    "start_time": "2023-04-07T04:11:49.191Z"
   },
   {
    "duration": 12,
    "start_time": "2023-04-07T04:11:49.312Z"
   },
   {
    "duration": 15,
    "start_time": "2023-04-07T04:11:49.325Z"
   },
   {
    "duration": 4,
    "start_time": "2023-04-07T04:11:49.342Z"
   },
   {
    "duration": 28,
    "start_time": "2023-04-07T04:11:49.347Z"
   },
   {
    "duration": 12,
    "start_time": "2023-04-07T04:11:49.387Z"
   },
   {
    "duration": 9,
    "start_time": "2023-04-07T04:11:49.400Z"
   },
   {
    "duration": 27,
    "start_time": "2023-04-07T04:11:49.411Z"
   },
   {
    "duration": 38,
    "start_time": "2023-04-07T04:11:49.440Z"
   },
   {
    "duration": 27,
    "start_time": "2023-04-07T04:11:49.481Z"
   },
   {
    "duration": 5,
    "start_time": "2023-04-07T04:11:49.511Z"
   },
   {
    "duration": 19,
    "start_time": "2023-04-07T04:11:49.518Z"
   },
   {
    "duration": 57,
    "start_time": "2023-04-07T04:11:49.539Z"
   },
   {
    "duration": 8,
    "start_time": "2023-04-07T04:11:49.598Z"
   },
   {
    "duration": 18,
    "start_time": "2023-04-07T04:11:49.608Z"
   },
   {
    "duration": 15,
    "start_time": "2023-04-07T04:11:49.627Z"
   },
   {
    "duration": 56,
    "start_time": "2023-04-07T04:11:49.643Z"
   },
   {
    "duration": 12,
    "start_time": "2023-04-07T04:11:49.700Z"
   },
   {
    "duration": 7,
    "start_time": "2023-04-07T04:11:49.713Z"
   },
   {
    "duration": 12,
    "start_time": "2023-04-07T04:11:49.721Z"
   },
   {
    "duration": 15,
    "start_time": "2023-04-07T04:11:49.735Z"
   },
   {
    "duration": 3,
    "start_time": "2023-04-07T04:11:49.752Z"
   },
   {
    "duration": 13,
    "start_time": "2023-04-07T04:11:49.768Z"
   },
   {
    "duration": 29,
    "start_time": "2023-04-07T04:11:49.787Z"
   },
   {
    "duration": 11,
    "start_time": "2023-04-07T04:11:49.818Z"
   },
   {
    "duration": 15,
    "start_time": "2023-04-07T04:11:49.831Z"
   },
   {
    "duration": 161,
    "start_time": "2023-04-07T04:11:49.848Z"
   },
   {
    "duration": 6,
    "start_time": "2023-04-07T04:11:50.011Z"
   },
   {
    "duration": 106,
    "start_time": "2023-04-07T04:11:50.019Z"
   },
   {
    "duration": 8,
    "start_time": "2023-04-07T04:11:50.127Z"
   },
   {
    "duration": 15,
    "start_time": "2023-04-07T04:11:50.137Z"
   },
   {
    "duration": 23,
    "start_time": "2023-04-07T04:11:50.154Z"
   },
   {
    "duration": 22,
    "start_time": "2023-04-07T04:11:50.180Z"
   },
   {
    "duration": 239,
    "start_time": "2023-04-07T04:11:50.203Z"
   },
   {
    "duration": 32,
    "start_time": "2023-04-07T04:11:50.444Z"
   },
   {
    "duration": 15,
    "start_time": "2023-04-07T04:11:50.482Z"
   },
   {
    "duration": 18,
    "start_time": "2023-04-07T04:11:50.499Z"
   },
   {
    "duration": 5,
    "start_time": "2023-04-07T04:11:50.521Z"
   },
   {
    "duration": 21,
    "start_time": "2023-04-07T04:11:50.528Z"
   },
   {
    "duration": 15,
    "start_time": "2023-04-07T04:11:50.551Z"
   },
   {
    "duration": 15,
    "start_time": "2023-04-07T04:11:50.568Z"
   },
   {
    "duration": 12,
    "start_time": "2023-04-07T04:11:50.584Z"
   },
   {
    "duration": 8,
    "start_time": "2023-04-07T04:11:50.598Z"
   },
   {
    "duration": 420,
    "start_time": "2023-04-07T04:11:50.608Z"
   },
   {
    "duration": 277,
    "start_time": "2023-04-07T04:11:51.029Z"
   },
   {
    "duration": 15,
    "start_time": "2023-04-07T04:11:51.307Z"
   },
   {
    "duration": 77,
    "start_time": "2023-04-07T04:11:51.323Z"
   },
   {
    "duration": 11,
    "start_time": "2023-04-07T04:11:51.403Z"
   },
   {
    "duration": 61,
    "start_time": "2023-04-07T04:11:51.416Z"
   },
   {
    "duration": 27,
    "start_time": "2023-04-07T04:11:51.480Z"
   },
   {
    "duration": 249,
    "start_time": "2023-04-07T04:11:51.509Z"
   },
   {
    "duration": 29,
    "start_time": "2023-04-07T04:11:51.760Z"
   },
   {
    "duration": 300,
    "start_time": "2023-04-07T04:11:51.791Z"
   },
   {
    "duration": 31,
    "start_time": "2023-04-07T04:11:52.093Z"
   },
   {
    "duration": 15,
    "start_time": "2023-04-07T04:11:52.125Z"
   },
   {
    "duration": 67,
    "start_time": "2023-04-07T04:11:52.141Z"
   },
   {
    "duration": 30,
    "start_time": "2023-04-07T04:11:52.210Z"
   },
   {
    "duration": 9,
    "start_time": "2023-04-07T04:11:52.242Z"
   },
   {
    "duration": 28,
    "start_time": "2023-04-07T04:11:52.252Z"
   },
   {
    "duration": 22,
    "start_time": "2023-04-07T04:11:52.281Z"
   },
   {
    "duration": 20,
    "start_time": "2023-04-07T04:11:52.305Z"
   },
   {
    "duration": 276,
    "start_time": "2023-04-07T04:11:52.327Z"
   },
   {
    "duration": 14,
    "start_time": "2023-04-07T04:11:52.605Z"
   },
   {
    "duration": 536,
    "start_time": "2023-04-07T04:11:52.620Z"
   },
   {
    "duration": 32,
    "start_time": "2023-04-07T04:11:53.158Z"
   },
   {
    "duration": 22,
    "start_time": "2023-04-07T04:11:53.193Z"
   },
   {
    "duration": 479,
    "start_time": "2023-04-07T04:11:53.216Z"
   },
   {
    "duration": 15,
    "start_time": "2023-04-07T04:11:53.697Z"
   },
   {
    "duration": 69,
    "start_time": "2023-04-07T04:11:53.714Z"
   },
   {
    "duration": 19,
    "start_time": "2023-04-07T04:11:53.785Z"
   },
   {
    "duration": 121,
    "start_time": "2023-04-07T04:11:53.806Z"
   },
   {
    "duration": 9572,
    "start_time": "2023-04-07T04:11:53.929Z"
   },
   {
    "duration": 14,
    "start_time": "2023-04-07T04:12:03.503Z"
   },
   {
    "duration": 80,
    "start_time": "2023-04-07T04:12:03.518Z"
   },
   {
    "duration": 13,
    "start_time": "2023-04-07T04:12:03.600Z"
   },
   {
    "duration": 66,
    "start_time": "2023-04-07T04:12:03.614Z"
   },
   {
    "duration": 14,
    "start_time": "2023-04-07T04:12:03.682Z"
   },
   {
    "duration": 734,
    "start_time": "2023-04-07T04:12:03.698Z"
   },
   {
    "duration": 14,
    "start_time": "2023-04-07T04:12:04.433Z"
   },
   {
    "duration": 51,
    "start_time": "2023-04-07T04:12:04.449Z"
   },
   {
    "duration": 481,
    "start_time": "2023-04-07T04:12:04.502Z"
   },
   {
    "duration": 15,
    "start_time": "2023-04-07T04:12:04.985Z"
   },
   {
    "duration": 13,
    "start_time": "2023-04-07T04:12:05.002Z"
   },
   {
    "duration": 25,
    "start_time": "2023-04-07T04:12:05.016Z"
   },
   {
    "duration": 111,
    "start_time": "2023-04-07T04:12:05.042Z"
   },
   {
    "duration": 40,
    "start_time": "2023-04-07T04:12:05.155Z"
   },
   {
    "duration": 4,
    "start_time": "2023-04-07T04:12:05.197Z"
   },
   {
    "duration": 10,
    "start_time": "2023-04-07T04:12:05.202Z"
   },
   {
    "duration": 8,
    "start_time": "2023-04-07T04:12:05.214Z"
   },
   {
    "duration": 420,
    "start_time": "2023-04-07T04:12:05.223Z"
   },
   {
    "duration": 94,
    "start_time": "2023-04-07T04:12:05.645Z"
   },
   {
    "duration": 1492,
    "start_time": "2023-04-07T04:12:05.740Z"
   },
   {
    "duration": 11,
    "start_time": "2023-04-07T04:12:07.234Z"
   },
   {
    "duration": 62,
    "start_time": "2023-04-07T04:12:07.247Z"
   },
   {
    "duration": 21,
    "start_time": "2023-04-07T04:12:07.310Z"
   },
   {
    "duration": 38,
    "start_time": "2023-04-07T04:12:07.333Z"
   },
   {
    "duration": 40,
    "start_time": "2023-04-07T04:12:07.376Z"
   },
   {
    "duration": 8,
    "start_time": "2023-04-07T04:12:07.418Z"
   },
   {
    "duration": 11,
    "start_time": "2023-04-07T04:12:07.428Z"
   },
   {
    "duration": 56,
    "start_time": "2023-04-07T04:12:07.440Z"
   },
   {
    "duration": 11,
    "start_time": "2023-04-07T04:12:07.498Z"
   },
   {
    "duration": 24,
    "start_time": "2023-04-07T04:12:07.510Z"
   },
   {
    "duration": 209,
    "start_time": "2023-04-07T04:12:07.535Z"
   },
   {
    "duration": 54,
    "start_time": "2023-04-07T05:01:41.782Z"
   },
   {
    "duration": 14,
    "start_time": "2023-04-07T05:09:48.043Z"
   },
   {
    "duration": 44,
    "start_time": "2023-04-07T05:09:49.944Z"
   },
   {
    "duration": 1587,
    "start_time": "2023-04-07T05:12:37.159Z"
   },
   {
    "duration": 73,
    "start_time": "2023-04-07T05:12:38.748Z"
   },
   {
    "duration": 5,
    "start_time": "2023-04-07T05:12:38.824Z"
   },
   {
    "duration": 178,
    "start_time": "2023-04-07T05:12:38.832Z"
   },
   {
    "duration": 15,
    "start_time": "2023-04-07T05:12:39.012Z"
   },
   {
    "duration": 54,
    "start_time": "2023-04-07T05:12:39.032Z"
   },
   {
    "duration": 7,
    "start_time": "2023-04-07T05:12:39.088Z"
   },
   {
    "duration": 15,
    "start_time": "2023-04-07T05:12:39.097Z"
   },
   {
    "duration": 9,
    "start_time": "2023-04-07T05:12:39.115Z"
   },
   {
    "duration": 7,
    "start_time": "2023-04-07T05:12:39.128Z"
   },
   {
    "duration": 10,
    "start_time": "2023-04-07T05:12:39.138Z"
   },
   {
    "duration": 12,
    "start_time": "2023-04-07T05:12:39.172Z"
   },
   {
    "duration": 16,
    "start_time": "2023-04-07T05:12:39.191Z"
   },
   {
    "duration": 6,
    "start_time": "2023-04-07T05:12:39.209Z"
   },
   {
    "duration": 17,
    "start_time": "2023-04-07T05:12:39.216Z"
   },
   {
    "duration": 97,
    "start_time": "2023-04-07T05:12:39.235Z"
   },
   {
    "duration": 11,
    "start_time": "2023-04-07T05:12:39.334Z"
   },
   {
    "duration": 44,
    "start_time": "2023-04-07T05:12:39.348Z"
   },
   {
    "duration": 37,
    "start_time": "2023-04-07T05:12:39.394Z"
   },
   {
    "duration": 33,
    "start_time": "2023-04-07T05:12:39.433Z"
   },
   {
    "duration": 35,
    "start_time": "2023-04-07T05:12:39.468Z"
   },
   {
    "duration": 7,
    "start_time": "2023-04-07T05:12:39.508Z"
   },
   {
    "duration": 10,
    "start_time": "2023-04-07T05:12:39.517Z"
   },
   {
    "duration": 26,
    "start_time": "2023-04-07T05:12:39.529Z"
   },
   {
    "duration": 5,
    "start_time": "2023-04-07T05:12:39.557Z"
   },
   {
    "duration": 18,
    "start_time": "2023-04-07T05:12:39.568Z"
   },
   {
    "duration": 37,
    "start_time": "2023-04-07T05:12:39.588Z"
   },
   {
    "duration": 14,
    "start_time": "2023-04-07T05:12:39.631Z"
   },
   {
    "duration": 18,
    "start_time": "2023-04-07T05:12:39.647Z"
   },
   {
    "duration": 222,
    "start_time": "2023-04-07T05:12:39.668Z"
   },
   {
    "duration": 9,
    "start_time": "2023-04-07T05:12:39.892Z"
   },
   {
    "duration": 135,
    "start_time": "2023-04-07T05:12:39.902Z"
   },
   {
    "duration": 10,
    "start_time": "2023-04-07T05:12:40.039Z"
   },
   {
    "duration": 49,
    "start_time": "2023-04-07T05:12:40.051Z"
   },
   {
    "duration": 7,
    "start_time": "2023-04-07T05:12:40.102Z"
   },
   {
    "duration": 28,
    "start_time": "2023-04-07T05:12:40.111Z"
   },
   {
    "duration": 300,
    "start_time": "2023-04-07T05:12:40.142Z"
   },
   {
    "duration": 13,
    "start_time": "2023-04-07T05:12:40.444Z"
   },
   {
    "duration": 12,
    "start_time": "2023-04-07T05:12:40.470Z"
   },
   {
    "duration": 23,
    "start_time": "2023-04-07T05:12:40.484Z"
   },
   {
    "duration": 5,
    "start_time": "2023-04-07T05:12:40.509Z"
   },
   {
    "duration": 18,
    "start_time": "2023-04-07T05:12:40.515Z"
   },
   {
    "duration": 34,
    "start_time": "2023-04-07T05:12:40.535Z"
   },
   {
    "duration": 22,
    "start_time": "2023-04-07T05:12:40.576Z"
   },
   {
    "duration": 28,
    "start_time": "2023-04-07T05:12:40.600Z"
   },
   {
    "duration": 23,
    "start_time": "2023-04-07T05:12:40.630Z"
   },
   {
    "duration": 480,
    "start_time": "2023-04-07T05:12:40.654Z"
   },
   {
    "duration": 314,
    "start_time": "2023-04-07T05:12:41.136Z"
   },
   {
    "duration": 29,
    "start_time": "2023-04-07T05:12:41.453Z"
   },
   {
    "duration": 68,
    "start_time": "2023-04-07T05:12:41.484Z"
   },
   {
    "duration": 24,
    "start_time": "2023-04-07T05:12:41.557Z"
   },
   {
    "duration": 58,
    "start_time": "2023-04-07T05:12:41.583Z"
   },
   {
    "duration": 35,
    "start_time": "2023-04-07T05:12:41.645Z"
   },
   {
    "duration": 311,
    "start_time": "2023-04-07T05:12:41.687Z"
   },
   {
    "duration": 15,
    "start_time": "2023-04-07T05:12:42.000Z"
   },
   {
    "duration": 325,
    "start_time": "2023-04-07T05:12:42.017Z"
   },
   {
    "duration": 43,
    "start_time": "2023-04-07T05:12:42.344Z"
   },
   {
    "duration": 26,
    "start_time": "2023-04-07T05:12:42.394Z"
   },
   {
    "duration": 68,
    "start_time": "2023-04-07T05:12:42.434Z"
   },
   {
    "duration": 44,
    "start_time": "2023-04-07T05:12:42.504Z"
   },
   {
    "duration": 26,
    "start_time": "2023-04-07T05:12:42.550Z"
   },
   {
    "duration": 14,
    "start_time": "2023-04-07T05:12:42.578Z"
   },
   {
    "duration": 11,
    "start_time": "2023-04-07T05:12:42.593Z"
   },
   {
    "duration": 26,
    "start_time": "2023-04-07T05:12:42.606Z"
   },
   {
    "duration": 310,
    "start_time": "2023-04-07T05:12:42.634Z"
   },
   {
    "duration": 40,
    "start_time": "2023-04-07T05:12:42.947Z"
   },
   {
    "duration": 801,
    "start_time": "2023-04-07T05:12:42.993Z"
   },
   {
    "duration": 16,
    "start_time": "2023-04-07T05:12:43.797Z"
   },
   {
    "duration": 16,
    "start_time": "2023-04-07T05:12:43.818Z"
   },
   {
    "duration": 792,
    "start_time": "2023-04-07T05:12:43.838Z"
   },
   {
    "duration": 19,
    "start_time": "2023-04-07T05:12:44.633Z"
   },
   {
    "duration": 102,
    "start_time": "2023-04-07T05:12:44.654Z"
   },
   {
    "duration": 19,
    "start_time": "2023-04-07T05:12:44.758Z"
   },
   {
    "duration": 193,
    "start_time": "2023-04-07T05:12:44.779Z"
   },
   {
    "duration": 12338,
    "start_time": "2023-04-07T05:12:44.977Z"
   },
   {
    "duration": 62,
    "start_time": "2023-04-07T05:12:57.317Z"
   },
   {
    "duration": 95,
    "start_time": "2023-04-07T05:12:57.382Z"
   },
   {
    "duration": 17,
    "start_time": "2023-04-07T05:12:57.479Z"
   },
   {
    "duration": 10,
    "start_time": "2023-04-07T05:12:57.498Z"
   },
   {
    "duration": 62,
    "start_time": "2023-04-07T05:12:57.510Z"
   },
   {
    "duration": 775,
    "start_time": "2023-04-07T05:12:57.573Z"
   },
   {
    "duration": 36,
    "start_time": "2023-04-07T05:12:58.353Z"
   },
   {
    "duration": 52,
    "start_time": "2023-04-07T05:12:58.391Z"
   },
   {
    "duration": 570,
    "start_time": "2023-04-07T05:12:58.446Z"
   },
   {
    "duration": 20,
    "start_time": "2023-04-07T05:12:59.018Z"
   },
   {
    "duration": 45,
    "start_time": "2023-04-07T05:12:59.040Z"
   },
   {
    "duration": 22,
    "start_time": "2023-04-07T05:12:59.089Z"
   },
   {
    "duration": 116,
    "start_time": "2023-04-07T05:12:59.112Z"
   },
   {
    "duration": 54,
    "start_time": "2023-04-07T05:12:59.230Z"
   },
   {
    "duration": 7,
    "start_time": "2023-04-07T05:12:59.286Z"
   },
   {
    "duration": 16,
    "start_time": "2023-04-07T05:12:59.297Z"
   },
   {
    "duration": 13,
    "start_time": "2023-04-07T05:12:59.315Z"
   },
   {
    "duration": 481,
    "start_time": "2023-04-07T05:12:59.329Z"
   },
   {
    "duration": 112,
    "start_time": "2023-04-07T05:12:59.812Z"
   },
   {
    "duration": 1802,
    "start_time": "2023-04-07T05:12:59.926Z"
   },
   {
    "duration": 44,
    "start_time": "2023-04-07T05:13:01.731Z"
   },
   {
    "duration": 47,
    "start_time": "2023-04-07T05:13:01.781Z"
   },
   {
    "duration": 46,
    "start_time": "2023-04-07T05:13:01.830Z"
   },
   {
    "duration": 42,
    "start_time": "2023-04-07T05:13:01.877Z"
   },
   {
    "duration": 77,
    "start_time": "2023-04-07T05:13:01.920Z"
   },
   {
    "duration": 63,
    "start_time": "2023-04-07T05:13:01.999Z"
   },
   {
    "duration": 31,
    "start_time": "2023-04-07T05:13:02.064Z"
   },
   {
    "duration": 44,
    "start_time": "2023-04-07T05:13:02.097Z"
   },
   {
    "duration": 42,
    "start_time": "2023-04-07T05:13:02.143Z"
   },
   {
    "duration": 19,
    "start_time": "2023-04-07T05:13:02.188Z"
   },
   {
    "duration": 269,
    "start_time": "2023-04-07T05:13:02.209Z"
   },
   {
    "duration": 2240,
    "start_time": "2023-04-07T07:33:39.435Z"
   },
   {
    "duration": 287,
    "start_time": "2023-04-07T07:33:41.681Z"
   },
   {
    "duration": 6,
    "start_time": "2023-04-07T07:33:41.972Z"
   },
   {
    "duration": 189,
    "start_time": "2023-04-07T07:33:41.981Z"
   },
   {
    "duration": 28,
    "start_time": "2023-04-07T07:33:42.172Z"
   },
   {
    "duration": 54,
    "start_time": "2023-04-07T07:33:42.203Z"
   },
   {
    "duration": 6,
    "start_time": "2023-04-07T07:33:42.270Z"
   },
   {
    "duration": 24,
    "start_time": "2023-04-07T07:33:42.278Z"
   },
   {
    "duration": 34,
    "start_time": "2023-04-07T07:33:42.304Z"
   },
   {
    "duration": 41,
    "start_time": "2023-04-07T07:33:42.342Z"
   },
   {
    "duration": 37,
    "start_time": "2023-04-07T07:33:42.385Z"
   },
   {
    "duration": 46,
    "start_time": "2023-04-07T07:33:42.424Z"
   },
   {
    "duration": 43,
    "start_time": "2023-04-07T07:33:42.472Z"
   },
   {
    "duration": 9,
    "start_time": "2023-04-07T07:33:42.518Z"
   },
   {
    "duration": 50,
    "start_time": "2023-04-07T07:33:42.530Z"
   },
   {
    "duration": 78,
    "start_time": "2023-04-07T07:33:42.582Z"
   },
   {
    "duration": 16,
    "start_time": "2023-04-07T07:33:42.662Z"
   },
   {
    "duration": 56,
    "start_time": "2023-04-07T07:33:42.681Z"
   },
   {
    "duration": 33,
    "start_time": "2023-04-07T07:33:42.739Z"
   },
   {
    "duration": 42,
    "start_time": "2023-04-07T07:33:42.774Z"
   },
   {
    "duration": 14,
    "start_time": "2023-04-07T07:33:42.818Z"
   },
   {
    "duration": 89,
    "start_time": "2023-04-07T07:33:42.834Z"
   },
   {
    "duration": 41,
    "start_time": "2023-04-07T07:33:42.925Z"
   },
   {
    "duration": 38,
    "start_time": "2023-04-07T07:33:42.968Z"
   },
   {
    "duration": 5,
    "start_time": "2023-04-07T07:33:43.008Z"
   },
   {
    "duration": 19,
    "start_time": "2023-04-07T07:33:43.014Z"
   },
   {
    "duration": 64,
    "start_time": "2023-04-07T07:33:43.035Z"
   },
   {
    "duration": 22,
    "start_time": "2023-04-07T07:33:43.105Z"
   },
   {
    "duration": 11,
    "start_time": "2023-04-07T07:33:43.130Z"
   },
   {
    "duration": 235,
    "start_time": "2023-04-07T07:33:43.145Z"
   },
   {
    "duration": 8,
    "start_time": "2023-04-07T07:33:43.382Z"
   },
   {
    "duration": 132,
    "start_time": "2023-04-07T07:33:43.392Z"
   },
   {
    "duration": 15,
    "start_time": "2023-04-07T07:33:43.526Z"
   },
   {
    "duration": 60,
    "start_time": "2023-04-07T07:33:43.544Z"
   },
   {
    "duration": 9,
    "start_time": "2023-04-07T07:33:43.607Z"
   },
   {
    "duration": 46,
    "start_time": "2023-04-07T07:33:43.619Z"
   },
   {
    "duration": 315,
    "start_time": "2023-04-07T07:33:43.667Z"
   },
   {
    "duration": 15,
    "start_time": "2023-04-07T07:33:43.985Z"
   },
   {
    "duration": 58,
    "start_time": "2023-04-07T07:33:44.001Z"
   },
   {
    "duration": 47,
    "start_time": "2023-04-07T07:33:44.062Z"
   },
   {
    "duration": 12,
    "start_time": "2023-04-07T07:33:44.111Z"
   },
   {
    "duration": 48,
    "start_time": "2023-04-07T07:33:44.124Z"
   },
   {
    "duration": 20,
    "start_time": "2023-04-07T07:33:44.174Z"
   },
   {
    "duration": 38,
    "start_time": "2023-04-07T07:33:44.197Z"
   },
   {
    "duration": 54,
    "start_time": "2023-04-07T07:33:44.238Z"
   },
   {
    "duration": 38,
    "start_time": "2023-04-07T07:33:44.294Z"
   },
   {
    "duration": 627,
    "start_time": "2023-04-07T07:33:44.335Z"
   },
   {
    "duration": 375,
    "start_time": "2023-04-07T07:33:44.965Z"
   },
   {
    "duration": 22,
    "start_time": "2023-04-07T07:33:45.347Z"
   },
   {
    "duration": 77,
    "start_time": "2023-04-07T07:33:45.370Z"
   },
   {
    "duration": 17,
    "start_time": "2023-04-07T07:33:45.449Z"
   },
   {
    "duration": 81,
    "start_time": "2023-04-07T07:33:45.468Z"
   },
   {
    "duration": 40,
    "start_time": "2023-04-07T07:33:45.563Z"
   },
   {
    "duration": 374,
    "start_time": "2023-04-07T07:33:45.606Z"
   },
   {
    "duration": 16,
    "start_time": "2023-04-07T07:33:45.983Z"
   },
   {
    "duration": 332,
    "start_time": "2023-04-07T07:33:46.001Z"
   },
   {
    "duration": 53,
    "start_time": "2023-04-07T07:33:46.336Z"
   },
   {
    "duration": 35,
    "start_time": "2023-04-07T07:33:46.391Z"
   },
   {
    "duration": 73,
    "start_time": "2023-04-07T07:33:46.429Z"
   },
   {
    "duration": 70,
    "start_time": "2023-04-07T07:33:46.504Z"
   },
   {
    "duration": 32,
    "start_time": "2023-04-07T07:33:46.575Z"
   },
   {
    "duration": 46,
    "start_time": "2023-04-07T07:33:46.609Z"
   },
   {
    "duration": 60,
    "start_time": "2023-04-07T07:33:46.657Z"
   },
   {
    "duration": 41,
    "start_time": "2023-04-07T07:33:46.719Z"
   },
   {
    "duration": 342,
    "start_time": "2023-04-07T07:33:46.766Z"
   },
   {
    "duration": 16,
    "start_time": "2023-04-07T07:33:47.110Z"
   },
   {
    "duration": 761,
    "start_time": "2023-04-07T07:33:47.127Z"
   },
   {
    "duration": 11,
    "start_time": "2023-04-07T07:33:47.890Z"
   },
   {
    "duration": 74,
    "start_time": "2023-04-07T07:33:47.903Z"
   },
   {
    "duration": 614,
    "start_time": "2023-04-07T07:33:47.979Z"
   },
   {
    "duration": 15,
    "start_time": "2023-04-07T07:33:48.596Z"
   },
   {
    "duration": 90,
    "start_time": "2023-04-07T07:33:48.614Z"
   },
   {
    "duration": 16,
    "start_time": "2023-04-07T07:33:48.707Z"
   },
   {
    "duration": 218,
    "start_time": "2023-04-07T07:33:48.743Z"
   },
   {
    "duration": 12265,
    "start_time": "2023-04-07T07:33:48.963Z"
   },
   {
    "duration": 37,
    "start_time": "2023-04-07T07:34:01.231Z"
   },
   {
    "duration": 189,
    "start_time": "2023-04-07T07:34:01.273Z"
   },
   {
    "duration": 23,
    "start_time": "2023-04-07T07:34:01.464Z"
   },
   {
    "duration": 71,
    "start_time": "2023-04-07T07:34:01.488Z"
   },
   {
    "duration": 110,
    "start_time": "2023-04-07T07:34:01.561Z"
   },
   {
    "duration": 910,
    "start_time": "2023-04-07T07:34:01.673Z"
   },
   {
    "duration": 17,
    "start_time": "2023-04-07T07:34:02.589Z"
   },
   {
    "duration": 84,
    "start_time": "2023-04-07T07:34:02.608Z"
   },
   {
    "duration": 639,
    "start_time": "2023-04-07T07:34:02.694Z"
   },
   {
    "duration": 30,
    "start_time": "2023-04-07T07:34:03.335Z"
   },
   {
    "duration": 30,
    "start_time": "2023-04-07T07:34:03.367Z"
   },
   {
    "duration": 13,
    "start_time": "2023-04-07T07:34:03.399Z"
   },
   {
    "duration": 160,
    "start_time": "2023-04-07T07:34:03.414Z"
   },
   {
    "duration": 36,
    "start_time": "2023-04-07T07:34:03.575Z"
   },
   {
    "duration": 4,
    "start_time": "2023-04-07T07:34:03.613Z"
   },
   {
    "duration": 27,
    "start_time": "2023-04-07T07:34:03.641Z"
   },
   {
    "duration": 14,
    "start_time": "2023-04-07T07:34:03.671Z"
   },
   {
    "duration": 541,
    "start_time": "2023-04-07T07:34:03.687Z"
   },
   {
    "duration": 128,
    "start_time": "2023-04-07T07:34:04.231Z"
   },
   {
    "duration": 1936,
    "start_time": "2023-04-07T07:34:04.361Z"
   },
   {
    "duration": 15,
    "start_time": "2023-04-07T07:34:06.299Z"
   },
   {
    "duration": 87,
    "start_time": "2023-04-07T07:34:06.316Z"
   },
   {
    "duration": 67,
    "start_time": "2023-04-07T07:34:06.405Z"
   },
   {
    "duration": 24,
    "start_time": "2023-04-07T07:34:06.475Z"
   },
   {
    "duration": 57,
    "start_time": "2023-04-07T07:34:06.502Z"
   },
   {
    "duration": 54,
    "start_time": "2023-04-07T07:34:06.561Z"
   },
   {
    "duration": 31,
    "start_time": "2023-04-07T07:34:06.617Z"
   },
   {
    "duration": 62,
    "start_time": "2023-04-07T07:34:06.650Z"
   },
   {
    "duration": 18,
    "start_time": "2023-04-07T07:34:06.715Z"
   },
   {
    "duration": 53,
    "start_time": "2023-04-07T07:34:06.735Z"
   },
   {
    "duration": 291,
    "start_time": "2023-04-07T07:34:06.790Z"
   }
  ],
  "kernelspec": {
   "display_name": "Python 3 (ipykernel)",
   "language": "python",
   "name": "python3"
  },
  "language_info": {
   "codemirror_mode": {
    "name": "ipython",
    "version": 3
   },
   "file_extension": ".py",
   "mimetype": "text/x-python",
   "name": "python",
   "nbconvert_exporter": "python",
   "pygments_lexer": "ipython3",
   "version": "3.9.12"
  },
  "toc": {
   "base_numbering": 1,
   "nav_menu": {},
   "number_sections": true,
   "sideBar": true,
   "skip_h1_title": true,
   "title_cell": "Table of Contents",
   "title_sidebar": "Contents",
   "toc_cell": false,
   "toc_position": {
    "height": "531px",
    "left": "27px",
    "top": "111.125px",
    "width": "314px"
   },
   "toc_section_display": true,
   "toc_window_display": false
  }
 },
 "nbformat": 4,
 "nbformat_minor": 2
}
